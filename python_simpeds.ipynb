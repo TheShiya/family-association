{
 "cells": [
  {
   "cell_type": "markdown",
   "metadata": {},
   "source": [
    "Python to create lists. To understand more see list comprenhension"
   ]
  },
  {
   "cell_type": "code",
   "execution_count": 283,
   "metadata": {},
   "outputs": [
    {
     "data": {
      "text/plain": [
       "[(1, 0), (2, 0), (3, 0), (4, 0), (5, 0), (6, 0)]"
      ]
     },
     "execution_count": 283,
     "metadata": {},
     "output_type": "execute_result"
    }
   ],
   "source": [
    "demographic_summary = [(i+1,0) for i in range(6)]\n",
    "demographic_summary"
   ]
  },
  {
   "cell_type": "markdown",
   "metadata": {},
   "source": [
    "Building dictionaries in python"
   ]
  },
  {
   "cell_type": "code",
   "execution_count": 284,
   "metadata": {},
   "outputs": [
    {
     "data": {
      "text/plain": [
       "{1: 0, 2: 0, 3: 0, 4: 0, 5: 0, 6: 0}"
      ]
     },
     "execution_count": 284,
     "metadata": {},
     "output_type": "execute_result"
    }
   ],
   "source": [
    "demographic_summary = dict(demographic_summary)\n",
    "demographic_summary"
   ]
  },
  {
   "cell_type": "markdown",
   "metadata": {},
   "source": [
    "Demographic information for number of children per household in the US as of 2019. Extracted from https://www.census.gov/data/tables/2019/demo/families/cps-2019.html table C3 (Living arrangements of children under 18 years and marital status of parents -- info taken from the Presence of siblings section). Ask Gao where did he take the info from...I don't see the values for over 5 offspring."
   ]
  },
  {
   "cell_type": "code",
   "execution_count": 285,
   "metadata": {},
   "outputs": [],
   "source": [
    "demographic_summary[1] = 14788000/73524000\n",
    "demographic_summary[2] = 28464000/73524000\n",
    "demographic_summary[3] = 18288000/73524000\n",
    "demographic_summary[4] = 7636000/73524000\n",
    "demographic_summary[5] = 2697000/73524000\n",
    "demographic_summary[6] = 1651000/73524000"
   ]
  },
  {
   "cell_type": "code",
   "execution_count": 286,
   "metadata": {},
   "outputs": [
    {
     "data": {
      "text/plain": [
       "{1: 0.20113160328600185,\n",
       " 2: 0.3871388934225559,\n",
       " 3: 0.24873510690386813,\n",
       " 4: 0.10385724389315054,\n",
       " 5: 0.036681899787824386,\n",
       " 6: 0.022455252706599205}"
      ]
     },
     "execution_count": 286,
     "metadata": {},
     "output_type": "execute_result"
    }
   ],
   "source": [
    "demographic_summary"
   ]
  },
  {
   "cell_type": "markdown",
   "metadata": {},
   "source": [
    "Now we want to normalize the data such that we always sample families with a number of offspring >=2 "
   ]
  },
  {
   "cell_type": "code",
   "execution_count": 287,
   "metadata": {},
   "outputs": [],
   "source": [
    "for k in demographic_summary:\n",
    "    if k == 1 :\n",
    "        continue\n",
    "    else:\n",
    "        demographic_summary[k] /= (1 - demographic_summary[1])\n",
    "demographic_summary[1]= 0"
   ]
  },
  {
   "cell_type": "code",
   "execution_count": 288,
   "metadata": {},
   "outputs": [
    {
     "data": {
      "text/plain": [
       "[0,\n",
       " 0.4846090983383275,\n",
       " 0.3113593026423318,\n",
       " 0.1300054481067829,\n",
       " 0.0459173249795696,\n",
       " 0.028108825932988288]"
      ]
     },
     "execution_count": 288,
     "metadata": {},
     "output_type": "execute_result"
    }
   ],
   "source": [
    "list(demographic_summary.values())"
   ]
  },
  {
   "cell_type": "markdown",
   "metadata": {},
   "source": [
    "Now, we draw 1000 pedigrees from this multinomial distribution. Changing the **n** to the number of pedigrees we would like to simulate, in this case 1000."
   ]
  },
  {
   "cell_type": "code",
   "execution_count": 289,
   "metadata": {},
   "outputs": [
    {
     "data": {
      "text/plain": [
       "array([ 0, 49, 29, 16,  2,  4])"
      ]
     },
     "execution_count": 289,
     "metadata": {},
     "output_type": "execute_result"
    }
   ],
   "source": [
    "import numpy as np\n",
    "n = 100\n",
    "data = np.random.multinomial(n, list(demographic_summary.values()))\n",
    "data"
   ]
  },
  {
   "cell_type": "code",
   "execution_count": 290,
   "metadata": {},
   "outputs": [
    {
     "data": {
      "text/plain": [
       "{1: 0, 2: 49, 3: 29, 4: 16, 5: 2, 6: 4}"
      ]
     },
     "execution_count": 290,
     "metadata": {},
     "output_type": "execute_result"
    }
   ],
   "source": [
    "data = dict([(k, x) for k, x in zip(demographic_summary.keys(), data)])\n",
    "data"
   ]
  },
  {
   "cell_type": "markdown",
   "metadata": {},
   "source": [
    "Now, the step of pedigree generation using the code below. To write the generated ped file use the `open()` function"
   ]
  },
  {
   "cell_type": "code",
   "execution_count": 311,
   "metadata": {},
   "outputs": [],
   "source": [
    "ped_file = '/Users/dmc2245/Documents/Cornejo_Diana/family-association/seqsimla/input/simped100.txt'\n",
    "proband_file = '/Users/dmc2245/Documents/Cornejo_Diana/family-association/seqsimla/input/proband100.txt'\n",
    "offspring_file = '/Users/dmc2245/Documents/Cornejo_Diana/family-association/seqsimla/input/offspring100.txt'"
   ]
  },
  {
   "cell_type": "code",
   "execution_count": 312,
   "metadata": {
    "scrolled": true
   },
   "outputs": [],
   "source": [
    "pedigree = open (ped_file,'w')\n",
    "num_fam = 0\n",
    "fam_id = sid = fid = mid = sex = phen = ''\n",
    "for fam_type in data:\n",
    "    if fam_type == 1:\n",
    "    # single off-spring family\n",
    "        continue\n",
    "    for i in range(data[fam_type]):\n",
    "        num_fam += 1\n",
    "        fam_id = f'FAM{num_fam}'\n",
    "        fid = f'F{num_fam}'\n",
    "        mid = f'M{num_fam}'\n",
    "        # for founders\n",
    "        print(f\"{fam_id} {fid} 0 0 1 0\", end = \"\\n\", file=pedigree)\n",
    "        print(f\"{fam_id} {mid} 0 0 2 0\", end = \"\\n\", file=pedigree)\n",
    "        for j in range(fam_type) :\n",
    "            sid = f\"O{j+1}\"\n",
    "            n,p = 1, 0.5 \n",
    "            sex = np.random.binomial(n, p)\n",
    "            sex = f\"{sex+1}\"\n",
    "            print(f\"{fam_id} {sid} {fid} {mid} {sex} 0\", end = \"\\n\", file=pedigree)\n",
    "f.close()"
   ]
  },
  {
   "cell_type": "code",
   "execution_count": 314,
   "metadata": {
    "scrolled": true
   },
   "outputs": [],
   "source": [
    "probands = open(proband_file, 'w')\n",
    "offspring = open(offspring_file, 'w')\n",
    "num_fam = 0\n",
    "fam_id = sid = fid = mid = sex = phen = ''\n",
    "for fam_type in data:\n",
    "    if fam_type == 1:\n",
    "    # single off-spring family\n",
    "        continue\n",
    "    for i in range(data[fam_type]):\n",
    "        num_fam += 1\n",
    "        fam_id = f'FAM{num_fam}'\n",
    "        fid = f'F{num_fam}'\n",
    "        mid = f'M{num_fam}'\n",
    "        #create proband file with unaffected parents and affected children\n",
    "        #print(f\"{fam_id} {fid} 0 0 1 1\", end = \"\\n\", file=probands)\n",
    "        #print(f\"{fam_id} {mid} 0 0 2 1\", end = \"\\n\", file=probands)\n",
    "        for j in range(fam_type):\n",
    "            sid = f\"O{j+1}\"\n",
    "            n,p = 1, 0.5\n",
    "            sex = np.random.binomial(n, p)\n",
    "            sex = f\"{sex+1}\"\n",
    "            print (f\"{fam_id} {sid} {fid} {mid} {sex} 2\", end = \"\\n\", file=offspring)\n",
    "f.close()"
   ]
  },
  {
   "cell_type": "code",
   "execution_count": 307,
   "metadata": {},
   "outputs": [
    {
     "name": "stdout",
     "output_type": "stream",
     "text": [
      "/Users/dmc2245/Documents/Cornejo_Diana/family-association/seqsimla/input/proband100.txt\n"
     ]
    }
   ],
   "source": [
    "print(proband_file)"
   ]
  },
  {
   "cell_type": "code",
   "execution_count": 304,
   "metadata": {},
   "outputs": [
    {
     "name": "stdout",
     "output_type": "stream",
     "text": [
      "/Users/dmc2245/Documents/Cornejo_Diana/family-association/seqsimla/input/simped100.txt\n"
     ]
    }
   ],
   "source": [
    "print(ped_file)"
   ]
  },
  {
   "cell_type": "code",
   "execution_count": null,
   "metadata": {},
   "outputs": [],
   "source": []
  }
 ],
 "metadata": {
  "kernelspec": {
   "display_name": "Python 3",
   "language": "python",
   "name": "python3"
  },
  "language_info": {
   "codemirror_mode": {
    "name": "ipython",
    "version": 3
   },
   "file_extension": ".py",
   "mimetype": "text/x-python",
   "name": "python",
   "nbconvert_exporter": "python",
   "pygments_lexer": "ipython3",
   "version": "3.7.4"
  }
 },
 "nbformat": 4,
 "nbformat_minor": 4
}
