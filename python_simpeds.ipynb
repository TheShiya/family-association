{
 "cells": [
  {
   "cell_type": "markdown",
   "metadata": {},
   "source": [
    "Python to create lists. To understand more see list comprenhension"
   ]
  },
  {
   "cell_type": "code",
   "execution_count": 153,
   "metadata": {},
   "outputs": [
    {
     "data": {
      "text/plain": [
       "[(1, 0), (2, 0), (3, 0), (4, 0), (5, 0), (6, 0)]"
      ]
     },
     "execution_count": 153,
     "metadata": {},
     "output_type": "execute_result"
    }
   ],
   "source": [
    "demographic_summary = [(i+1,0) for i in range(6)]\n",
    "demographic_summary"
   ]
  },
  {
   "cell_type": "markdown",
   "metadata": {},
   "source": [
    "Building dictionaries in python"
   ]
  },
  {
   "cell_type": "code",
   "execution_count": 154,
   "metadata": {},
   "outputs": [
    {
     "data": {
      "text/plain": [
       "{1: 0, 2: 0, 3: 0, 4: 0, 5: 0, 6: 0}"
      ]
     },
     "execution_count": 154,
     "metadata": {},
     "output_type": "execute_result"
    }
   ],
   "source": [
    "demographic_summary = dict(demographic_summary)\n",
    "demographic_summary"
   ]
  },
  {
   "cell_type": "markdown",
   "metadata": {},
   "source": [
    "Demographic information for number of children per household in the US as of 2019. Extracted from https://www.census.gov/data/tables/2019/demo/families/cps-2019.html table C3 (Living arrangements of children under 18 years and marital status of parents -- info taken from the Presence of siblings section). Ask Gao where did he take the info from...I don't see the values for over 5 offspring."
   ]
  },
  {
   "cell_type": "code",
   "execution_count": 155,
   "metadata": {},
   "outputs": [],
   "source": [
    "demographic_summary[1] = 14788000/73524000\n",
    "demographic_summary[2] = 28464000/73524000\n",
    "demographic_summary[3] = 18288000/73524000\n",
    "demographic_summary[4] = 7636000/73524000\n",
    "demographic_summary[5] = 2697000/73524000\n",
    "demographic_summary[6] = 1651000/73524000"
   ]
  },
  {
   "cell_type": "code",
   "execution_count": 156,
   "metadata": {},
   "outputs": [
    {
     "data": {
      "text/plain": [
       "{1: 0.20113160328600185,\n",
       " 2: 0.3871388934225559,\n",
       " 3: 0.24873510690386813,\n",
       " 4: 0.10385724389315054,\n",
       " 5: 0.036681899787824386,\n",
       " 6: 0.022455252706599205}"
      ]
     },
     "execution_count": 156,
     "metadata": {},
     "output_type": "execute_result"
    }
   ],
   "source": [
    "demographic_summary"
   ]
  },
  {
   "cell_type": "markdown",
   "metadata": {},
   "source": [
    "Now we want to normalize it such that we always sample families with a number of offspring >=2 "
   ]
  },
  {
   "cell_type": "code",
   "execution_count": 157,
   "metadata": {},
   "outputs": [],
   "source": [
    "for k in demographic_summary:\n",
    "    if k == 1 :\n",
    "        continue\n",
    "    else:\n",
    "        demographic_summary[k] /= (1 - demographic_summary[1])\n",
    "demographic_summary[1]= 0"
   ]
  },
  {
   "cell_type": "code",
   "execution_count": 158,
   "metadata": {},
   "outputs": [
    {
     "data": {
      "text/plain": [
       "[0,\n",
       " 0.4846090983383275,\n",
       " 0.3113593026423318,\n",
       " 0.1300054481067829,\n",
       " 0.0459173249795696,\n",
       " 0.028108825932988288]"
      ]
     },
     "execution_count": 158,
     "metadata": {},
     "output_type": "execute_result"
    }
   ],
   "source": [
    "list(demographic_summary.values())"
   ]
  },
  {
   "cell_type": "markdown",
   "metadata": {},
   "source": [
    "Now, we draw 1000 pedigrees from this multinomial distribution"
   ]
  },
  {
   "cell_type": "code",
   "execution_count": 159,
   "metadata": {},
   "outputs": [
    {
     "data": {
      "text/plain": [
       "array([0, 2, 1, 3, 0, 0])"
      ]
     },
     "execution_count": 159,
     "metadata": {},
     "output_type": "execute_result"
    }
   ],
   "source": [
    "import numpy as np\n",
    "n = 6\n",
    "data = np.random.multinomial(n, list(demographic_summary.values()))\n",
    "data"
   ]
  },
  {
   "cell_type": "code",
   "execution_count": 160,
   "metadata": {},
   "outputs": [
    {
     "data": {
      "text/plain": [
       "{1: 0, 2: 2, 3: 1, 4: 3, 5: 0, 6: 0}"
      ]
     },
     "execution_count": 160,
     "metadata": {},
     "output_type": "execute_result"
    }
   ],
   "source": [
    "data = dict([(k, x) for k, x in zip(demographic_summary.keys(), data)])\n",
    "data"
   ]
  },
  {
   "cell_type": "markdown",
   "metadata": {},
   "source": [
    "Now, the step of pedigree generation using the code"
   ]
  },
  {
   "cell_type": "code",
   "execution_count": 167,
   "metadata": {},
   "outputs": [
    {
     "name": "stdout",
     "output_type": "stream",
     "text": [
      "FAM1\tF1\t0\t0\t1\t0\n",
      "FAM1\tM1\t0\t0\t2\t0\n",
      "FAM1\tO1\tF1\tM1\t1\t0\n",
      "FAM1\tO2\tF1\tM1\t2\t0\n",
      "FAM2\tF2\t0\t0\t1\t0\n",
      "FAM2\tM2\t0\t0\t2\t0\n",
      "FAM2\tO1\tF2\tM2\t1\t0\n",
      "FAM2\tO2\tF2\tM2\t2\t0\n",
      "FAM3\tF3\t0\t0\t1\t0\n",
      "FAM3\tM3\t0\t0\t2\t0\n",
      "FAM3\tO1\tF3\tM3\t2\t0\n",
      "FAM3\tO2\tF3\tM3\t1\t0\n",
      "FAM3\tO3\tF3\tM3\t1\t0\n",
      "FAM4\tF4\t0\t0\t1\t0\n",
      "FAM4\tM4\t0\t0\t2\t0\n",
      "FAM4\tO1\tF4\tM4\t2\t0\n",
      "FAM4\tO2\tF4\tM4\t1\t0\n",
      "FAM4\tO3\tF4\tM4\t1\t0\n",
      "FAM4\tO4\tF4\tM4\t1\t0\n",
      "FAM5\tF5\t0\t0\t1\t0\n",
      "FAM5\tM5\t0\t0\t2\t0\n",
      "FAM5\tO1\tF5\tM5\t1\t0\n",
      "FAM5\tO2\tF5\tM5\t2\t0\n",
      "FAM5\tO3\tF5\tM5\t1\t0\n",
      "FAM5\tO4\tF5\tM5\t2\t0\n",
      "FAM6\tF6\t0\t0\t1\t0\n",
      "FAM6\tM6\t0\t0\t2\t0\n",
      "FAM6\tO1\tF6\tM6\t2\t0\n",
      "FAM6\tO2\tF6\tM6\t1\t0\n",
      "FAM6\tO3\tF6\tM6\t1\t0\n",
      "FAM6\tO4\tF6\tM6\t1\t0\n"
     ]
    }
   ],
   "source": [
    "# FIXME: write this to a file using `open()` function .. \n",
    "filename == 'simped100.ped'\n",
    "f = open(filename, 'w')\n",
    "num_fam = 0\n",
    "fam_id = sid = fid = mid = sex = phen = ''\n",
    "for fam_type in data:\n",
    "    if fam_type == 1:\n",
    "    # single off-spring family\n",
    "        continue\n",
    "    for i in range(data[fam_type]):\n",
    "        num_fam += 1\n",
    "        fam_id = f'FAM{num_fam}'\n",
    "        fid = f'F{num_fam}'\n",
    "        mid = f'M{num_fam}'\n",
    "        # for founders\n",
    "        print(f\"{fam_id}\\t{fid}\\t0\\t0\\t1\\t0\")\n",
    "        print(f\"{fam_id}\\t{mid}\\t0\\t0\\t2\\t0\")\n",
    "        for j in range(fam_type):\n",
    "            sid = f\"O{j+1}\"\n",
    "             # FIXME: make sex random\n",
    "            n,p = 1, 0.5\n",
    "            sex = np.random.binomial(n, p)\n",
    "            sex = f\"{sex+1}\"\n",
    "            print (f\"{fam_id}\\t{sid}\\t{fid}\\t{mid}\\t{sex}\\t0\")\n",
    "            f.write(f\"{fam_id}\\t{sid}\\t{fid}\\t{mid}\\t{sex}\\t0\\n\")\n",
    "f.close()"
   ]
  },
  {
   "cell_type": "code",
   "execution_count": null,
   "metadata": {},
   "outputs": [],
   "source": []
  },
  {
   "cell_type": "code",
   "execution_count": null,
   "metadata": {},
   "outputs": [],
   "source": []
  }
 ],
 "metadata": {
  "kernelspec": {
   "display_name": "Python 3",
   "language": "python",
   "name": "python3"
  },
  "language_info": {
   "codemirror_mode": {
    "name": "ipython",
    "version": 3
   },
   "file_extension": ".py",
   "mimetype": "text/x-python",
   "name": "python",
   "nbconvert_exporter": "python",
   "pygments_lexer": "ipython3",
   "version": "3.7.4"
  }
 },
 "nbformat": 4,
 "nbformat_minor": 4
}
