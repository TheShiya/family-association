{
 "cells": [
  {
   "cell_type": "markdown",
   "metadata": {
    "kernel": "SoS"
   },
   "source": [
    "Run seqsimla using a variant with a MAF=0.1 and OR=2.0, additionally disease prevalence of 10%. For this I will use as input the reference sequence file `EUR_chr1.bed.gx`, the recombination file `EUR_chr1.rec`, the frequency file `EUR_chr1.freq` and the simulated pedigree file `simped1000.ped`."
   ]
  },
  {
   "cell_type": "code",
   "execution_count": 4,
   "metadata": {
    "kernel": "SoS"
   },
   "outputs": [],
   "source": [
    "[global]\n",
    "# Name for the outputfiles\n",
    "parameter: header = 'Sim1'\n",
    "# Reference sequence file\n",
    "parameter: popfile = 'EUR_chr1.bed.gz'\n",
    "# Recombination file\n",
    "parameter: recfile = 'EUR_chr1.rec'\n",
    "# Disease prevalence\n",
    "parameter: prev = 0.1\n",
    "# Odd ratio\n",
    "parameter: OR = 2.0\n",
    "# model --mode-prev for simulating disease status based on prevalence and OR\n",
    "parameter: model = '--mode-prev'\n",
    "# Path to the ped file (6-column PED in linkage format)\n",
    "parameter: famfile = path('simped1000.ped')\n",
    "# Output directory\n",
    "parameter: folder = path('results')\n",
    "# Select location of disease sites\n",
    "parameter: site = 80\n",
    "#The number of simulated replicas to generate\n",
    "parameter: batch = 100"
   ]
  },
  {
   "cell_type": "code",
   "execution_count": 7,
   "metadata": {
    "kernel": "SoS"
   },
   "outputs": [],
   "source": [
    "[simulate (SeqSIMLA)]\n",
    "bash: container = 'dianacornejo/seqsimla' , expand = '${ }'\n",
    "    mkdir -p ${folder}\n",
    "    SeqSIMLA -popfile ${popfile} -recfile ${recfile} -famfile ${famfile} -folder ${folder} -header ${header} -batch ${batch} -site ${site} ${model} -prev ${prev} -or ${OR}"
   ]
  },
  {
   "cell_type": "code",
   "execution_count": null,
   "metadata": {
    "kernel": "Bash"
   },
   "outputs": [],
   "source": [
    "SeqSIMLA -popfile EUR_500K.bed.gz -recfile EUR_500K.rec -famfile simped1000.ped -proband proband.txt -folder results -header Sim1 -batch 1 -site 1 --mode-prev -prev 0.1 -or 2.0"
   ]
  },
  {
   "cell_type": "code",
   "execution_count": null,
   "metadata": {
    "kernel": "Bash"
   },
   "outputs": [],
   "source": [
    "SeqSIMLA -popfile ASN_500k.bed.gz -recfile ASN_500k.rec -famfile SAP.txt -proband probands.txt -folder test1 -header test -batch 1 -site 1,200,3000 --mode-prev -prev 0.05 -or 1.2 "
   ]
  },
  {
   "cell_type": "code",
   "execution_count": null,
   "metadata": {
    "kernel": "Bash"
   },
   "outputs": [],
   "source": []
  }
 ],
 "metadata": {
  "kernelspec": {
   "display_name": "SoS",
   "language": "sos",
   "name": "sos"
  },
  "language_info": {
   "codemirror_mode": "sos",
   "file_extension": ".sos",
   "mimetype": "text/x-sos",
   "name": "sos",
   "nbconvert_exporter": "sos_notebook.converter.SoS_Exporter",
   "pygments_lexer": "sos"
  },
  "sos": {
   "kernels": [
    [
     "Bash",
     "calysto_bash",
     "Bash",
     "#E6EEFF",
     "shell"
    ],
    [
     "SoS",
     "sos",
     "",
     "",
     "sos"
    ]
   ],
   "version": "0.21.7"
  }
 },
 "nbformat": 4,
 "nbformat_minor": 4
}
