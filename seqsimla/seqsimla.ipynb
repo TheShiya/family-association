{
 "cells": [
  {
   "cell_type": "markdown",
   "metadata": {
    "kernel": "SoS"
   },
   "source": [
    "# **Power of family-based association methods with fixed sample size**"
   ]
  },
  {
   "cell_type": "markdown",
   "metadata": {
    "kernel": "SoS"
   },
   "source": [
    "This notebook investigates the impact of sample relatedness on the power of finding associations in family-based methods."
   ]
  },
  {
   "cell_type": "markdown",
   "metadata": {
    "kernel": "SoS"
   },
   "source": [
    "## **Aim**"
   ]
  },
  {
   "cell_type": "markdown",
   "metadata": {
    "kernel": "SoS"
   },
   "source": [
    "This simulation study compares **family-based vs population-based** methods of association for complex traits in terms of:\n",
    "1. **Improvement in power:** family-based studies benefit from the fact that the effect size of the causal variants is expected to be large, however it is also known that unaffected pedigree members could be enriched for causal variants making them less than perfect controls compared to population controls where no casual variant enrichment is expected. \n",
    "    * So one question would be: Do family-based methods benefit from large effect sizes in complex traits? Will the increase in power trade-off the loss due to sample relatedness? Is the causal variant effect size in fact larger in families with complex traits? How much?\n"
   ]
  },
  {
   "cell_type": "markdown",
   "metadata": {
    "kernel": "SoS"
   },
   "source": [
    "## **Method**"
   ]
  },
  {
   "cell_type": "markdown",
   "metadata": {
    "kernel": "SoS"
   },
   "source": [
    "* Simulation of pedigrees and genotype data using SeqSIMLA. Also simulate cases-controls\n",
    "* Compare pedigree unaffected versus population unaffected using GLMM (SAIGE software)\n",
    "* Compare family-based vs population-based desing using GLMM using different strategies:\n",
    "1. Analyze families using GLLM both affected and unaffected\n",
    "2. Analyze affected individuals in the families and replaced the unaffected members with family members who were generated but no one is affected in their family.\n",
    "3. Analyze affected family members and replaced the unaffected members with population-based controls (take one unaffected from a family which was simulated with no affected individuals)\n",
    "4. Analyze a sample of unrelated individuals with the same number of affected and unaffected individuals as in analysis 1-3."
   ]
  },
  {
   "cell_type": "markdown",
   "metadata": {
    "kernel": "SoS"
   },
   "source": [
    "## **Hypothesis**"
   ]
  },
  {
   "cell_type": "markdown",
   "metadata": {
    "kernel": "SoS"
   },
   "source": [
    "For lower ORs there should be a higher probability that unaffected family members are susceptibility variant carriers than when the OR is higher"
   ]
  },
  {
   "cell_type": "markdown",
   "metadata": {
    "kernel": "SoS"
   },
   "source": [
    "## **Data**"
   ]
  },
  {
   "cell_type": "markdown",
   "metadata": {
    "kernel": "SoS"
   },
   "source": [
    "1. **Pedigree and genotype simulation parameters:** MAF=0.1, OR=2.0, prevalence=0.1\n",
    "2. **Pedigrees:** two-generational families each of them with two or more affected individuals. Families simulated following the proportion of children in USA families as of 2019. For more info see: https://www.census.gov/data/tables/2019/demo/families/cps-2019.html\n",
    "3. **Sample size:** Try starting with 5000 pedigrees\n",
    "4.**Genetic model:** additive\n",
    "5. **GLMM:** Assess power with an alpha of 5x10-8"
   ]
  },
  {
   "cell_type": "markdown",
   "metadata": {
    "kernel": "SoS"
   },
   "source": [
    "Run SeqSIMLA using a variant with a MAF=0.1 and OR=2.0, additionally disease prevalence of 10%. For this I will use as input the reference sequence file `EUR_500.bed.gz`, the recombination file `EUR_500K.rec`, the simulated pedigree file `simped1000.txt` and the proband file `proband.txt`, which consist of all of the offspring being affected for the trait. The site `7319` was used as it has a MAF of 0.1 in the European population. The script `monitor.py` was used to understand memory usage."
   ]
  },
  {
   "cell_type": "code",
   "execution_count": null,
   "metadata": {
    "kernel": "SoS"
   },
   "outputs": [],
   "source": [
    "[global]\n",
    "# Name for the outputfiles\n",
    "parameter: header = 'Sim1'\n",
    "# Reference sequence file\n",
    "parameter: popfile = 'EUR_chr1.bed.gz'\n",
    "# Recombination file\n",
    "parameter: recfile = 'EUR_chr1.rec'\n",
    "# Disease prevalence\n",
    "parameter: prev = 0.1\n",
    "# Odd ratio\n",
    "parameter: OR = 2.0\n",
    "# model --mode-prev for simulating disease status based on prevalence and OR\n",
    "parameter: model = '--mode-prev'\n",
    "# Path to the ped file (6-column PED in linkage format)\n",
    "parameter: famfile = path('simped1000.ped')\n",
    "# Output directory\n",
    "parameter: folder = path('results')\n",
    "# Select location of disease sites\n",
    "parameter: site = 7319\n",
    "#The number of simulated replicas to generate\n",
    "parameter: batch = 100"
   ]
  },
  {
   "cell_type": "code",
   "execution_count": null,
   "metadata": {
    "kernel": "SoS"
   },
   "outputs": [],
   "source": [
    "[simulate (SeqSIMLA)]\n",
    "bash: container = 'dianacornejo/seqsimla' , expand = '${ }'\n",
    "    mkdir -p ${folder}\n",
    "    SeqSIMLA -popfile ${popfile} -recfile ${recfile} -famfile ${famfile} -folder ${folder} -header ${header} -batch ${batch} -site ${site} ${model} -prev ${prev} -or ${OR}"
   ]
  },
  {
   "cell_type": "code",
   "execution_count": null,
   "metadata": {
    "kernel": "Bash"
   },
   "outputs": [],
   "source": [
    "python /usr/local/bin/monitor.py SeqSIMLA -popfile EUR_500K.bed.gz -recfile EUR_500K.rec -famfile simped1000.txt -proband proband.txt -folder results -header Sim1 -batch 1 -site 7319 --mode-prev -prev 0.1 -or 2.0"
   ]
  },
  {
   "cell_type": "markdown",
   "metadata": {
    "kernel": "Bash"
   },
   "source": [
    "The output files are `Sim21.ped`, `Sim2.map`, `Sim2.freq`and `Sim2_result.txt`. In the `Sim21.ped` the first 6 columns correspond to the pedigree file in linkage format and from the 7 the snps compose of 2 alleles. "
   ]
  },
  {
   "cell_type": "markdown",
   "metadata": {
    "kernel": "Bash"
   },
   "source": [
    "Run this command line to test the program with example data for asian population."
   ]
  },
  {
   "cell_type": "code",
   "execution_count": null,
   "metadata": {
    "kernel": "Bash"
   },
   "outputs": [],
   "source": [
    "python /usr/local/bin/monitor.py SeqSIMLA -popfile ASN_500k.bed.gz -recfile ASN_500k.rec -famfile SAP.txt -proband probands.txt -folder test1 -header test -batch 1 -site 1,200,3000 --mode-prev -prev 0.05 -or 1.2 "
   ]
  },
  {
   "cell_type": "markdown",
   "metadata": {
    "kernel": "Bash"
   },
   "source": [
    "Here, the `ref_file.bed.gz` with only one simulated variant was used. However, when the program reads the file it stated a MAF=0 which does not coincide with the inputed data. As you can see there is no need for the `recfile`"
   ]
  },
  {
   "cell_type": "code",
   "execution_count": null,
   "metadata": {
    "kernel": "Bash"
   },
   "outputs": [],
   "source": [
    "python /usr/local/bin/monitor.py SeqSIMLA -popfile ref_file.bed.gz -famfile simped100.ped -proband proband100.txt -folder results -header Sim2 -batch 1 -site 1 --mode-prev -prev 0.1 -or 2.0"
   ]
  },
  {
   "cell_type": "code",
   "execution_count": null,
   "metadata": {
    "kernel": "Python3"
   },
   "outputs": [],
   "source": [
    "with open(\"input.txt\") as f:\n",
    "    for line in f:\n",
    "        process(line)"
   ]
  },
  {
   "cell_type": "code",
   "execution_count": 31,
   "metadata": {
    "kernel": "Python3"
   },
   "outputs": [
    {
     "name": "stdout",
     "output_type": "stream",
     "text": [
      "Number of Lines in the file is 1\n"
     ]
    }
   ],
   "source": [
    "import os\n",
    "import numpy as np\n",
    "os.chdir(os.path.join('/Users/dmc2245/Documents/Cornejo_Diana/family-association/seqsimla/input/results1'))\n",
    "\n",
    "#ped_file = np.genfromtxt('Sim21.ped', dtype = 'str')\n",
    "#type(ped_file)"
   ]
  },
  {
   "cell_type": "code",
   "execution_count": 36,
   "metadata": {
    "kernel": "Python3"
   },
   "outputs": [
    {
     "name": "stdout",
     "output_type": "stream",
     "text": [
      "File Size is 15.274203300476074 MB\n",
      "Number of Lines in the file is 1\n",
      "Peak Memory Usage = 23066062848\n",
      "User Mode Time = 858.544361\n",
      "System Mode Time = 50.541755\n"
     ]
    }
   ],
   "source": [
    "import resource\n",
    "import os\n",
    "file_name = (\"/Users/dmc2245/Documents/Cornejo_Diana/family-association/seqsimla/input/results1/Sim2.map\")\n",
    "print(f'File Size is {os.stat(file_name).st_size / (1024 * 1024)} MB')\n",
    "txt_file = open(file_name)\n",
    "count = 0\n",
    "for line in txt_file:\n",
    "       count=+1\n",
    "txt_file.close()\n",
    "\n",
    "print(f'Number of Lines in the file is {count}')\n",
    "print('Peak Memory Usage =', resource.getrusage(resource.RUSAGE_SELF).ru_maxrss)\n",
    "print('User Mode Time =', resource.getrusage(resource.RUSAGE_SELF).ru_utime)\n",
    "print('System Mode Time =', resource.getrusage(resource.RUSAGE_SELF).ru_stime)"
   ]
  },
  {
   "cell_type": "code",
   "execution_count": 37,
   "metadata": {
    "kernel": "Python3"
   },
   "outputs": [],
   "source": [
    "input_file = open('/Users/dmc2245/Documents/Cornejo_Diana/family-association/seqsimla/input/results1/Sim2.map','r')\n",
    "output_file = open('output.txt','w')\n",
    " \n",
    "for lines in range(10):\n",
    "    line = input_file.readline()\n",
    "    output_file.write(line)"
   ]
  },
  {
   "cell_type": "code",
   "execution_count": null,
   "metadata": {
    "kernel": "Python3"
   },
   "outputs": [],
   "source": []
  }
 ],
 "metadata": {
  "kernelspec": {
   "display_name": "SoS",
   "language": "sos",
   "name": "sos"
  },
  "language_info": {
   "codemirror_mode": "sos",
   "file_extension": ".sos",
   "mimetype": "text/x-sos",
   "name": "sos",
   "nbconvert_exporter": "sos_notebook.converter.SoS_Exporter",
   "pygments_lexer": "sos"
  },
  "sos": {
   "kernels": [
    [
     "Bash",
     "calysto_bash",
     "Bash",
     "#E6EEFF",
     "shell"
    ],
    [
     "Python3",
     "python3",
     "Python3",
     "#FFD91A",
     {
      "name": "ipython",
      "version": 3
     }
    ],
    [
     "SoS",
     "sos",
     "",
     "",
     "sos"
    ]
   ],
   "version": "0.21.7"
  }
 },
 "nbformat": 4,
 "nbformat_minor": 4
}
