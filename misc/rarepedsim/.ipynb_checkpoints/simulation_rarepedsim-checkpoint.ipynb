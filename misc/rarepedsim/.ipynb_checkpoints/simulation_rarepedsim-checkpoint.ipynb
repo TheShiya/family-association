{
 "cells": [
  {
   "cell_type": "markdown",
   "metadata": {
    "kernel": "SoS"
   },
   "source": [
    "Simulation framework for family-based association vs case-control using GLMM"
   ]
  },
  {
   "cell_type": "markdown",
   "metadata": {
    "kernel": "SoS"
   },
   "source": [
    "**Input data**\n",
    "1. The PED file containing the families information\n",
    "2. The SFS file containing the variant information for the simulated gene (6-column format: gene, chromosome, position, ref, alt, MAF, function score)\n"
   ]
  },
  {
   "cell_type": "markdown",
   "metadata": {
    "kernel": "SoS"
   },
   "source": [
    "Global Parameter Setting"
   ]
  },
  {
   "cell_type": "code",
   "execution_count": null,
   "metadata": {
    "kernel": "SoS"
   },
   "outputs": [],
   "source": [
    "[global]\n",
    "# Disease model scenario: complex qualitative trait\n",
    "parameter: name = 'Prop100'\n",
    "# Proportion of functional variants that contribute to the disease\n",
    "parameter: proportion = 'None'\n",
    "# Odd ratio\n",
    "parameter: OR = 2.0\n",
    "# model LOGIT for qualitate traits and LNR for quantitative traits\n",
    "parameter: model = 'LOGIT'\n",
    "# Path to the ped file (6-column PED in linkage format)\n",
    "parameter: ped_file = path('simped1000.ped')\n",
    "# Path to list of genes\n",
    "parameter: gene_list = path('gene.txt')\n",
    "# Output directory for VCF file\n",
    "parameter: out_dir = path('output')\n",
    "\n",
    "# gene names\n",
    "genes = paths([f'{gene_list:d}/{x.strip()}.sfs' for x in open(gene_list).readlines()])"
   ]
  },
  {
   "cell_type": "markdown",
   "metadata": {
    "kernel": "SoS"
   },
   "source": [
    "At this point, a configuration file for the disease model is needed which will be used by RarePedSim to simulate genotypic and phenotypic info. "
   ]
  },
  {
   "cell_type": "code",
   "execution_count": null,
   "metadata": {
    "kernel": "SoS"
   },
   "outputs": [],
   "source": [
    "[make_config: provides = f'{out_dir}/{name}.conf']\n",
    "# conf file contains the simulation specifications (either Mendelian or Complex, details in RarePedSim doc)\n",
    "output: f'{out_dir}/{name}.conf'\n",
    "report: expand=True, output=_output\n",
    "    trait_type=Complex\n",
    "    [model]\n",
    "    model={model}\n",
    "    [quality control]\n",
    "    def_rare=0.1\n",
    "    rare_only=False\n",
    "    def_neutral=(-1E-5, 1E-5)\n",
    "    def_protective=(-1, -1E-5)\n",
    "    [phenotype parameters]\n",
    "    baseline_effect=0.01\n",
    "    moi=AAR\n",
    "    proportion_causal={proportion}\n",
    "    [LOGIT model]\n",
    "    OR_rare_detrimental=None\n",
    "    OR_rare_protective=None\n",
    "    ORmax_rare_detrimental=None\n",
    "    ORmin_rare_protective=None\n",
    "    OR_common_detrimental={OR}\n",
    "    OR_common_protective=None\n",
    "    [LNR model]\n",
    "    meanshift_rare_detrimental=0.0\n",
    "    meanshift_rare_protective=None\n",
    "    meanshiftmax_rare_detrimental=None\n",
    "    meanshiftmax_rare_protective=None\n",
    "    meanshift_common_detrimental=None\n",
    "    meanshift_common_protective=None\n",
    "    [genotyping artifact]\n",
    "    missing_low_maf=None\n",
    "    missing_sites=None\n",
    "    missing_calls=None\n",
    "    error_calls=None\n",
    "    [other]\n",
    "    max_vars=2\n",
    "    ascertainment_qualitative=(2,0,1)\n",
    "    ascertainment_quantitative=((0,~),(0,~))"
   ]
  },
  {
   "cell_type": "markdown",
   "metadata": {
    "kernel": "SoS"
   },
   "source": [
    "Generate the genotypes for the given families based on the configuration file"
   ]
  },
  {
   "cell_type": "code",
   "execution_count": null,
   "metadata": {
    "kernel": "SoS"
   },
   "outputs": [],
   "source": [
    "[simulate_1 (rarepedsim)]\n",
    "depends: f'{out_dir}/{name}.conf'\n",
    "input: for_each = 'genes'\n",
    "output: f'{out_dir}/{_genes:bn}.vcf.gz'\n",
    "bash: container = 'statisticalgenetics/rvnpl', expand = '${ }'\n",
    "    rm -rf ${_output:nn} ${_output} ${_output}.tbi && mkdir -p ${_output:nn}\n",
    "    rarepedsim generate -s ${_genes:a} -c ${out_dir}/${name}.conf -p ${ped_file:a} --num_genes 1 --num_reps 1 -o ${_output:nn} --vcf -b -1 --debug \\\n",
    "    && mv ${_output:nn}/${_genes:bn}/rep1.vcf ${_output:n} && rm -rf ${_output:nn}\n",
    "    bgzip ${_output:n} && tabix -p vcf ${_output}"
   ]
  },
  {
   "cell_type": "code",
   "execution_count": null,
   "metadata": {
    "kernel": "Bash"
   },
   "outputs": [],
   "source": []
  }
 ],
 "metadata": {
  "kernelspec": {
   "display_name": "SoS",
   "language": "sos",
   "name": "sos"
  },
  "language_info": {
   "codemirror_mode": "sos",
   "file_extension": ".sos",
   "mimetype": "text/x-sos",
   "name": "sos",
   "nbconvert_exporter": "sos_notebook.converter.SoS_Exporter",
   "pygments_lexer": "sos"
  },
  "sos": {
   "kernels": [
    [
     "Bash",
     "calysto_bash",
     "Bash",
     "#E6EEFF",
     ""
    ],
    [
     "SoS",
     "sos",
     "",
     "",
     "sos"
    ]
   ],
   "version": "0.21.7"
  }
 },
 "nbformat": 4,
 "nbformat_minor": 4
}
