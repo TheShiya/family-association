{
 "cells": [
  {
   "cell_type": "markdown",
   "metadata": {},
   "source": [
    "## Background\n",
    "\n",
    "Given the need to examine family-based vs population-based design, testing for genetic association with rare variants (allele) is crucial for genome wide association studies (GWAS). However, systemic differences between allele frequencies in subpopulations   remains a confounding variable  in case-control studies, where association could be found not by a disease associated marker but rather the underlying population structure. Employing a variant-set mixed model framework to allow for fixed and random effects, we are able to properly analyze  complex hierarchical data while accounting for population stratification and cryptic association. In order to mitigate this risk, we utilize a genome wide mixed model association test (GEMMA) to correct population structure and sample non-exchangeability and test multiple phenotypes. \n"
   ]
  },
  {
   "cell_type": "markdown",
   "metadata": {},
   "source": [
    "## Project Objective \n",
    "\n",
    "The goal of the replication is to verify the effect size of the association, compare the minor allele frequency,and ultimately confirm the kinship results of \"six_fam_eff_phenotypes_structured_selected_fams.GRM.txt\", created by Joe Chase. \n",
    "\n",
    "This file contains the percent of genetic material shared identically by descent by each selected individal in order to properly assess population statification and cryptic relatedness. Utilizing known information on ancestor pedigrees, an estimated genetic relationship matrix is highly comparable for assessing phenotype similarity. Through understanding how this file was generated and replicating the results, we can assert the validity of the results and use the GRM as a base for future Family-based association study design objectives where effect variants are enriched within families while maintaining a substancial sample size to work with.\n",
    "\n",
    "## Methods of verification\n",
    "- Kingship Coeficcent \n",
    "- GWAS Manhattan plot\n",
    "    - Represent the P values of the entire GWAS on a genomic scale. The P values are represented by chromosome and       position on the chromosome (x-axis). Because of local correlation of the genetic variants, arising from infrequent genetic recombination, groups of significant P values tend to rise up high on the Manhattan plot, similar to the classic NYC Manhattan skyline\n",
    "- Quantile-Quantile (QQ) plots \n",
    "    - Represents simulated data showing an early separation of the observed from the expected, suggesting                 population stratification\n"
   ]
  },
  {
   "cell_type": "markdown",
   "metadata": {},
   "source": [
    "# Method\n",
    "\n",
    "High overview: In order to properly create a base population to best fit the study design objectives, we employ the software package ms to generate a variety of samples under neutral models to create 4,000 individuals with 12500 base pairs as their whole genomes. Utilizing a variant-set mixed model framework to allow for fixed and random effects as outlined by SMMAT will enable generating pairwise identity by desent between two indiiduals. \n",
    "\n",
    "## Family creation \n",
    "\n",
    "Using census data and SMMATs as framework for effective ranfdom fixed effects, we can create effect varrient families with non-identical siblings through ensuring optimal recombination rates and a high migration parameter bewteen generated populations. To ensure generated output is valid, we can modify founder haplotypes for the sake of data reproducability. In theory, if the results are correct, the generated output *.tped* and *.tfam* should match with the *association_test* results\n"
   ]
  },
  {
   "cell_type": "code",
   "execution_count": null,
   "metadata": {},
   "outputs": [],
   "source": []
  }
 ],
 "metadata": {
  "kernelspec": {
   "display_name": "R",
   "language": "R",
   "name": "ir"
  },
  "language_info": {
   "codemirror_mode": "r",
   "file_extension": ".r",
   "mimetype": "text/x-r-source",
   "name": "R",
   "pygments_lexer": "r",
   "version": "4.0.3"
  }
 },
 "nbformat": 4,
 "nbformat_minor": 4
}
