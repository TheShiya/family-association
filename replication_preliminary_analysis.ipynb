{
 "cells": [
  {
   "cell_type": "markdown",
   "metadata": {},
   "source": [
    "## Background\n",
    "\n",
    "Given the need to examine family-based vs population-based design, testing for genetic association with rare variants (allele) is crucial for genome wide association studies (GWAS). However, systemic differences between allele frequencies in subpopulations   remains a confounding variable  in case-control studies, where association could be found not by a disease associated marker but rather the underlying population structure. Employing a variant-set mixed model framework to allow for fixed and random effects, we are able to properly analyze  complex hierarchical data while accounting for population stratification and cryptic association. In order to mitigate this risk, we utilize a genome wide mixed model association test (GEMMA) to correct population structure and sample non-exchangeability and test multiple phenotypes. \n"
   ]
  },
  {
   "cell_type": "markdown",
   "metadata": {},
   "source": [
    "## Project Objective \n",
    "\n",
    "The goal of the replication is to verify the effect size of the association, compare the minor allele frequency,and ultimately confirm the kinship results of \"six_fam_eff_phenotypes_structured_selected_fams.GRM.txt\", created by Joe Chase. \n",
    "\n",
    "This file contains the percent of genetic material shared identically by descent by each selected individal in order to properly assess population statification and cryptic relatedness. Utilizing known information on ancestor pedigrees, an estimated genetic relationship matrix is highly comparable for assessing phenotype similarity. Through understanding how this file was generated and replicating the results, we can assert the validity of the results and use the GRM as a base for future Family-based association study design objectives where effect variants are enriched within families while maintaining a substancial sample size to work with.\n",
    "\n",
    "## Methods of verification\n",
    "In order to stimulate different study designs, we must frist stimulate a realistic and accurate family population and check with multiple metrics to ensure genetic relationship matrix is accurate. \n",
    "\n",
    "The following metrics to verify our stimuation are used:\n",
    "\n",
    "1) SNP Pairwise Estimation: Create a genotype matrix for selected snps to check for correlation\n",
    "- Run Pairwise estimation for snp square matrix to ensure SNPs are not correlated with each other and so therefore the estimated effeect size can be accepted. \n",
    "- SNPs should have a diagnol correlation with itself on the matrix, that is a direct correlation of 1, while all other SNPs should have a correlation of 0.\n",
    "\n",
    "2) Verify effect size for SNPs\n",
    "- Compare 10 selected SNPs with no correlation to each other and verify effect size is desired effet size.\n",
    "\n",
    "3) Compare Family Estimated Kingship Coeficcent with pedigree matrix truth\n",
    "- Using PLINK and KING, verify population percentages of estimates pair-wise kinship coefficients\n",
    "\n",
    "4) GWAS Manhattan and Quantile-Quantile (QQ) plot\n",
    "- Compare effect size of SNPs and verify significant P values \n",
    "  \n"
   ]
  },
  {
   "cell_type": "markdown",
   "metadata": {},
   "source": [
    "# Data Stimulation Files\n",
    "\n",
    "High overview: In order to properly create a base population to best fit the study design objectives, we employ the software package ms to generate a variety of samples under neutral models to create 4,000 individuals with 12500 base pairs as their whole genomes. Utilizing a variant-set mixed model framework to allow for fixed and random effects as outlined by SMMAT will enable generating pairwise identity by desent between two indiiduals. Code to generate families and plink files can be found on the Sam_Prelim repository.\n",
    "\n",
    "## Family creation \n",
    "\n",
    "Using census data and SMMATs as framework for effective ranfdom fixed effects, we can create effect varrient families with non-identical siblings through ensuring optimal recombination rates and a high migration parameter bewteen generated populations. To ensure generated output is valid, we can modify founder haplotypes for the sake of data reproducability. In theory, if the results are correct, the generated output *.tped* and *.tfam* should match with the *association_test* results\n"
   ]
  },
  {
   "cell_type": "code",
   "execution_count": null,
   "metadata": {},
   "outputs": [],
   "source": []
  },
  {
   "cell_type": "code",
   "execution_count": null,
   "metadata": {},
   "outputs": [],
   "source": []
  }
 ],
 "metadata": {
  "kernelspec": {
   "display_name": "R",
   "language": "R",
   "name": "ir"
  },
  "language_info": {
   "codemirror_mode": "r",
   "file_extension": ".r",
   "mimetype": "text/x-r-source",
   "name": "R",
   "pygments_lexer": "r",
   "version": "4.0.3"
  }
 },
 "nbformat": 4,
 "nbformat_minor": 4
}
