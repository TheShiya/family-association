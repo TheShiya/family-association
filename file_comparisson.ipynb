{
 "cells": [
  {
   "cell_type": "markdown",
   "metadata": {
    "kernel": "SoS"
   },
   "source": [
    "Script to compare two text files and be able to detect common lines and print to output file usinf the command `set.intersection()`. Sets are an unordered collection of elements, therefore the output wont be ordered."
   ]
  },
  {
   "cell_type": "code",
   "execution_count": 127,
   "metadata": {
    "kernel": "SoS"
   },
   "outputs": [],
   "source": [
    "ped_file = set(line.strip() for line in open(\"seqsimla/seqsimla_example/SAP.txt\",'r'))\n",
    "proband_file = set(line.strip() for line in open(\"seqsimla/seqsimla_example/probands.txt\",'r'))\n",
    "common_lines = set(ped_file).intersection(proband_file)\n",
    "output_same = open('seqsimla/seqsimla_example/common_lines.txt', 'w')\n",
    "print(*common_lines, sep = '\\n', file = output_same)"
   ]
  },
  {
   "cell_type": "markdown",
   "metadata": {
    "kernel": "SoS"
   },
   "source": [
    "Script to compare two text files and be able to detect differences. You can use `intersection()` method instead of `difference()` if you need to print the common items. Here I want to see if the `probands.txt` differs from the intersection between the `SAP.ped` file and `probands.txt` now outputed as `common_lines.txt` from the previous step. \n",
    "The output file should be empty because the two file should be exactly the same."
   ]
  },
  {
   "cell_type": "code",
   "execution_count": 130,
   "metadata": {
    "kernel": "SoS"
   },
   "outputs": [],
   "source": [
    "different_lines = set(proband_file).difference(common_lines)\n",
    "output_different = open('seqsimla/seqsimla_example/differences.txt', 'w')        \n",
    "print(*different_lines, sep = '\\n', file = output_different)"
   ]
  },
  {
   "cell_type": "markdown",
   "metadata": {
    "kernel": "SoS"
   },
   "source": [
    "This code is to create a `set` from a text file"
   ]
  },
  {
   "cell_type": "code",
   "execution_count": 106,
   "metadata": {
    "kernel": "SoS"
   },
   "outputs": [
    {
     "name": "stdout",
     "output_type": "stream",
     "text": [
      "File 1\n",
      "{'6 si', '1 si', '3 no', '4 si', '7 no', '2 no', '5 no'}\n"
     ]
    }
   ],
   "source": [
    "file_1 = set(line.strip() for line in open(\"seqsimla/seqsimla_example/test1.txt\",'r'))\n",
    "file_2 = set(line.strip() for line in open(\"seqsimla/seqsimla_example/test2.txt\",'r'))\n",
    "print(\"File 1\")\n",
    "print(file_1)"
   ]
  },
  {
   "cell_type": "code",
   "execution_count": 107,
   "metadata": {
    "kernel": "SoS"
   },
   "outputs": [
    {
     "name": "stdout",
     "output_type": "stream",
     "text": [
      "File2\n",
      "{'4 si', '6 si', '1 si'}\n"
     ]
    }
   ],
   "source": [
    "print(\"File2\")\n",
    "print(file_2)"
   ]
  },
  {
   "cell_type": "code",
   "execution_count": 108,
   "metadata": {
    "kernel": "SoS"
   },
   "outputs": [
    {
     "name": "stdout",
     "output_type": "stream",
     "text": [
      "Intersection\n",
      "{'4 si', '6 si', '1 si'}\n"
     ]
    }
   ],
   "source": [
    "print(\"Intersection\")\n",
    "print(file_1.intersection(file_2))"
   ]
  }
 ],
 "metadata": {
  "kernelspec": {
   "display_name": "SoS",
   "language": "sos",
   "name": "sos"
  },
  "language_info": {
   "codemirror_mode": "sos",
   "file_extension": ".sos",
   "mimetype": "text/x-sos",
   "name": "sos",
   "nbconvert_exporter": "sos_notebook.converter.SoS_Exporter",
   "pygments_lexer": "sos"
  },
  "sos": {
   "kernels": [
    [
     "R",
     "ir",
     "R",
     "#DCDCDA",
     "r"
    ],
    [
     "SoS",
     "sos",
     "",
     "",
     "sos"
    ]
   ],
   "version": "0.21.7"
  }
 },
 "nbformat": 4,
 "nbformat_minor": 4
}
