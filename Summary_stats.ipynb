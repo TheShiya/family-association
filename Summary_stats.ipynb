{
 "cells": [
  {
   "cell_type": "markdown",
   "metadata": {
    "kernel": "SoS"
   },
   "source": [
    "## Summary statistics of the simulated phenotypes and genotypes (MAF, genotypic frequencies, Odds Ratio)"
   ]
  },
  {
   "cell_type": "markdown",
   "metadata": {
    "kernel": "SoS"
   },
   "source": [
    "To import a text file to python line by line"
   ]
  },
  {
   "cell_type": "code",
   "execution_count": 1,
   "metadata": {
    "kernel": "SoS"
   },
   "outputs": [],
   "source": [
    "ped_file = ('seqsimla/input/results_200/Sim21.ped')\n",
    "cases = ('seqsimla/input/results_200/cases_100.txt')"
   ]
  },
  {
   "cell_type": "code",
   "execution_count": 2,
   "metadata": {
    "kernel": "SoS"
   },
   "outputs": [],
   "source": [
    "lines = [x.strip().split() for x in open(ped_file).readlines()]"
   ]
  },
  {
   "cell_type": "markdown",
   "metadata": {
    "kernel": "SoS"
   },
   "source": [
    "To verify the number of lines in a file use the `len()` command"
   ]
  },
  {
   "cell_type": "code",
   "execution_count": 3,
   "metadata": {
    "kernel": "SoS"
   },
   "outputs": [
    {
     "data": {
      "text/plain": [
       "978"
      ]
     },
     "execution_count": 3,
     "metadata": {},
     "output_type": "execute_result"
    }
   ],
   "source": [
    "len(lines)"
   ]
  },
  {
   "cell_type": "code",
   "execution_count": 4,
   "metadata": {
    "kernel": "SoS"
   },
   "outputs": [
    {
     "data": {
      "text/plain": [
       "[['FAM1', 'M1', '0', '0', '2', '1', '1', '1', '1', '1', '1', '1', '2', '2'],\n",
       " ['FAM1', 'F1', '0', '0', '1', '1', '1', '1', '1', '1', '1', '1', '1', '1'],\n",
       " ['FAM1', 'O2', 'F1', 'M1', '2', '2', '1', '1', '1', '1', '1', '1', '1', '2'],\n",
       " ['FAM1', 'O1', 'F1', 'M1', '2', '2', '1', '1', '1', '1', '1', '1', '1', '2'],\n",
       " ['FAM2', 'M2', '0', '0', '2', '1', '1', '1', '1', '1', '1', '1', '2', '2'],\n",
       " ['FAM2', 'F2', '0', '0', '1', '1', '1', '1', '1', '2', '1', '1', '1', '1'],\n",
       " ['FAM2', 'O2', 'F2', 'M2', '1', '2', '1', '1', '2', '1', '1', '1', '1', '2'],\n",
       " ['FAM2', 'O1', 'F2', 'M2', '2', '2', '1', '1', '2', '1', '1', '1', '1', '2'],\n",
       " ['FAM3', 'M3', '0', '0', '2', '1', '1', '2', '1', '1', '1', '1', '1', '1'],\n",
       " ['FAM3', 'F3', '0', '0', '1', '1', '2', '1', '1', '1', '1', '1', '1', '1']]"
      ]
     },
     "execution_count": 4,
     "metadata": {},
     "output_type": "execute_result"
    }
   ],
   "source": [
    "lines [0:10]"
   ]
  },
  {
   "cell_type": "code",
   "execution_count": 5,
   "metadata": {
    "kernel": "SoS"
   },
   "outputs": [
    {
     "data": {
      "text/plain": [
       "[['FAM1', 'M1', '0', '0', '2', '1', '1', '1', '1', '1', '1', '1', '2', '2']]"
      ]
     },
     "execution_count": 5,
     "metadata": {},
     "output_type": "execute_result"
    }
   ],
   "source": [
    "lines [0:1]"
   ]
  },
  {
   "cell_type": "markdown",
   "metadata": {
    "kernel": "SoS"
   },
   "source": [
    "To select a part of the list of lists use the slicing method shown below. Here for the `pedigree` variable I am selecting the first six columns of the file and for the `affected` variable only the column number 6"
   ]
  },
  {
   "cell_type": "code",
   "execution_count": 6,
   "metadata": {
    "kernel": "SoS",
    "scrolled": true
   },
   "outputs": [],
   "source": [
    "pedigree = [sublist[0:6] for sublist in lines]\n",
    "affected = [sublist[5:6] for sublist in lines]\n",
    "individual = [sublist[1:2] for sublist in lines]"
   ]
  },
  {
   "cell_type": "markdown",
   "metadata": {
    "kernel": "SoS"
   },
   "source": [
    "Now to count the number of occurrences of 2 in the affection column, this means the number of affected individuals in a list of lists. Below two different ways of doing it"
   ]
  },
  {
   "cell_type": "code",
   "execution_count": 7,
   "metadata": {
    "kernel": "SoS"
   },
   "outputs": [
    {
     "name": "stdout",
     "output_type": "stream",
     "text": [
      "573\n"
     ]
    }
   ],
   "source": [
    "x = '2'\n",
    "def countList(affected, x): \n",
    "    count = 0\n",
    "    for i in range(len(affected)): \n",
    "        if x in affected[i]: \n",
    "            count+= 1\n",
    "        \n",
    "    return count\n",
    "print(countList(affected, x))"
   ]
  },
  {
   "cell_type": "code",
   "execution_count": 8,
   "metadata": {
    "kernel": "SoS"
   },
   "outputs": [
    {
     "name": "stdout",
     "output_type": "stream",
     "text": [
      "573\n"
     ]
    }
   ],
   "source": [
    "def countList(affected, x): \n",
    "      \n",
    "    return sum(x in item for item in affected) \n",
    "print(countList(affected, x))"
   ]
  },
  {
   "cell_type": "markdown",
   "metadata": {
    "kernel": "SoS"
   },
   "source": [
    "To slice part of a file based on certain conditions it is better to use pandas. As per the example below. https://www.geeksforgeeks.org/saving-a-pandas-dataframe-as-a-csv/"
   ]
  },
  {
   "cell_type": "code",
   "execution_count": 9,
   "metadata": {
    "kernel": "SoS",
    "scrolled": true
   },
   "outputs": [],
   "source": [
    "import pandas as pd \n",
    "df_cases = pd.read_csv(ped_file, header=None, sep=' ', names=[\"famid\", \"iid\", \"fid\", \"mid\", \"sex\", \"aff\", \"snp1_1\", \"snp1_2\", \"snp2_1\", \"snp2_2\", \"snp3_1\", \"snp3_2\", \"snp4_1\", \"snp4_2\"], index_col=False)\n",
    "df1_cases = df_cases[df_cases['iid'].str.contains(\"O1\")] \n",
    "df2_cases = df1_cases[:100] \n",
    "df2_cases.to_csv('seqsimla/input/results_200/cases100.txt', header=False, index=False, sep=' ')"
   ]
  },
  {
   "cell_type": "code",
   "execution_count": 10,
   "metadata": {
    "kernel": "SoS",
    "scrolled": true
   },
   "outputs": [
    {
     "data": {
      "text/plain": [
       "200"
      ]
     },
     "execution_count": 10,
     "metadata": {},
     "output_type": "execute_result"
    }
   ],
   "source": [
    "len(df1_cases)"
   ]
  },
  {
   "cell_type": "code",
   "execution_count": 11,
   "metadata": {
    "kernel": "SoS",
    "scrolled": true
   },
   "outputs": [],
   "source": [
    "df_controls = pd.read_csv(ped_file, header=None, sep=' ', names=[\"famid\", \"iid\", \"fid\", \"mid\", \"sex\", \"aff\", \"snp1_1\", \"snp1_2\", \"snp2_1\", \"snp2_2\", \"snp3_1\", \"snp3_2\", \"snp4_1\", \"snp4_2\"], index_col=False)\n",
    "df1_controls = df_controls[df_controls['aff'] == 1 & df_controls['iid'].str.contains('^[^O]')] \n",
    "df2_controls = df1_controls[200:300] \n",
    "df2_controls\n",
    "df2_controls.to_csv('seqsimla/input/results_200/controls100.txt', header=False, index=False, sep=' ')"
   ]
  },
  {
   "cell_type": "markdown",
   "metadata": {
    "kernel": "SoS"
   },
   "source": [
    "Below, I try to sum the number of affected offspring in the `proband_file` that should be the same as the total number of affected individuals since it was simulated like this from the beginning. "
   ]
  },
  {
   "cell_type": "code",
   "execution_count": 293,
   "metadata": {
    "kernel": "SoS"
   },
   "outputs": [
    {
     "name": "stdout",
     "output_type": "stream",
     "text": [
      "172\n"
     ]
    }
   ],
   "source": [
    "#FIXME: how to count the 01, 02, 03....present in the list?\n",
    "s = range(1,10)\n",
    "y = f'O{1}'\n",
    "def countList(individual, y): \n",
    "    count = 0\n",
    "    for j in range(len(individual)): \n",
    "        if y in individual[j]: \n",
    "            count+= 1\n",
    "        \n",
    "    return count\n",
    "print(countList(individual, y))"
   ]
  },
  {
   "cell_type": "markdown",
   "metadata": {
    "kernel": "SoS"
   },
   "source": [
    "Now to obtain some summary statistics, as for example the MAF for each variant, the OR and the genotype frequencies. "
   ]
  },
  {
   "cell_type": "code",
   "execution_count": 12,
   "metadata": {
    "kernel": "R"
   },
   "outputs": [
    {
     "data": {
      "text/html": [
       "'/Users/dianacornejo/family-association'"
      ],
      "text/latex": [
       "'/Users/dianacornejo/family-association'"
      ],
      "text/markdown": [
       "'/Users/dianacornejo/family-association'"
      ],
      "text/plain": [
       "[1] \"/Users/dianacornejo/family-association\""
      ]
     },
     "metadata": {},
     "output_type": "display_data"
    }
   ],
   "source": [
    "getwd()"
   ]
  },
  {
   "cell_type": "code",
   "execution_count": 141,
   "metadata": {
    "kernel": "R"
   },
   "outputs": [],
   "source": [
    "dat = read.table('seqsimla/input/results_200/Sim21.ped') #read the genotypic data\n",
    "cases100 = read.table('seqsimla/input/results_200/cases100.txt') #100 cases from the simulation\n",
    "controls100 = read.table('seqsimla/input/results_200/controls100.txt')#100 controls from the simulation"
   ]
  },
  {
   "cell_type": "code",
   "execution_count": 142,
   "metadata": {
    "kernel": "R"
   },
   "outputs": [
    {
     "data": {
      "text/html": [
       "<table>\n",
       "<caption>A data.frame: 6 × 14</caption>\n",
       "<thead>\n",
       "\t<tr><th scope=col>V1</th><th scope=col>V2</th><th scope=col>V3</th><th scope=col>V4</th><th scope=col>V5</th><th scope=col>V6</th><th scope=col>V7</th><th scope=col>V8</th><th scope=col>V9</th><th scope=col>V10</th><th scope=col>V11</th><th scope=col>V12</th><th scope=col>V13</th><th scope=col>V14</th></tr>\n",
       "\t<tr><th scope=col>&lt;fct&gt;</th><th scope=col>&lt;fct&gt;</th><th scope=col>&lt;fct&gt;</th><th scope=col>&lt;fct&gt;</th><th scope=col>&lt;int&gt;</th><th scope=col>&lt;int&gt;</th><th scope=col>&lt;int&gt;</th><th scope=col>&lt;int&gt;</th><th scope=col>&lt;int&gt;</th><th scope=col>&lt;int&gt;</th><th scope=col>&lt;int&gt;</th><th scope=col>&lt;int&gt;</th><th scope=col>&lt;int&gt;</th><th scope=col>&lt;int&gt;</th></tr>\n",
       "</thead>\n",
       "<tbody>\n",
       "\t<tr><td>FAM1</td><td>O1</td><td>F1</td><td>M1</td><td>2</td><td>2</td><td>1</td><td>1</td><td>1</td><td>1</td><td>1</td><td>1</td><td>1</td><td>2</td></tr>\n",
       "\t<tr><td>FAM2</td><td>O1</td><td>F2</td><td>M2</td><td>2</td><td>2</td><td>1</td><td>1</td><td>2</td><td>1</td><td>1</td><td>1</td><td>1</td><td>2</td></tr>\n",
       "\t<tr><td>FAM3</td><td>O1</td><td>F3</td><td>M3</td><td>1</td><td>2</td><td>2</td><td>2</td><td>1</td><td>1</td><td>1</td><td>1</td><td>1</td><td>1</td></tr>\n",
       "\t<tr><td>FAM4</td><td>O1</td><td>F4</td><td>M4</td><td>2</td><td>2</td><td>2</td><td>1</td><td>2</td><td>1</td><td>1</td><td>1</td><td>1</td><td>1</td></tr>\n",
       "\t<tr><td>FAM5</td><td>O1</td><td>F5</td><td>M5</td><td>2</td><td>2</td><td>1</td><td>2</td><td>1</td><td>1</td><td>1</td><td>1</td><td>1</td><td>1</td></tr>\n",
       "\t<tr><td>FAM6</td><td>O1</td><td>F6</td><td>M6</td><td>1</td><td>2</td><td>1</td><td>1</td><td>1</td><td>1</td><td>1</td><td>1</td><td>1</td><td>2</td></tr>\n",
       "</tbody>\n",
       "</table>\n"
      ],
      "text/latex": [
       "A data.frame: 6 × 14\n",
       "\\begin{tabular}{r|llllllllllllll}\n",
       " V1 & V2 & V3 & V4 & V5 & V6 & V7 & V8 & V9 & V10 & V11 & V12 & V13 & V14\\\\\n",
       " <fct> & <fct> & <fct> & <fct> & <int> & <int> & <int> & <int> & <int> & <int> & <int> & <int> & <int> & <int>\\\\\n",
       "\\hline\n",
       "\t FAM1 & O1 & F1 & M1 & 2 & 2 & 1 & 1 & 1 & 1 & 1 & 1 & 1 & 2\\\\\n",
       "\t FAM2 & O1 & F2 & M2 & 2 & 2 & 1 & 1 & 2 & 1 & 1 & 1 & 1 & 2\\\\\n",
       "\t FAM3 & O1 & F3 & M3 & 1 & 2 & 2 & 2 & 1 & 1 & 1 & 1 & 1 & 1\\\\\n",
       "\t FAM4 & O1 & F4 & M4 & 2 & 2 & 2 & 1 & 2 & 1 & 1 & 1 & 1 & 1\\\\\n",
       "\t FAM5 & O1 & F5 & M5 & 2 & 2 & 1 & 2 & 1 & 1 & 1 & 1 & 1 & 1\\\\\n",
       "\t FAM6 & O1 & F6 & M6 & 1 & 2 & 1 & 1 & 1 & 1 & 1 & 1 & 1 & 2\\\\\n",
       "\\end{tabular}\n"
      ],
      "text/markdown": [
       "\n",
       "A data.frame: 6 × 14\n",
       "\n",
       "| V1 &lt;fct&gt; | V2 &lt;fct&gt; | V3 &lt;fct&gt; | V4 &lt;fct&gt; | V5 &lt;int&gt; | V6 &lt;int&gt; | V7 &lt;int&gt; | V8 &lt;int&gt; | V9 &lt;int&gt; | V10 &lt;int&gt; | V11 &lt;int&gt; | V12 &lt;int&gt; | V13 &lt;int&gt; | V14 &lt;int&gt; |\n",
       "|---|---|---|---|---|---|---|---|---|---|---|---|---|---|\n",
       "| FAM1 | O1 | F1 | M1 | 2 | 2 | 1 | 1 | 1 | 1 | 1 | 1 | 1 | 2 |\n",
       "| FAM2 | O1 | F2 | M2 | 2 | 2 | 1 | 1 | 2 | 1 | 1 | 1 | 1 | 2 |\n",
       "| FAM3 | O1 | F3 | M3 | 1 | 2 | 2 | 2 | 1 | 1 | 1 | 1 | 1 | 1 |\n",
       "| FAM4 | O1 | F4 | M4 | 2 | 2 | 2 | 1 | 2 | 1 | 1 | 1 | 1 | 1 |\n",
       "| FAM5 | O1 | F5 | M5 | 2 | 2 | 1 | 2 | 1 | 1 | 1 | 1 | 1 | 1 |\n",
       "| FAM6 | O1 | F6 | M6 | 1 | 2 | 1 | 1 | 1 | 1 | 1 | 1 | 1 | 2 |\n",
       "\n"
      ],
      "text/plain": [
       "  V1   V2 V3 V4 V5 V6 V7 V8 V9 V10 V11 V12 V13 V14\n",
       "1 FAM1 O1 F1 M1 2  2  1  1  1  1   1   1   1   2  \n",
       "2 FAM2 O1 F2 M2 2  2  1  1  2  1   1   1   1   2  \n",
       "3 FAM3 O1 F3 M3 1  2  2  2  1  1   1   1   1   1  \n",
       "4 FAM4 O1 F4 M4 2  2  2  1  2  1   1   1   1   1  \n",
       "5 FAM5 O1 F5 M5 2  2  1  2  1  1   1   1   1   1  \n",
       "6 FAM6 O1 F6 M6 1  2  1  1  1  1   1   1   1   2  "
      ]
     },
     "metadata": {},
     "output_type": "display_data"
    }
   ],
   "source": [
    "head(cases100)"
   ]
  },
  {
   "cell_type": "code",
   "execution_count": 137,
   "metadata": {
    "kernel": "R",
    "scrolled": true
   },
   "outputs": [
    {
     "data": {
      "text/html": [
       "<table>\n",
       "<caption>A data.frame: 6 × 14</caption>\n",
       "<thead>\n",
       "\t<tr><th scope=col>V1</th><th scope=col>V2</th><th scope=col>V3</th><th scope=col>V4</th><th scope=col>V5</th><th scope=col>V6</th><th scope=col>V7</th><th scope=col>V8</th><th scope=col>V9</th><th scope=col>V10</th><th scope=col>V11</th><th scope=col>V12</th><th scope=col>V13</th><th scope=col>V14</th></tr>\n",
       "\t<tr><th scope=col>&lt;fct&gt;</th><th scope=col>&lt;fct&gt;</th><th scope=col>&lt;fct&gt;</th><th scope=col>&lt;fct&gt;</th><th scope=col>&lt;int&gt;</th><th scope=col>&lt;int&gt;</th><th scope=col>&lt;int&gt;</th><th scope=col>&lt;int&gt;</th><th scope=col>&lt;int&gt;</th><th scope=col>&lt;int&gt;</th><th scope=col>&lt;int&gt;</th><th scope=col>&lt;int&gt;</th><th scope=col>&lt;int&gt;</th><th scope=col>&lt;int&gt;</th></tr>\n",
       "</thead>\n",
       "<tbody>\n",
       "\t<tr><td>FAM1</td><td>M1</td><td>0 </td><td>0 </td><td>2</td><td>1</td><td>1</td><td>1</td><td>1</td><td>1</td><td>1</td><td>1</td><td>2</td><td>2</td></tr>\n",
       "\t<tr><td>FAM1</td><td>F1</td><td>0 </td><td>0 </td><td>1</td><td>1</td><td>1</td><td>1</td><td>1</td><td>1</td><td>1</td><td>1</td><td>1</td><td>1</td></tr>\n",
       "\t<tr><td>FAM1</td><td>O2</td><td>F1</td><td>M1</td><td>2</td><td>2</td><td>1</td><td>1</td><td>1</td><td>1</td><td>1</td><td>1</td><td>1</td><td>2</td></tr>\n",
       "\t<tr><td>FAM1</td><td>O1</td><td>F1</td><td>M1</td><td>2</td><td>2</td><td>1</td><td>1</td><td>1</td><td>1</td><td>1</td><td>1</td><td>1</td><td>2</td></tr>\n",
       "\t<tr><td>FAM2</td><td>M2</td><td>0 </td><td>0 </td><td>2</td><td>1</td><td>1</td><td>1</td><td>1</td><td>1</td><td>1</td><td>1</td><td>2</td><td>2</td></tr>\n",
       "\t<tr><td>FAM2</td><td>F2</td><td>0 </td><td>0 </td><td>1</td><td>1</td><td>1</td><td>1</td><td>1</td><td>2</td><td>1</td><td>1</td><td>1</td><td>1</td></tr>\n",
       "</tbody>\n",
       "</table>\n"
      ],
      "text/latex": [
       "A data.frame: 6 × 14\n",
       "\\begin{tabular}{r|llllllllllllll}\n",
       " V1 & V2 & V3 & V4 & V5 & V6 & V7 & V8 & V9 & V10 & V11 & V12 & V13 & V14\\\\\n",
       " <fct> & <fct> & <fct> & <fct> & <int> & <int> & <int> & <int> & <int> & <int> & <int> & <int> & <int> & <int>\\\\\n",
       "\\hline\n",
       "\t FAM1 & M1 & 0  & 0  & 2 & 1 & 1 & 1 & 1 & 1 & 1 & 1 & 2 & 2\\\\\n",
       "\t FAM1 & F1 & 0  & 0  & 1 & 1 & 1 & 1 & 1 & 1 & 1 & 1 & 1 & 1\\\\\n",
       "\t FAM1 & O2 & F1 & M1 & 2 & 2 & 1 & 1 & 1 & 1 & 1 & 1 & 1 & 2\\\\\n",
       "\t FAM1 & O1 & F1 & M1 & 2 & 2 & 1 & 1 & 1 & 1 & 1 & 1 & 1 & 2\\\\\n",
       "\t FAM2 & M2 & 0  & 0  & 2 & 1 & 1 & 1 & 1 & 1 & 1 & 1 & 2 & 2\\\\\n",
       "\t FAM2 & F2 & 0  & 0  & 1 & 1 & 1 & 1 & 1 & 2 & 1 & 1 & 1 & 1\\\\\n",
       "\\end{tabular}\n"
      ],
      "text/markdown": [
       "\n",
       "A data.frame: 6 × 14\n",
       "\n",
       "| V1 &lt;fct&gt; | V2 &lt;fct&gt; | V3 &lt;fct&gt; | V4 &lt;fct&gt; | V5 &lt;int&gt; | V6 &lt;int&gt; | V7 &lt;int&gt; | V8 &lt;int&gt; | V9 &lt;int&gt; | V10 &lt;int&gt; | V11 &lt;int&gt; | V12 &lt;int&gt; | V13 &lt;int&gt; | V14 &lt;int&gt; |\n",
       "|---|---|---|---|---|---|---|---|---|---|---|---|---|---|\n",
       "| FAM1 | M1 | 0  | 0  | 2 | 1 | 1 | 1 | 1 | 1 | 1 | 1 | 2 | 2 |\n",
       "| FAM1 | F1 | 0  | 0  | 1 | 1 | 1 | 1 | 1 | 1 | 1 | 1 | 1 | 1 |\n",
       "| FAM1 | O2 | F1 | M1 | 2 | 2 | 1 | 1 | 1 | 1 | 1 | 1 | 1 | 2 |\n",
       "| FAM1 | O1 | F1 | M1 | 2 | 2 | 1 | 1 | 1 | 1 | 1 | 1 | 1 | 2 |\n",
       "| FAM2 | M2 | 0  | 0  | 2 | 1 | 1 | 1 | 1 | 1 | 1 | 1 | 2 | 2 |\n",
       "| FAM2 | F2 | 0  | 0  | 1 | 1 | 1 | 1 | 1 | 2 | 1 | 1 | 1 | 1 |\n",
       "\n"
      ],
      "text/plain": [
       "  V1   V2 V3 V4 V5 V6 V7 V8 V9 V10 V11 V12 V13 V14\n",
       "1 FAM1 M1 0  0  2  1  1  1  1  1   1   1   2   2  \n",
       "2 FAM1 F1 0  0  1  1  1  1  1  1   1   1   1   1  \n",
       "3 FAM1 O2 F1 M1 2  2  1  1  1  1   1   1   1   2  \n",
       "4 FAM1 O1 F1 M1 2  2  1  1  1  1   1   1   1   2  \n",
       "5 FAM2 M2 0  0  2  1  1  1  1  1   1   1   2   2  \n",
       "6 FAM2 F2 0  0  1  1  1  1  1  2   1   1   1   1  "
      ]
     },
     "metadata": {},
     "output_type": "display_data"
    }
   ],
   "source": [
    "head(dat) #look at the data"
   ]
  },
  {
   "cell_type": "code",
   "execution_count": 143,
   "metadata": {
    "kernel": "R"
   },
   "outputs": [
    {
     "data": {
      "text/html": [
       "<table>\n",
       "<caption>A data.frame: 6 × 14</caption>\n",
       "<thead>\n",
       "\t<tr><th scope=col>V1</th><th scope=col>V2</th><th scope=col>V3</th><th scope=col>V4</th><th scope=col>V5</th><th scope=col>V6</th><th scope=col>V7</th><th scope=col>V8</th><th scope=col>V9</th><th scope=col>V10</th><th scope=col>V11</th><th scope=col>V12</th><th scope=col>V13</th><th scope=col>V14</th></tr>\n",
       "\t<tr><th scope=col>&lt;fct&gt;</th><th scope=col>&lt;fct&gt;</th><th scope=col>&lt;int&gt;</th><th scope=col>&lt;int&gt;</th><th scope=col>&lt;int&gt;</th><th scope=col>&lt;int&gt;</th><th scope=col>&lt;int&gt;</th><th scope=col>&lt;int&gt;</th><th scope=col>&lt;int&gt;</th><th scope=col>&lt;int&gt;</th><th scope=col>&lt;int&gt;</th><th scope=col>&lt;int&gt;</th><th scope=col>&lt;int&gt;</th><th scope=col>&lt;int&gt;</th></tr>\n",
       "</thead>\n",
       "<tbody>\n",
       "\t<tr><td>FAM101</td><td>M101</td><td>0</td><td>0</td><td>2</td><td>1</td><td>1</td><td>1</td><td>1</td><td>1</td><td>1</td><td>1</td><td>1</td><td>1</td></tr>\n",
       "\t<tr><td>FAM101</td><td>F101</td><td>0</td><td>0</td><td>1</td><td>1</td><td>1</td><td>2</td><td>1</td><td>2</td><td>1</td><td>1</td><td>1</td><td>1</td></tr>\n",
       "\t<tr><td>FAM102</td><td>M102</td><td>0</td><td>0</td><td>2</td><td>1</td><td>1</td><td>1</td><td>1</td><td>1</td><td>1</td><td>1</td><td>1</td><td>1</td></tr>\n",
       "\t<tr><td>FAM102</td><td>F102</td><td>0</td><td>0</td><td>1</td><td>1</td><td>2</td><td>1</td><td>1</td><td>1</td><td>1</td><td>2</td><td>2</td><td>1</td></tr>\n",
       "\t<tr><td>FAM103</td><td>M103</td><td>0</td><td>0</td><td>2</td><td>1</td><td>1</td><td>1</td><td>1</td><td>2</td><td>1</td><td>1</td><td>1</td><td>1</td></tr>\n",
       "\t<tr><td>FAM103</td><td>F103</td><td>0</td><td>0</td><td>1</td><td>1</td><td>1</td><td>1</td><td>2</td><td>1</td><td>1</td><td>1</td><td>2</td><td>1</td></tr>\n",
       "</tbody>\n",
       "</table>\n"
      ],
      "text/latex": [
       "A data.frame: 6 × 14\n",
       "\\begin{tabular}{r|llllllllllllll}\n",
       " V1 & V2 & V3 & V4 & V5 & V6 & V7 & V8 & V9 & V10 & V11 & V12 & V13 & V14\\\\\n",
       " <fct> & <fct> & <int> & <int> & <int> & <int> & <int> & <int> & <int> & <int> & <int> & <int> & <int> & <int>\\\\\n",
       "\\hline\n",
       "\t FAM101 & M101 & 0 & 0 & 2 & 1 & 1 & 1 & 1 & 1 & 1 & 1 & 1 & 1\\\\\n",
       "\t FAM101 & F101 & 0 & 0 & 1 & 1 & 1 & 2 & 1 & 2 & 1 & 1 & 1 & 1\\\\\n",
       "\t FAM102 & M102 & 0 & 0 & 2 & 1 & 1 & 1 & 1 & 1 & 1 & 1 & 1 & 1\\\\\n",
       "\t FAM102 & F102 & 0 & 0 & 1 & 1 & 2 & 1 & 1 & 1 & 1 & 2 & 2 & 1\\\\\n",
       "\t FAM103 & M103 & 0 & 0 & 2 & 1 & 1 & 1 & 1 & 2 & 1 & 1 & 1 & 1\\\\\n",
       "\t FAM103 & F103 & 0 & 0 & 1 & 1 & 1 & 1 & 2 & 1 & 1 & 1 & 2 & 1\\\\\n",
       "\\end{tabular}\n"
      ],
      "text/markdown": [
       "\n",
       "A data.frame: 6 × 14\n",
       "\n",
       "| V1 &lt;fct&gt; | V2 &lt;fct&gt; | V3 &lt;int&gt; | V4 &lt;int&gt; | V5 &lt;int&gt; | V6 &lt;int&gt; | V7 &lt;int&gt; | V8 &lt;int&gt; | V9 &lt;int&gt; | V10 &lt;int&gt; | V11 &lt;int&gt; | V12 &lt;int&gt; | V13 &lt;int&gt; | V14 &lt;int&gt; |\n",
       "|---|---|---|---|---|---|---|---|---|---|---|---|---|---|\n",
       "| FAM101 | M101 | 0 | 0 | 2 | 1 | 1 | 1 | 1 | 1 | 1 | 1 | 1 | 1 |\n",
       "| FAM101 | F101 | 0 | 0 | 1 | 1 | 1 | 2 | 1 | 2 | 1 | 1 | 1 | 1 |\n",
       "| FAM102 | M102 | 0 | 0 | 2 | 1 | 1 | 1 | 1 | 1 | 1 | 1 | 1 | 1 |\n",
       "| FAM102 | F102 | 0 | 0 | 1 | 1 | 2 | 1 | 1 | 1 | 1 | 2 | 2 | 1 |\n",
       "| FAM103 | M103 | 0 | 0 | 2 | 1 | 1 | 1 | 1 | 2 | 1 | 1 | 1 | 1 |\n",
       "| FAM103 | F103 | 0 | 0 | 1 | 1 | 1 | 1 | 2 | 1 | 1 | 1 | 2 | 1 |\n",
       "\n"
      ],
      "text/plain": [
       "  V1     V2   V3 V4 V5 V6 V7 V8 V9 V10 V11 V12 V13 V14\n",
       "1 FAM101 M101 0  0  2  1  1  1  1  1   1   1   1   1  \n",
       "2 FAM101 F101 0  0  1  1  1  2  1  2   1   1   1   1  \n",
       "3 FAM102 M102 0  0  2  1  1  1  1  1   1   1   1   1  \n",
       "4 FAM102 F102 0  0  1  1  2  1  1  1   1   2   2   1  \n",
       "5 FAM103 M103 0  0  2  1  1  1  1  2   1   1   1   1  \n",
       "6 FAM103 F103 0  0  1  1  1  1  2  1   1   1   2   1  "
      ]
     },
     "metadata": {},
     "output_type": "display_data"
    }
   ],
   "source": [
    "head(controls100)"
   ]
  },
  {
   "cell_type": "markdown",
   "metadata": {
    "kernel": "R"
   },
   "source": [
    "To use the `rbind` function to append two data files using R:"
   ]
  },
  {
   "cell_type": "code",
   "execution_count": 148,
   "metadata": {
    "kernel": "R"
   },
   "outputs": [
    {
     "data": {
      "text/html": [
       "<ol class=list-inline>\n",
       "\t<li>100</li>\n",
       "\t<li>14</li>\n",
       "</ol>\n"
      ],
      "text/latex": [
       "\\begin{enumerate*}\n",
       "\\item 100\n",
       "\\item 14\n",
       "\\end{enumerate*}\n"
      ],
      "text/markdown": [
       "1. 100\n",
       "2. 14\n",
       "\n",
       "\n"
      ],
      "text/plain": [
       "[1] 100  14"
      ]
     },
     "metadata": {},
     "output_type": "display_data"
    },
    {
     "data": {
      "text/html": [
       "'data.frame'"
      ],
      "text/latex": [
       "'data.frame'"
      ],
      "text/markdown": [
       "'data.frame'"
      ],
      "text/plain": [
       "[1] \"data.frame\""
      ]
     },
     "metadata": {},
     "output_type": "display_data"
    }
   ],
   "source": [
    "dim(cases100)\n",
    "class(cases100)"
   ]
  },
  {
   "cell_type": "code",
   "execution_count": 145,
   "metadata": {
    "kernel": "R"
   },
   "outputs": [
    {
     "data": {
      "text/html": [
       "<ol class=list-inline>\n",
       "\t<li>100</li>\n",
       "\t<li>14</li>\n",
       "</ol>\n"
      ],
      "text/latex": [
       "\\begin{enumerate*}\n",
       "\\item 100\n",
       "\\item 14\n",
       "\\end{enumerate*}\n"
      ],
      "text/markdown": [
       "1. 100\n",
       "2. 14\n",
       "\n",
       "\n"
      ],
      "text/plain": [
       "[1] 100  14"
      ]
     },
     "metadata": {},
     "output_type": "display_data"
    }
   ],
   "source": [
    "dim(controls100)"
   ]
  },
  {
   "cell_type": "code",
   "execution_count": 151,
   "metadata": {
    "kernel": "R"
   },
   "outputs": [
    {
     "data": {
      "text/html": [
       "<table>\n",
       "<caption>A data.frame: 6 × 14</caption>\n",
       "<thead>\n",
       "\t<tr><th scope=col>V1</th><th scope=col>V2</th><th scope=col>V3</th><th scope=col>V4</th><th scope=col>V5</th><th scope=col>V6</th><th scope=col>V7</th><th scope=col>V8</th><th scope=col>V9</th><th scope=col>V10</th><th scope=col>V11</th><th scope=col>V12</th><th scope=col>V13</th><th scope=col>V14</th></tr>\n",
       "\t<tr><th scope=col>&lt;fct&gt;</th><th scope=col>&lt;fct&gt;</th><th scope=col>&lt;fct&gt;</th><th scope=col>&lt;fct&gt;</th><th scope=col>&lt;int&gt;</th><th scope=col>&lt;int&gt;</th><th scope=col>&lt;int&gt;</th><th scope=col>&lt;int&gt;</th><th scope=col>&lt;int&gt;</th><th scope=col>&lt;int&gt;</th><th scope=col>&lt;int&gt;</th><th scope=col>&lt;int&gt;</th><th scope=col>&lt;int&gt;</th><th scope=col>&lt;int&gt;</th></tr>\n",
       "</thead>\n",
       "<tbody>\n",
       "\t<tr><td>FAM101</td><td>M101</td><td>0</td><td>0</td><td>2</td><td>1</td><td>1</td><td>1</td><td>1</td><td>1</td><td>1</td><td>1</td><td>1</td><td>1</td></tr>\n",
       "\t<tr><td>FAM101</td><td>F101</td><td>0</td><td>0</td><td>1</td><td>1</td><td>1</td><td>2</td><td>1</td><td>2</td><td>1</td><td>1</td><td>1</td><td>1</td></tr>\n",
       "\t<tr><td>FAM102</td><td>M102</td><td>0</td><td>0</td><td>2</td><td>1</td><td>1</td><td>1</td><td>1</td><td>1</td><td>1</td><td>1</td><td>1</td><td>1</td></tr>\n",
       "\t<tr><td>FAM102</td><td>F102</td><td>0</td><td>0</td><td>1</td><td>1</td><td>2</td><td>1</td><td>1</td><td>1</td><td>1</td><td>2</td><td>2</td><td>1</td></tr>\n",
       "\t<tr><td>FAM103</td><td>M103</td><td>0</td><td>0</td><td>2</td><td>1</td><td>1</td><td>1</td><td>1</td><td>2</td><td>1</td><td>1</td><td>1</td><td>1</td></tr>\n",
       "\t<tr><td>FAM103</td><td>F103</td><td>0</td><td>0</td><td>1</td><td>1</td><td>1</td><td>1</td><td>2</td><td>1</td><td>1</td><td>1</td><td>2</td><td>1</td></tr>\n",
       "</tbody>\n",
       "</table>\n"
      ],
      "text/latex": [
       "A data.frame: 6 × 14\n",
       "\\begin{tabular}{r|llllllllllllll}\n",
       " V1 & V2 & V3 & V4 & V5 & V6 & V7 & V8 & V9 & V10 & V11 & V12 & V13 & V14\\\\\n",
       " <fct> & <fct> & <fct> & <fct> & <int> & <int> & <int> & <int> & <int> & <int> & <int> & <int> & <int> & <int>\\\\\n",
       "\\hline\n",
       "\t FAM101 & M101 & 0 & 0 & 2 & 1 & 1 & 1 & 1 & 1 & 1 & 1 & 1 & 1\\\\\n",
       "\t FAM101 & F101 & 0 & 0 & 1 & 1 & 1 & 2 & 1 & 2 & 1 & 1 & 1 & 1\\\\\n",
       "\t FAM102 & M102 & 0 & 0 & 2 & 1 & 1 & 1 & 1 & 1 & 1 & 1 & 1 & 1\\\\\n",
       "\t FAM102 & F102 & 0 & 0 & 1 & 1 & 2 & 1 & 1 & 1 & 1 & 2 & 2 & 1\\\\\n",
       "\t FAM103 & M103 & 0 & 0 & 2 & 1 & 1 & 1 & 1 & 2 & 1 & 1 & 1 & 1\\\\\n",
       "\t FAM103 & F103 & 0 & 0 & 1 & 1 & 1 & 1 & 2 & 1 & 1 & 1 & 2 & 1\\\\\n",
       "\\end{tabular}\n"
      ],
      "text/markdown": [
       "\n",
       "A data.frame: 6 × 14\n",
       "\n",
       "| V1 &lt;fct&gt; | V2 &lt;fct&gt; | V3 &lt;fct&gt; | V4 &lt;fct&gt; | V5 &lt;int&gt; | V6 &lt;int&gt; | V7 &lt;int&gt; | V8 &lt;int&gt; | V9 &lt;int&gt; | V10 &lt;int&gt; | V11 &lt;int&gt; | V12 &lt;int&gt; | V13 &lt;int&gt; | V14 &lt;int&gt; |\n",
       "|---|---|---|---|---|---|---|---|---|---|---|---|---|---|\n",
       "| FAM101 | M101 | 0 | 0 | 2 | 1 | 1 | 1 | 1 | 1 | 1 | 1 | 1 | 1 |\n",
       "| FAM101 | F101 | 0 | 0 | 1 | 1 | 1 | 2 | 1 | 2 | 1 | 1 | 1 | 1 |\n",
       "| FAM102 | M102 | 0 | 0 | 2 | 1 | 1 | 1 | 1 | 1 | 1 | 1 | 1 | 1 |\n",
       "| FAM102 | F102 | 0 | 0 | 1 | 1 | 2 | 1 | 1 | 1 | 1 | 2 | 2 | 1 |\n",
       "| FAM103 | M103 | 0 | 0 | 2 | 1 | 1 | 1 | 1 | 2 | 1 | 1 | 1 | 1 |\n",
       "| FAM103 | F103 | 0 | 0 | 1 | 1 | 1 | 1 | 2 | 1 | 1 | 1 | 2 | 1 |\n",
       "\n"
      ],
      "text/plain": [
       "  V1     V2   V3 V4 V5 V6 V7 V8 V9 V10 V11 V12 V13 V14\n",
       "1 FAM101 M101 0  0  2  1  1  1  1  1   1   1   1   1  \n",
       "2 FAM101 F101 0  0  1  1  1  2  1  2   1   1   1   1  \n",
       "3 FAM102 M102 0  0  2  1  1  1  1  1   1   1   1   1  \n",
       "4 FAM102 F102 0  0  1  1  2  1  1  1   1   2   2   1  \n",
       "5 FAM103 M103 0  0  2  1  1  1  1  2   1   1   1   1  \n",
       "6 FAM103 F103 0  0  1  1  1  1  2  1   1   1   2   1  "
      ]
     },
     "metadata": {},
     "output_type": "display_data"
    }
   ],
   "source": [
    "controls100[,'V3']<-factor(controls100[,'V3']) #convert integer to factor so we can bind the data later\n",
    "controls100[,'V4']<-factor(controls100[,'V4'])\n",
    "head(controls100)"
   ]
  },
  {
   "cell_type": "code",
   "execution_count": 153,
   "metadata": {
    "kernel": "R",
    "scrolled": true
   },
   "outputs": [
    {
     "data": {
      "text/html": [
       "<ol class=list-inline>\n",
       "\t<li>200</li>\n",
       "\t<li>14</li>\n",
       "</ol>\n"
      ],
      "text/latex": [
       "\\begin{enumerate*}\n",
       "\\item 200\n",
       "\\item 14\n",
       "\\end{enumerate*}\n"
      ],
      "text/markdown": [
       "1. 200\n",
       "2. 14\n",
       "\n",
       "\n"
      ],
      "text/plain": [
       "[1] 200  14"
      ]
     },
     "metadata": {},
     "output_type": "display_data"
    }
   ],
   "source": [
    "cases_controls <- rbind(cases100,controls100)\n",
    "dim(cases_controls)"
   ]
  },
  {
   "cell_type": "code",
   "execution_count": 156,
   "metadata": {
    "kernel": "R"
   },
   "outputs": [
    {
     "data": {
      "text/html": [
       "<table>\n",
       "<caption>A data.frame: 6 × 14</caption>\n",
       "<thead>\n",
       "\t<tr><th scope=col>V1</th><th scope=col>V2</th><th scope=col>V3</th><th scope=col>V4</th><th scope=col>V5</th><th scope=col>V6</th><th scope=col>V7</th><th scope=col>V8</th><th scope=col>V9</th><th scope=col>V10</th><th scope=col>V11</th><th scope=col>V12</th><th scope=col>V13</th><th scope=col>V14</th></tr>\n",
       "\t<tr><th scope=col>&lt;fct&gt;</th><th scope=col>&lt;fct&gt;</th><th scope=col>&lt;fct&gt;</th><th scope=col>&lt;fct&gt;</th><th scope=col>&lt;int&gt;</th><th scope=col>&lt;int&gt;</th><th scope=col>&lt;int&gt;</th><th scope=col>&lt;int&gt;</th><th scope=col>&lt;int&gt;</th><th scope=col>&lt;int&gt;</th><th scope=col>&lt;int&gt;</th><th scope=col>&lt;int&gt;</th><th scope=col>&lt;int&gt;</th><th scope=col>&lt;int&gt;</th></tr>\n",
       "</thead>\n",
       "<tbody>\n",
       "\t<tr><td>FAM1</td><td>O1</td><td>F1</td><td>M1</td><td>2</td><td>2</td><td>1</td><td>1</td><td>1</td><td>1</td><td>1</td><td>1</td><td>1</td><td>2</td></tr>\n",
       "\t<tr><td>FAM2</td><td>O1</td><td>F2</td><td>M2</td><td>2</td><td>2</td><td>1</td><td>1</td><td>2</td><td>1</td><td>1</td><td>1</td><td>1</td><td>2</td></tr>\n",
       "\t<tr><td>FAM3</td><td>O1</td><td>F3</td><td>M3</td><td>1</td><td>2</td><td>2</td><td>2</td><td>1</td><td>1</td><td>1</td><td>1</td><td>1</td><td>1</td></tr>\n",
       "\t<tr><td>FAM4</td><td>O1</td><td>F4</td><td>M4</td><td>2</td><td>2</td><td>2</td><td>1</td><td>2</td><td>1</td><td>1</td><td>1</td><td>1</td><td>1</td></tr>\n",
       "\t<tr><td>FAM5</td><td>O1</td><td>F5</td><td>M5</td><td>2</td><td>2</td><td>1</td><td>2</td><td>1</td><td>1</td><td>1</td><td>1</td><td>1</td><td>1</td></tr>\n",
       "\t<tr><td>FAM6</td><td>O1</td><td>F6</td><td>M6</td><td>1</td><td>2</td><td>1</td><td>1</td><td>1</td><td>1</td><td>1</td><td>1</td><td>1</td><td>2</td></tr>\n",
       "</tbody>\n",
       "</table>\n"
      ],
      "text/latex": [
       "A data.frame: 6 × 14\n",
       "\\begin{tabular}{r|llllllllllllll}\n",
       " V1 & V2 & V3 & V4 & V5 & V6 & V7 & V8 & V9 & V10 & V11 & V12 & V13 & V14\\\\\n",
       " <fct> & <fct> & <fct> & <fct> & <int> & <int> & <int> & <int> & <int> & <int> & <int> & <int> & <int> & <int>\\\\\n",
       "\\hline\n",
       "\t FAM1 & O1 & F1 & M1 & 2 & 2 & 1 & 1 & 1 & 1 & 1 & 1 & 1 & 2\\\\\n",
       "\t FAM2 & O1 & F2 & M2 & 2 & 2 & 1 & 1 & 2 & 1 & 1 & 1 & 1 & 2\\\\\n",
       "\t FAM3 & O1 & F3 & M3 & 1 & 2 & 2 & 2 & 1 & 1 & 1 & 1 & 1 & 1\\\\\n",
       "\t FAM4 & O1 & F4 & M4 & 2 & 2 & 2 & 1 & 2 & 1 & 1 & 1 & 1 & 1\\\\\n",
       "\t FAM5 & O1 & F5 & M5 & 2 & 2 & 1 & 2 & 1 & 1 & 1 & 1 & 1 & 1\\\\\n",
       "\t FAM6 & O1 & F6 & M6 & 1 & 2 & 1 & 1 & 1 & 1 & 1 & 1 & 1 & 2\\\\\n",
       "\\end{tabular}\n"
      ],
      "text/markdown": [
       "\n",
       "A data.frame: 6 × 14\n",
       "\n",
       "| V1 &lt;fct&gt; | V2 &lt;fct&gt; | V3 &lt;fct&gt; | V4 &lt;fct&gt; | V5 &lt;int&gt; | V6 &lt;int&gt; | V7 &lt;int&gt; | V8 &lt;int&gt; | V9 &lt;int&gt; | V10 &lt;int&gt; | V11 &lt;int&gt; | V12 &lt;int&gt; | V13 &lt;int&gt; | V14 &lt;int&gt; |\n",
       "|---|---|---|---|---|---|---|---|---|---|---|---|---|---|\n",
       "| FAM1 | O1 | F1 | M1 | 2 | 2 | 1 | 1 | 1 | 1 | 1 | 1 | 1 | 2 |\n",
       "| FAM2 | O1 | F2 | M2 | 2 | 2 | 1 | 1 | 2 | 1 | 1 | 1 | 1 | 2 |\n",
       "| FAM3 | O1 | F3 | M3 | 1 | 2 | 2 | 2 | 1 | 1 | 1 | 1 | 1 | 1 |\n",
       "| FAM4 | O1 | F4 | M4 | 2 | 2 | 2 | 1 | 2 | 1 | 1 | 1 | 1 | 1 |\n",
       "| FAM5 | O1 | F5 | M5 | 2 | 2 | 1 | 2 | 1 | 1 | 1 | 1 | 1 | 1 |\n",
       "| FAM6 | O1 | F6 | M6 | 1 | 2 | 1 | 1 | 1 | 1 | 1 | 1 | 1 | 2 |\n",
       "\n"
      ],
      "text/plain": [
       "  V1   V2 V3 V4 V5 V6 V7 V8 V9 V10 V11 V12 V13 V14\n",
       "1 FAM1 O1 F1 M1 2  2  1  1  1  1   1   1   1   2  \n",
       "2 FAM2 O1 F2 M2 2  2  1  1  2  1   1   1   1   2  \n",
       "3 FAM3 O1 F3 M3 1  2  2  2  1  1   1   1   1   1  \n",
       "4 FAM4 O1 F4 M4 2  2  2  1  2  1   1   1   1   1  \n",
       "5 FAM5 O1 F5 M5 2  2  1  2  1  1   1   1   1   1  \n",
       "6 FAM6 O1 F6 M6 1  2  1  1  1  1   1   1   1   2  "
      ]
     },
     "metadata": {},
     "output_type": "display_data"
    }
   ],
   "source": [
    "head(cases_controls)"
   ]
  },
  {
   "cell_type": "code",
   "execution_count": null,
   "metadata": {
    "kernel": "R"
   },
   "outputs": [],
   "source": [
    "caco = cases_controls[,-(1:5)]-1 #remove pedigree info from first to 5th column included\n",
    "caco"
   ]
  },
  {
   "cell_type": "code",
   "execution_count": 163,
   "metadata": {
    "kernel": "R",
    "scrolled": true
   },
   "outputs": [
    {
     "data": {
      "text/html": [
       "<table>\n",
       "<caption>A matrix: 200 × 5 of type dbl</caption>\n",
       "<thead>\n",
       "\t<tr><th scope=col>0</th><th scope=col>1</th><th scope=col>2</th><th scope=col>3</th><th scope=col>4</th></tr>\n",
       "</thead>\n",
       "<tbody>\n",
       "\t<tr><td>1</td><td>0</td><td>0</td><td>0</td><td>1</td></tr>\n",
       "\t<tr><td>1</td><td>0</td><td>1</td><td>0</td><td>1</td></tr>\n",
       "\t<tr><td>1</td><td>2</td><td>0</td><td>0</td><td>0</td></tr>\n",
       "\t<tr><td>1</td><td>1</td><td>1</td><td>0</td><td>0</td></tr>\n",
       "\t<tr><td>1</td><td>1</td><td>0</td><td>0</td><td>0</td></tr>\n",
       "\t<tr><td>1</td><td>0</td><td>0</td><td>0</td><td>1</td></tr>\n",
       "\t<tr><td>1</td><td>0</td><td>0</td><td>0</td><td>0</td></tr>\n",
       "\t<tr><td>1</td><td>1</td><td>1</td><td>0</td><td>0</td></tr>\n",
       "\t<tr><td>1</td><td>2</td><td>0</td><td>0</td><td>0</td></tr>\n",
       "\t<tr><td>1</td><td>0</td><td>1</td><td>0</td><td>1</td></tr>\n",
       "\t<tr><td>1</td><td>0</td><td>0</td><td>0</td><td>0</td></tr>\n",
       "\t<tr><td>1</td><td>1</td><td>0</td><td>0</td><td>0</td></tr>\n",
       "\t<tr><td>1</td><td>1</td><td>0</td><td>0</td><td>0</td></tr>\n",
       "\t<tr><td>1</td><td>1</td><td>0</td><td>0</td><td>0</td></tr>\n",
       "\t<tr><td>1</td><td>0</td><td>0</td><td>1</td><td>0</td></tr>\n",
       "\t<tr><td>1</td><td>0</td><td>0</td><td>0</td><td>1</td></tr>\n",
       "\t<tr><td>1</td><td>1</td><td>1</td><td>0</td><td>0</td></tr>\n",
       "\t<tr><td>1</td><td>0</td><td>0</td><td>0</td><td>0</td></tr>\n",
       "\t<tr><td>1</td><td>1</td><td>0</td><td>0</td><td>1</td></tr>\n",
       "\t<tr><td>1</td><td>0</td><td>0</td><td>0</td><td>0</td></tr>\n",
       "\t<tr><td>1</td><td>0</td><td>1</td><td>0</td><td>0</td></tr>\n",
       "\t<tr><td>1</td><td>2</td><td>0</td><td>0</td><td>0</td></tr>\n",
       "\t<tr><td>1</td><td>0</td><td>1</td><td>0</td><td>0</td></tr>\n",
       "\t<tr><td>1</td><td>0</td><td>1</td><td>0</td><td>0</td></tr>\n",
       "\t<tr><td>1</td><td>0</td><td>1</td><td>1</td><td>0</td></tr>\n",
       "\t<tr><td>1</td><td>1</td><td>0</td><td>0</td><td>0</td></tr>\n",
       "\t<tr><td>1</td><td>0</td><td>0</td><td>0</td><td>0</td></tr>\n",
       "\t<tr><td>1</td><td>1</td><td>0</td><td>0</td><td>0</td></tr>\n",
       "\t<tr><td>1</td><td>0</td><td>0</td><td>0</td><td>0</td></tr>\n",
       "\t<tr><td>1</td><td>1</td><td>0</td><td>0</td><td>1</td></tr>\n",
       "\t<tr><td>⋮</td><td>⋮</td><td>⋮</td><td>⋮</td><td>⋮</td></tr>\n",
       "\t<tr><td>0</td><td>1</td><td>0</td><td>2</td><td>0</td></tr>\n",
       "\t<tr><td>0</td><td>0</td><td>0</td><td>0</td><td>0</td></tr>\n",
       "\t<tr><td>0</td><td>0</td><td>0</td><td>0</td><td>0</td></tr>\n",
       "\t<tr><td>0</td><td>0</td><td>0</td><td>1</td><td>0</td></tr>\n",
       "\t<tr><td>0</td><td>0</td><td>0</td><td>0</td><td>1</td></tr>\n",
       "\t<tr><td>0</td><td>0</td><td>0</td><td>0</td><td>0</td></tr>\n",
       "\t<tr><td>0</td><td>1</td><td>0</td><td>1</td><td>0</td></tr>\n",
       "\t<tr><td>0</td><td>1</td><td>0</td><td>0</td><td>0</td></tr>\n",
       "\t<tr><td>0</td><td>0</td><td>0</td><td>0</td><td>0</td></tr>\n",
       "\t<tr><td>0</td><td>0</td><td>1</td><td>0</td><td>0</td></tr>\n",
       "\t<tr><td>0</td><td>0</td><td>0</td><td>0</td><td>0</td></tr>\n",
       "\t<tr><td>0</td><td>0</td><td>0</td><td>1</td><td>0</td></tr>\n",
       "\t<tr><td>0</td><td>1</td><td>0</td><td>0</td><td>0</td></tr>\n",
       "\t<tr><td>0</td><td>0</td><td>0</td><td>0</td><td>1</td></tr>\n",
       "\t<tr><td>0</td><td>1</td><td>1</td><td>0</td><td>0</td></tr>\n",
       "\t<tr><td>0</td><td>0</td><td>0</td><td>0</td><td>0</td></tr>\n",
       "\t<tr><td>0</td><td>0</td><td>2</td><td>1</td><td>0</td></tr>\n",
       "\t<tr><td>0</td><td>0</td><td>0</td><td>0</td><td>0</td></tr>\n",
       "\t<tr><td>0</td><td>1</td><td>0</td><td>0</td><td>0</td></tr>\n",
       "\t<tr><td>0</td><td>0</td><td>1</td><td>0</td><td>0</td></tr>\n",
       "\t<tr><td>0</td><td>0</td><td>0</td><td>0</td><td>0</td></tr>\n",
       "\t<tr><td>0</td><td>2</td><td>0</td><td>1</td><td>0</td></tr>\n",
       "\t<tr><td>0</td><td>1</td><td>0</td><td>1</td><td>0</td></tr>\n",
       "\t<tr><td>0</td><td>1</td><td>0</td><td>0</td><td>0</td></tr>\n",
       "\t<tr><td>0</td><td>0</td><td>0</td><td>0</td><td>0</td></tr>\n",
       "\t<tr><td>0</td><td>0</td><td>0</td><td>0</td><td>0</td></tr>\n",
       "\t<tr><td>0</td><td>1</td><td>1</td><td>0</td><td>0</td></tr>\n",
       "\t<tr><td>0</td><td>0</td><td>1</td><td>0</td><td>1</td></tr>\n",
       "\t<tr><td>0</td><td>1</td><td>0</td><td>1</td><td>0</td></tr>\n",
       "\t<tr><td>0</td><td>0</td><td>1</td><td>0</td><td>0</td></tr>\n",
       "</tbody>\n",
       "</table>\n"
      ],
      "text/latex": [
       "A matrix: 200 × 5 of type dbl\n",
       "\\begin{tabular}{lllll}\n",
       " 0 & 1 & 2 & 3 & 4\\\\\n",
       "\\hline\n",
       "\t 1 & 0 & 0 & 0 & 1\\\\\n",
       "\t 1 & 0 & 1 & 0 & 1\\\\\n",
       "\t 1 & 2 & 0 & 0 & 0\\\\\n",
       "\t 1 & 1 & 1 & 0 & 0\\\\\n",
       "\t 1 & 1 & 0 & 0 & 0\\\\\n",
       "\t 1 & 0 & 0 & 0 & 1\\\\\n",
       "\t 1 & 0 & 0 & 0 & 0\\\\\n",
       "\t 1 & 1 & 1 & 0 & 0\\\\\n",
       "\t 1 & 2 & 0 & 0 & 0\\\\\n",
       "\t 1 & 0 & 1 & 0 & 1\\\\\n",
       "\t 1 & 0 & 0 & 0 & 0\\\\\n",
       "\t 1 & 1 & 0 & 0 & 0\\\\\n",
       "\t 1 & 1 & 0 & 0 & 0\\\\\n",
       "\t 1 & 1 & 0 & 0 & 0\\\\\n",
       "\t 1 & 0 & 0 & 1 & 0\\\\\n",
       "\t 1 & 0 & 0 & 0 & 1\\\\\n",
       "\t 1 & 1 & 1 & 0 & 0\\\\\n",
       "\t 1 & 0 & 0 & 0 & 0\\\\\n",
       "\t 1 & 1 & 0 & 0 & 1\\\\\n",
       "\t 1 & 0 & 0 & 0 & 0\\\\\n",
       "\t 1 & 0 & 1 & 0 & 0\\\\\n",
       "\t 1 & 2 & 0 & 0 & 0\\\\\n",
       "\t 1 & 0 & 1 & 0 & 0\\\\\n",
       "\t 1 & 0 & 1 & 0 & 0\\\\\n",
       "\t 1 & 0 & 1 & 1 & 0\\\\\n",
       "\t 1 & 1 & 0 & 0 & 0\\\\\n",
       "\t 1 & 0 & 0 & 0 & 0\\\\\n",
       "\t 1 & 1 & 0 & 0 & 0\\\\\n",
       "\t 1 & 0 & 0 & 0 & 0\\\\\n",
       "\t 1 & 1 & 0 & 0 & 1\\\\\n",
       "\t ⋮ & ⋮ & ⋮ & ⋮ & ⋮\\\\\n",
       "\t 0 & 1 & 0 & 2 & 0\\\\\n",
       "\t 0 & 0 & 0 & 0 & 0\\\\\n",
       "\t 0 & 0 & 0 & 0 & 0\\\\\n",
       "\t 0 & 0 & 0 & 1 & 0\\\\\n",
       "\t 0 & 0 & 0 & 0 & 1\\\\\n",
       "\t 0 & 0 & 0 & 0 & 0\\\\\n",
       "\t 0 & 1 & 0 & 1 & 0\\\\\n",
       "\t 0 & 1 & 0 & 0 & 0\\\\\n",
       "\t 0 & 0 & 0 & 0 & 0\\\\\n",
       "\t 0 & 0 & 1 & 0 & 0\\\\\n",
       "\t 0 & 0 & 0 & 0 & 0\\\\\n",
       "\t 0 & 0 & 0 & 1 & 0\\\\\n",
       "\t 0 & 1 & 0 & 0 & 0\\\\\n",
       "\t 0 & 0 & 0 & 0 & 1\\\\\n",
       "\t 0 & 1 & 1 & 0 & 0\\\\\n",
       "\t 0 & 0 & 0 & 0 & 0\\\\\n",
       "\t 0 & 0 & 2 & 1 & 0\\\\\n",
       "\t 0 & 0 & 0 & 0 & 0\\\\\n",
       "\t 0 & 1 & 0 & 0 & 0\\\\\n",
       "\t 0 & 0 & 1 & 0 & 0\\\\\n",
       "\t 0 & 0 & 0 & 0 & 0\\\\\n",
       "\t 0 & 2 & 0 & 1 & 0\\\\\n",
       "\t 0 & 1 & 0 & 1 & 0\\\\\n",
       "\t 0 & 1 & 0 & 0 & 0\\\\\n",
       "\t 0 & 0 & 0 & 0 & 0\\\\\n",
       "\t 0 & 0 & 0 & 0 & 0\\\\\n",
       "\t 0 & 1 & 1 & 0 & 0\\\\\n",
       "\t 0 & 0 & 1 & 0 & 1\\\\\n",
       "\t 0 & 1 & 0 & 1 & 0\\\\\n",
       "\t 0 & 0 & 1 & 0 & 0\\\\\n",
       "\\end{tabular}\n"
      ],
      "text/markdown": [
       "\n",
       "A matrix: 200 × 5 of type dbl\n",
       "\n",
       "| 0 | 1 | 2 | 3 | 4 |\n",
       "|---|---|---|---|---|\n",
       "| 1 | 0 | 0 | 0 | 1 |\n",
       "| 1 | 0 | 1 | 0 | 1 |\n",
       "| 1 | 2 | 0 | 0 | 0 |\n",
       "| 1 | 1 | 1 | 0 | 0 |\n",
       "| 1 | 1 | 0 | 0 | 0 |\n",
       "| 1 | 0 | 0 | 0 | 1 |\n",
       "| 1 | 0 | 0 | 0 | 0 |\n",
       "| 1 | 1 | 1 | 0 | 0 |\n",
       "| 1 | 2 | 0 | 0 | 0 |\n",
       "| 1 | 0 | 1 | 0 | 1 |\n",
       "| 1 | 0 | 0 | 0 | 0 |\n",
       "| 1 | 1 | 0 | 0 | 0 |\n",
       "| 1 | 1 | 0 | 0 | 0 |\n",
       "| 1 | 1 | 0 | 0 | 0 |\n",
       "| 1 | 0 | 0 | 1 | 0 |\n",
       "| 1 | 0 | 0 | 0 | 1 |\n",
       "| 1 | 1 | 1 | 0 | 0 |\n",
       "| 1 | 0 | 0 | 0 | 0 |\n",
       "| 1 | 1 | 0 | 0 | 1 |\n",
       "| 1 | 0 | 0 | 0 | 0 |\n",
       "| 1 | 0 | 1 | 0 | 0 |\n",
       "| 1 | 2 | 0 | 0 | 0 |\n",
       "| 1 | 0 | 1 | 0 | 0 |\n",
       "| 1 | 0 | 1 | 0 | 0 |\n",
       "| 1 | 0 | 1 | 1 | 0 |\n",
       "| 1 | 1 | 0 | 0 | 0 |\n",
       "| 1 | 0 | 0 | 0 | 0 |\n",
       "| 1 | 1 | 0 | 0 | 0 |\n",
       "| 1 | 0 | 0 | 0 | 0 |\n",
       "| 1 | 1 | 0 | 0 | 1 |\n",
       "| ⋮ | ⋮ | ⋮ | ⋮ | ⋮ |\n",
       "| 0 | 1 | 0 | 2 | 0 |\n",
       "| 0 | 0 | 0 | 0 | 0 |\n",
       "| 0 | 0 | 0 | 0 | 0 |\n",
       "| 0 | 0 | 0 | 1 | 0 |\n",
       "| 0 | 0 | 0 | 0 | 1 |\n",
       "| 0 | 0 | 0 | 0 | 0 |\n",
       "| 0 | 1 | 0 | 1 | 0 |\n",
       "| 0 | 1 | 0 | 0 | 0 |\n",
       "| 0 | 0 | 0 | 0 | 0 |\n",
       "| 0 | 0 | 1 | 0 | 0 |\n",
       "| 0 | 0 | 0 | 0 | 0 |\n",
       "| 0 | 0 | 0 | 1 | 0 |\n",
       "| 0 | 1 | 0 | 0 | 0 |\n",
       "| 0 | 0 | 0 | 0 | 1 |\n",
       "| 0 | 1 | 1 | 0 | 0 |\n",
       "| 0 | 0 | 0 | 0 | 0 |\n",
       "| 0 | 0 | 2 | 1 | 0 |\n",
       "| 0 | 0 | 0 | 0 | 0 |\n",
       "| 0 | 1 | 0 | 0 | 0 |\n",
       "| 0 | 0 | 1 | 0 | 0 |\n",
       "| 0 | 0 | 0 | 0 | 0 |\n",
       "| 0 | 2 | 0 | 1 | 0 |\n",
       "| 0 | 1 | 0 | 1 | 0 |\n",
       "| 0 | 1 | 0 | 0 | 0 |\n",
       "| 0 | 0 | 0 | 0 | 0 |\n",
       "| 0 | 0 | 0 | 0 | 0 |\n",
       "| 0 | 1 | 1 | 0 | 0 |\n",
       "| 0 | 0 | 1 | 0 | 1 |\n",
       "| 0 | 1 | 0 | 1 | 0 |\n",
       "| 0 | 0 | 1 | 0 | 0 |\n",
       "\n"
      ],
      "text/plain": [
       "      0 1 2 3 4\n",
       " [1,] 1 0 0 0 1\n",
       " [2,] 1 0 1 0 1\n",
       " [3,] 1 2 0 0 0\n",
       " [4,] 1 1 1 0 0\n",
       " [5,] 1 1 0 0 0\n",
       " [6,] 1 0 0 0 1\n",
       " [7,] 1 0 0 0 0\n",
       " [8,] 1 1 1 0 0\n",
       " [9,] 1 2 0 0 0\n",
       "[10,] 1 0 1 0 1\n",
       "[11,] 1 0 0 0 0\n",
       "[12,] 1 1 0 0 0\n",
       "[13,] 1 1 0 0 0\n",
       "[14,] 1 1 0 0 0\n",
       "[15,] 1 0 0 1 0\n",
       "[16,] 1 0 0 0 1\n",
       "[17,] 1 1 1 0 0\n",
       "[18,] 1 0 0 0 0\n",
       "[19,] 1 1 0 0 1\n",
       "[20,] 1 0 0 0 0\n",
       "[21,] 1 0 1 0 0\n",
       "[22,] 1 2 0 0 0\n",
       "[23,] 1 0 1 0 0\n",
       "[24,] 1 0 1 0 0\n",
       "[25,] 1 0 1 1 0\n",
       "[26,] 1 1 0 0 0\n",
       "[27,] 1 0 0 0 0\n",
       "[28,] 1 1 0 0 0\n",
       "[29,] 1 0 0 0 0\n",
       "[30,] 1 1 0 0 1\n",
       "[31,] ⋮ ⋮ ⋮ ⋮ ⋮\n",
       "[32,] 0 1 0 2 0\n",
       "[33,] 0 0 0 0 0\n",
       "[34,] 0 0 0 0 0\n",
       "[35,] 0 0 0 1 0\n",
       "[36,] 0 0 0 0 1\n",
       "[37,] 0 0 0 0 0\n",
       "[38,] 0 1 0 1 0\n",
       "[39,] 0 1 0 0 0\n",
       "[40,] 0 0 0 0 0\n",
       "[41,] 0 0 1 0 0\n",
       "[42,] 0 0 0 0 0\n",
       "[43,] 0 0 0 1 0\n",
       "[44,] 0 1 0 0 0\n",
       "[45,] 0 0 0 0 1\n",
       "[46,] 0 1 1 0 0\n",
       "[47,] 0 0 0 0 0\n",
       "[48,] 0 0 2 1 0\n",
       "[49,] 0 0 0 0 0\n",
       "[50,] 0 1 0 0 0\n",
       "[51,] 0 0 1 0 0\n",
       "[52,] 0 0 0 0 0\n",
       "[53,] 0 2 0 1 0\n",
       "[54,] 0 1 0 1 0\n",
       "[55,] 0 1 0 0 0\n",
       "[56,] 0 0 0 0 0\n",
       "[57,] 0 0 0 0 0\n",
       "[58,] 0 1 1 0 0\n",
       "[59,] 0 0 1 0 1\n",
       "[60,] 0 1 0 1 0\n",
       "[61,] 0 0 1 0 0"
      ]
     },
     "metadata": {},
     "output_type": "display_data"
    }
   ],
   "source": [
    "caco_counts = sapply(split.default(caco, 1:(length(caco)) %/% 2), rowSums) #sum allele count excluding column1 that corresponds to disease status\n",
    "caco_counts"
   ]
  },
  {
   "cell_type": "code",
   "execution_count": 180,
   "metadata": {
    "kernel": "R"
   },
   "outputs": [
    {
     "data": {
      "text/plain": [
       "        Genotype\n",
       "Affected  0  1  2\n",
       "       0 64 33  3\n",
       "       1 62 34  4"
      ]
     },
     "metadata": {},
     "output_type": "display_data"
    }
   ],
   "source": [
    "#colnames(caco_counts) <- c(\"Affection\",\"SNP1\",\"SNP2\",\"SPN3\",\"SNP4\")\n",
    "caco1 <- as.data.frame(caco_counts)\n",
    "y = table(as.matrix(caco1)[,1], as.matrix(caco1)[,2], \n",
    "dnn = c(\"Affected\", \"Genotype\"))\n",
    "y"
   ]
  },
  {
   "cell_type": "markdown",
   "metadata": {
    "kernel": "R"
   },
   "source": [
    "Calculate OR based on this data"
   ]
  },
  {
   "cell_type": "code",
   "execution_count": 184,
   "metadata": {
    "kernel": "R"
   },
   "outputs": [
    {
     "data": {
      "text/html": [
       "1.08960573476703"
      ],
      "text/latex": [
       "1.08960573476703"
      ],
      "text/markdown": [
       "1.08960573476703"
      ],
      "text/plain": [
       "[1] 1.089606"
      ]
     },
     "metadata": {},
     "output_type": "display_data"
    }
   ],
   "source": [
    "odd_ratio = ((y[2,2] + y[2,3])/y[2,1])/((y[1,2] + y[1,3])/y[1,1])\n",
    "odd_ratio"
   ]
  },
  {
   "cell_type": "code",
   "execution_count": 25,
   "metadata": {
    "kernel": "R",
    "scrolled": true
   },
   "outputs": [
    {
     "data": {
      "text/html": [
       "<table>\n",
       "<caption>A matrix: 4 × 100 of type dbl</caption>\n",
       "<tbody>\n",
       "\t<tr><th scope=row>0</th><td>0</td><td>0</td><td>2</td><td>1</td><td>1</td><td>0</td><td>0</td><td>1</td><td>2</td><td>0</td><td>⋯</td><td>1</td><td>0</td><td>1</td><td>0</td><td>0</td><td>0</td><td>1</td><td>1</td><td>0</td><td>1</td></tr>\n",
       "\t<tr><th scope=row>1</th><td>0</td><td>1</td><td>0</td><td>1</td><td>0</td><td>0</td><td>0</td><td>1</td><td>0</td><td>1</td><td>⋯</td><td>0</td><td>0</td><td>0</td><td>0</td><td>0</td><td>0</td><td>0</td><td>0</td><td>0</td><td>1</td></tr>\n",
       "\t<tr><th scope=row>2</th><td>0</td><td>0</td><td>0</td><td>0</td><td>0</td><td>0</td><td>0</td><td>0</td><td>0</td><td>0</td><td>⋯</td><td>1</td><td>0</td><td>0</td><td>0</td><td>0</td><td>0</td><td>1</td><td>0</td><td>0</td><td>0</td></tr>\n",
       "\t<tr><th scope=row>3</th><td>1</td><td>1</td><td>0</td><td>0</td><td>0</td><td>1</td><td>0</td><td>0</td><td>0</td><td>1</td><td>⋯</td><td>1</td><td>0</td><td>0</td><td>1</td><td>1</td><td>0</td><td>0</td><td>0</td><td>0</td><td>0</td></tr>\n",
       "</tbody>\n",
       "</table>\n"
      ],
      "text/latex": [
       "A matrix: 4 × 100 of type dbl\n",
       "\\begin{tabular}{r|llllllllllllllllllllllllllllllllllllllllllllllllllllllllllllllllllllllllllllllllllllllllllllllllllll}\n",
       "\t0 & 0 & 0 & 2 & 1 & 1 & 0 & 0 & 1 & 2 & 0 & 0 & 1 & 1 & 1 & 0 & 0 & 1 & 0 & 1 & 0 & 0 & 2 & 0 & 0 & 0 & 1 & 0 & 1 & 0 & 1 & 0 & 1 & 0 & 0 & 0 & 0 & 1 & 0 & 0 & 1 & 1 & 0 & 0 & 0 & 0 & 0 & 0 & 0 & 1 & 0 & 1 & 0 & 0 & 0 & 0 & 0 & 0 & 0 & 1 & 0 & 1 & 0 & 0 & 1 & 0 & 0 & 0 & 0 & 1 & 0 & 0 & 1 & 1 & 1 & 0 & 0 & 0 & 0 & 2 & 1 & 1 & 0 & 0 & 1 & 1 & 1 & 0 & 0 & 0 & 0 & 1 & 0 & 1 & 0 & 0 & 0 & 1 & 1 & 0 & 1\\\\\n",
       "\t1 & 0 & 1 & 0 & 1 & 0 & 0 & 0 & 1 & 0 & 1 & 0 & 0 & 0 & 0 & 0 & 0 & 1 & 0 & 0 & 0 & 1 & 0 & 1 & 1 & 1 & 0 & 0 & 0 & 0 & 0 & 0 & 1 & 1 & 0 & 1 & 0 & 0 & 0 & 0 & 0 & 1 & 0 & 0 & 0 & 0 & 0 & 0 & 0 & 0 & 0 & 0 & 0 & 0 & 0 & 0 & 0 & 0 & 0 & 0 & 0 & 0 & 0 & 0 & 0 & 0 & 0 & 0 & 0 & 0 & 0 & 0 & 0 & 0 & 0 & 2 & 0 & 1 & 0 & 0 & 0 & 1 & 0 & 0 & 1 & 0 & 0 & 1 & 0 & 0 & 0 & 0 & 0 & 0 & 0 & 0 & 0 & 0 & 0 & 0 & 1\\\\\n",
       "\t2 & 0 & 0 & 0 & 0 & 0 & 0 & 0 & 0 & 0 & 0 & 0 & 0 & 0 & 0 & 1 & 0 & 0 & 0 & 0 & 0 & 0 & 0 & 0 & 0 & 1 & 0 & 0 & 0 & 0 & 0 & 0 & 0 & 0 & 0 & 1 & 0 & 0 & 0 & 1 & 0 & 0 & 0 & 0 & 0 & 0 & 0 & 0 & 0 & 0 & 0 & 0 & 0 & 0 & 0 & 0 & 0 & 0 & 0 & 0 & 0 & 0 & 0 & 0 & 0 & 1 & 0 & 0 & 0 & 0 & 0 & 1 & 0 & 0 & 0 & 0 & 0 & 0 & 0 & 0 & 1 & 0 & 1 & 0 & 0 & 0 & 1 & 0 & 0 & 0 & 0 & 1 & 0 & 0 & 0 & 0 & 0 & 1 & 0 & 0 & 0\\\\\n",
       "\t3 & 1 & 1 & 0 & 0 & 0 & 1 & 0 & 0 & 0 & 1 & 0 & 0 & 0 & 0 & 0 & 1 & 0 & 0 & 1 & 0 & 0 & 0 & 0 & 0 & 0 & 0 & 0 & 0 & 0 & 1 & 0 & 0 & 0 & 1 & 0 & 0 & 0 & 1 & 0 & 0 & 0 & 0 & 0 & 0 & 1 & 0 & 0 & 0 & 1 & 0 & 0 & 0 & 1 & 1 & 0 & 1 & 0 & 0 & 0 & 0 & 0 & 0 & 0 & 0 & 0 & 0 & 0 & 0 & 0 & 1 & 2 & 0 & 1 & 0 & 0 & 0 & 1 & 0 & 0 & 0 & 0 & 0 & 0 & 0 & 0 & 0 & 0 & 1 & 0 & 1 & 1 & 0 & 0 & 1 & 1 & 0 & 0 & 0 & 0 & 0\\\\\n",
       "\\end{tabular}\n"
      ],
      "text/markdown": [
       "\n",
       "A matrix: 4 × 100 of type dbl\n",
       "\n",
       "| 0 | 0 | 0 | 2 | 1 | 1 | 0 | 0 | 1 | 2 | 0 | ⋯ | 1 | 0 | 1 | 0 | 0 | 0 | 1 | 1 | 0 | 1 |\n",
       "| 1 | 0 | 1 | 0 | 1 | 0 | 0 | 0 | 1 | 0 | 1 | ⋯ | 0 | 0 | 0 | 0 | 0 | 0 | 0 | 0 | 0 | 1 |\n",
       "| 2 | 0 | 0 | 0 | 0 | 0 | 0 | 0 | 0 | 0 | 0 | ⋯ | 1 | 0 | 0 | 0 | 0 | 0 | 1 | 0 | 0 | 0 |\n",
       "| 3 | 1 | 1 | 0 | 0 | 0 | 1 | 0 | 0 | 0 | 1 | ⋯ | 1 | 0 | 0 | 1 | 1 | 0 | 0 | 0 | 0 | 0 |\n",
       "\n"
      ],
      "text/plain": [
       "  [,1] [,2] [,3] [,4] [,5] [,6] [,7] [,8] [,9] [,10] [,11] [,12] [,13] [,14]\n",
       "0 0    0    2    1    1    0    0    1    2    0     ⋯     1     0     1    \n",
       "1 0    1    0    1    0    0    0    1    0    1     ⋯     0     0     0    \n",
       "2 0    0    0    0    0    0    0    0    0    0     ⋯     1     0     0    \n",
       "3 1    1    0    0    0    1    0    0    0    1     ⋯     1     0     0    \n",
       "  [,15] [,16] [,17] [,18] [,19] [,20] [,21]\n",
       "0 0     0     0     1     1     0     1    \n",
       "1 0     0     0     0     0     0     1    \n",
       "2 0     0     0     1     0     0     0    \n",
       "3 1     1     0     0     0     0     0    "
      ]
     },
     "metadata": {},
     "output_type": "display_data"
    }
   ],
   "source": [
    "cases_geno = cases100[,-(1:6)] -1\n",
    "cases_geno2 = sapply(split.default(cases_geno, 0:(length(cases_geno)-1) %/% 2), rowSums) #sum the allele counts for every marker\n",
    "cases_geno3 = t(cases_geno2) #transpose the matrix to have snp-by-individual\n",
    "cases_geno3"
   ]
  },
  {
   "cell_type": "markdown",
   "metadata": {
    "kernel": "R"
   },
   "source": [
    "Select only the founders from the sample"
   ]
  },
  {
   "cell_type": "code",
   "execution_count": 18,
   "metadata": {
    "kernel": "R",
    "scrolled": true
   },
   "outputs": [
    {
     "data": {
      "text/html": [
       "<table>\n",
       "<caption>A data.frame: 400 × 14</caption>\n",
       "<thead>\n",
       "\t<tr><th></th><th scope=col>V1</th><th scope=col>V2</th><th scope=col>V3</th><th scope=col>V4</th><th scope=col>V5</th><th scope=col>V6</th><th scope=col>V7</th><th scope=col>V8</th><th scope=col>V9</th><th scope=col>V10</th><th scope=col>V11</th><th scope=col>V12</th><th scope=col>V13</th><th scope=col>V14</th></tr>\n",
       "\t<tr><th></th><th scope=col>&lt;fct&gt;</th><th scope=col>&lt;fct&gt;</th><th scope=col>&lt;fct&gt;</th><th scope=col>&lt;fct&gt;</th><th scope=col>&lt;int&gt;</th><th scope=col>&lt;int&gt;</th><th scope=col>&lt;int&gt;</th><th scope=col>&lt;int&gt;</th><th scope=col>&lt;int&gt;</th><th scope=col>&lt;int&gt;</th><th scope=col>&lt;int&gt;</th><th scope=col>&lt;int&gt;</th><th scope=col>&lt;int&gt;</th><th scope=col>&lt;int&gt;</th></tr>\n",
       "</thead>\n",
       "<tbody>\n",
       "\t<tr><th scope=row>1</th><td>FAM1 </td><td>M1 </td><td>0</td><td>0</td><td>2</td><td>1</td><td>1</td><td>1</td><td>1</td><td>1</td><td>1</td><td>1</td><td>2</td><td>2</td></tr>\n",
       "\t<tr><th scope=row>2</th><td>FAM1 </td><td>F1 </td><td>0</td><td>0</td><td>1</td><td>1</td><td>1</td><td>1</td><td>1</td><td>1</td><td>1</td><td>1</td><td>1</td><td>1</td></tr>\n",
       "\t<tr><th scope=row>5</th><td>FAM2 </td><td>M2 </td><td>0</td><td>0</td><td>2</td><td>1</td><td>1</td><td>1</td><td>1</td><td>1</td><td>1</td><td>1</td><td>2</td><td>2</td></tr>\n",
       "\t<tr><th scope=row>6</th><td>FAM2 </td><td>F2 </td><td>0</td><td>0</td><td>1</td><td>1</td><td>1</td><td>1</td><td>1</td><td>2</td><td>1</td><td>1</td><td>1</td><td>1</td></tr>\n",
       "\t<tr><th scope=row>9</th><td>FAM3 </td><td>M3 </td><td>0</td><td>0</td><td>2</td><td>1</td><td>1</td><td>2</td><td>1</td><td>1</td><td>1</td><td>1</td><td>1</td><td>1</td></tr>\n",
       "\t<tr><th scope=row>10</th><td>FAM3 </td><td>F3 </td><td>0</td><td>0</td><td>1</td><td>1</td><td>2</td><td>1</td><td>1</td><td>1</td><td>1</td><td>1</td><td>1</td><td>1</td></tr>\n",
       "\t<tr><th scope=row>13</th><td>FAM4 </td><td>M4 </td><td>0</td><td>0</td><td>2</td><td>1</td><td>1</td><td>1</td><td>1</td><td>1</td><td>1</td><td>1</td><td>1</td><td>1</td></tr>\n",
       "\t<tr><th scope=row>14</th><td>FAM4 </td><td>F4 </td><td>0</td><td>0</td><td>1</td><td>1</td><td>2</td><td>1</td><td>2</td><td>1</td><td>1</td><td>1</td><td>1</td><td>1</td></tr>\n",
       "\t<tr><th scope=row>17</th><td>FAM5 </td><td>M5 </td><td>0</td><td>0</td><td>2</td><td>1</td><td>2</td><td>1</td><td>1</td><td>1</td><td>1</td><td>1</td><td>1</td><td>1</td></tr>\n",
       "\t<tr><th scope=row>18</th><td>FAM5 </td><td>F5 </td><td>0</td><td>0</td><td>1</td><td>1</td><td>1</td><td>1</td><td>1</td><td>1</td><td>1</td><td>1</td><td>1</td><td>1</td></tr>\n",
       "\t<tr><th scope=row>21</th><td>FAM6 </td><td>M6 </td><td>0</td><td>0</td><td>2</td><td>1</td><td>1</td><td>1</td><td>1</td><td>1</td><td>1</td><td>1</td><td>1</td><td>2</td></tr>\n",
       "\t<tr><th scope=row>22</th><td>FAM6 </td><td>F6 </td><td>0</td><td>0</td><td>1</td><td>1</td><td>1</td><td>1</td><td>1</td><td>1</td><td>1</td><td>1</td><td>1</td><td>1</td></tr>\n",
       "\t<tr><th scope=row>25</th><td>FAM7 </td><td>M7 </td><td>0</td><td>0</td><td>2</td><td>1</td><td>1</td><td>1</td><td>1</td><td>1</td><td>1</td><td>1</td><td>1</td><td>1</td></tr>\n",
       "\t<tr><th scope=row>26</th><td>FAM7 </td><td>F7 </td><td>0</td><td>0</td><td>1</td><td>1</td><td>1</td><td>1</td><td>1</td><td>1</td><td>1</td><td>1</td><td>1</td><td>1</td></tr>\n",
       "\t<tr><th scope=row>29</th><td>FAM8 </td><td>M8 </td><td>0</td><td>0</td><td>2</td><td>1</td><td>2</td><td>2</td><td>2</td><td>1</td><td>1</td><td>1</td><td>1</td><td>1</td></tr>\n",
       "\t<tr><th scope=row>30</th><td>FAM8 </td><td>F8 </td><td>0</td><td>0</td><td>1</td><td>1</td><td>1</td><td>1</td><td>1</td><td>1</td><td>1</td><td>1</td><td>1</td><td>1</td></tr>\n",
       "\t<tr><th scope=row>33</th><td>FAM9 </td><td>M9 </td><td>0</td><td>0</td><td>2</td><td>1</td><td>1</td><td>2</td><td>1</td><td>1</td><td>1</td><td>1</td><td>1</td><td>1</td></tr>\n",
       "\t<tr><th scope=row>34</th><td>FAM9 </td><td>F9 </td><td>0</td><td>0</td><td>1</td><td>1</td><td>2</td><td>1</td><td>1</td><td>2</td><td>1</td><td>1</td><td>1</td><td>1</td></tr>\n",
       "\t<tr><th scope=row>37</th><td>FAM10</td><td>M10</td><td>0</td><td>0</td><td>2</td><td>1</td><td>1</td><td>1</td><td>1</td><td>1</td><td>1</td><td>1</td><td>1</td><td>2</td></tr>\n",
       "\t<tr><th scope=row>38</th><td>FAM10</td><td>F10</td><td>0</td><td>0</td><td>1</td><td>1</td><td>1</td><td>1</td><td>2</td><td>1</td><td>1</td><td>1</td><td>1</td><td>1</td></tr>\n",
       "\t<tr><th scope=row>41</th><td>FAM11</td><td>M11</td><td>0</td><td>0</td><td>2</td><td>1</td><td>1</td><td>1</td><td>1</td><td>2</td><td>1</td><td>1</td><td>1</td><td>1</td></tr>\n",
       "\t<tr><th scope=row>42</th><td>FAM11</td><td>F11</td><td>0</td><td>0</td><td>1</td><td>1</td><td>1</td><td>1</td><td>1</td><td>1</td><td>1</td><td>1</td><td>1</td><td>1</td></tr>\n",
       "\t<tr><th scope=row>45</th><td>FAM12</td><td>M12</td><td>0</td><td>0</td><td>2</td><td>1</td><td>2</td><td>1</td><td>1</td><td>1</td><td>1</td><td>1</td><td>1</td><td>1</td></tr>\n",
       "\t<tr><th scope=row>46</th><td>FAM12</td><td>F12</td><td>0</td><td>0</td><td>1</td><td>1</td><td>1</td><td>1</td><td>1</td><td>1</td><td>1</td><td>1</td><td>1</td><td>1</td></tr>\n",
       "\t<tr><th scope=row>49</th><td>FAM13</td><td>M13</td><td>0</td><td>0</td><td>2</td><td>1</td><td>1</td><td>1</td><td>1</td><td>1</td><td>1</td><td>1</td><td>1</td><td>1</td></tr>\n",
       "\t<tr><th scope=row>50</th><td>FAM13</td><td>F13</td><td>0</td><td>0</td><td>1</td><td>1</td><td>1</td><td>2</td><td>1</td><td>1</td><td>1</td><td>1</td><td>1</td><td>1</td></tr>\n",
       "\t<tr><th scope=row>53</th><td>FAM14</td><td>M14</td><td>0</td><td>0</td><td>2</td><td>1</td><td>1</td><td>2</td><td>1</td><td>1</td><td>1</td><td>1</td><td>1</td><td>1</td></tr>\n",
       "\t<tr><th scope=row>54</th><td>FAM14</td><td>F14</td><td>0</td><td>0</td><td>1</td><td>1</td><td>1</td><td>1</td><td>1</td><td>1</td><td>1</td><td>1</td><td>1</td><td>1</td></tr>\n",
       "\t<tr><th scope=row>57</th><td>FAM15</td><td>M15</td><td>0</td><td>0</td><td>2</td><td>1</td><td>2</td><td>1</td><td>1</td><td>1</td><td>1</td><td>2</td><td>1</td><td>1</td></tr>\n",
       "\t<tr><th scope=row>58</th><td>FAM15</td><td>F15</td><td>0</td><td>0</td><td>1</td><td>1</td><td>1</td><td>1</td><td>1</td><td>1</td><td>1</td><td>1</td><td>1</td><td>1</td></tr>\n",
       "\t<tr><th scope=row>⋮</th><td>⋮</td><td>⋮</td><td>⋮</td><td>⋮</td><td>⋮</td><td>⋮</td><td>⋮</td><td>⋮</td><td>⋮</td><td>⋮</td><td>⋮</td><td>⋮</td><td>⋮</td><td>⋮</td></tr>\n",
       "\t<tr><th scope=row>869</th><td>FAM186</td><td>M186</td><td>0</td><td>0</td><td>2</td><td>1</td><td>2</td><td>1</td><td>1</td><td>1</td><td>1</td><td>1</td><td>1</td><td>1</td></tr>\n",
       "\t<tr><th scope=row>870</th><td>FAM186</td><td>F186</td><td>0</td><td>0</td><td>1</td><td>1</td><td>1</td><td>2</td><td>1</td><td>1</td><td>2</td><td>1</td><td>1</td><td>1</td></tr>\n",
       "\t<tr><th scope=row>876</th><td>FAM187</td><td>M187</td><td>0</td><td>0</td><td>2</td><td>1</td><td>1</td><td>1</td><td>1</td><td>1</td><td>2</td><td>1</td><td>1</td><td>1</td></tr>\n",
       "\t<tr><th scope=row>877</th><td>FAM187</td><td>F187</td><td>0</td><td>0</td><td>1</td><td>1</td><td>1</td><td>2</td><td>1</td><td>1</td><td>2</td><td>1</td><td>1</td><td>1</td></tr>\n",
       "\t<tr><th scope=row>883</th><td>FAM188</td><td>M188</td><td>0</td><td>0</td><td>2</td><td>1</td><td>1</td><td>2</td><td>1</td><td>1</td><td>1</td><td>1</td><td>1</td><td>1</td></tr>\n",
       "\t<tr><th scope=row>884</th><td>FAM188</td><td>F188</td><td>0</td><td>0</td><td>1</td><td>1</td><td>1</td><td>1</td><td>2</td><td>1</td><td>1</td><td>1</td><td>1</td><td>1</td></tr>\n",
       "\t<tr><th scope=row>890</th><td>FAM189</td><td>M189</td><td>0</td><td>0</td><td>2</td><td>1</td><td>1</td><td>1</td><td>1</td><td>1</td><td>2</td><td>1</td><td>1</td><td>1</td></tr>\n",
       "\t<tr><th scope=row>891</th><td>FAM189</td><td>F189</td><td>0</td><td>0</td><td>1</td><td>1</td><td>1</td><td>2</td><td>1</td><td>1</td><td>1</td><td>1</td><td>1</td><td>1</td></tr>\n",
       "\t<tr><th scope=row>897</th><td>FAM190</td><td>M190</td><td>0</td><td>0</td><td>2</td><td>1</td><td>1</td><td>1</td><td>1</td><td>1</td><td>1</td><td>1</td><td>1</td><td>1</td></tr>\n",
       "\t<tr><th scope=row>898</th><td>FAM190</td><td>F190</td><td>0</td><td>0</td><td>1</td><td>1</td><td>2</td><td>2</td><td>1</td><td>1</td><td>1</td><td>1</td><td>1</td><td>1</td></tr>\n",
       "\t<tr><th scope=row>904</th><td>FAM191</td><td>M191</td><td>0</td><td>0</td><td>2</td><td>1</td><td>1</td><td>1</td><td>1</td><td>1</td><td>1</td><td>1</td><td>1</td><td>1</td></tr>\n",
       "\t<tr><th scope=row>905</th><td>FAM191</td><td>F191</td><td>0</td><td>0</td><td>1</td><td>1</td><td>2</td><td>1</td><td>1</td><td>1</td><td>1</td><td>1</td><td>1</td><td>1</td></tr>\n",
       "\t<tr><th scope=row>911</th><td>FAM192</td><td>M192</td><td>0</td><td>0</td><td>2</td><td>1</td><td>1</td><td>1</td><td>1</td><td>1</td><td>1</td><td>1</td><td>1</td><td>1</td></tr>\n",
       "\t<tr><th scope=row>912</th><td>FAM192</td><td>F192</td><td>0</td><td>0</td><td>1</td><td>1</td><td>2</td><td>2</td><td>2</td><td>1</td><td>1</td><td>1</td><td>1</td><td>1</td></tr>\n",
       "\t<tr><th scope=row>918</th><td>FAM193</td><td>M193</td><td>0</td><td>0</td><td>2</td><td>1</td><td>2</td><td>1</td><td>1</td><td>2</td><td>1</td><td>1</td><td>1</td><td>1</td></tr>\n",
       "\t<tr><th scope=row>919</th><td>FAM193</td><td>F193</td><td>0</td><td>0</td><td>1</td><td>1</td><td>1</td><td>2</td><td>1</td><td>1</td><td>1</td><td>1</td><td>1</td><td>1</td></tr>\n",
       "\t<tr><th scope=row>925</th><td>FAM194</td><td>M194</td><td>0</td><td>0</td><td>2</td><td>1</td><td>1</td><td>1</td><td>1</td><td>1</td><td>1</td><td>2</td><td>1</td><td>1</td></tr>\n",
       "\t<tr><th scope=row>926</th><td>FAM194</td><td>F194</td><td>0</td><td>0</td><td>1</td><td>1</td><td>1</td><td>2</td><td>2</td><td>1</td><td>1</td><td>1</td><td>1</td><td>1</td></tr>\n",
       "\t<tr><th scope=row>932</th><td>FAM195</td><td>M195</td><td>0</td><td>0</td><td>2</td><td>1</td><td>1</td><td>1</td><td>1</td><td>1</td><td>1</td><td>1</td><td>1</td><td>1</td></tr>\n",
       "\t<tr><th scope=row>933</th><td>FAM195</td><td>F195</td><td>0</td><td>0</td><td>1</td><td>1</td><td>1</td><td>1</td><td>1</td><td>1</td><td>1</td><td>1</td><td>1</td><td>1</td></tr>\n",
       "\t<tr><th scope=row>939</th><td>FAM196</td><td>M196</td><td>0</td><td>0</td><td>2</td><td>1</td><td>1</td><td>1</td><td>1</td><td>1</td><td>1</td><td>1</td><td>1</td><td>1</td></tr>\n",
       "\t<tr><th scope=row>940</th><td>FAM196</td><td>F196</td><td>0</td><td>0</td><td>1</td><td>1</td><td>1</td><td>2</td><td>1</td><td>1</td><td>1</td><td>1</td><td>1</td><td>1</td></tr>\n",
       "\t<tr><th scope=row>947</th><td>FAM197</td><td>M197</td><td>0</td><td>0</td><td>2</td><td>1</td><td>2</td><td>2</td><td>1</td><td>2</td><td>1</td><td>1</td><td>2</td><td>1</td></tr>\n",
       "\t<tr><th scope=row>948</th><td>FAM197</td><td>F197</td><td>0</td><td>0</td><td>1</td><td>1</td><td>1</td><td>1</td><td>1</td><td>1</td><td>1</td><td>1</td><td>1</td><td>1</td></tr>\n",
       "\t<tr><th scope=row>955</th><td>FAM198</td><td>M198</td><td>0</td><td>0</td><td>2</td><td>1</td><td>1</td><td>1</td><td>1</td><td>1</td><td>1</td><td>1</td><td>1</td><td>1</td></tr>\n",
       "\t<tr><th scope=row>956</th><td>FAM198</td><td>F198</td><td>0</td><td>0</td><td>1</td><td>1</td><td>1</td><td>2</td><td>1</td><td>1</td><td>1</td><td>1</td><td>1</td><td>1</td></tr>\n",
       "\t<tr><th scope=row>963</th><td>FAM199</td><td>M199</td><td>0</td><td>0</td><td>2</td><td>1</td><td>2</td><td>1</td><td>2</td><td>1</td><td>1</td><td>1</td><td>1</td><td>1</td></tr>\n",
       "\t<tr><th scope=row>964</th><td>FAM199</td><td>F199</td><td>0</td><td>0</td><td>1</td><td>1</td><td>1</td><td>1</td><td>1</td><td>1</td><td>1</td><td>1</td><td>1</td><td>1</td></tr>\n",
       "\t<tr><th scope=row>971</th><td>FAM200</td><td>M200</td><td>0</td><td>0</td><td>2</td><td>1</td><td>1</td><td>2</td><td>1</td><td>1</td><td>1</td><td>1</td><td>1</td><td>1</td></tr>\n",
       "\t<tr><th scope=row>972</th><td>FAM200</td><td>F200</td><td>0</td><td>0</td><td>1</td><td>1</td><td>1</td><td>1</td><td>1</td><td>1</td><td>1</td><td>1</td><td>2</td><td>1</td></tr>\n",
       "</tbody>\n",
       "</table>\n"
      ],
      "text/latex": [
       "A data.frame: 400 × 14\n",
       "\\begin{tabular}{r|llllllllllllll}\n",
       "  & V1 & V2 & V3 & V4 & V5 & V6 & V7 & V8 & V9 & V10 & V11 & V12 & V13 & V14\\\\\n",
       "  & <fct> & <fct> & <fct> & <fct> & <int> & <int> & <int> & <int> & <int> & <int> & <int> & <int> & <int> & <int>\\\\\n",
       "\\hline\n",
       "\t1 & FAM1  & M1  & 0 & 0 & 2 & 1 & 1 & 1 & 1 & 1 & 1 & 1 & 2 & 2\\\\\n",
       "\t2 & FAM1  & F1  & 0 & 0 & 1 & 1 & 1 & 1 & 1 & 1 & 1 & 1 & 1 & 1\\\\\n",
       "\t5 & FAM2  & M2  & 0 & 0 & 2 & 1 & 1 & 1 & 1 & 1 & 1 & 1 & 2 & 2\\\\\n",
       "\t6 & FAM2  & F2  & 0 & 0 & 1 & 1 & 1 & 1 & 1 & 2 & 1 & 1 & 1 & 1\\\\\n",
       "\t9 & FAM3  & M3  & 0 & 0 & 2 & 1 & 1 & 2 & 1 & 1 & 1 & 1 & 1 & 1\\\\\n",
       "\t10 & FAM3  & F3  & 0 & 0 & 1 & 1 & 2 & 1 & 1 & 1 & 1 & 1 & 1 & 1\\\\\n",
       "\t13 & FAM4  & M4  & 0 & 0 & 2 & 1 & 1 & 1 & 1 & 1 & 1 & 1 & 1 & 1\\\\\n",
       "\t14 & FAM4  & F4  & 0 & 0 & 1 & 1 & 2 & 1 & 2 & 1 & 1 & 1 & 1 & 1\\\\\n",
       "\t17 & FAM5  & M5  & 0 & 0 & 2 & 1 & 2 & 1 & 1 & 1 & 1 & 1 & 1 & 1\\\\\n",
       "\t18 & FAM5  & F5  & 0 & 0 & 1 & 1 & 1 & 1 & 1 & 1 & 1 & 1 & 1 & 1\\\\\n",
       "\t21 & FAM6  & M6  & 0 & 0 & 2 & 1 & 1 & 1 & 1 & 1 & 1 & 1 & 1 & 2\\\\\n",
       "\t22 & FAM6  & F6  & 0 & 0 & 1 & 1 & 1 & 1 & 1 & 1 & 1 & 1 & 1 & 1\\\\\n",
       "\t25 & FAM7  & M7  & 0 & 0 & 2 & 1 & 1 & 1 & 1 & 1 & 1 & 1 & 1 & 1\\\\\n",
       "\t26 & FAM7  & F7  & 0 & 0 & 1 & 1 & 1 & 1 & 1 & 1 & 1 & 1 & 1 & 1\\\\\n",
       "\t29 & FAM8  & M8  & 0 & 0 & 2 & 1 & 2 & 2 & 2 & 1 & 1 & 1 & 1 & 1\\\\\n",
       "\t30 & FAM8  & F8  & 0 & 0 & 1 & 1 & 1 & 1 & 1 & 1 & 1 & 1 & 1 & 1\\\\\n",
       "\t33 & FAM9  & M9  & 0 & 0 & 2 & 1 & 1 & 2 & 1 & 1 & 1 & 1 & 1 & 1\\\\\n",
       "\t34 & FAM9  & F9  & 0 & 0 & 1 & 1 & 2 & 1 & 1 & 2 & 1 & 1 & 1 & 1\\\\\n",
       "\t37 & FAM10 & M10 & 0 & 0 & 2 & 1 & 1 & 1 & 1 & 1 & 1 & 1 & 1 & 2\\\\\n",
       "\t38 & FAM10 & F10 & 0 & 0 & 1 & 1 & 1 & 1 & 2 & 1 & 1 & 1 & 1 & 1\\\\\n",
       "\t41 & FAM11 & M11 & 0 & 0 & 2 & 1 & 1 & 1 & 1 & 2 & 1 & 1 & 1 & 1\\\\\n",
       "\t42 & FAM11 & F11 & 0 & 0 & 1 & 1 & 1 & 1 & 1 & 1 & 1 & 1 & 1 & 1\\\\\n",
       "\t45 & FAM12 & M12 & 0 & 0 & 2 & 1 & 2 & 1 & 1 & 1 & 1 & 1 & 1 & 1\\\\\n",
       "\t46 & FAM12 & F12 & 0 & 0 & 1 & 1 & 1 & 1 & 1 & 1 & 1 & 1 & 1 & 1\\\\\n",
       "\t49 & FAM13 & M13 & 0 & 0 & 2 & 1 & 1 & 1 & 1 & 1 & 1 & 1 & 1 & 1\\\\\n",
       "\t50 & FAM13 & F13 & 0 & 0 & 1 & 1 & 1 & 2 & 1 & 1 & 1 & 1 & 1 & 1\\\\\n",
       "\t53 & FAM14 & M14 & 0 & 0 & 2 & 1 & 1 & 2 & 1 & 1 & 1 & 1 & 1 & 1\\\\\n",
       "\t54 & FAM14 & F14 & 0 & 0 & 1 & 1 & 1 & 1 & 1 & 1 & 1 & 1 & 1 & 1\\\\\n",
       "\t57 & FAM15 & M15 & 0 & 0 & 2 & 1 & 2 & 1 & 1 & 1 & 1 & 2 & 1 & 1\\\\\n",
       "\t58 & FAM15 & F15 & 0 & 0 & 1 & 1 & 1 & 1 & 1 & 1 & 1 & 1 & 1 & 1\\\\\n",
       "\t⋮ & ⋮ & ⋮ & ⋮ & ⋮ & ⋮ & ⋮ & ⋮ & ⋮ & ⋮ & ⋮ & ⋮ & ⋮ & ⋮ & ⋮\\\\\n",
       "\t869 & FAM186 & M186 & 0 & 0 & 2 & 1 & 2 & 1 & 1 & 1 & 1 & 1 & 1 & 1\\\\\n",
       "\t870 & FAM186 & F186 & 0 & 0 & 1 & 1 & 1 & 2 & 1 & 1 & 2 & 1 & 1 & 1\\\\\n",
       "\t876 & FAM187 & M187 & 0 & 0 & 2 & 1 & 1 & 1 & 1 & 1 & 2 & 1 & 1 & 1\\\\\n",
       "\t877 & FAM187 & F187 & 0 & 0 & 1 & 1 & 1 & 2 & 1 & 1 & 2 & 1 & 1 & 1\\\\\n",
       "\t883 & FAM188 & M188 & 0 & 0 & 2 & 1 & 1 & 2 & 1 & 1 & 1 & 1 & 1 & 1\\\\\n",
       "\t884 & FAM188 & F188 & 0 & 0 & 1 & 1 & 1 & 1 & 2 & 1 & 1 & 1 & 1 & 1\\\\\n",
       "\t890 & FAM189 & M189 & 0 & 0 & 2 & 1 & 1 & 1 & 1 & 1 & 2 & 1 & 1 & 1\\\\\n",
       "\t891 & FAM189 & F189 & 0 & 0 & 1 & 1 & 1 & 2 & 1 & 1 & 1 & 1 & 1 & 1\\\\\n",
       "\t897 & FAM190 & M190 & 0 & 0 & 2 & 1 & 1 & 1 & 1 & 1 & 1 & 1 & 1 & 1\\\\\n",
       "\t898 & FAM190 & F190 & 0 & 0 & 1 & 1 & 2 & 2 & 1 & 1 & 1 & 1 & 1 & 1\\\\\n",
       "\t904 & FAM191 & M191 & 0 & 0 & 2 & 1 & 1 & 1 & 1 & 1 & 1 & 1 & 1 & 1\\\\\n",
       "\t905 & FAM191 & F191 & 0 & 0 & 1 & 1 & 2 & 1 & 1 & 1 & 1 & 1 & 1 & 1\\\\\n",
       "\t911 & FAM192 & M192 & 0 & 0 & 2 & 1 & 1 & 1 & 1 & 1 & 1 & 1 & 1 & 1\\\\\n",
       "\t912 & FAM192 & F192 & 0 & 0 & 1 & 1 & 2 & 2 & 2 & 1 & 1 & 1 & 1 & 1\\\\\n",
       "\t918 & FAM193 & M193 & 0 & 0 & 2 & 1 & 2 & 1 & 1 & 2 & 1 & 1 & 1 & 1\\\\\n",
       "\t919 & FAM193 & F193 & 0 & 0 & 1 & 1 & 1 & 2 & 1 & 1 & 1 & 1 & 1 & 1\\\\\n",
       "\t925 & FAM194 & M194 & 0 & 0 & 2 & 1 & 1 & 1 & 1 & 1 & 1 & 2 & 1 & 1\\\\\n",
       "\t926 & FAM194 & F194 & 0 & 0 & 1 & 1 & 1 & 2 & 2 & 1 & 1 & 1 & 1 & 1\\\\\n",
       "\t932 & FAM195 & M195 & 0 & 0 & 2 & 1 & 1 & 1 & 1 & 1 & 1 & 1 & 1 & 1\\\\\n",
       "\t933 & FAM195 & F195 & 0 & 0 & 1 & 1 & 1 & 1 & 1 & 1 & 1 & 1 & 1 & 1\\\\\n",
       "\t939 & FAM196 & M196 & 0 & 0 & 2 & 1 & 1 & 1 & 1 & 1 & 1 & 1 & 1 & 1\\\\\n",
       "\t940 & FAM196 & F196 & 0 & 0 & 1 & 1 & 1 & 2 & 1 & 1 & 1 & 1 & 1 & 1\\\\\n",
       "\t947 & FAM197 & M197 & 0 & 0 & 2 & 1 & 2 & 2 & 1 & 2 & 1 & 1 & 2 & 1\\\\\n",
       "\t948 & FAM197 & F197 & 0 & 0 & 1 & 1 & 1 & 1 & 1 & 1 & 1 & 1 & 1 & 1\\\\\n",
       "\t955 & FAM198 & M198 & 0 & 0 & 2 & 1 & 1 & 1 & 1 & 1 & 1 & 1 & 1 & 1\\\\\n",
       "\t956 & FAM198 & F198 & 0 & 0 & 1 & 1 & 1 & 2 & 1 & 1 & 1 & 1 & 1 & 1\\\\\n",
       "\t963 & FAM199 & M199 & 0 & 0 & 2 & 1 & 2 & 1 & 2 & 1 & 1 & 1 & 1 & 1\\\\\n",
       "\t964 & FAM199 & F199 & 0 & 0 & 1 & 1 & 1 & 1 & 1 & 1 & 1 & 1 & 1 & 1\\\\\n",
       "\t971 & FAM200 & M200 & 0 & 0 & 2 & 1 & 1 & 2 & 1 & 1 & 1 & 1 & 1 & 1\\\\\n",
       "\t972 & FAM200 & F200 & 0 & 0 & 1 & 1 & 1 & 1 & 1 & 1 & 1 & 1 & 2 & 1\\\\\n",
       "\\end{tabular}\n"
      ],
      "text/markdown": [
       "\n",
       "A data.frame: 400 × 14\n",
       "\n",
       "| <!--/--> | V1 &lt;fct&gt; | V2 &lt;fct&gt; | V3 &lt;fct&gt; | V4 &lt;fct&gt; | V5 &lt;int&gt; | V6 &lt;int&gt; | V7 &lt;int&gt; | V8 &lt;int&gt; | V9 &lt;int&gt; | V10 &lt;int&gt; | V11 &lt;int&gt; | V12 &lt;int&gt; | V13 &lt;int&gt; | V14 &lt;int&gt; |\n",
       "|---|---|---|---|---|---|---|---|---|---|---|---|---|---|---|\n",
       "| 1 | FAM1  | M1  | 0 | 0 | 2 | 1 | 1 | 1 | 1 | 1 | 1 | 1 | 2 | 2 |\n",
       "| 2 | FAM1  | F1  | 0 | 0 | 1 | 1 | 1 | 1 | 1 | 1 | 1 | 1 | 1 | 1 |\n",
       "| 5 | FAM2  | M2  | 0 | 0 | 2 | 1 | 1 | 1 | 1 | 1 | 1 | 1 | 2 | 2 |\n",
       "| 6 | FAM2  | F2  | 0 | 0 | 1 | 1 | 1 | 1 | 1 | 2 | 1 | 1 | 1 | 1 |\n",
       "| 9 | FAM3  | M3  | 0 | 0 | 2 | 1 | 1 | 2 | 1 | 1 | 1 | 1 | 1 | 1 |\n",
       "| 10 | FAM3  | F3  | 0 | 0 | 1 | 1 | 2 | 1 | 1 | 1 | 1 | 1 | 1 | 1 |\n",
       "| 13 | FAM4  | M4  | 0 | 0 | 2 | 1 | 1 | 1 | 1 | 1 | 1 | 1 | 1 | 1 |\n",
       "| 14 | FAM4  | F4  | 0 | 0 | 1 | 1 | 2 | 1 | 2 | 1 | 1 | 1 | 1 | 1 |\n",
       "| 17 | FAM5  | M5  | 0 | 0 | 2 | 1 | 2 | 1 | 1 | 1 | 1 | 1 | 1 | 1 |\n",
       "| 18 | FAM5  | F5  | 0 | 0 | 1 | 1 | 1 | 1 | 1 | 1 | 1 | 1 | 1 | 1 |\n",
       "| 21 | FAM6  | M6  | 0 | 0 | 2 | 1 | 1 | 1 | 1 | 1 | 1 | 1 | 1 | 2 |\n",
       "| 22 | FAM6  | F6  | 0 | 0 | 1 | 1 | 1 | 1 | 1 | 1 | 1 | 1 | 1 | 1 |\n",
       "| 25 | FAM7  | M7  | 0 | 0 | 2 | 1 | 1 | 1 | 1 | 1 | 1 | 1 | 1 | 1 |\n",
       "| 26 | FAM7  | F7  | 0 | 0 | 1 | 1 | 1 | 1 | 1 | 1 | 1 | 1 | 1 | 1 |\n",
       "| 29 | FAM8  | M8  | 0 | 0 | 2 | 1 | 2 | 2 | 2 | 1 | 1 | 1 | 1 | 1 |\n",
       "| 30 | FAM8  | F8  | 0 | 0 | 1 | 1 | 1 | 1 | 1 | 1 | 1 | 1 | 1 | 1 |\n",
       "| 33 | FAM9  | M9  | 0 | 0 | 2 | 1 | 1 | 2 | 1 | 1 | 1 | 1 | 1 | 1 |\n",
       "| 34 | FAM9  | F9  | 0 | 0 | 1 | 1 | 2 | 1 | 1 | 2 | 1 | 1 | 1 | 1 |\n",
       "| 37 | FAM10 | M10 | 0 | 0 | 2 | 1 | 1 | 1 | 1 | 1 | 1 | 1 | 1 | 2 |\n",
       "| 38 | FAM10 | F10 | 0 | 0 | 1 | 1 | 1 | 1 | 2 | 1 | 1 | 1 | 1 | 1 |\n",
       "| 41 | FAM11 | M11 | 0 | 0 | 2 | 1 | 1 | 1 | 1 | 2 | 1 | 1 | 1 | 1 |\n",
       "| 42 | FAM11 | F11 | 0 | 0 | 1 | 1 | 1 | 1 | 1 | 1 | 1 | 1 | 1 | 1 |\n",
       "| 45 | FAM12 | M12 | 0 | 0 | 2 | 1 | 2 | 1 | 1 | 1 | 1 | 1 | 1 | 1 |\n",
       "| 46 | FAM12 | F12 | 0 | 0 | 1 | 1 | 1 | 1 | 1 | 1 | 1 | 1 | 1 | 1 |\n",
       "| 49 | FAM13 | M13 | 0 | 0 | 2 | 1 | 1 | 1 | 1 | 1 | 1 | 1 | 1 | 1 |\n",
       "| 50 | FAM13 | F13 | 0 | 0 | 1 | 1 | 1 | 2 | 1 | 1 | 1 | 1 | 1 | 1 |\n",
       "| 53 | FAM14 | M14 | 0 | 0 | 2 | 1 | 1 | 2 | 1 | 1 | 1 | 1 | 1 | 1 |\n",
       "| 54 | FAM14 | F14 | 0 | 0 | 1 | 1 | 1 | 1 | 1 | 1 | 1 | 1 | 1 | 1 |\n",
       "| 57 | FAM15 | M15 | 0 | 0 | 2 | 1 | 2 | 1 | 1 | 1 | 1 | 2 | 1 | 1 |\n",
       "| 58 | FAM15 | F15 | 0 | 0 | 1 | 1 | 1 | 1 | 1 | 1 | 1 | 1 | 1 | 1 |\n",
       "| ⋮ | ⋮ | ⋮ | ⋮ | ⋮ | ⋮ | ⋮ | ⋮ | ⋮ | ⋮ | ⋮ | ⋮ | ⋮ | ⋮ | ⋮ |\n",
       "| 869 | FAM186 | M186 | 0 | 0 | 2 | 1 | 2 | 1 | 1 | 1 | 1 | 1 | 1 | 1 |\n",
       "| 870 | FAM186 | F186 | 0 | 0 | 1 | 1 | 1 | 2 | 1 | 1 | 2 | 1 | 1 | 1 |\n",
       "| 876 | FAM187 | M187 | 0 | 0 | 2 | 1 | 1 | 1 | 1 | 1 | 2 | 1 | 1 | 1 |\n",
       "| 877 | FAM187 | F187 | 0 | 0 | 1 | 1 | 1 | 2 | 1 | 1 | 2 | 1 | 1 | 1 |\n",
       "| 883 | FAM188 | M188 | 0 | 0 | 2 | 1 | 1 | 2 | 1 | 1 | 1 | 1 | 1 | 1 |\n",
       "| 884 | FAM188 | F188 | 0 | 0 | 1 | 1 | 1 | 1 | 2 | 1 | 1 | 1 | 1 | 1 |\n",
       "| 890 | FAM189 | M189 | 0 | 0 | 2 | 1 | 1 | 1 | 1 | 1 | 2 | 1 | 1 | 1 |\n",
       "| 891 | FAM189 | F189 | 0 | 0 | 1 | 1 | 1 | 2 | 1 | 1 | 1 | 1 | 1 | 1 |\n",
       "| 897 | FAM190 | M190 | 0 | 0 | 2 | 1 | 1 | 1 | 1 | 1 | 1 | 1 | 1 | 1 |\n",
       "| 898 | FAM190 | F190 | 0 | 0 | 1 | 1 | 2 | 2 | 1 | 1 | 1 | 1 | 1 | 1 |\n",
       "| 904 | FAM191 | M191 | 0 | 0 | 2 | 1 | 1 | 1 | 1 | 1 | 1 | 1 | 1 | 1 |\n",
       "| 905 | FAM191 | F191 | 0 | 0 | 1 | 1 | 2 | 1 | 1 | 1 | 1 | 1 | 1 | 1 |\n",
       "| 911 | FAM192 | M192 | 0 | 0 | 2 | 1 | 1 | 1 | 1 | 1 | 1 | 1 | 1 | 1 |\n",
       "| 912 | FAM192 | F192 | 0 | 0 | 1 | 1 | 2 | 2 | 2 | 1 | 1 | 1 | 1 | 1 |\n",
       "| 918 | FAM193 | M193 | 0 | 0 | 2 | 1 | 2 | 1 | 1 | 2 | 1 | 1 | 1 | 1 |\n",
       "| 919 | FAM193 | F193 | 0 | 0 | 1 | 1 | 1 | 2 | 1 | 1 | 1 | 1 | 1 | 1 |\n",
       "| 925 | FAM194 | M194 | 0 | 0 | 2 | 1 | 1 | 1 | 1 | 1 | 1 | 2 | 1 | 1 |\n",
       "| 926 | FAM194 | F194 | 0 | 0 | 1 | 1 | 1 | 2 | 2 | 1 | 1 | 1 | 1 | 1 |\n",
       "| 932 | FAM195 | M195 | 0 | 0 | 2 | 1 | 1 | 1 | 1 | 1 | 1 | 1 | 1 | 1 |\n",
       "| 933 | FAM195 | F195 | 0 | 0 | 1 | 1 | 1 | 1 | 1 | 1 | 1 | 1 | 1 | 1 |\n",
       "| 939 | FAM196 | M196 | 0 | 0 | 2 | 1 | 1 | 1 | 1 | 1 | 1 | 1 | 1 | 1 |\n",
       "| 940 | FAM196 | F196 | 0 | 0 | 1 | 1 | 1 | 2 | 1 | 1 | 1 | 1 | 1 | 1 |\n",
       "| 947 | FAM197 | M197 | 0 | 0 | 2 | 1 | 2 | 2 | 1 | 2 | 1 | 1 | 2 | 1 |\n",
       "| 948 | FAM197 | F197 | 0 | 0 | 1 | 1 | 1 | 1 | 1 | 1 | 1 | 1 | 1 | 1 |\n",
       "| 955 | FAM198 | M198 | 0 | 0 | 2 | 1 | 1 | 1 | 1 | 1 | 1 | 1 | 1 | 1 |\n",
       "| 956 | FAM198 | F198 | 0 | 0 | 1 | 1 | 1 | 2 | 1 | 1 | 1 | 1 | 1 | 1 |\n",
       "| 963 | FAM199 | M199 | 0 | 0 | 2 | 1 | 2 | 1 | 2 | 1 | 1 | 1 | 1 | 1 |\n",
       "| 964 | FAM199 | F199 | 0 | 0 | 1 | 1 | 1 | 1 | 1 | 1 | 1 | 1 | 1 | 1 |\n",
       "| 971 | FAM200 | M200 | 0 | 0 | 2 | 1 | 1 | 2 | 1 | 1 | 1 | 1 | 1 | 1 |\n",
       "| 972 | FAM200 | F200 | 0 | 0 | 1 | 1 | 1 | 1 | 1 | 1 | 1 | 1 | 2 | 1 |\n",
       "\n"
      ],
      "text/plain": [
       "    V1     V2   V3 V4 V5 V6 V7 V8 V9 V10 V11 V12 V13 V14\n",
       "1   FAM1   M1   0  0  2  1  1  1  1  1   1   1   2   2  \n",
       "2   FAM1   F1   0  0  1  1  1  1  1  1   1   1   1   1  \n",
       "5   FAM2   M2   0  0  2  1  1  1  1  1   1   1   2   2  \n",
       "6   FAM2   F2   0  0  1  1  1  1  1  2   1   1   1   1  \n",
       "9   FAM3   M3   0  0  2  1  1  2  1  1   1   1   1   1  \n",
       "10  FAM3   F3   0  0  1  1  2  1  1  1   1   1   1   1  \n",
       "13  FAM4   M4   0  0  2  1  1  1  1  1   1   1   1   1  \n",
       "14  FAM4   F4   0  0  1  1  2  1  2  1   1   1   1   1  \n",
       "17  FAM5   M5   0  0  2  1  2  1  1  1   1   1   1   1  \n",
       "18  FAM5   F5   0  0  1  1  1  1  1  1   1   1   1   1  \n",
       "21  FAM6   M6   0  0  2  1  1  1  1  1   1   1   1   2  \n",
       "22  FAM6   F6   0  0  1  1  1  1  1  1   1   1   1   1  \n",
       "25  FAM7   M7   0  0  2  1  1  1  1  1   1   1   1   1  \n",
       "26  FAM7   F7   0  0  1  1  1  1  1  1   1   1   1   1  \n",
       "29  FAM8   M8   0  0  2  1  2  2  2  1   1   1   1   1  \n",
       "30  FAM8   F8   0  0  1  1  1  1  1  1   1   1   1   1  \n",
       "33  FAM9   M9   0  0  2  1  1  2  1  1   1   1   1   1  \n",
       "34  FAM9   F9   0  0  1  1  2  1  1  2   1   1   1   1  \n",
       "37  FAM10  M10  0  0  2  1  1  1  1  1   1   1   1   2  \n",
       "38  FAM10  F10  0  0  1  1  1  1  2  1   1   1   1   1  \n",
       "41  FAM11  M11  0  0  2  1  1  1  1  2   1   1   1   1  \n",
       "42  FAM11  F11  0  0  1  1  1  1  1  1   1   1   1   1  \n",
       "45  FAM12  M12  0  0  2  1  2  1  1  1   1   1   1   1  \n",
       "46  FAM12  F12  0  0  1  1  1  1  1  1   1   1   1   1  \n",
       "49  FAM13  M13  0  0  2  1  1  1  1  1   1   1   1   1  \n",
       "50  FAM13  F13  0  0  1  1  1  2  1  1   1   1   1   1  \n",
       "53  FAM14  M14  0  0  2  1  1  2  1  1   1   1   1   1  \n",
       "54  FAM14  F14  0  0  1  1  1  1  1  1   1   1   1   1  \n",
       "57  FAM15  M15  0  0  2  1  2  1  1  1   1   2   1   1  \n",
       "58  FAM15  F15  0  0  1  1  1  1  1  1   1   1   1   1  \n",
       "⋮   ⋮      ⋮    ⋮  ⋮  ⋮  ⋮  ⋮  ⋮  ⋮  ⋮   ⋮   ⋮   ⋮   ⋮  \n",
       "869 FAM186 M186 0  0  2  1  2  1  1  1   1   1   1   1  \n",
       "870 FAM186 F186 0  0  1  1  1  2  1  1   2   1   1   1  \n",
       "876 FAM187 M187 0  0  2  1  1  1  1  1   2   1   1   1  \n",
       "877 FAM187 F187 0  0  1  1  1  2  1  1   2   1   1   1  \n",
       "883 FAM188 M188 0  0  2  1  1  2  1  1   1   1   1   1  \n",
       "884 FAM188 F188 0  0  1  1  1  1  2  1   1   1   1   1  \n",
       "890 FAM189 M189 0  0  2  1  1  1  1  1   2   1   1   1  \n",
       "891 FAM189 F189 0  0  1  1  1  2  1  1   1   1   1   1  \n",
       "897 FAM190 M190 0  0  2  1  1  1  1  1   1   1   1   1  \n",
       "898 FAM190 F190 0  0  1  1  2  2  1  1   1   1   1   1  \n",
       "904 FAM191 M191 0  0  2  1  1  1  1  1   1   1   1   1  \n",
       "905 FAM191 F191 0  0  1  1  2  1  1  1   1   1   1   1  \n",
       "911 FAM192 M192 0  0  2  1  1  1  1  1   1   1   1   1  \n",
       "912 FAM192 F192 0  0  1  1  2  2  2  1   1   1   1   1  \n",
       "918 FAM193 M193 0  0  2  1  2  1  1  2   1   1   1   1  \n",
       "919 FAM193 F193 0  0  1  1  1  2  1  1   1   1   1   1  \n",
       "925 FAM194 M194 0  0  2  1  1  1  1  1   1   2   1   1  \n",
       "926 FAM194 F194 0  0  1  1  1  2  2  1   1   1   1   1  \n",
       "932 FAM195 M195 0  0  2  1  1  1  1  1   1   1   1   1  \n",
       "933 FAM195 F195 0  0  1  1  1  1  1  1   1   1   1   1  \n",
       "939 FAM196 M196 0  0  2  1  1  1  1  1   1   1   1   1  \n",
       "940 FAM196 F196 0  0  1  1  1  2  1  1   1   1   1   1  \n",
       "947 FAM197 M197 0  0  2  1  2  2  1  2   1   1   2   1  \n",
       "948 FAM197 F197 0  0  1  1  1  1  1  1   1   1   1   1  \n",
       "955 FAM198 M198 0  0  2  1  1  1  1  1   1   1   1   1  \n",
       "956 FAM198 F198 0  0  1  1  1  2  1  1   1   1   1   1  \n",
       "963 FAM199 M199 0  0  2  1  2  1  2  1   1   1   1   1  \n",
       "964 FAM199 F199 0  0  1  1  1  1  1  1   1   1   1   1  \n",
       "971 FAM200 M200 0  0  2  1  1  2  1  1   1   1   1   1  \n",
       "972 FAM200 F200 0  0  1  1  1  1  1  1   1   1   2   1  "
      ]
     },
     "metadata": {},
     "output_type": "display_data"
    }
   ],
   "source": [
    "founders = dat[which(dat[,'V3'] == '0'), ]\n",
    "founders"
   ]
  },
  {
   "cell_type": "code",
   "execution_count": 19,
   "metadata": {
    "kernel": "R"
   },
   "outputs": [],
   "source": [
    "geno = founders[,-(1:6)] -1 #This is called indexing, meaning that we are only looking at the genotypic data and removing columns 1 to 6 that is pedigree information. Also we are substracting one from the genotypes so it will be 0/0 instead of 0/1 and will make counts easier"
   ]
  },
  {
   "cell_type": "code",
   "execution_count": 20,
   "metadata": {
    "kernel": "R"
   },
   "outputs": [
    {
     "data": {
      "text/html": [
       "<table>\n",
       "<caption>A data.frame: 6 × 8</caption>\n",
       "<thead>\n",
       "\t<tr><th></th><th scope=col>V7</th><th scope=col>V8</th><th scope=col>V9</th><th scope=col>V10</th><th scope=col>V11</th><th scope=col>V12</th><th scope=col>V13</th><th scope=col>V14</th></tr>\n",
       "\t<tr><th></th><th scope=col>&lt;dbl&gt;</th><th scope=col>&lt;dbl&gt;</th><th scope=col>&lt;dbl&gt;</th><th scope=col>&lt;dbl&gt;</th><th scope=col>&lt;dbl&gt;</th><th scope=col>&lt;dbl&gt;</th><th scope=col>&lt;dbl&gt;</th><th scope=col>&lt;dbl&gt;</th></tr>\n",
       "</thead>\n",
       "<tbody>\n",
       "\t<tr><th scope=row>1</th><td>0</td><td>0</td><td>0</td><td>0</td><td>0</td><td>0</td><td>1</td><td>1</td></tr>\n",
       "\t<tr><th scope=row>2</th><td>0</td><td>0</td><td>0</td><td>0</td><td>0</td><td>0</td><td>0</td><td>0</td></tr>\n",
       "\t<tr><th scope=row>5</th><td>0</td><td>0</td><td>0</td><td>0</td><td>0</td><td>0</td><td>1</td><td>1</td></tr>\n",
       "\t<tr><th scope=row>6</th><td>0</td><td>0</td><td>0</td><td>1</td><td>0</td><td>0</td><td>0</td><td>0</td></tr>\n",
       "\t<tr><th scope=row>9</th><td>0</td><td>1</td><td>0</td><td>0</td><td>0</td><td>0</td><td>0</td><td>0</td></tr>\n",
       "\t<tr><th scope=row>10</th><td>1</td><td>0</td><td>0</td><td>0</td><td>0</td><td>0</td><td>0</td><td>0</td></tr>\n",
       "</tbody>\n",
       "</table>\n"
      ],
      "text/latex": [
       "A data.frame: 6 × 8\n",
       "\\begin{tabular}{r|llllllll}\n",
       "  & V7 & V8 & V9 & V10 & V11 & V12 & V13 & V14\\\\\n",
       "  & <dbl> & <dbl> & <dbl> & <dbl> & <dbl> & <dbl> & <dbl> & <dbl>\\\\\n",
       "\\hline\n",
       "\t1 & 0 & 0 & 0 & 0 & 0 & 0 & 1 & 1\\\\\n",
       "\t2 & 0 & 0 & 0 & 0 & 0 & 0 & 0 & 0\\\\\n",
       "\t5 & 0 & 0 & 0 & 0 & 0 & 0 & 1 & 1\\\\\n",
       "\t6 & 0 & 0 & 0 & 1 & 0 & 0 & 0 & 0\\\\\n",
       "\t9 & 0 & 1 & 0 & 0 & 0 & 0 & 0 & 0\\\\\n",
       "\t10 & 1 & 0 & 0 & 0 & 0 & 0 & 0 & 0\\\\\n",
       "\\end{tabular}\n"
      ],
      "text/markdown": [
       "\n",
       "A data.frame: 6 × 8\n",
       "\n",
       "| <!--/--> | V7 &lt;dbl&gt; | V8 &lt;dbl&gt; | V9 &lt;dbl&gt; | V10 &lt;dbl&gt; | V11 &lt;dbl&gt; | V12 &lt;dbl&gt; | V13 &lt;dbl&gt; | V14 &lt;dbl&gt; |\n",
       "|---|---|---|---|---|---|---|---|---|\n",
       "| 1 | 0 | 0 | 0 | 0 | 0 | 0 | 1 | 1 |\n",
       "| 2 | 0 | 0 | 0 | 0 | 0 | 0 | 0 | 0 |\n",
       "| 5 | 0 | 0 | 0 | 0 | 0 | 0 | 1 | 1 |\n",
       "| 6 | 0 | 0 | 0 | 1 | 0 | 0 | 0 | 0 |\n",
       "| 9 | 0 | 1 | 0 | 0 | 0 | 0 | 0 | 0 |\n",
       "| 10 | 1 | 0 | 0 | 0 | 0 | 0 | 0 | 0 |\n",
       "\n"
      ],
      "text/plain": [
       "   V7 V8 V9 V10 V11 V12 V13 V14\n",
       "1  0  0  0  0   0   0   1   1  \n",
       "2  0  0  0  0   0   0   0   0  \n",
       "5  0  0  0  0   0   0   1   1  \n",
       "6  0  0  0  1   0   0   0   0  \n",
       "9  0  1  0  0   0   0   0   0  \n",
       "10 1  0  0  0   0   0   0   0  "
      ]
     },
     "metadata": {},
     "output_type": "display_data"
    }
   ],
   "source": [
    "head(geno) #look at the data"
   ]
  },
  {
   "cell_type": "code",
   "execution_count": 21,
   "metadata": {
    "kernel": "R"
   },
   "outputs": [
    {
     "data": {
      "text/html": [
       "8"
      ],
      "text/latex": [
       "8"
      ],
      "text/markdown": [
       "8"
      ],
      "text/plain": [
       "[1] 8"
      ]
     },
     "metadata": {},
     "output_type": "display_data"
    }
   ],
   "source": [
    "L = ncol(geno) #how many columns are there\n",
    "L"
   ]
  },
  {
   "cell_type": "code",
   "execution_count": 22,
   "metadata": {
    "kernel": "R",
    "scrolled": true
   },
   "outputs": [
    {
     "data": {
      "text/html": [
       "<table>\n",
       "<caption>A matrix: 400 × 4 of type dbl</caption>\n",
       "<thead>\n",
       "\t<tr><th></th><th scope=col>0</th><th scope=col>1</th><th scope=col>2</th><th scope=col>3</th></tr>\n",
       "</thead>\n",
       "<tbody>\n",
       "\t<tr><th scope=row>1</th><td>0</td><td>0</td><td>0</td><td>2</td></tr>\n",
       "\t<tr><th scope=row>2</th><td>0</td><td>0</td><td>0</td><td>0</td></tr>\n",
       "\t<tr><th scope=row>5</th><td>0</td><td>0</td><td>0</td><td>2</td></tr>\n",
       "\t<tr><th scope=row>6</th><td>0</td><td>1</td><td>0</td><td>0</td></tr>\n",
       "\t<tr><th scope=row>9</th><td>1</td><td>0</td><td>0</td><td>0</td></tr>\n",
       "\t<tr><th scope=row>10</th><td>1</td><td>0</td><td>0</td><td>0</td></tr>\n",
       "\t<tr><th scope=row>13</th><td>0</td><td>0</td><td>0</td><td>0</td></tr>\n",
       "\t<tr><th scope=row>14</th><td>1</td><td>1</td><td>0</td><td>0</td></tr>\n",
       "\t<tr><th scope=row>17</th><td>1</td><td>0</td><td>0</td><td>0</td></tr>\n",
       "\t<tr><th scope=row>18</th><td>0</td><td>0</td><td>0</td><td>0</td></tr>\n",
       "\t<tr><th scope=row>21</th><td>0</td><td>0</td><td>0</td><td>1</td></tr>\n",
       "\t<tr><th scope=row>22</th><td>0</td><td>0</td><td>0</td><td>0</td></tr>\n",
       "\t<tr><th scope=row>25</th><td>0</td><td>0</td><td>0</td><td>0</td></tr>\n",
       "\t<tr><th scope=row>26</th><td>0</td><td>0</td><td>0</td><td>0</td></tr>\n",
       "\t<tr><th scope=row>29</th><td>2</td><td>1</td><td>0</td><td>0</td></tr>\n",
       "\t<tr><th scope=row>30</th><td>0</td><td>0</td><td>0</td><td>0</td></tr>\n",
       "\t<tr><th scope=row>33</th><td>1</td><td>0</td><td>0</td><td>0</td></tr>\n",
       "\t<tr><th scope=row>34</th><td>1</td><td>1</td><td>0</td><td>0</td></tr>\n",
       "\t<tr><th scope=row>37</th><td>0</td><td>0</td><td>0</td><td>1</td></tr>\n",
       "\t<tr><th scope=row>38</th><td>0</td><td>1</td><td>0</td><td>0</td></tr>\n",
       "\t<tr><th scope=row>41</th><td>0</td><td>1</td><td>0</td><td>0</td></tr>\n",
       "\t<tr><th scope=row>42</th><td>0</td><td>0</td><td>0</td><td>0</td></tr>\n",
       "\t<tr><th scope=row>45</th><td>1</td><td>0</td><td>0</td><td>0</td></tr>\n",
       "\t<tr><th scope=row>46</th><td>0</td><td>0</td><td>0</td><td>0</td></tr>\n",
       "\t<tr><th scope=row>49</th><td>0</td><td>0</td><td>0</td><td>0</td></tr>\n",
       "\t<tr><th scope=row>50</th><td>1</td><td>0</td><td>0</td><td>0</td></tr>\n",
       "\t<tr><th scope=row>53</th><td>1</td><td>0</td><td>0</td><td>0</td></tr>\n",
       "\t<tr><th scope=row>54</th><td>0</td><td>0</td><td>0</td><td>0</td></tr>\n",
       "\t<tr><th scope=row>57</th><td>1</td><td>0</td><td>1</td><td>0</td></tr>\n",
       "\t<tr><th scope=row>58</th><td>0</td><td>0</td><td>0</td><td>0</td></tr>\n",
       "\t<tr><th scope=row>⋮</th><td>⋮</td><td>⋮</td><td>⋮</td><td>⋮</td></tr>\n",
       "\t<tr><th scope=row>869</th><td>1</td><td>0</td><td>0</td><td>0</td></tr>\n",
       "\t<tr><th scope=row>870</th><td>1</td><td>0</td><td>1</td><td>0</td></tr>\n",
       "\t<tr><th scope=row>876</th><td>0</td><td>0</td><td>1</td><td>0</td></tr>\n",
       "\t<tr><th scope=row>877</th><td>1</td><td>0</td><td>1</td><td>0</td></tr>\n",
       "\t<tr><th scope=row>883</th><td>1</td><td>0</td><td>0</td><td>0</td></tr>\n",
       "\t<tr><th scope=row>884</th><td>0</td><td>1</td><td>0</td><td>0</td></tr>\n",
       "\t<tr><th scope=row>890</th><td>0</td><td>0</td><td>1</td><td>0</td></tr>\n",
       "\t<tr><th scope=row>891</th><td>1</td><td>0</td><td>0</td><td>0</td></tr>\n",
       "\t<tr><th scope=row>897</th><td>0</td><td>0</td><td>0</td><td>0</td></tr>\n",
       "\t<tr><th scope=row>898</th><td>2</td><td>0</td><td>0</td><td>0</td></tr>\n",
       "\t<tr><th scope=row>904</th><td>0</td><td>0</td><td>0</td><td>0</td></tr>\n",
       "\t<tr><th scope=row>905</th><td>1</td><td>0</td><td>0</td><td>0</td></tr>\n",
       "\t<tr><th scope=row>911</th><td>0</td><td>0</td><td>0</td><td>0</td></tr>\n",
       "\t<tr><th scope=row>912</th><td>2</td><td>1</td><td>0</td><td>0</td></tr>\n",
       "\t<tr><th scope=row>918</th><td>1</td><td>1</td><td>0</td><td>0</td></tr>\n",
       "\t<tr><th scope=row>919</th><td>1</td><td>0</td><td>0</td><td>0</td></tr>\n",
       "\t<tr><th scope=row>925</th><td>0</td><td>0</td><td>1</td><td>0</td></tr>\n",
       "\t<tr><th scope=row>926</th><td>1</td><td>1</td><td>0</td><td>0</td></tr>\n",
       "\t<tr><th scope=row>932</th><td>0</td><td>0</td><td>0</td><td>0</td></tr>\n",
       "\t<tr><th scope=row>933</th><td>0</td><td>0</td><td>0</td><td>0</td></tr>\n",
       "\t<tr><th scope=row>939</th><td>0</td><td>0</td><td>0</td><td>0</td></tr>\n",
       "\t<tr><th scope=row>940</th><td>1</td><td>0</td><td>0</td><td>0</td></tr>\n",
       "\t<tr><th scope=row>947</th><td>2</td><td>1</td><td>0</td><td>1</td></tr>\n",
       "\t<tr><th scope=row>948</th><td>0</td><td>0</td><td>0</td><td>0</td></tr>\n",
       "\t<tr><th scope=row>955</th><td>0</td><td>0</td><td>0</td><td>0</td></tr>\n",
       "\t<tr><th scope=row>956</th><td>1</td><td>0</td><td>0</td><td>0</td></tr>\n",
       "\t<tr><th scope=row>963</th><td>1</td><td>1</td><td>0</td><td>0</td></tr>\n",
       "\t<tr><th scope=row>964</th><td>0</td><td>0</td><td>0</td><td>0</td></tr>\n",
       "\t<tr><th scope=row>971</th><td>1</td><td>0</td><td>0</td><td>0</td></tr>\n",
       "\t<tr><th scope=row>972</th><td>0</td><td>0</td><td>0</td><td>1</td></tr>\n",
       "</tbody>\n",
       "</table>\n"
      ],
      "text/latex": [
       "A matrix: 400 × 4 of type dbl\n",
       "\\begin{tabular}{r|llll}\n",
       "  & 0 & 1 & 2 & 3\\\\\n",
       "\\hline\n",
       "\t1 & 0 & 0 & 0 & 2\\\\\n",
       "\t2 & 0 & 0 & 0 & 0\\\\\n",
       "\t5 & 0 & 0 & 0 & 2\\\\\n",
       "\t6 & 0 & 1 & 0 & 0\\\\\n",
       "\t9 & 1 & 0 & 0 & 0\\\\\n",
       "\t10 & 1 & 0 & 0 & 0\\\\\n",
       "\t13 & 0 & 0 & 0 & 0\\\\\n",
       "\t14 & 1 & 1 & 0 & 0\\\\\n",
       "\t17 & 1 & 0 & 0 & 0\\\\\n",
       "\t18 & 0 & 0 & 0 & 0\\\\\n",
       "\t21 & 0 & 0 & 0 & 1\\\\\n",
       "\t22 & 0 & 0 & 0 & 0\\\\\n",
       "\t25 & 0 & 0 & 0 & 0\\\\\n",
       "\t26 & 0 & 0 & 0 & 0\\\\\n",
       "\t29 & 2 & 1 & 0 & 0\\\\\n",
       "\t30 & 0 & 0 & 0 & 0\\\\\n",
       "\t33 & 1 & 0 & 0 & 0\\\\\n",
       "\t34 & 1 & 1 & 0 & 0\\\\\n",
       "\t37 & 0 & 0 & 0 & 1\\\\\n",
       "\t38 & 0 & 1 & 0 & 0\\\\\n",
       "\t41 & 0 & 1 & 0 & 0\\\\\n",
       "\t42 & 0 & 0 & 0 & 0\\\\\n",
       "\t45 & 1 & 0 & 0 & 0\\\\\n",
       "\t46 & 0 & 0 & 0 & 0\\\\\n",
       "\t49 & 0 & 0 & 0 & 0\\\\\n",
       "\t50 & 1 & 0 & 0 & 0\\\\\n",
       "\t53 & 1 & 0 & 0 & 0\\\\\n",
       "\t54 & 0 & 0 & 0 & 0\\\\\n",
       "\t57 & 1 & 0 & 1 & 0\\\\\n",
       "\t58 & 0 & 0 & 0 & 0\\\\\n",
       "\t⋮ & ⋮ & ⋮ & ⋮ & ⋮\\\\\n",
       "\t869 & 1 & 0 & 0 & 0\\\\\n",
       "\t870 & 1 & 0 & 1 & 0\\\\\n",
       "\t876 & 0 & 0 & 1 & 0\\\\\n",
       "\t877 & 1 & 0 & 1 & 0\\\\\n",
       "\t883 & 1 & 0 & 0 & 0\\\\\n",
       "\t884 & 0 & 1 & 0 & 0\\\\\n",
       "\t890 & 0 & 0 & 1 & 0\\\\\n",
       "\t891 & 1 & 0 & 0 & 0\\\\\n",
       "\t897 & 0 & 0 & 0 & 0\\\\\n",
       "\t898 & 2 & 0 & 0 & 0\\\\\n",
       "\t904 & 0 & 0 & 0 & 0\\\\\n",
       "\t905 & 1 & 0 & 0 & 0\\\\\n",
       "\t911 & 0 & 0 & 0 & 0\\\\\n",
       "\t912 & 2 & 1 & 0 & 0\\\\\n",
       "\t918 & 1 & 1 & 0 & 0\\\\\n",
       "\t919 & 1 & 0 & 0 & 0\\\\\n",
       "\t925 & 0 & 0 & 1 & 0\\\\\n",
       "\t926 & 1 & 1 & 0 & 0\\\\\n",
       "\t932 & 0 & 0 & 0 & 0\\\\\n",
       "\t933 & 0 & 0 & 0 & 0\\\\\n",
       "\t939 & 0 & 0 & 0 & 0\\\\\n",
       "\t940 & 1 & 0 & 0 & 0\\\\\n",
       "\t947 & 2 & 1 & 0 & 1\\\\\n",
       "\t948 & 0 & 0 & 0 & 0\\\\\n",
       "\t955 & 0 & 0 & 0 & 0\\\\\n",
       "\t956 & 1 & 0 & 0 & 0\\\\\n",
       "\t963 & 1 & 1 & 0 & 0\\\\\n",
       "\t964 & 0 & 0 & 0 & 0\\\\\n",
       "\t971 & 1 & 0 & 0 & 0\\\\\n",
       "\t972 & 0 & 0 & 0 & 1\\\\\n",
       "\\end{tabular}\n"
      ],
      "text/markdown": [
       "\n",
       "A matrix: 400 × 4 of type dbl\n",
       "\n",
       "| <!--/--> | 0 | 1 | 2 | 3 |\n",
       "|---|---|---|---|---|\n",
       "| 1 | 0 | 0 | 0 | 2 |\n",
       "| 2 | 0 | 0 | 0 | 0 |\n",
       "| 5 | 0 | 0 | 0 | 2 |\n",
       "| 6 | 0 | 1 | 0 | 0 |\n",
       "| 9 | 1 | 0 | 0 | 0 |\n",
       "| 10 | 1 | 0 | 0 | 0 |\n",
       "| 13 | 0 | 0 | 0 | 0 |\n",
       "| 14 | 1 | 1 | 0 | 0 |\n",
       "| 17 | 1 | 0 | 0 | 0 |\n",
       "| 18 | 0 | 0 | 0 | 0 |\n",
       "| 21 | 0 | 0 | 0 | 1 |\n",
       "| 22 | 0 | 0 | 0 | 0 |\n",
       "| 25 | 0 | 0 | 0 | 0 |\n",
       "| 26 | 0 | 0 | 0 | 0 |\n",
       "| 29 | 2 | 1 | 0 | 0 |\n",
       "| 30 | 0 | 0 | 0 | 0 |\n",
       "| 33 | 1 | 0 | 0 | 0 |\n",
       "| 34 | 1 | 1 | 0 | 0 |\n",
       "| 37 | 0 | 0 | 0 | 1 |\n",
       "| 38 | 0 | 1 | 0 | 0 |\n",
       "| 41 | 0 | 1 | 0 | 0 |\n",
       "| 42 | 0 | 0 | 0 | 0 |\n",
       "| 45 | 1 | 0 | 0 | 0 |\n",
       "| 46 | 0 | 0 | 0 | 0 |\n",
       "| 49 | 0 | 0 | 0 | 0 |\n",
       "| 50 | 1 | 0 | 0 | 0 |\n",
       "| 53 | 1 | 0 | 0 | 0 |\n",
       "| 54 | 0 | 0 | 0 | 0 |\n",
       "| 57 | 1 | 0 | 1 | 0 |\n",
       "| 58 | 0 | 0 | 0 | 0 |\n",
       "| ⋮ | ⋮ | ⋮ | ⋮ | ⋮ |\n",
       "| 869 | 1 | 0 | 0 | 0 |\n",
       "| 870 | 1 | 0 | 1 | 0 |\n",
       "| 876 | 0 | 0 | 1 | 0 |\n",
       "| 877 | 1 | 0 | 1 | 0 |\n",
       "| 883 | 1 | 0 | 0 | 0 |\n",
       "| 884 | 0 | 1 | 0 | 0 |\n",
       "| 890 | 0 | 0 | 1 | 0 |\n",
       "| 891 | 1 | 0 | 0 | 0 |\n",
       "| 897 | 0 | 0 | 0 | 0 |\n",
       "| 898 | 2 | 0 | 0 | 0 |\n",
       "| 904 | 0 | 0 | 0 | 0 |\n",
       "| 905 | 1 | 0 | 0 | 0 |\n",
       "| 911 | 0 | 0 | 0 | 0 |\n",
       "| 912 | 2 | 1 | 0 | 0 |\n",
       "| 918 | 1 | 1 | 0 | 0 |\n",
       "| 919 | 1 | 0 | 0 | 0 |\n",
       "| 925 | 0 | 0 | 1 | 0 |\n",
       "| 926 | 1 | 1 | 0 | 0 |\n",
       "| 932 | 0 | 0 | 0 | 0 |\n",
       "| 933 | 0 | 0 | 0 | 0 |\n",
       "| 939 | 0 | 0 | 0 | 0 |\n",
       "| 940 | 1 | 0 | 0 | 0 |\n",
       "| 947 | 2 | 1 | 0 | 1 |\n",
       "| 948 | 0 | 0 | 0 | 0 |\n",
       "| 955 | 0 | 0 | 0 | 0 |\n",
       "| 956 | 1 | 0 | 0 | 0 |\n",
       "| 963 | 1 | 1 | 0 | 0 |\n",
       "| 964 | 0 | 0 | 0 | 0 |\n",
       "| 971 | 1 | 0 | 0 | 0 |\n",
       "| 972 | 0 | 0 | 0 | 1 |\n",
       "\n"
      ],
      "text/plain": [
       "    0 1 2 3\n",
       "1   0 0 0 2\n",
       "2   0 0 0 0\n",
       "5   0 0 0 2\n",
       "6   0 1 0 0\n",
       "9   1 0 0 0\n",
       "10  1 0 0 0\n",
       "13  0 0 0 0\n",
       "14  1 1 0 0\n",
       "17  1 0 0 0\n",
       "18  0 0 0 0\n",
       "21  0 0 0 1\n",
       "22  0 0 0 0\n",
       "25  0 0 0 0\n",
       "26  0 0 0 0\n",
       "29  2 1 0 0\n",
       "30  0 0 0 0\n",
       "33  1 0 0 0\n",
       "34  1 1 0 0\n",
       "37  0 0 0 1\n",
       "38  0 1 0 0\n",
       "41  0 1 0 0\n",
       "42  0 0 0 0\n",
       "45  1 0 0 0\n",
       "46  0 0 0 0\n",
       "49  0 0 0 0\n",
       "50  1 0 0 0\n",
       "53  1 0 0 0\n",
       "54  0 0 0 0\n",
       "57  1 0 1 0\n",
       "58  0 0 0 0\n",
       "⋮   ⋮ ⋮ ⋮ ⋮\n",
       "869 1 0 0 0\n",
       "870 1 0 1 0\n",
       "876 0 0 1 0\n",
       "877 1 0 1 0\n",
       "883 1 0 0 0\n",
       "884 0 1 0 0\n",
       "890 0 0 1 0\n",
       "891 1 0 0 0\n",
       "897 0 0 0 0\n",
       "898 2 0 0 0\n",
       "904 0 0 0 0\n",
       "905 1 0 0 0\n",
       "911 0 0 0 0\n",
       "912 2 1 0 0\n",
       "918 1 1 0 0\n",
       "919 1 0 0 0\n",
       "925 0 0 1 0\n",
       "926 1 1 0 0\n",
       "932 0 0 0 0\n",
       "933 0 0 0 0\n",
       "939 0 0 0 0\n",
       "940 1 0 0 0\n",
       "947 2 1 0 1\n",
       "948 0 0 0 0\n",
       "955 0 0 0 0\n",
       "956 1 0 0 0\n",
       "963 1 1 0 0\n",
       "964 0 0 0 0\n",
       "971 1 0 0 0\n",
       "972 0 0 0 1"
      ]
     },
     "metadata": {},
     "output_type": "display_data"
    }
   ],
   "source": [
    "#genotypes = apply(cbind(geno$V7,geno$V8),1,sum,na.rm = TRUE) This code can be useful when we only want to sum an specific set of columns for every row in the dataframe, and removing the missing information\n",
    "geno1 = sapply(split.default(geno, 0:(length(geno)-1) %/% 2), rowSums) #Sum the allele counts for every marker\n",
    "geno1"
   ]
  },
  {
   "cell_type": "markdown",
   "metadata": {
    "kernel": "R"
   },
   "source": [
    "To transpose the matrix so we have a SNP-by-individual matrix"
   ]
  },
  {
   "cell_type": "code",
   "execution_count": 23,
   "metadata": {
    "kernel": "R"
   },
   "outputs": [
    {
     "data": {
      "text/html": [
       "<table>\n",
       "<caption>A matrix: 4 × 400 of type dbl</caption>\n",
       "<thead>\n",
       "\t<tr><th></th><th scope=col>1</th><th scope=col>2</th><th scope=col>5</th><th scope=col>6</th><th scope=col>9</th><th scope=col>10</th><th scope=col>13</th><th scope=col>14</th><th scope=col>17</th><th scope=col>18</th><th scope=col>⋯</th><th scope=col>939</th><th scope=col>940</th><th scope=col>947</th><th scope=col>948</th><th scope=col>955</th><th scope=col>956</th><th scope=col>963</th><th scope=col>964</th><th scope=col>971</th><th scope=col>972</th></tr>\n",
       "</thead>\n",
       "<tbody>\n",
       "\t<tr><th scope=row>0</th><td>0</td><td>0</td><td>0</td><td>0</td><td>1</td><td>1</td><td>0</td><td>1</td><td>1</td><td>0</td><td>⋯</td><td>0</td><td>1</td><td>2</td><td>0</td><td>0</td><td>1</td><td>1</td><td>0</td><td>1</td><td>0</td></tr>\n",
       "\t<tr><th scope=row>1</th><td>0</td><td>0</td><td>0</td><td>1</td><td>0</td><td>0</td><td>0</td><td>1</td><td>0</td><td>0</td><td>⋯</td><td>0</td><td>0</td><td>1</td><td>0</td><td>0</td><td>0</td><td>1</td><td>0</td><td>0</td><td>0</td></tr>\n",
       "\t<tr><th scope=row>2</th><td>0</td><td>0</td><td>0</td><td>0</td><td>0</td><td>0</td><td>0</td><td>0</td><td>0</td><td>0</td><td>⋯</td><td>0</td><td>0</td><td>0</td><td>0</td><td>0</td><td>0</td><td>0</td><td>0</td><td>0</td><td>0</td></tr>\n",
       "\t<tr><th scope=row>3</th><td>2</td><td>0</td><td>2</td><td>0</td><td>0</td><td>0</td><td>0</td><td>0</td><td>0</td><td>0</td><td>⋯</td><td>0</td><td>0</td><td>1</td><td>0</td><td>0</td><td>0</td><td>0</td><td>0</td><td>0</td><td>1</td></tr>\n",
       "</tbody>\n",
       "</table>\n"
      ],
      "text/latex": [
       "A matrix: 4 × 400 of type dbl\n",
       "\\begin{tabular}{r|llllllllllllllllllllllllllllllllllllllllllllllllllllllllllllllllllllllllllllllllllllllllllllllllllllllllllllllllllllllllllllllllllllllllllllllllllllllllllllllllllllllllllllllllllllllllllllllllllllllllllllllllllllllllllllllllllllllllllllllllllllllllllllllllllllllllllllllllllllllllllllllllllllllllllllllllllllllllllllllllllllllllllllllllllllllllllllllllllllllllllllllllllllllllllllllllllllllllllllllll}\n",
       "  & 1 & 2 & 5 & 6 & 9 & 10 & 13 & 14 & 17 & 18 & 21 & 22 & 25 & 26 & 29 & 30 & 33 & 34 & 37 & 38 & 41 & 42 & 45 & 46 & 49 & 50 & 53 & 54 & 57 & 58 & 61 & 62 & 65 & 66 & 69 & 70 & 73 & 74 & 77 & 78 & 81 & 82 & 85 & 86 & 89 & 90 & 93 & 94 & 97 & 98 & 101 & 102 & 105 & 106 & 109 & 110 & 113 & 114 & 117 & 118 & 121 & 122 & 125 & 126 & 129 & 130 & 133 & 134 & 137 & 138 & 141 & 142 & 145 & 146 & 149 & 150 & 153 & 154 & 157 & 158 & 161 & 162 & 165 & 166 & 169 & 170 & 173 & 174 & 177 & 178 & 181 & 182 & 185 & 186 & 189 & 190 & 193 & 194 & 197 & 198 & 201 & 202 & 205 & 206 & 209 & 210 & 213 & 214 & 217 & 218 & 221 & 222 & 225 & 226 & 229 & 230 & 233 & 234 & 237 & 238 & 241 & 242 & 245 & 246 & 249 & 250 & 253 & 254 & 257 & 258 & 261 & 262 & 265 & 266 & 269 & 270 & 273 & 274 & 277 & 278 & 281 & 282 & 285 & 286 & 289 & 290 & 293 & 294 & 297 & 298 & 301 & 302 & 305 & 306 & 309 & 310 & 313 & 314 & 317 & 318 & 321 & 322 & 325 & 326 & 329 & 330 & 333 & 334 & 337 & 338 & 341 & 342 & 345 & 346 & 349 & 350 & 353 & 354 & 357 & 358 & 361 & 362 & 365 & 366 & 369 & 370 & 374 & 375 & 379 & 380 & 384 & 385 & 389 & 390 & 394 & 395 & 399 & 400 & 404 & 405 & 409 & 410 & 414 & 415 & 419 & 420 & 424 & 425 & 429 & 430 & 434 & 435 & 439 & 440 & 444 & 445 & 449 & 450 & 454 & 455 & 459 & 460 & 464 & 465 & 469 & 470 & 474 & 475 & 479 & 480 & 484 & 485 & 489 & 490 & 494 & 495 & 499 & 500 & 504 & 505 & 509 & 510 & 514 & 515 & 519 & 520 & 524 & 525 & 529 & 530 & 534 & 535 & 539 & 540 & 544 & 545 & 549 & 550 & 554 & 555 & 559 & 560 & 564 & 565 & 569 & 570 & 574 & 575 & 579 & 580 & 584 & 585 & 589 & 590 & 594 & 595 & 599 & 600 & 604 & 605 & 609 & 610 & 614 & 615 & 619 & 620 & 624 & 625 & 629 & 630 & 634 & 635 & 639 & 640 & 644 & 645 & 649 & 650 & 654 & 655 & 659 & 660 & 664 & 665 & 670 & 671 & 676 & 677 & 682 & 683 & 688 & 689 & 694 & 695 & 700 & 701 & 706 & 707 & 712 & 713 & 718 & 719 & 724 & 725 & 730 & 731 & 736 & 737 & 742 & 743 & 748 & 749 & 754 & 755 & 760 & 761 & 766 & 767 & 772 & 773 & 778 & 779 & 784 & 785 & 790 & 791 & 796 & 797 & 802 & 803 & 808 & 809 & 814 & 815 & 820 & 821 & 826 & 827 & 832 & 833 & 838 & 839 & 844 & 845 & 850 & 851 & 856 & 857 & 862 & 863 & 869 & 870 & 876 & 877 & 883 & 884 & 890 & 891 & 897 & 898 & 904 & 905 & 911 & 912 & 918 & 919 & 925 & 926 & 932 & 933 & 939 & 940 & 947 & 948 & 955 & 956 & 963 & 964 & 971 & 972\\\\\n",
       "\\hline\n",
       "\t0 & 0 & 0 & 0 & 0 & 1 & 1 & 0 & 1 & 1 & 0 & 0 & 0 & 0 & 0 & 2 & 0 & 1 & 1 & 0 & 0 & 0 & 0 & 1 & 0 & 0 & 1 & 1 & 0 & 1 & 0 & 0 & 0 & 1 & 0 & 0 & 1 & 0 & 2 & 0 & 0 & 0 & 1 & 1 & 1 & 0 & 0 & 1 & 0 & 1 & 0 & 0 & 1 & 0 & 1 & 0 & 1 & 0 & 0 & 0 & 2 & 0 & 0 & 1 & 1 & 0 & 0 & 0 & 0 & 0 & 0 & 0 & 0 & 0 & 1 & 0 & 0 & 0 & 1 & 1 & 0 & 0 & 1 & 0 & 0 & 0 & 0 & 0 & 0 & 0 & 0 & 0 & 0 & 0 & 0 & 0 & 0 & 0 & 1 & 1 & 0 & 1 & 1 & 0 & 0 & 0 & 1 & 0 & 0 & 0 & 0 & 0 & 0 & 1 & 0 & 0 & 0 & 1 & 0 & 0 & 0 & 0 & 2 & 0 & 1 & 0 & 0 & 1 & 0 & 0 & 1 & 1 & 0 & 0 & 0 & 0 & 0 & 0 & 1 & 0 & 0 & 0 & 0 & 1 & 0 & 0 & 2 & 0 & 2 & 1 & 1 & 0 & 0 & 0 & 0 & 0 & 0 & 1 & 1 & 1 & 0 & 0 & 1 & 0 & 0 & 0 & 1 & 0 & 1 & 1 & 0 & 0 & 1 & 0 & 0 & 0 & 0 & 0 & 0 & 0 & 0 & 0 & 1 & 0 & 0 & 1 & 0 & 0 & 0 & 0 & 0 & 0 & 0 & 0 & 1 & 0 & 1 & 0 & 0 & 1 & 0 & 0 & 1 & 0 & 1 & 0 & 0 & 0 & 0 & 0 & 0 & 2 & 1 & 0 & 1 & 0 & 1 & 1 & 0 & 0 & 0 & 1 & 2 & 0 & 0 & 0 & 1 & 1 & 0 & 0 & 0 & 0 & 1 & 1 & 0 & 0 & 0 & 0 & 0 & 1 & 1 & 0 & 1 & 1 & 0 & 0 & 0 & 0 & 0 & 0 & 0 & 0 & 0 & 0 & 1 & 1 & 0 & 0 & 1 & 0 & 0 & 1 & 1 & 0 & 0 & 0 & 1 & 0 & 1 & 1 & 0 & 1 & 0 & 0 & 0 & 0 & 0 & 1 & 1 & 0 & 0 & 0 & 0 & 1 & 0 & 1 & 0 & 0 & 0 & 1 & 0 & 0 & 2 & 1 & 1 & 0 & 0 & 1 & 0 & 1 & 0 & 0 & 0 & 1 & 0 & 2 & 1 & 0 & 1 & 0 & 2 & 0 & 1 & 0 & 0 & 0 & 0 & 0 & 0 & 1 & 1 & 1 & 0 & 0 & 1 & 0 & 1 & 1 & 1 & 1 & 1 & 1 & 0 & 1 & 0 & 0 & 1 & 0 & 0 & 1 & 0 & 0 & 0 & 0 & 0 & 1 & 0 & 1 & 1 & 1 & 1 & 0 & 0 & 0 & 1 & 1 & 0 & 1 & 0 & 0 & 0 & 0 & 0 & 0 & 2 & 1 & 0 & 1 & 0 & 0 & 0 & 1 & 1 & 0 & 1 & 1 & 0 & 0 & 1 & 0 & 2 & 0 & 1 & 0 & 2 & 1 & 1 & 0 & 1 & 0 & 0 & 0 & 1 & 2 & 0 & 0 & 1 & 1 & 0 & 1 & 0\\\\\n",
       "\t1 & 0 & 0 & 0 & 1 & 0 & 0 & 0 & 1 & 0 & 0 & 0 & 0 & 0 & 0 & 1 & 0 & 0 & 1 & 0 & 1 & 1 & 0 & 0 & 0 & 0 & 0 & 0 & 0 & 0 & 0 & 0 & 0 & 0 & 1 & 0 & 0 & 0 & 0 & 1 & 0 & 1 & 0 & 1 & 0 & 1 & 0 & 1 & 1 & 1 & 2 & 0 & 0 & 0 & 0 & 0 & 0 & 1 & 0 & 0 & 0 & 0 & 0 & 1 & 0 & 0 & 1 & 0 & 0 & 0 & 2 & 0 & 0 & 0 & 0 & 0 & 0 & 0 & 1 & 0 & 0 & 2 & 0 & 0 & 0 & 0 & 0 & 0 & 0 & 0 & 0 & 1 & 1 & 0 & 0 & 0 & 0 & 0 & 0 & 0 & 0 & 1 & 0 & 0 & 0 & 1 & 0 & 0 & 0 & 0 & 0 & 0 & 0 & 0 & 0 & 0 & 0 & 0 & 0 & 0 & 0 & 1 & 0 & 0 & 0 & 0 & 0 & 0 & 0 & 0 & 0 & 0 & 0 & 0 & 0 & 0 & 0 & 0 & 0 & 1 & 0 & 1 & 0 & 0 & 0 & 0 & 0 & 1 & 0 & 1 & 1 & 0 & 0 & 1 & 0 & 1 & 0 & 0 & 0 & 0 & 0 & 0 & 1 & 0 & 0 & 0 & 0 & 1 & 1 & 0 & 0 & 0 & 0 & 0 & 1 & 0 & 0 & 0 & 0 & 0 & 0 & 0 & 0 & 0 & 0 & 0 & 0 & 0 & 0 & 0 & 1 & 0 & 0 & 1 & 0 & 0 & 0 & 1 & 0 & 1 & 0 & 0 & 1 & 0 & 0 & 1 & 1 & 0 & 0 & 0 & 0 & 0 & 1 & 1 & 0 & 0 & 0 & 0 & 0 & 0 & 0 & 0 & 0 & 0 & 0 & 1 & 0 & 0 & 0 & 0 & 0 & 1 & 0 & 0 & 0 & 0 & 0 & 0 & 0 & 0 & 0 & 0 & 1 & 0 & 0 & 1 & 0 & 0 & 0 & 0 & 0 & 0 & 0 & 0 & 1 & 0 & 0 & 0 & 0 & 0 & 2 & 0 & 0 & 0 & 0 & 0 & 0 & 0 & 0 & 0 & 0 & 0 & 0 & 0 & 0 & 0 & 0 & 0 & 0 & 0 & 1 & 0 & 0 & 0 & 0 & 1 & 0 & 2 & 0 & 0 & 1 & 0 & 0 & 0 & 0 & 0 & 0 & 1 & 1 & 0 & 1 & 0 & 0 & 2 & 0 & 0 & 0 & 0 & 0 & 0 & 0 & 0 & 0 & 0 & 0 & 0 & 0 & 0 & 1 & 0 & 0 & 0 & 0 & 0 & 0 & 0 & 0 & 0 & 0 & 0 & 0 & 0 & 0 & 0 & 1 & 0 & 1 & 1 & 0 & 0 & 0 & 0 & 0 & 0 & 0 & 1 & 0 & 0 & 1 & 0 & 0 & 0 & 0 & 1 & 0 & 0 & 0 & 0 & 1 & 0 & 0 & 0 & 0 & 0 & 0 & 1 & 0 & 0 & 0 & 0 & 1 & 0 & 0 & 0 & 0 & 0 & 1 & 0 & 0 & 0 & 0 & 0 & 0 & 0 & 1 & 1 & 0 & 0 & 1 & 0 & 0 & 0 & 0 & 1 & 0 & 0 & 0 & 1 & 0 & 0 & 0\\\\\n",
       "\t2 & 0 & 0 & 0 & 0 & 0 & 0 & 0 & 0 & 0 & 0 & 0 & 0 & 0 & 0 & 0 & 0 & 0 & 0 & 0 & 0 & 0 & 0 & 0 & 0 & 0 & 0 & 0 & 0 & 1 & 0 & 1 & 1 & 0 & 0 & 0 & 0 & 0 & 0 & 0 & 0 & 0 & 0 & 0 & 0 & 0 & 0 & 0 & 0 & 0 & 1 & 0 & 1 & 1 & 0 & 0 & 1 & 0 & 0 & 0 & 0 & 0 & 0 & 1 & 1 & 0 & 0 & 0 & 0 & 1 & 0 & 0 & 0 & 0 & 0 & 0 & 0 & 0 & 1 & 0 & 0 & 0 & 0 & 1 & 0 & 1 & 0 & 0 & 0 & 0 & 1 & 0 & 0 & 0 & 0 & 0 & 1 & 0 & 1 & 0 & 0 & 0 & 0 & 0 & 0 & 0 & 0 & 0 & 0 & 0 & 0 & 0 & 0 & 0 & 0 & 0 & 0 & 0 & 0 & 0 & 0 & 0 & 0 & 0 & 0 & 0 & 0 & 0 & 0 & 0 & 1 & 0 & 0 & 0 & 0 & 1 & 1 & 0 & 0 & 0 & 0 & 1 & 0 & 0 & 0 & 0 & 0 & 0 & 0 & 1 & 0 & 0 & 0 & 0 & 0 & 1 & 0 & 0 & 0 & 0 & 1 & 0 & 0 & 0 & 1 & 0 & 0 & 1 & 0 & 1 & 0 & 0 & 1 & 0 & 0 & 0 & 0 & 0 & 1 & 0 & 0 & 1 & 0 & 0 & 0 & 0 & 0 & 0 & 0 & 0 & 1 & 0 & 0 & 0 & 1 & 0 & 0 & 0 & 0 & 0 & 0 & 0 & 0 & 0 & 1 & 0 & 0 & 0 & 0 & 0 & 0 & 0 & 0 & 0 & 0 & 0 & 0 & 0 & 1 & 0 & 0 & 0 & 0 & 0 & 0 & 1 & 0 & 0 & 0 & 0 & 0 & 1 & 0 & 0 & 0 & 0 & 1 & 0 & 0 & 0 & 0 & 0 & 0 & 0 & 1 & 0 & 1 & 0 & 0 & 0 & 0 & 0 & 0 & 0 & 1 & 0 & 0 & 0 & 0 & 0 & 1 & 0 & 0 & 0 & 1 & 0 & 0 & 0 & 0 & 0 & 1 & 2 & 0 & 0 & 1 & 0 & 0 & 1 & 0 & 0 & 0 & 0 & 1 & 0 & 0 & 0 & 0 & 1 & 0 & 0 & 0 & 0 & 1 & 1 & 0 & 0 & 0 & 0 & 0 & 1 & 0 & 0 & 1 & 0 & 1 & 0 & 0 & 0 & 1 & 0 & 0 & 1 & 1 & 0 & 0 & 0 & 1 & 0 & 0 & 1 & 0 & 0 & 0 & 0 & 1 & 0 & 0 & 1 & 0 & 0 & 0 & 0 & 0 & 0 & 0 & 0 & 0 & 0 & 0 & 0 & 0 & 0 & 0 & 1 & 0 & 0 & 1 & 1 & 0 & 0 & 1 & 0 & 1 & 0 & 0 & 0 & 0 & 0 & 0 & 0 & 1 & 1 & 0 & 1 & 0 & 0 & 0 & 0 & 0 & 0 & 0 & 0 & 1 & 1 & 1 & 0 & 0 & 1 & 0 & 0 & 0 & 0 & 0 & 0 & 0 & 0 & 0 & 1 & 0 & 0 & 0 & 0 & 0 & 0 & 0 & 0 & 0 & 0 & 0 & 0 & 0\\\\\n",
       "\t3 & 2 & 0 & 2 & 0 & 0 & 0 & 0 & 0 & 0 & 0 & 1 & 0 & 0 & 0 & 0 & 0 & 0 & 0 & 1 & 0 & 0 & 0 & 0 & 0 & 0 & 0 & 0 & 0 & 0 & 0 & 2 & 0 & 0 & 0 & 0 & 0 & 0 & 1 & 0 & 0 & 0 & 0 & 0 & 0 & 0 & 0 & 0 & 0 & 0 & 0 & 0 & 0 & 0 & 0 & 0 & 0 & 0 & 0 & 1 & 0 & 0 & 0 & 0 & 0 & 0 & 0 & 0 & 2 & 0 & 0 & 0 & 0 & 1 & 0 & 0 & 1 & 0 & 0 & 0 & 0 & 0 & 1 & 0 & 0 & 0 & 0 & 0 & 0 & 1 & 0 & 0 & 0 & 0 & 0 & 0 & 0 & 0 & 1 & 0 & 0 & 0 & 0 & 0 & 0 & 0 & 1 & 0 & 1 & 0 & 0 & 0 & 1 & 0 & 0 & 0 & 0 & 0 & 0 & 0 & 0 & 0 & 0 & 0 & 0 & 0 & 0 & 0 & 0 & 0 & 0 & 0 & 0 & 1 & 0 & 0 & 0 & 0 & 0 & 1 & 0 & 1 & 1 & 0 & 0 & 1 & 0 & 0 & 0 & 0 & 1 & 0 & 1 & 0 & 1 & 0 & 0 & 0 & 0 & 0 & 0 & 0 & 0 & 1 & 0 & 0 & 0 & 0 & 0 & 0 & 0 & 0 & 0 & 0 & 0 & 0 & 1 & 0 & 0 & 1 & 0 & 0 & 1 & 0 & 1 & 1 & 0 & 0 & 1 & 0 & 1 & 0 & 0 & 0 & 0 & 0 & 0 & 0 & 0 & 0 & 0 & 0 & 0 & 0 & 1 & 0 & 1 & 0 & 0 & 0 & 0 & 0 & 0 & 0 & 0 & 0 & 0 & 0 & 0 & 0 & 0 & 0 & 0 & 0 & 0 & 1 & 0 & 0 & 0 & 0 & 0 & 0 & 0 & 0 & 1 & 0 & 1 & 0 & 0 & 1 & 0 & 0 & 1 & 0 & 0 & 0 & 0 & 0 & 0 & 1 & 0 & 0 & 0 & 0 & 1 & 0 & 0 & 1 & 0 & 0 & 1 & 0 & 0 & 0 & 0 & 1 & 0 & 0 & 0 & 0 & 0 & 0 & 0 & 0 & 0 & 1 & 0 & 0 & 0 & 0 & 0 & 0 & 0 & 0 & 1 & 0 & 0 & 0 & 0 & 0 & 0 & 0 & 0 & 0 & 0 & 0 & 0 & 0 & 1 & 0 & 0 & 1 & 0 & 0 & 0 & 1 & 1 & 0 & 1 & 0 & 1 & 0 & 0 & 1 & 0 & 0 & 0 & 0 & 0 & 0 & 0 & 0 & 0 & 0 & 1 & 0 & 0 & 0 & 0 & 0 & 0 & 0 & 0 & 0 & 0 & 0 & 0 & 0 & 0 & 0 & 0 & 0 & 0 & 0 & 1 & 0 & 0 & 1 & 0 & 0 & 0 & 0 & 0 & 0 & 0 & 0 & 0 & 0 & 0 & 0 & 2 & 0 & 2 & 0 & 1 & 0 & 1 & 0 & 0 & 0 & 0 & 0 & 0 & 0 & 0 & 0 & 0 & 0 & 0 & 0 & 0 & 0 & 0 & 0 & 0 & 0 & 0 & 0 & 0 & 0 & 0 & 0 & 0 & 1 & 0 & 0 & 0 & 0 & 0 & 0 & 1\\\\\n",
       "\\end{tabular}\n"
      ],
      "text/markdown": [
       "\n",
       "A matrix: 4 × 400 of type dbl\n",
       "\n",
       "| <!--/--> | 1 | 2 | 5 | 6 | 9 | 10 | 13 | 14 | 17 | 18 | ⋯ | 939 | 940 | 947 | 948 | 955 | 956 | 963 | 964 | 971 | 972 |\n",
       "|---|---|---|---|---|---|---|---|---|---|---|---|---|---|---|---|---|---|---|---|---|---|\n",
       "| 0 | 0 | 0 | 0 | 0 | 1 | 1 | 0 | 1 | 1 | 0 | ⋯ | 0 | 1 | 2 | 0 | 0 | 1 | 1 | 0 | 1 | 0 |\n",
       "| 1 | 0 | 0 | 0 | 1 | 0 | 0 | 0 | 1 | 0 | 0 | ⋯ | 0 | 0 | 1 | 0 | 0 | 0 | 1 | 0 | 0 | 0 |\n",
       "| 2 | 0 | 0 | 0 | 0 | 0 | 0 | 0 | 0 | 0 | 0 | ⋯ | 0 | 0 | 0 | 0 | 0 | 0 | 0 | 0 | 0 | 0 |\n",
       "| 3 | 2 | 0 | 2 | 0 | 0 | 0 | 0 | 0 | 0 | 0 | ⋯ | 0 | 0 | 1 | 0 | 0 | 0 | 0 | 0 | 0 | 1 |\n",
       "\n"
      ],
      "text/plain": [
       "  1 2 5 6 9 10 13 14 17 18 ⋯ 939 940 947 948 955 956 963 964 971 972\n",
       "0 0 0 0 0 1 1  0  1  1  0  ⋯ 0   1   2   0   0   1   1   0   1   0  \n",
       "1 0 0 0 1 0 0  0  1  0  0  ⋯ 0   0   1   0   0   0   1   0   0   0  \n",
       "2 0 0 0 0 0 0  0  0  0  0  ⋯ 0   0   0   0   0   0   0   0   0   0  \n",
       "3 2 0 2 0 0 0  0  0  0  0  ⋯ 0   0   1   0   0   0   0   0   0   1  "
      ]
     },
     "metadata": {},
     "output_type": "display_data"
    }
   ],
   "source": [
    "geno2 = t(geno1)\n",
    "geno2"
   ]
  },
  {
   "cell_type": "markdown",
   "metadata": {
    "kernel": "R"
   },
   "source": [
    "Now, calculate minor allele and genotype frequencies in the founders to check that they match the expectations. Code obtained from https://github.com/ekfchan/evachan.org-Rscripts/blob/master/rscripts/calc_snp_stats.R"
   ]
  },
  {
   "cell_type": "code",
   "execution_count": 26,
   "metadata": {
    "kernel": "R"
   },
   "outputs": [
    {
     "data": {
      "text/html": [
       "<table>\n",
       "<caption>A data.frame: 4 × 13</caption>\n",
       "<thead>\n",
       "\t<tr><th></th><th scope=col>n</th><th scope=col>n0</th><th scope=col>n1</th><th scope=col>n2</th><th scope=col>p</th><th scope=col>maf</th><th scope=col>mgf</th><th scope=col>mono</th><th scope=col>loh</th><th scope=col>hwe.chisq</th><th scope=col>hwe.chisq.p</th><th scope=col>hwe.fisher</th><th scope=col>hwe.fisher.p</th></tr>\n",
       "\t<tr><th></th><th scope=col>&lt;int&gt;</th><th scope=col>&lt;int&gt;</th><th scope=col>&lt;int&gt;</th><th scope=col>&lt;int&gt;</th><th scope=col>&lt;dbl&gt;</th><th scope=col>&lt;dbl&gt;</th><th scope=col>&lt;dbl&gt;</th><th scope=col>&lt;lgl&gt;</th><th scope=col>&lt;lgl&gt;</th><th scope=col>&lt;dbl&gt;</th><th scope=col>&lt;dbl&gt;</th><th scope=col>&lt;dbl&gt;</th><th scope=col>&lt;dbl&gt;</th></tr>\n",
       "</thead>\n",
       "<tbody>\n",
       "\t<tr><th scope=row>0</th><td>400</td><td>258</td><td>127</td><td>15</td><td>0.80375</td><td>0.19625</td><td>0.0375</td><td>FALSE</td><td>FALSE</td><td>0.0165321</td><td>0.89769218</td><td>0.9599179</td><td>1.00000000</td></tr>\n",
       "\t<tr><th scope=row>1</th><td>400</td><td>324</td><td> 70</td><td> 6</td><td>0.89750</td><td>0.10250</td><td>0.0150</td><td>FALSE</td><td>FALSE</td><td>0.9544675</td><td>0.32858473</td><td>1.5848229</td><td>0.41060401</td></tr>\n",
       "\t<tr><th scope=row>2</th><td>400</td><td>328</td><td> 71</td><td> 1</td><td>0.90875</td><td>0.09125</td><td>0.0025</td><td>FALSE</td><td>FALSE</td><td>1.9748323</td><td>0.15993588</td><td>0.2608709</td><td>0.23010924</td></tr>\n",
       "\t<tr><th scope=row>3</th><td>400</td><td>338</td><td> 56</td><td> 6</td><td>0.91500</td><td>0.08500</td><td>0.0150</td><td>FALSE</td><td>FALSE</td><td>3.9974289</td><td>0.04556973</td><td>2.5783488</td><td>0.05596811</td></tr>\n",
       "</tbody>\n",
       "</table>\n"
      ],
      "text/latex": [
       "A data.frame: 4 × 13\n",
       "\\begin{tabular}{r|lllllllllllll}\n",
       "  & n & n0 & n1 & n2 & p & maf & mgf & mono & loh & hwe.chisq & hwe.chisq.p & hwe.fisher & hwe.fisher.p\\\\\n",
       "  & <int> & <int> & <int> & <int> & <dbl> & <dbl> & <dbl> & <lgl> & <lgl> & <dbl> & <dbl> & <dbl> & <dbl>\\\\\n",
       "\\hline\n",
       "\t0 & 400 & 258 & 127 & 15 & 0.80375 & 0.19625 & 0.0375 & FALSE & FALSE & 0.0165321 & 0.89769218 & 0.9599179 & 1.00000000\\\\\n",
       "\t1 & 400 & 324 &  70 &  6 & 0.89750 & 0.10250 & 0.0150 & FALSE & FALSE & 0.9544675 & 0.32858473 & 1.5848229 & 0.41060401\\\\\n",
       "\t2 & 400 & 328 &  71 &  1 & 0.90875 & 0.09125 & 0.0025 & FALSE & FALSE & 1.9748323 & 0.15993588 & 0.2608709 & 0.23010924\\\\\n",
       "\t3 & 400 & 338 &  56 &  6 & 0.91500 & 0.08500 & 0.0150 & FALSE & FALSE & 3.9974289 & 0.04556973 & 2.5783488 & 0.05596811\\\\\n",
       "\\end{tabular}\n"
      ],
      "text/markdown": [
       "\n",
       "A data.frame: 4 × 13\n",
       "\n",
       "| <!--/--> | n &lt;int&gt; | n0 &lt;int&gt; | n1 &lt;int&gt; | n2 &lt;int&gt; | p &lt;dbl&gt; | maf &lt;dbl&gt; | mgf &lt;dbl&gt; | mono &lt;lgl&gt; | loh &lt;lgl&gt; | hwe.chisq &lt;dbl&gt; | hwe.chisq.p &lt;dbl&gt; | hwe.fisher &lt;dbl&gt; | hwe.fisher.p &lt;dbl&gt; |\n",
       "|---|---|---|---|---|---|---|---|---|---|---|---|---|---|\n",
       "| 0 | 400 | 258 | 127 | 15 | 0.80375 | 0.19625 | 0.0375 | FALSE | FALSE | 0.0165321 | 0.89769218 | 0.9599179 | 1.00000000 |\n",
       "| 1 | 400 | 324 |  70 |  6 | 0.89750 | 0.10250 | 0.0150 | FALSE | FALSE | 0.9544675 | 0.32858473 | 1.5848229 | 0.41060401 |\n",
       "| 2 | 400 | 328 |  71 |  1 | 0.90875 | 0.09125 | 0.0025 | FALSE | FALSE | 1.9748323 | 0.15993588 | 0.2608709 | 0.23010924 |\n",
       "| 3 | 400 | 338 |  56 |  6 | 0.91500 | 0.08500 | 0.0150 | FALSE | FALSE | 3.9974289 | 0.04556973 | 2.5783488 | 0.05596811 |\n",
       "\n"
      ],
      "text/plain": [
       "  n   n0  n1  n2 p       maf     mgf    mono  loh   hwe.chisq hwe.chisq.p\n",
       "0 400 258 127 15 0.80375 0.19625 0.0375 FALSE FALSE 0.0165321 0.89769218 \n",
       "1 400 324  70  6 0.89750 0.10250 0.0150 FALSE FALSE 0.9544675 0.32858473 \n",
       "2 400 328  71  1 0.90875 0.09125 0.0025 FALSE FALSE 1.9748323 0.15993588 \n",
       "3 400 338  56  6 0.91500 0.08500 0.0150 FALSE FALSE 3.9974289 0.04556973 \n",
       "  hwe.fisher hwe.fisher.p\n",
       "0 0.9599179  1.00000000  \n",
       "1 1.5848229  0.41060401  \n",
       "2 0.2608709  0.23010924  \n",
       "3 2.5783488  0.05596811  "
      ]
     },
     "metadata": {},
     "output_type": "display_data"
    }
   ],
   "source": [
    "m <- nrow(geno2)     ## number of snps\n",
    "n <- ncol(geno2)     ## number of individuals\n",
    "\n",
    "## assign all non {0,1,2} to NA\n",
    "geno2[(geno2!=0) & (geno2!=1) & (geno2!=2)] <- NA \n",
    "geno2 <- as.matrix(geno2)\n",
    "\n",
    "## calc_n\n",
    "n0 <- apply(geno2==0,1,sum,na.rm=T)\n",
    "n1 <- apply(geno2==1,1,sum,na.rm=T)\n",
    "n2 <- apply(geno2==2,1,sum,na.rm=T)\n",
    "n <- n0 + n1 + n2\n",
    "\n",
    "## calculate allele frequencies in the founders\n",
    "p <- ((2*n0)+n1)/(2*n)\n",
    "q <- 1 - p\n",
    "maf <- pmin(p, q) #minor allele frequency\n",
    "mgf <- apply(cbind(n0,n1,n2),1,min) / n #minor genotype frequency\n",
    "\n",
    "## HWE: Chi-Square test\n",
    "obs <- cbind(n0=n0,n1=n1,n2=n2)\n",
    "exp <- cbind(p*p, 2*p*q, q*q)\n",
    "exp <- exp*n\n",
    "chisq <- (obs-exp)\n",
    "chisq <- (chisq*chisq) /exp\n",
    "hwe.chisq <- apply(chisq,1,sum)\n",
    "hwe.chisq.p <- 1-pchisq(hwe.chisq,df=1)\n",
    "\n",
    "## HWE: Fisher's Exact test\n",
    "z <- cbind(n0, ceiling(n1/2), floor(n1/2), n2)\n",
    "z <- lapply( split( z, 1:nrow(z) ), matrix, ncol=2 )\n",
    "z <- lapply( z, fisher.test )\n",
    "hwe.fisher <- as.numeric(unlist(lapply(z, \"[[\", \"estimate\")))\n",
    "hwe.fisher.p <- as.numeric(unlist(lapply(z, \"[[\", \"p.value\")))\n",
    "\n",
    "# MODIFIED 21 Oct 2012:  prior to this version, we had \"mono=(mgf<0)\" instead of \"mono<(maf<0)\"\n",
    "res <- data.frame( n=n, n0=n0, n1=n1, n2=n2, p=p, maf=maf, mgf=mgf,\n",
    "                        mono=(maf<=0), loh=(n1<=0), \n",
    "                        hwe.chisq=hwe.chisq, hwe.chisq.p=hwe.chisq.p,\n",
    "                        hwe.fisher=hwe.fisher, hwe.fisher.p=hwe.fisher.p, \n",
    "                        stringsAsFactors=F )\n",
    "row.names(res) <- row.names(geno2)\n",
    "res"
   ]
  },
  {
   "cell_type": "markdown",
   "metadata": {
    "kernel": "R"
   },
   "source": [
    "Calculate odd ratios based on cases100 and controls100 data:"
   ]
  },
  {
   "cell_type": "markdown",
   "metadata": {
    "kernel": "R"
   },
   "source": [
    "$ OR = \\dfrac{\\dfrac{P(Y=1|X=1)}{1-P(Y=1|X=1)}}{\\dfrac{P(Y=0|X=1)}{1-P(Y=0|X=1)}} $"
   ]
  },
  {
   "cell_type": "markdown",
   "metadata": {
    "kernel": "R"
   },
   "source": [
    "$ P(X=1) = P(X=1|Y=1) P(Y=1)+ P(X=1|Y=0) P(Y=0) $\n",
    "\n",
    "$ P(Y=1) = prevalence $\n",
    "\n",
    "$ P(Y=1|X=1) = \\dfrac {P(X=1|Y=1)P(Y=1)}{P(X=1)} $\n",
    "\n",
    "$ P(Y=0|X=1) = \\dfrac {P(X=1|Y=0)P(Y=0)}{P(X=1)} = 1 - P(Y=1|X=1) $"
   ]
  },
  {
   "cell_type": "markdown",
   "metadata": {
    "kernel": "R"
   },
   "source": [
    "To count the number of individuals with causal allele in the group of cases and controls to calculate a 2x2 table."
   ]
  },
  {
   "cell_type": "code",
   "execution_count": 57,
   "metadata": {
    "kernel": "R"
   },
   "outputs": [
    {
     "data": {
      "text/html": [
       "<table>\n",
       "<caption>A data.frame: 4 × 7</caption>\n",
       "<thead>\n",
       "\t<tr><th></th><th scope=col>n</th><th scope=col>n0</th><th scope=col>n1</th><th scope=col>n2</th><th scope=col>p</th><th scope=col>maf</th><th scope=col>mgf</th></tr>\n",
       "\t<tr><th></th><th scope=col>&lt;int&gt;</th><th scope=col>&lt;int&gt;</th><th scope=col>&lt;int&gt;</th><th scope=col>&lt;int&gt;</th><th scope=col>&lt;dbl&gt;</th><th scope=col>&lt;dbl&gt;</th><th scope=col>&lt;dbl&gt;</th></tr>\n",
       "</thead>\n",
       "<tbody>\n",
       "\t<tr><th scope=row>0</th><td>100</td><td>62</td><td>34</td><td>4</td><td>0.790</td><td>0.210</td><td>0.04</td></tr>\n",
       "\t<tr><th scope=row>1</th><td>100</td><td>81</td><td>18</td><td>1</td><td>0.900</td><td>0.100</td><td>0.01</td></tr>\n",
       "\t<tr><th scope=row>2</th><td>100</td><td>89</td><td>11</td><td>0</td><td>0.945</td><td>0.055</td><td>0.00</td></tr>\n",
       "\t<tr><th scope=row>3</th><td>100</td><td>77</td><td>22</td><td>1</td><td>0.880</td><td>0.120</td><td>0.01</td></tr>\n",
       "</tbody>\n",
       "</table>\n"
      ],
      "text/latex": [
       "A data.frame: 4 × 7\n",
       "\\begin{tabular}{r|lllllll}\n",
       "  & n & n0 & n1 & n2 & p & maf & mgf\\\\\n",
       "  & <int> & <int> & <int> & <int> & <dbl> & <dbl> & <dbl>\\\\\n",
       "\\hline\n",
       "\t0 & 100 & 62 & 34 & 4 & 0.790 & 0.210 & 0.04\\\\\n",
       "\t1 & 100 & 81 & 18 & 1 & 0.900 & 0.100 & 0.01\\\\\n",
       "\t2 & 100 & 89 & 11 & 0 & 0.945 & 0.055 & 0.00\\\\\n",
       "\t3 & 100 & 77 & 22 & 1 & 0.880 & 0.120 & 0.01\\\\\n",
       "\\end{tabular}\n"
      ],
      "text/markdown": [
       "\n",
       "A data.frame: 4 × 7\n",
       "\n",
       "| <!--/--> | n &lt;int&gt; | n0 &lt;int&gt; | n1 &lt;int&gt; | n2 &lt;int&gt; | p &lt;dbl&gt; | maf &lt;dbl&gt; | mgf &lt;dbl&gt; |\n",
       "|---|---|---|---|---|---|---|---|\n",
       "| 0 | 100 | 62 | 34 | 4 | 0.790 | 0.210 | 0.04 |\n",
       "| 1 | 100 | 81 | 18 | 1 | 0.900 | 0.100 | 0.01 |\n",
       "| 2 | 100 | 89 | 11 | 0 | 0.945 | 0.055 | 0.00 |\n",
       "| 3 | 100 | 77 | 22 | 1 | 0.880 | 0.120 | 0.01 |\n",
       "\n"
      ],
      "text/plain": [
       "  n   n0 n1 n2 p     maf   mgf \n",
       "0 100 62 34 4  0.790 0.210 0.04\n",
       "1 100 81 18 1  0.900 0.100 0.01\n",
       "2 100 89 11 0  0.945 0.055 0.00\n",
       "3 100 77 22 1  0.880 0.120 0.01"
      ]
     },
     "metadata": {},
     "output_type": "display_data"
    }
   ],
   "source": [
    "m <- nrow(cases_geno3)     ## number of snps\n",
    "n <- ncol(cases_geno3)     ## number of individuals\n",
    "\n",
    "## assign all non {0,1,2} to NA\n",
    "cases_geno3[(cases_geno3!=0) & (cases_geno3!=1) & (cases_geno3!=2)] <- NA \n",
    "cases_geno3 <- as.matrix(cases_geno3)\n",
    "\n",
    "## calc_n\n",
    "n0 <- apply(cases_geno3==0,1,sum,na.rm=T)\n",
    "n1 <- apply(cases_geno3==1,1,sum,na.rm=T)\n",
    "n2 <- apply(cases_geno3==2,1,sum,na.rm=T)\n",
    "n <- n0 + n1 + n2\n",
    "\n",
    "## calculate allele frequencies in the founders\n",
    "p <- ((2*n0)+n1)/(2*n)\n",
    "q <- 1 - p\n",
    "maf <- pmin(p, q) #minor allele frequency\n",
    "mgf <- apply(cbind(n0,n1,n2),1,min) / n #minor genotype frequency\n",
    "\n",
    "\n",
    "# MODIFIED 21 Oct 2012:  prior to this version, we had \"mono=(mgf<0)\" instead of \"mono<(maf<0)\"\n",
    "res <- data.frame( n=n, n0=n0, n1=n1, n2=n2, p=p, maf=maf, mgf=mgf, \n",
    "                        stringsAsFactors=F )\n",
    "row.names(res) <- row.names(geno2)\n",
    "res"
   ]
  },
  {
   "cell_type": "code",
   "execution_count": 73,
   "metadata": {
    "kernel": "R"
   },
   "outputs": [
    {
     "data": {
      "text/html": [
       "38"
      ],
      "text/latex": [
       "38"
      ],
      "text/markdown": [
       "38"
      ],
      "text/plain": [
       "[1] 38"
      ]
     },
     "metadata": {},
     "output_type": "display_data"
    }
   ],
   "source": [
    "a = res[1,3] + res[1,4]\n",
    "a"
   ]
  },
  {
   "cell_type": "code",
   "execution_count": 74,
   "metadata": {
    "kernel": "R"
   },
   "outputs": [
    {
     "data": {
      "text/html": [
       "62"
      ],
      "text/latex": [
       "62"
      ],
      "text/markdown": [
       "62"
      ],
      "text/plain": [
       "[1] 62"
      ]
     },
     "metadata": {},
     "output_type": "display_data"
    }
   ],
   "source": [
    "c = res[1,2]\n",
    "c"
   ]
  },
  {
   "cell_type": "code",
   "execution_count": 187,
   "metadata": {
    "kernel": "R"
   },
   "outputs": [
    {
     "data": {
      "text/html": [
       "<dl>\n",
       "\t<dt>$root</dt>\n",
       "\t\t<dd>1</dd>\n",
       "\t<dt>$f.root</dt>\n",
       "\t\t<dd>0</dd>\n",
       "\t<dt>$iter</dt>\n",
       "\t\t<dd>0</dd>\n",
       "\t<dt>$init.it</dt>\n",
       "\t\t<dd>&lt;NA&gt;</dd>\n",
       "\t<dt>$estim.prec</dt>\n",
       "\t\t<dd>0</dd>\n",
       "</dl>\n"
      ],
      "text/latex": [
       "\\begin{description}\n",
       "\\item[\\$root] 1\n",
       "\\item[\\$f.root] 0\n",
       "\\item[\\$iter] 0\n",
       "\\item[\\$init.it] <NA>\n",
       "\\item[\\$estim.prec] 0\n",
       "\\end{description}\n"
      ],
      "text/markdown": [
       "$root\n",
       ":   1\n",
       "$f.root\n",
       ":   0\n",
       "$iter\n",
       ":   0\n",
       "$init.it\n",
       ":   &lt;NA&gt;\n",
       "$estim.prec\n",
       ":   0\n",
       "\n",
       "\n"
      ],
      "text/plain": [
       "$root\n",
       "[1] 1\n",
       "\n",
       "$f.root\n",
       "[1] 0\n",
       "\n",
       "$iter\n",
       "[1] 0\n",
       "\n",
       "$init.it\n",
       "[1] NA\n",
       "\n",
       "$estim.prec\n",
       "[1] 0\n"
      ]
     },
     "metadata": {},
     "output_type": "display_data"
    }
   ],
   "source": [
    "f <- function(x) {x^2 - 2*x + 1}\n",
    "uniroot(f, lower = -1, upper = 1)"
   ]
  },
  {
   "cell_type": "code",
   "execution_count": null,
   "metadata": {
    "kernel": "R"
   },
   "outputs": [],
   "source": []
  }
 ],
 "metadata": {
  "kernelspec": {
   "display_name": "SoS",
   "language": "sos",
   "name": "sos"
  },
  "language_info": {
   "codemirror_mode": "sos",
   "file_extension": ".sos",
   "mimetype": "text/x-sos",
   "name": "sos",
   "nbconvert_exporter": "sos_notebook.converter.SoS_Exporter",
   "pygments_lexer": "sos"
  },
  "sos": {
   "kernels": [
    [
     "R",
     "ir",
     "R",
     "#DCDCDA",
     "r"
    ],
    [
     "SoS",
     "sos",
     "",
     "",
     "sos"
    ]
   ],
   "version": "0.20.6"
  }
 },
 "nbformat": 4,
 "nbformat_minor": 4
}
