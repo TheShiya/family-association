{
 "cells": [
  {
   "cell_type": "markdown",
   "metadata": {
    "kernel": "SoS"
   },
   "source": [
    "## Summary statistics of the simulated phenotypes and genotypes"
   ]
  },
  {
   "cell_type": "markdown",
   "metadata": {
    "kernel": "SoS"
   },
   "source": [
    "To import a text file to python line by line"
   ]
  },
  {
   "cell_type": "code",
   "execution_count": 5,
   "metadata": {
    "kernel": "SoS"
   },
   "outputs": [],
   "source": [
    "ped_file = ('seqsimla/input/results/Sim21.ped')"
   ]
  },
  {
   "cell_type": "code",
   "execution_count": 6,
   "metadata": {
    "kernel": "SoS"
   },
   "outputs": [],
   "source": [
    "lines = [x.strip().split() for x in open(ped_file).readlines()]"
   ]
  },
  {
   "cell_type": "markdown",
   "metadata": {
    "kernel": "SoS"
   },
   "source": [
    "To verify the number of lines in a file use the `len()` command"
   ]
  },
  {
   "cell_type": "code",
   "execution_count": 7,
   "metadata": {
    "kernel": "SoS"
   },
   "outputs": [
    {
     "data": {
      "text/plain": [
       "483"
      ]
     },
     "execution_count": 7,
     "metadata": {},
     "output_type": "execute_result"
    }
   ],
   "source": [
    "len(lines)"
   ]
  },
  {
   "cell_type": "code",
   "execution_count": 11,
   "metadata": {
    "kernel": "SoS"
   },
   "outputs": [
    {
     "data": {
      "text/plain": [
       "[['FAM1', 'M1', '0', '0', '2', '1', '1', '2', '1', '1', '1', '1', '2', '1'],\n",
       " ['FAM1', 'F1', '0', '0', '1', '1', '1', '1', '1', '1', '1', '2', '1', '1'],\n",
       " ['FAM1', 'O2', 'F1', 'M1', '2', '2', '1', '2', '1', '1', '2', '1', '1', '1'],\n",
       " ['FAM1', 'O1', 'F1', 'M1', '2', '2', '1', '2', '1', '1', '1', '1', '1', '1'],\n",
       " ['FAM2', 'M2', '0', '0', '2', '1', '1', '1', '1', '1', '2', '1', '1', '1'],\n",
       " ['FAM2', 'F2', '0', '0', '1', '1', '1', '1', '2', '1', '1', '2', '1', '1'],\n",
       " ['FAM2', 'O2', 'F2', 'M2', '2', '2', '1', '1', '1', '1', '2', '1', '1', '1'],\n",
       " ['FAM2', 'O1', 'F2', 'M2', '2', '2', '1', '1', '2', '1', '1', '2', '1', '1'],\n",
       " ['FAM3', 'M3', '0', '0', '2', '1', '1', '1', '1', '2', '1', '1', '1', '1'],\n",
       " ['FAM3', 'F3', '0', '0', '1', '1', '2', '1', '1', '1', '1', '1', '1', '1']]"
      ]
     },
     "execution_count": 11,
     "metadata": {},
     "output_type": "execute_result"
    }
   ],
   "source": [
    "lines [0:10]"
   ]
  },
  {
   "cell_type": "code",
   "execution_count": 54,
   "metadata": {
    "kernel": "SoS"
   },
   "outputs": [
    {
     "data": {
      "text/plain": [
       "[['FAM1', 'M1', '0', '0', '2', '1', '1', '2', '1', '1', '1', '1', '2', '1']]"
      ]
     },
     "execution_count": 54,
     "metadata": {},
     "output_type": "execute_result"
    }
   ],
   "source": [
    "lines [0:1]"
   ]
  },
  {
   "cell_type": "markdown",
   "metadata": {
    "kernel": "SoS"
   },
   "source": [
    "To select a part of the list of lists use the slicing method shown below. Here for the `pedigree` variable I am selecting the first six columns of the file and for the `affected` variable only the column number 6"
   ]
  },
  {
   "cell_type": "code",
   "execution_count": 85,
   "metadata": {
    "kernel": "SoS",
    "scrolled": true
   },
   "outputs": [],
   "source": [
    "pedigree = [sublist[0:6] for sublist in lines]\n",
    "affected = [sublist[5:6] for sublist in lines]\n",
    "individual = [sublist[1:2] for sublist in lines]"
   ]
  },
  {
   "cell_type": "markdown",
   "metadata": {
    "kernel": "SoS"
   },
   "source": [
    "Now to count the number of occurrences of 2, this means the number of affected individuals in a list of lists. Below two different ways of doing it"
   ]
  },
  {
   "cell_type": "code",
   "execution_count": 83,
   "metadata": {
    "kernel": "SoS"
   },
   "outputs": [
    {
     "name": "stdout",
     "output_type": "stream",
     "text": [
      "283\n"
     ]
    }
   ],
   "source": [
    "x = '2'\n",
    "def countList(affected, x): \n",
    "    count = 0\n",
    "    for i in range(len(affected)): \n",
    "        if x in affected[i]: \n",
    "            count+= 1\n",
    "        \n",
    "    return count\n",
    "print(countList(affected, x))"
   ]
  },
  {
   "cell_type": "code",
   "execution_count": 84,
   "metadata": {
    "kernel": "SoS"
   },
   "outputs": [
    {
     "name": "stdout",
     "output_type": "stream",
     "text": [
      "283\n"
     ]
    }
   ],
   "source": [
    "def countList(affected, x): \n",
    "      \n",
    "    return sum(x in item for item in affected) \n",
    "print(countList(affected, x))"
   ]
  },
  {
   "cell_type": "code",
   "execution_count": 147,
   "metadata": {
    "kernel": "SoS"
   },
   "outputs": [
    {
     "name": "stdout",
     "output_type": "stream",
     "text": [
      "0\n"
     ]
    }
   ],
   "source": [
    "#FIXME: how to count the 01, 02, 03....present in the list?\n",
    "s = range(1,10)\n",
    "y = f'O{1}'\n",
    "def countList(individual, y): \n",
    "    count = 0\n",
    "    for j in range(len(individual)): \n",
    "        if y in individual[j]: \n",
    "            count+= 1\n",
    "        \n",
    "    return count\n",
    "print(countList(individual, y))"
   ]
  },
  {
   "cell_type": "code",
   "execution_count": 14,
   "metadata": {
    "kernel": "R"
   },
   "outputs": [],
   "source": [
    "dat = read.table('')"
   ]
  },
  {
   "cell_type": "code",
   "execution_count": 16,
   "metadata": {
    "kernel": "R",
    "scrolled": true
   },
   "outputs": [
    {
     "data": {
      "text/html": [
       "<table>\n",
       "<caption>A data.frame: 483 × 14</caption>\n",
       "<thead>\n",
       "\t<tr><th scope=col>V1</th><th scope=col>V2</th><th scope=col>V3</th><th scope=col>V4</th><th scope=col>V5</th><th scope=col>V6</th><th scope=col>V7</th><th scope=col>V8</th><th scope=col>V9</th><th scope=col>V10</th><th scope=col>V11</th><th scope=col>V12</th><th scope=col>V13</th><th scope=col>V14</th></tr>\n",
       "\t<tr><th scope=col>&lt;fct&gt;</th><th scope=col>&lt;fct&gt;</th><th scope=col>&lt;fct&gt;</th><th scope=col>&lt;fct&gt;</th><th scope=col>&lt;int&gt;</th><th scope=col>&lt;int&gt;</th><th scope=col>&lt;int&gt;</th><th scope=col>&lt;int&gt;</th><th scope=col>&lt;int&gt;</th><th scope=col>&lt;int&gt;</th><th scope=col>&lt;int&gt;</th><th scope=col>&lt;int&gt;</th><th scope=col>&lt;int&gt;</th><th scope=col>&lt;int&gt;</th></tr>\n",
       "</thead>\n",
       "<tbody>\n",
       "\t<tr><td>FAM1</td><td>M1</td><td>0 </td><td>0 </td><td>2</td><td>1</td><td>1</td><td>2</td><td>1</td><td>1</td><td>1</td><td>1</td><td>2</td><td>1</td></tr>\n",
       "\t<tr><td>FAM1</td><td>F1</td><td>0 </td><td>0 </td><td>1</td><td>1</td><td>1</td><td>1</td><td>1</td><td>1</td><td>1</td><td>2</td><td>1</td><td>1</td></tr>\n",
       "\t<tr><td>FAM1</td><td>O2</td><td>F1</td><td>M1</td><td>2</td><td>2</td><td>1</td><td>2</td><td>1</td><td>1</td><td>2</td><td>1</td><td>1</td><td>1</td></tr>\n",
       "\t<tr><td>FAM1</td><td>O1</td><td>F1</td><td>M1</td><td>2</td><td>2</td><td>1</td><td>2</td><td>1</td><td>1</td><td>1</td><td>1</td><td>1</td><td>1</td></tr>\n",
       "\t<tr><td>FAM2</td><td>M2</td><td>0 </td><td>0 </td><td>2</td><td>1</td><td>1</td><td>1</td><td>1</td><td>1</td><td>2</td><td>1</td><td>1</td><td>1</td></tr>\n",
       "\t<tr><td>FAM2</td><td>F2</td><td>0 </td><td>0 </td><td>1</td><td>1</td><td>1</td><td>1</td><td>2</td><td>1</td><td>1</td><td>2</td><td>1</td><td>1</td></tr>\n",
       "\t<tr><td>FAM2</td><td>O2</td><td>F2</td><td>M2</td><td>2</td><td>2</td><td>1</td><td>1</td><td>1</td><td>1</td><td>2</td><td>1</td><td>1</td><td>1</td></tr>\n",
       "\t<tr><td>FAM2</td><td>O1</td><td>F2</td><td>M2</td><td>2</td><td>2</td><td>1</td><td>1</td><td>2</td><td>1</td><td>1</td><td>2</td><td>1</td><td>1</td></tr>\n",
       "\t<tr><td>FAM3</td><td>M3</td><td>0 </td><td>0 </td><td>2</td><td>1</td><td>1</td><td>1</td><td>1</td><td>2</td><td>1</td><td>1</td><td>1</td><td>1</td></tr>\n",
       "\t<tr><td>FAM3</td><td>F3</td><td>0 </td><td>0 </td><td>1</td><td>1</td><td>2</td><td>1</td><td>1</td><td>1</td><td>1</td><td>1</td><td>1</td><td>1</td></tr>\n",
       "\t<tr><td>FAM3</td><td>O2</td><td>F3</td><td>M3</td><td>2</td><td>2</td><td>1</td><td>1</td><td>1</td><td>1</td><td>1</td><td>1</td><td>1</td><td>1</td></tr>\n",
       "\t<tr><td>FAM3</td><td>O1</td><td>F3</td><td>M3</td><td>2</td><td>2</td><td>2</td><td>1</td><td>1</td><td>2</td><td>1</td><td>1</td><td>1</td><td>1</td></tr>\n",
       "\t<tr><td>FAM4</td><td>M4</td><td>0 </td><td>0 </td><td>2</td><td>1</td><td>1</td><td>2</td><td>1</td><td>1</td><td>1</td><td>1</td><td>1</td><td>1</td></tr>\n",
       "\t<tr><td>FAM4</td><td>F4</td><td>0 </td><td>0 </td><td>1</td><td>1</td><td>1</td><td>1</td><td>1</td><td>1</td><td>1</td><td>1</td><td>1</td><td>1</td></tr>\n",
       "\t<tr><td>FAM4</td><td>O2</td><td>F4</td><td>M4</td><td>1</td><td>2</td><td>1</td><td>1</td><td>1</td><td>1</td><td>1</td><td>1</td><td>1</td><td>1</td></tr>\n",
       "\t<tr><td>FAM4</td><td>O1</td><td>F4</td><td>M4</td><td>1</td><td>2</td><td>1</td><td>1</td><td>1</td><td>1</td><td>1</td><td>1</td><td>1</td><td>1</td></tr>\n",
       "\t<tr><td>FAM5</td><td>M5</td><td>0 </td><td>0 </td><td>2</td><td>1</td><td>1</td><td>1</td><td>1</td><td>2</td><td>1</td><td>1</td><td>1</td><td>1</td></tr>\n",
       "\t<tr><td>FAM5</td><td>F5</td><td>0 </td><td>0 </td><td>1</td><td>1</td><td>1</td><td>1</td><td>1</td><td>1</td><td>1</td><td>2</td><td>1</td><td>1</td></tr>\n",
       "\t<tr><td>FAM5</td><td>O2</td><td>F5</td><td>M5</td><td>1</td><td>2</td><td>1</td><td>1</td><td>1</td><td>2</td><td>1</td><td>1</td><td>1</td><td>1</td></tr>\n",
       "\t<tr><td>FAM5</td><td>O1</td><td>F5</td><td>M5</td><td>1</td><td>2</td><td>1</td><td>1</td><td>1</td><td>1</td><td>2</td><td>1</td><td>1</td><td>1</td></tr>\n",
       "\t<tr><td>FAM6</td><td>M6</td><td>0 </td><td>0 </td><td>2</td><td>1</td><td>1</td><td>1</td><td>1</td><td>2</td><td>1</td><td>1</td><td>1</td><td>1</td></tr>\n",
       "\t<tr><td>FAM6</td><td>F6</td><td>0 </td><td>0 </td><td>1</td><td>1</td><td>1</td><td>1</td><td>1</td><td>1</td><td>1</td><td>1</td><td>1</td><td>1</td></tr>\n",
       "\t<tr><td>FAM6</td><td>O2</td><td>F6</td><td>M6</td><td>1</td><td>2</td><td>1</td><td>1</td><td>1</td><td>2</td><td>1</td><td>1</td><td>1</td><td>1</td></tr>\n",
       "\t<tr><td>FAM6</td><td>O1</td><td>F6</td><td>M6</td><td>2</td><td>2</td><td>1</td><td>1</td><td>1</td><td>2</td><td>1</td><td>1</td><td>1</td><td>1</td></tr>\n",
       "\t<tr><td>FAM7</td><td>M7</td><td>0 </td><td>0 </td><td>2</td><td>1</td><td>1</td><td>1</td><td>1</td><td>1</td><td>1</td><td>1</td><td>1</td><td>1</td></tr>\n",
       "\t<tr><td>FAM7</td><td>F7</td><td>0 </td><td>0 </td><td>1</td><td>1</td><td>1</td><td>2</td><td>2</td><td>1</td><td>1</td><td>1</td><td>1</td><td>2</td></tr>\n",
       "\t<tr><td>FAM7</td><td>O2</td><td>F7</td><td>M7</td><td>2</td><td>2</td><td>1</td><td>1</td><td>2</td><td>1</td><td>1</td><td>1</td><td>1</td><td>1</td></tr>\n",
       "\t<tr><td>FAM7</td><td>O1</td><td>F7</td><td>M7</td><td>2</td><td>2</td><td>2</td><td>1</td><td>1</td><td>1</td><td>1</td><td>1</td><td>2</td><td>1</td></tr>\n",
       "\t<tr><td>FAM8</td><td>M8</td><td>0 </td><td>0 </td><td>2</td><td>1</td><td>1</td><td>1</td><td>1</td><td>2</td><td>1</td><td>2</td><td>1</td><td>1</td></tr>\n",
       "\t<tr><td>FAM8</td><td>F8</td><td>0 </td><td>0 </td><td>1</td><td>1</td><td>1</td><td>1</td><td>1</td><td>1</td><td>1</td><td>2</td><td>1</td><td>1</td></tr>\n",
       "\t<tr><td>⋮</td><td>⋮</td><td>⋮</td><td>⋮</td><td>⋮</td><td>⋮</td><td>⋮</td><td>⋮</td><td>⋮</td><td>⋮</td><td>⋮</td><td>⋮</td><td>⋮</td><td>⋮</td></tr>\n",
       "\t<tr><td>FAM97 </td><td>O6  </td><td>F97 </td><td>M97 </td><td>2</td><td>2</td><td>1</td><td>1</td><td>1</td><td>1</td><td>1</td><td>2</td><td>1</td><td>1</td></tr>\n",
       "\t<tr><td>FAM97 </td><td>O5  </td><td>F97 </td><td>M97 </td><td>1</td><td>2</td><td>1</td><td>2</td><td>2</td><td>1</td><td>2</td><td>1</td><td>2</td><td>1</td></tr>\n",
       "\t<tr><td>FAM97 </td><td>O4  </td><td>F97 </td><td>M97 </td><td>2</td><td>2</td><td>1</td><td>1</td><td>2</td><td>1</td><td>2</td><td>2</td><td>2</td><td>1</td></tr>\n",
       "\t<tr><td>FAM97 </td><td>O3  </td><td>F97 </td><td>M97 </td><td>1</td><td>2</td><td>1</td><td>2</td><td>2</td><td>1</td><td>2</td><td>1</td><td>2</td><td>1</td></tr>\n",
       "\t<tr><td>FAM97 </td><td>O2  </td><td>F97 </td><td>M97 </td><td>2</td><td>2</td><td>1</td><td>2</td><td>1</td><td>1</td><td>1</td><td>1</td><td>1</td><td>1</td></tr>\n",
       "\t<tr><td>FAM97 </td><td>O1  </td><td>F97 </td><td>M97 </td><td>1</td><td>2</td><td>1</td><td>2</td><td>2</td><td>1</td><td>2</td><td>1</td><td>2</td><td>1</td></tr>\n",
       "\t<tr><td>FAM98 </td><td>M98 </td><td>0   </td><td>0   </td><td>2</td><td>1</td><td>1</td><td>1</td><td>1</td><td>1</td><td>1</td><td>1</td><td>1</td><td>1</td></tr>\n",
       "\t<tr><td>FAM98 </td><td>F98 </td><td>0   </td><td>0   </td><td>1</td><td>1</td><td>2</td><td>1</td><td>1</td><td>1</td><td>1</td><td>1</td><td>1</td><td>1</td></tr>\n",
       "\t<tr><td>FAM98 </td><td>O6  </td><td>F98 </td><td>M98 </td><td>2</td><td>2</td><td>2</td><td>1</td><td>1</td><td>1</td><td>1</td><td>1</td><td>1</td><td>1</td></tr>\n",
       "\t<tr><td>FAM98 </td><td>O5  </td><td>F98 </td><td>M98 </td><td>2</td><td>2</td><td>2</td><td>1</td><td>1</td><td>1</td><td>1</td><td>1</td><td>1</td><td>1</td></tr>\n",
       "\t<tr><td>FAM98 </td><td>O4  </td><td>F98 </td><td>M98 </td><td>1</td><td>2</td><td>2</td><td>1</td><td>1</td><td>1</td><td>1</td><td>1</td><td>1</td><td>1</td></tr>\n",
       "\t<tr><td>FAM98 </td><td>O3  </td><td>F98 </td><td>M98 </td><td>2</td><td>2</td><td>2</td><td>1</td><td>1</td><td>1</td><td>1</td><td>1</td><td>1</td><td>1</td></tr>\n",
       "\t<tr><td>FAM98 </td><td>O2  </td><td>F98 </td><td>M98 </td><td>2</td><td>2</td><td>2</td><td>1</td><td>1</td><td>1</td><td>1</td><td>1</td><td>1</td><td>1</td></tr>\n",
       "\t<tr><td>FAM98 </td><td>O1  </td><td>F98 </td><td>M98 </td><td>1</td><td>2</td><td>2</td><td>1</td><td>1</td><td>1</td><td>1</td><td>1</td><td>1</td><td>1</td></tr>\n",
       "\t<tr><td>FAM99 </td><td>M99 </td><td>0   </td><td>0   </td><td>2</td><td>1</td><td>2</td><td>1</td><td>1</td><td>2</td><td>1</td><td>1</td><td>1</td><td>1</td></tr>\n",
       "\t<tr><td>FAM99 </td><td>F99 </td><td>0   </td><td>0   </td><td>1</td><td>1</td><td>1</td><td>1</td><td>1</td><td>1</td><td>1</td><td>1</td><td>1</td><td>1</td></tr>\n",
       "\t<tr><td>FAM99 </td><td>O6  </td><td>F99 </td><td>M99 </td><td>2</td><td>2</td><td>1</td><td>2</td><td>1</td><td>1</td><td>1</td><td>1</td><td>1</td><td>1</td></tr>\n",
       "\t<tr><td>FAM99 </td><td>O5  </td><td>F99 </td><td>M99 </td><td>1</td><td>2</td><td>1</td><td>2</td><td>1</td><td>1</td><td>1</td><td>1</td><td>1</td><td>1</td></tr>\n",
       "\t<tr><td>FAM99 </td><td>O4  </td><td>F99 </td><td>M99 </td><td>2</td><td>2</td><td>1</td><td>2</td><td>1</td><td>1</td><td>1</td><td>1</td><td>1</td><td>1</td></tr>\n",
       "\t<tr><td>FAM99 </td><td>O3  </td><td>F99 </td><td>M99 </td><td>2</td><td>2</td><td>1</td><td>2</td><td>1</td><td>1</td><td>1</td><td>1</td><td>1</td><td>1</td></tr>\n",
       "\t<tr><td>FAM99 </td><td>O2  </td><td>F99 </td><td>M99 </td><td>1</td><td>2</td><td>1</td><td>2</td><td>1</td><td>1</td><td>1</td><td>1</td><td>1</td><td>1</td></tr>\n",
       "\t<tr><td>FAM99 </td><td>O1  </td><td>F99 </td><td>M99 </td><td>1</td><td>2</td><td>1</td><td>1</td><td>1</td><td>2</td><td>1</td><td>1</td><td>1</td><td>1</td></tr>\n",
       "\t<tr><td>FAM100</td><td>M100</td><td>0   </td><td>0   </td><td>2</td><td>1</td><td>1</td><td>1</td><td>1</td><td>1</td><td>1</td><td>1</td><td>1</td><td>1</td></tr>\n",
       "\t<tr><td>FAM100</td><td>F100</td><td>0   </td><td>0   </td><td>1</td><td>1</td><td>1</td><td>2</td><td>1</td><td>1</td><td>1</td><td>1</td><td>1</td><td>2</td></tr>\n",
       "\t<tr><td>FAM100</td><td>O6  </td><td>F100</td><td>M100</td><td>1</td><td>2</td><td>1</td><td>1</td><td>1</td><td>1</td><td>1</td><td>1</td><td>1</td><td>1</td></tr>\n",
       "\t<tr><td>FAM100</td><td>O5  </td><td>F100</td><td>M100</td><td>2</td><td>2</td><td>2</td><td>1</td><td>1</td><td>1</td><td>1</td><td>1</td><td>2</td><td>1</td></tr>\n",
       "\t<tr><td>FAM100</td><td>O4  </td><td>F100</td><td>M100</td><td>2</td><td>2</td><td>2</td><td>1</td><td>1</td><td>1</td><td>1</td><td>1</td><td>2</td><td>1</td></tr>\n",
       "\t<tr><td>FAM100</td><td>O3  </td><td>F100</td><td>M100</td><td>1</td><td>2</td><td>1</td><td>1</td><td>1</td><td>1</td><td>1</td><td>1</td><td>1</td><td>1</td></tr>\n",
       "\t<tr><td>FAM100</td><td>O2  </td><td>F100</td><td>M100</td><td>2</td><td>2</td><td>1</td><td>1</td><td>1</td><td>1</td><td>1</td><td>1</td><td>1</td><td>1</td></tr>\n",
       "\t<tr><td>FAM100</td><td>O1  </td><td>F100</td><td>M100</td><td>2</td><td>2</td><td>1</td><td>1</td><td>1</td><td>1</td><td>1</td><td>1</td><td>1</td><td>1</td></tr>\n",
       "</tbody>\n",
       "</table>\n"
      ],
      "text/latex": [
       "A data.frame: 483 × 14\n",
       "\\begin{tabular}{r|llllllllllllll}\n",
       " V1 & V2 & V3 & V4 & V5 & V6 & V7 & V8 & V9 & V10 & V11 & V12 & V13 & V14\\\\\n",
       " <fct> & <fct> & <fct> & <fct> & <int> & <int> & <int> & <int> & <int> & <int> & <int> & <int> & <int> & <int>\\\\\n",
       "\\hline\n",
       "\t FAM1 & M1 & 0  & 0  & 2 & 1 & 1 & 2 & 1 & 1 & 1 & 1 & 2 & 1\\\\\n",
       "\t FAM1 & F1 & 0  & 0  & 1 & 1 & 1 & 1 & 1 & 1 & 1 & 2 & 1 & 1\\\\\n",
       "\t FAM1 & O2 & F1 & M1 & 2 & 2 & 1 & 2 & 1 & 1 & 2 & 1 & 1 & 1\\\\\n",
       "\t FAM1 & O1 & F1 & M1 & 2 & 2 & 1 & 2 & 1 & 1 & 1 & 1 & 1 & 1\\\\\n",
       "\t FAM2 & M2 & 0  & 0  & 2 & 1 & 1 & 1 & 1 & 1 & 2 & 1 & 1 & 1\\\\\n",
       "\t FAM2 & F2 & 0  & 0  & 1 & 1 & 1 & 1 & 2 & 1 & 1 & 2 & 1 & 1\\\\\n",
       "\t FAM2 & O2 & F2 & M2 & 2 & 2 & 1 & 1 & 1 & 1 & 2 & 1 & 1 & 1\\\\\n",
       "\t FAM2 & O1 & F2 & M2 & 2 & 2 & 1 & 1 & 2 & 1 & 1 & 2 & 1 & 1\\\\\n",
       "\t FAM3 & M3 & 0  & 0  & 2 & 1 & 1 & 1 & 1 & 2 & 1 & 1 & 1 & 1\\\\\n",
       "\t FAM3 & F3 & 0  & 0  & 1 & 1 & 2 & 1 & 1 & 1 & 1 & 1 & 1 & 1\\\\\n",
       "\t FAM3 & O2 & F3 & M3 & 2 & 2 & 1 & 1 & 1 & 1 & 1 & 1 & 1 & 1\\\\\n",
       "\t FAM3 & O1 & F3 & M3 & 2 & 2 & 2 & 1 & 1 & 2 & 1 & 1 & 1 & 1\\\\\n",
       "\t FAM4 & M4 & 0  & 0  & 2 & 1 & 1 & 2 & 1 & 1 & 1 & 1 & 1 & 1\\\\\n",
       "\t FAM4 & F4 & 0  & 0  & 1 & 1 & 1 & 1 & 1 & 1 & 1 & 1 & 1 & 1\\\\\n",
       "\t FAM4 & O2 & F4 & M4 & 1 & 2 & 1 & 1 & 1 & 1 & 1 & 1 & 1 & 1\\\\\n",
       "\t FAM4 & O1 & F4 & M4 & 1 & 2 & 1 & 1 & 1 & 1 & 1 & 1 & 1 & 1\\\\\n",
       "\t FAM5 & M5 & 0  & 0  & 2 & 1 & 1 & 1 & 1 & 2 & 1 & 1 & 1 & 1\\\\\n",
       "\t FAM5 & F5 & 0  & 0  & 1 & 1 & 1 & 1 & 1 & 1 & 1 & 2 & 1 & 1\\\\\n",
       "\t FAM5 & O2 & F5 & M5 & 1 & 2 & 1 & 1 & 1 & 2 & 1 & 1 & 1 & 1\\\\\n",
       "\t FAM5 & O1 & F5 & M5 & 1 & 2 & 1 & 1 & 1 & 1 & 2 & 1 & 1 & 1\\\\\n",
       "\t FAM6 & M6 & 0  & 0  & 2 & 1 & 1 & 1 & 1 & 2 & 1 & 1 & 1 & 1\\\\\n",
       "\t FAM6 & F6 & 0  & 0  & 1 & 1 & 1 & 1 & 1 & 1 & 1 & 1 & 1 & 1\\\\\n",
       "\t FAM6 & O2 & F6 & M6 & 1 & 2 & 1 & 1 & 1 & 2 & 1 & 1 & 1 & 1\\\\\n",
       "\t FAM6 & O1 & F6 & M6 & 2 & 2 & 1 & 1 & 1 & 2 & 1 & 1 & 1 & 1\\\\\n",
       "\t FAM7 & M7 & 0  & 0  & 2 & 1 & 1 & 1 & 1 & 1 & 1 & 1 & 1 & 1\\\\\n",
       "\t FAM7 & F7 & 0  & 0  & 1 & 1 & 1 & 2 & 2 & 1 & 1 & 1 & 1 & 2\\\\\n",
       "\t FAM7 & O2 & F7 & M7 & 2 & 2 & 1 & 1 & 2 & 1 & 1 & 1 & 1 & 1\\\\\n",
       "\t FAM7 & O1 & F7 & M7 & 2 & 2 & 2 & 1 & 1 & 1 & 1 & 1 & 2 & 1\\\\\n",
       "\t FAM8 & M8 & 0  & 0  & 2 & 1 & 1 & 1 & 1 & 2 & 1 & 2 & 1 & 1\\\\\n",
       "\t FAM8 & F8 & 0  & 0  & 1 & 1 & 1 & 1 & 1 & 1 & 1 & 2 & 1 & 1\\\\\n",
       "\t ⋮ & ⋮ & ⋮ & ⋮ & ⋮ & ⋮ & ⋮ & ⋮ & ⋮ & ⋮ & ⋮ & ⋮ & ⋮ & ⋮\\\\\n",
       "\t FAM97  & O6   & F97  & M97  & 2 & 2 & 1 & 1 & 1 & 1 & 1 & 2 & 1 & 1\\\\\n",
       "\t FAM97  & O5   & F97  & M97  & 1 & 2 & 1 & 2 & 2 & 1 & 2 & 1 & 2 & 1\\\\\n",
       "\t FAM97  & O4   & F97  & M97  & 2 & 2 & 1 & 1 & 2 & 1 & 2 & 2 & 2 & 1\\\\\n",
       "\t FAM97  & O3   & F97  & M97  & 1 & 2 & 1 & 2 & 2 & 1 & 2 & 1 & 2 & 1\\\\\n",
       "\t FAM97  & O2   & F97  & M97  & 2 & 2 & 1 & 2 & 1 & 1 & 1 & 1 & 1 & 1\\\\\n",
       "\t FAM97  & O1   & F97  & M97  & 1 & 2 & 1 & 2 & 2 & 1 & 2 & 1 & 2 & 1\\\\\n",
       "\t FAM98  & M98  & 0    & 0    & 2 & 1 & 1 & 1 & 1 & 1 & 1 & 1 & 1 & 1\\\\\n",
       "\t FAM98  & F98  & 0    & 0    & 1 & 1 & 2 & 1 & 1 & 1 & 1 & 1 & 1 & 1\\\\\n",
       "\t FAM98  & O6   & F98  & M98  & 2 & 2 & 2 & 1 & 1 & 1 & 1 & 1 & 1 & 1\\\\\n",
       "\t FAM98  & O5   & F98  & M98  & 2 & 2 & 2 & 1 & 1 & 1 & 1 & 1 & 1 & 1\\\\\n",
       "\t FAM98  & O4   & F98  & M98  & 1 & 2 & 2 & 1 & 1 & 1 & 1 & 1 & 1 & 1\\\\\n",
       "\t FAM98  & O3   & F98  & M98  & 2 & 2 & 2 & 1 & 1 & 1 & 1 & 1 & 1 & 1\\\\\n",
       "\t FAM98  & O2   & F98  & M98  & 2 & 2 & 2 & 1 & 1 & 1 & 1 & 1 & 1 & 1\\\\\n",
       "\t FAM98  & O1   & F98  & M98  & 1 & 2 & 2 & 1 & 1 & 1 & 1 & 1 & 1 & 1\\\\\n",
       "\t FAM99  & M99  & 0    & 0    & 2 & 1 & 2 & 1 & 1 & 2 & 1 & 1 & 1 & 1\\\\\n",
       "\t FAM99  & F99  & 0    & 0    & 1 & 1 & 1 & 1 & 1 & 1 & 1 & 1 & 1 & 1\\\\\n",
       "\t FAM99  & O6   & F99  & M99  & 2 & 2 & 1 & 2 & 1 & 1 & 1 & 1 & 1 & 1\\\\\n",
       "\t FAM99  & O5   & F99  & M99  & 1 & 2 & 1 & 2 & 1 & 1 & 1 & 1 & 1 & 1\\\\\n",
       "\t FAM99  & O4   & F99  & M99  & 2 & 2 & 1 & 2 & 1 & 1 & 1 & 1 & 1 & 1\\\\\n",
       "\t FAM99  & O3   & F99  & M99  & 2 & 2 & 1 & 2 & 1 & 1 & 1 & 1 & 1 & 1\\\\\n",
       "\t FAM99  & O2   & F99  & M99  & 1 & 2 & 1 & 2 & 1 & 1 & 1 & 1 & 1 & 1\\\\\n",
       "\t FAM99  & O1   & F99  & M99  & 1 & 2 & 1 & 1 & 1 & 2 & 1 & 1 & 1 & 1\\\\\n",
       "\t FAM100 & M100 & 0    & 0    & 2 & 1 & 1 & 1 & 1 & 1 & 1 & 1 & 1 & 1\\\\\n",
       "\t FAM100 & F100 & 0    & 0    & 1 & 1 & 1 & 2 & 1 & 1 & 1 & 1 & 1 & 2\\\\\n",
       "\t FAM100 & O6   & F100 & M100 & 1 & 2 & 1 & 1 & 1 & 1 & 1 & 1 & 1 & 1\\\\\n",
       "\t FAM100 & O5   & F100 & M100 & 2 & 2 & 2 & 1 & 1 & 1 & 1 & 1 & 2 & 1\\\\\n",
       "\t FAM100 & O4   & F100 & M100 & 2 & 2 & 2 & 1 & 1 & 1 & 1 & 1 & 2 & 1\\\\\n",
       "\t FAM100 & O3   & F100 & M100 & 1 & 2 & 1 & 1 & 1 & 1 & 1 & 1 & 1 & 1\\\\\n",
       "\t FAM100 & O2   & F100 & M100 & 2 & 2 & 1 & 1 & 1 & 1 & 1 & 1 & 1 & 1\\\\\n",
       "\t FAM100 & O1   & F100 & M100 & 2 & 2 & 1 & 1 & 1 & 1 & 1 & 1 & 1 & 1\\\\\n",
       "\\end{tabular}\n"
      ],
      "text/markdown": [
       "\n",
       "A data.frame: 483 × 14\n",
       "\n",
       "| V1 &lt;fct&gt; | V2 &lt;fct&gt; | V3 &lt;fct&gt; | V4 &lt;fct&gt; | V5 &lt;int&gt; | V6 &lt;int&gt; | V7 &lt;int&gt; | V8 &lt;int&gt; | V9 &lt;int&gt; | V10 &lt;int&gt; | V11 &lt;int&gt; | V12 &lt;int&gt; | V13 &lt;int&gt; | V14 &lt;int&gt; |\n",
       "|---|---|---|---|---|---|---|---|---|---|---|---|---|---|\n",
       "| FAM1 | M1 | 0  | 0  | 2 | 1 | 1 | 2 | 1 | 1 | 1 | 1 | 2 | 1 |\n",
       "| FAM1 | F1 | 0  | 0  | 1 | 1 | 1 | 1 | 1 | 1 | 1 | 2 | 1 | 1 |\n",
       "| FAM1 | O2 | F1 | M1 | 2 | 2 | 1 | 2 | 1 | 1 | 2 | 1 | 1 | 1 |\n",
       "| FAM1 | O1 | F1 | M1 | 2 | 2 | 1 | 2 | 1 | 1 | 1 | 1 | 1 | 1 |\n",
       "| FAM2 | M2 | 0  | 0  | 2 | 1 | 1 | 1 | 1 | 1 | 2 | 1 | 1 | 1 |\n",
       "| FAM2 | F2 | 0  | 0  | 1 | 1 | 1 | 1 | 2 | 1 | 1 | 2 | 1 | 1 |\n",
       "| FAM2 | O2 | F2 | M2 | 2 | 2 | 1 | 1 | 1 | 1 | 2 | 1 | 1 | 1 |\n",
       "| FAM2 | O1 | F2 | M2 | 2 | 2 | 1 | 1 | 2 | 1 | 1 | 2 | 1 | 1 |\n",
       "| FAM3 | M3 | 0  | 0  | 2 | 1 | 1 | 1 | 1 | 2 | 1 | 1 | 1 | 1 |\n",
       "| FAM3 | F3 | 0  | 0  | 1 | 1 | 2 | 1 | 1 | 1 | 1 | 1 | 1 | 1 |\n",
       "| FAM3 | O2 | F3 | M3 | 2 | 2 | 1 | 1 | 1 | 1 | 1 | 1 | 1 | 1 |\n",
       "| FAM3 | O1 | F3 | M3 | 2 | 2 | 2 | 1 | 1 | 2 | 1 | 1 | 1 | 1 |\n",
       "| FAM4 | M4 | 0  | 0  | 2 | 1 | 1 | 2 | 1 | 1 | 1 | 1 | 1 | 1 |\n",
       "| FAM4 | F4 | 0  | 0  | 1 | 1 | 1 | 1 | 1 | 1 | 1 | 1 | 1 | 1 |\n",
       "| FAM4 | O2 | F4 | M4 | 1 | 2 | 1 | 1 | 1 | 1 | 1 | 1 | 1 | 1 |\n",
       "| FAM4 | O1 | F4 | M4 | 1 | 2 | 1 | 1 | 1 | 1 | 1 | 1 | 1 | 1 |\n",
       "| FAM5 | M5 | 0  | 0  | 2 | 1 | 1 | 1 | 1 | 2 | 1 | 1 | 1 | 1 |\n",
       "| FAM5 | F5 | 0  | 0  | 1 | 1 | 1 | 1 | 1 | 1 | 1 | 2 | 1 | 1 |\n",
       "| FAM5 | O2 | F5 | M5 | 1 | 2 | 1 | 1 | 1 | 2 | 1 | 1 | 1 | 1 |\n",
       "| FAM5 | O1 | F5 | M5 | 1 | 2 | 1 | 1 | 1 | 1 | 2 | 1 | 1 | 1 |\n",
       "| FAM6 | M6 | 0  | 0  | 2 | 1 | 1 | 1 | 1 | 2 | 1 | 1 | 1 | 1 |\n",
       "| FAM6 | F6 | 0  | 0  | 1 | 1 | 1 | 1 | 1 | 1 | 1 | 1 | 1 | 1 |\n",
       "| FAM6 | O2 | F6 | M6 | 1 | 2 | 1 | 1 | 1 | 2 | 1 | 1 | 1 | 1 |\n",
       "| FAM6 | O1 | F6 | M6 | 2 | 2 | 1 | 1 | 1 | 2 | 1 | 1 | 1 | 1 |\n",
       "| FAM7 | M7 | 0  | 0  | 2 | 1 | 1 | 1 | 1 | 1 | 1 | 1 | 1 | 1 |\n",
       "| FAM7 | F7 | 0  | 0  | 1 | 1 | 1 | 2 | 2 | 1 | 1 | 1 | 1 | 2 |\n",
       "| FAM7 | O2 | F7 | M7 | 2 | 2 | 1 | 1 | 2 | 1 | 1 | 1 | 1 | 1 |\n",
       "| FAM7 | O1 | F7 | M7 | 2 | 2 | 2 | 1 | 1 | 1 | 1 | 1 | 2 | 1 |\n",
       "| FAM8 | M8 | 0  | 0  | 2 | 1 | 1 | 1 | 1 | 2 | 1 | 2 | 1 | 1 |\n",
       "| FAM8 | F8 | 0  | 0  | 1 | 1 | 1 | 1 | 1 | 1 | 1 | 2 | 1 | 1 |\n",
       "| ⋮ | ⋮ | ⋮ | ⋮ | ⋮ | ⋮ | ⋮ | ⋮ | ⋮ | ⋮ | ⋮ | ⋮ | ⋮ | ⋮ |\n",
       "| FAM97  | O6   | F97  | M97  | 2 | 2 | 1 | 1 | 1 | 1 | 1 | 2 | 1 | 1 |\n",
       "| FAM97  | O5   | F97  | M97  | 1 | 2 | 1 | 2 | 2 | 1 | 2 | 1 | 2 | 1 |\n",
       "| FAM97  | O4   | F97  | M97  | 2 | 2 | 1 | 1 | 2 | 1 | 2 | 2 | 2 | 1 |\n",
       "| FAM97  | O3   | F97  | M97  | 1 | 2 | 1 | 2 | 2 | 1 | 2 | 1 | 2 | 1 |\n",
       "| FAM97  | O2   | F97  | M97  | 2 | 2 | 1 | 2 | 1 | 1 | 1 | 1 | 1 | 1 |\n",
       "| FAM97  | O1   | F97  | M97  | 1 | 2 | 1 | 2 | 2 | 1 | 2 | 1 | 2 | 1 |\n",
       "| FAM98  | M98  | 0    | 0    | 2 | 1 | 1 | 1 | 1 | 1 | 1 | 1 | 1 | 1 |\n",
       "| FAM98  | F98  | 0    | 0    | 1 | 1 | 2 | 1 | 1 | 1 | 1 | 1 | 1 | 1 |\n",
       "| FAM98  | O6   | F98  | M98  | 2 | 2 | 2 | 1 | 1 | 1 | 1 | 1 | 1 | 1 |\n",
       "| FAM98  | O5   | F98  | M98  | 2 | 2 | 2 | 1 | 1 | 1 | 1 | 1 | 1 | 1 |\n",
       "| FAM98  | O4   | F98  | M98  | 1 | 2 | 2 | 1 | 1 | 1 | 1 | 1 | 1 | 1 |\n",
       "| FAM98  | O3   | F98  | M98  | 2 | 2 | 2 | 1 | 1 | 1 | 1 | 1 | 1 | 1 |\n",
       "| FAM98  | O2   | F98  | M98  | 2 | 2 | 2 | 1 | 1 | 1 | 1 | 1 | 1 | 1 |\n",
       "| FAM98  | O1   | F98  | M98  | 1 | 2 | 2 | 1 | 1 | 1 | 1 | 1 | 1 | 1 |\n",
       "| FAM99  | M99  | 0    | 0    | 2 | 1 | 2 | 1 | 1 | 2 | 1 | 1 | 1 | 1 |\n",
       "| FAM99  | F99  | 0    | 0    | 1 | 1 | 1 | 1 | 1 | 1 | 1 | 1 | 1 | 1 |\n",
       "| FAM99  | O6   | F99  | M99  | 2 | 2 | 1 | 2 | 1 | 1 | 1 | 1 | 1 | 1 |\n",
       "| FAM99  | O5   | F99  | M99  | 1 | 2 | 1 | 2 | 1 | 1 | 1 | 1 | 1 | 1 |\n",
       "| FAM99  | O4   | F99  | M99  | 2 | 2 | 1 | 2 | 1 | 1 | 1 | 1 | 1 | 1 |\n",
       "| FAM99  | O3   | F99  | M99  | 2 | 2 | 1 | 2 | 1 | 1 | 1 | 1 | 1 | 1 |\n",
       "| FAM99  | O2   | F99  | M99  | 1 | 2 | 1 | 2 | 1 | 1 | 1 | 1 | 1 | 1 |\n",
       "| FAM99  | O1   | F99  | M99  | 1 | 2 | 1 | 1 | 1 | 2 | 1 | 1 | 1 | 1 |\n",
       "| FAM100 | M100 | 0    | 0    | 2 | 1 | 1 | 1 | 1 | 1 | 1 | 1 | 1 | 1 |\n",
       "| FAM100 | F100 | 0    | 0    | 1 | 1 | 1 | 2 | 1 | 1 | 1 | 1 | 1 | 2 |\n",
       "| FAM100 | O6   | F100 | M100 | 1 | 2 | 1 | 1 | 1 | 1 | 1 | 1 | 1 | 1 |\n",
       "| FAM100 | O5   | F100 | M100 | 2 | 2 | 2 | 1 | 1 | 1 | 1 | 1 | 2 | 1 |\n",
       "| FAM100 | O4   | F100 | M100 | 2 | 2 | 2 | 1 | 1 | 1 | 1 | 1 | 2 | 1 |\n",
       "| FAM100 | O3   | F100 | M100 | 1 | 2 | 1 | 1 | 1 | 1 | 1 | 1 | 1 | 1 |\n",
       "| FAM100 | O2   | F100 | M100 | 2 | 2 | 1 | 1 | 1 | 1 | 1 | 1 | 1 | 1 |\n",
       "| FAM100 | O1   | F100 | M100 | 2 | 2 | 1 | 1 | 1 | 1 | 1 | 1 | 1 | 1 |\n",
       "\n"
      ],
      "text/plain": [
       "    V1     V2   V3   V4   V5 V6 V7 V8 V9 V10 V11 V12 V13 V14\n",
       "1   FAM1   M1   0    0    2  1  1  2  1  1   1   1   2   1  \n",
       "2   FAM1   F1   0    0    1  1  1  1  1  1   1   2   1   1  \n",
       "3   FAM1   O2   F1   M1   2  2  1  2  1  1   2   1   1   1  \n",
       "4   FAM1   O1   F1   M1   2  2  1  2  1  1   1   1   1   1  \n",
       "5   FAM2   M2   0    0    2  1  1  1  1  1   2   1   1   1  \n",
       "6   FAM2   F2   0    0    1  1  1  1  2  1   1   2   1   1  \n",
       "7   FAM2   O2   F2   M2   2  2  1  1  1  1   2   1   1   1  \n",
       "8   FAM2   O1   F2   M2   2  2  1  1  2  1   1   2   1   1  \n",
       "9   FAM3   M3   0    0    2  1  1  1  1  2   1   1   1   1  \n",
       "10  FAM3   F3   0    0    1  1  2  1  1  1   1   1   1   1  \n",
       "11  FAM3   O2   F3   M3   2  2  1  1  1  1   1   1   1   1  \n",
       "12  FAM3   O1   F3   M3   2  2  2  1  1  2   1   1   1   1  \n",
       "13  FAM4   M4   0    0    2  1  1  2  1  1   1   1   1   1  \n",
       "14  FAM4   F4   0    0    1  1  1  1  1  1   1   1   1   1  \n",
       "15  FAM4   O2   F4   M4   1  2  1  1  1  1   1   1   1   1  \n",
       "16  FAM4   O1   F4   M4   1  2  1  1  1  1   1   1   1   1  \n",
       "17  FAM5   M5   0    0    2  1  1  1  1  2   1   1   1   1  \n",
       "18  FAM5   F5   0    0    1  1  1  1  1  1   1   2   1   1  \n",
       "19  FAM5   O2   F5   M5   1  2  1  1  1  2   1   1   1   1  \n",
       "20  FAM5   O1   F5   M5   1  2  1  1  1  1   2   1   1   1  \n",
       "21  FAM6   M6   0    0    2  1  1  1  1  2   1   1   1   1  \n",
       "22  FAM6   F6   0    0    1  1  1  1  1  1   1   1   1   1  \n",
       "23  FAM6   O2   F6   M6   1  2  1  1  1  2   1   1   1   1  \n",
       "24  FAM6   O1   F6   M6   2  2  1  1  1  2   1   1   1   1  \n",
       "25  FAM7   M7   0    0    2  1  1  1  1  1   1   1   1   1  \n",
       "26  FAM7   F7   0    0    1  1  1  2  2  1   1   1   1   2  \n",
       "27  FAM7   O2   F7   M7   2  2  1  1  2  1   1   1   1   1  \n",
       "28  FAM7   O1   F7   M7   2  2  2  1  1  1   1   1   2   1  \n",
       "29  FAM8   M8   0    0    2  1  1  1  1  2   1   2   1   1  \n",
       "30  FAM8   F8   0    0    1  1  1  1  1  1   1   2   1   1  \n",
       "⋮   ⋮      ⋮    ⋮    ⋮    ⋮  ⋮  ⋮  ⋮  ⋮  ⋮   ⋮   ⋮   ⋮   ⋮  \n",
       "454 FAM97  O6   F97  M97  2  2  1  1  1  1   1   2   1   1  \n",
       "455 FAM97  O5   F97  M97  1  2  1  2  2  1   2   1   2   1  \n",
       "456 FAM97  O4   F97  M97  2  2  1  1  2  1   2   2   2   1  \n",
       "457 FAM97  O3   F97  M97  1  2  1  2  2  1   2   1   2   1  \n",
       "458 FAM97  O2   F97  M97  2  2  1  2  1  1   1   1   1   1  \n",
       "459 FAM97  O1   F97  M97  1  2  1  2  2  1   2   1   2   1  \n",
       "460 FAM98  M98  0    0    2  1  1  1  1  1   1   1   1   1  \n",
       "461 FAM98  F98  0    0    1  1  2  1  1  1   1   1   1   1  \n",
       "462 FAM98  O6   F98  M98  2  2  2  1  1  1   1   1   1   1  \n",
       "463 FAM98  O5   F98  M98  2  2  2  1  1  1   1   1   1   1  \n",
       "464 FAM98  O4   F98  M98  1  2  2  1  1  1   1   1   1   1  \n",
       "465 FAM98  O3   F98  M98  2  2  2  1  1  1   1   1   1   1  \n",
       "466 FAM98  O2   F98  M98  2  2  2  1  1  1   1   1   1   1  \n",
       "467 FAM98  O1   F98  M98  1  2  2  1  1  1   1   1   1   1  \n",
       "468 FAM99  M99  0    0    2  1  2  1  1  2   1   1   1   1  \n",
       "469 FAM99  F99  0    0    1  1  1  1  1  1   1   1   1   1  \n",
       "470 FAM99  O6   F99  M99  2  2  1  2  1  1   1   1   1   1  \n",
       "471 FAM99  O5   F99  M99  1  2  1  2  1  1   1   1   1   1  \n",
       "472 FAM99  O4   F99  M99  2  2  1  2  1  1   1   1   1   1  \n",
       "473 FAM99  O3   F99  M99  2  2  1  2  1  1   1   1   1   1  \n",
       "474 FAM99  O2   F99  M99  1  2  1  2  1  1   1   1   1   1  \n",
       "475 FAM99  O1   F99  M99  1  2  1  1  1  2   1   1   1   1  \n",
       "476 FAM100 M100 0    0    2  1  1  1  1  1   1   1   1   1  \n",
       "477 FAM100 F100 0    0    1  1  1  2  1  1   1   1   1   2  \n",
       "478 FAM100 O6   F100 M100 1  2  1  1  1  1   1   1   1   1  \n",
       "479 FAM100 O5   F100 M100 2  2  2  1  1  1   1   1   2   1  \n",
       "480 FAM100 O4   F100 M100 2  2  2  1  1  1   1   1   2   1  \n",
       "481 FAM100 O3   F100 M100 1  2  1  1  1  1   1   1   1   1  \n",
       "482 FAM100 O2   F100 M100 2  2  1  1  1  1   1   1   1   1  \n",
       "483 FAM100 O1   F100 M100 2  2  1  1  1  1   1   1   1   1  "
      ]
     },
     "metadata": {},
     "output_type": "display_data"
    }
   ],
   "source": [
    "dat"
   ]
  },
  {
   "cell_type": "code",
   "execution_count": 25,
   "metadata": {
    "kernel": "R"
   },
   "outputs": [],
   "source": [
    "install.packages(\"expss\")\n",
    "library(expss)"
   ]
  },
  {
   "cell_type": "code",
   "execution_count": 30,
   "metadata": {
    "kernel": "R"
   },
   "outputs": [
    {
     "data": {
      "text/html": [
       "1328"
      ],
      "text/latex": [
       "1328"
      ],
      "text/markdown": [
       "1328"
      ],
      "text/plain": [
       "[1] 1328"
      ]
     },
     "metadata": {},
     "output_type": "display_data"
    }
   ],
   "source": [
    "count_if(gt(1), dat$V6, data = dat)"
   ]
  },
  {
   "cell_type": "code",
   "execution_count": 149,
   "metadata": {
    "kernel": "R"
   },
   "outputs": [],
   "source": [
    "geno = dat[,-(1:6)] -1 "
   ]
  },
  {
   "cell_type": "code",
   "execution_count": 151,
   "metadata": {
    "kernel": "R"
   },
   "outputs": [
    {
     "data": {
      "text/html": [
       "<dl class=dl-horizontal>\n",
       "\t<dt>V7</dt>\n",
       "\t\t<dd>0.219461697722567</dd>\n",
       "\t<dt>V8</dt>\n",
       "\t\t<dd>0.227743271221532</dd>\n",
       "\t<dt>V9</dt>\n",
       "\t\t<dd>0.0848861283643892</dd>\n",
       "\t<dt>V10</dt>\n",
       "\t\t<dd>0.109730848861284</dd>\n",
       "\t<dt>V11</dt>\n",
       "\t\t<dd>0.105590062111801</dd>\n",
       "\t<dt>V12</dt>\n",
       "\t\t<dd>0.111801242236025</dd>\n",
       "\t<dt>V13</dt>\n",
       "\t\t<dd>0.126293995859213</dd>\n",
       "\t<dt>V14</dt>\n",
       "\t\t<dd>0.0869565217391304</dd>\n",
       "</dl>\n"
      ],
      "text/latex": [
       "\\begin{description*}\n",
       "\\item[V7] 0.219461697722567\n",
       "\\item[V8] 0.227743271221532\n",
       "\\item[V9] 0.0848861283643892\n",
       "\\item[V10] 0.109730848861284\n",
       "\\item[V11] 0.105590062111801\n",
       "\\item[V12] 0.111801242236025\n",
       "\\item[V13] 0.126293995859213\n",
       "\\item[V14] 0.0869565217391304\n",
       "\\end{description*}\n"
      ],
      "text/markdown": [
       "V7\n",
       ":   0.219461697722567V8\n",
       ":   0.227743271221532V9\n",
       ":   0.0848861283643892V10\n",
       ":   0.109730848861284V11\n",
       ":   0.105590062111801V12\n",
       ":   0.111801242236025V13\n",
       ":   0.126293995859213V14\n",
       ":   0.0869565217391304\n",
       "\n"
      ],
      "text/plain": [
       "        V7         V8         V9        V10        V11        V12        V13 \n",
       "0.21946170 0.22774327 0.08488613 0.10973085 0.10559006 0.11180124 0.12629400 \n",
       "       V14 \n",
       "0.08695652 "
      ]
     },
     "metadata": {},
     "output_type": "display_data"
    }
   ],
   "source": [
    "apply(geno,2,mean)"
   ]
  },
  {
   "cell_type": "code",
   "execution_count": null,
   "metadata": {
    "kernel": "R"
   },
   "outputs": [],
   "source": []
  }
 ],
 "metadata": {
  "kernelspec": {
   "display_name": "SoS",
   "language": "sos",
   "name": "sos"
  },
  "language_info": {
   "codemirror_mode": "sos",
   "file_extension": ".sos",
   "mimetype": "text/x-sos",
   "name": "sos",
   "nbconvert_exporter": "sos_notebook.converter.SoS_Exporter",
   "pygments_lexer": "sos"
  },
  "sos": {
   "kernels": [
    [
     "R",
     "ir",
     "R",
     "#DCDCDA",
     ""
    ],
    [
     "SoS",
     "sos",
     "",
     "",
     "sos"
    ]
   ],
   "version": "0.21.7"
  }
 },
 "nbformat": 4,
 "nbformat_minor": 4
}
