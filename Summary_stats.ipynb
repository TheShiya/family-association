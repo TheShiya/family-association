{
 "cells": [
  {
   "cell_type": "markdown",
   "metadata": {
    "kernel": "SoS"
   },
   "source": [
    "## Summary statistics of the simulated phenotypes and genotypes"
   ]
  },
  {
   "cell_type": "markdown",
   "metadata": {
    "kernel": "SoS"
   },
   "source": [
    "To import a text file to python line by line"
   ]
  },
  {
   "cell_type": "code",
   "execution_count": null,
   "metadata": {
    "kernel": "SoS"
   },
   "outputs": [],
   "source": [
    "ped_file = ('seqsimla/input/results/Sim21.ped')"
   ]
  },
  {
   "cell_type": "code",
   "execution_count": null,
   "metadata": {
    "kernel": "SoS"
   },
   "outputs": [],
   "source": [
    "lines = [x.strip().split() for x in open(ped_file).readlines()]"
   ]
  },
  {
   "cell_type": "markdown",
   "metadata": {
    "kernel": "SoS"
   },
   "source": [
    "To verify the number of lines in a file use the `len()` command"
   ]
  },
  {
   "cell_type": "code",
   "execution_count": null,
   "metadata": {
    "kernel": "SoS"
   },
   "outputs": [],
   "source": [
    "len(lines)"
   ]
  },
  {
   "cell_type": "code",
   "execution_count": null,
   "metadata": {
    "kernel": "SoS"
   },
   "outputs": [],
   "source": [
    "lines [0:10]"
   ]
  },
  {
   "cell_type": "code",
   "execution_count": null,
   "metadata": {
    "kernel": "SoS"
   },
   "outputs": [],
   "source": [
    "lines [0:1]"
   ]
  },
  {
   "cell_type": "markdown",
   "metadata": {
    "kernel": "SoS"
   },
   "source": [
    "To select a part of the list of lists use the slicing method shown below. Here for the `pedigree` variable I am selecting the first six columns of the file and for the `affected` variable only the column number 6"
   ]
  },
  {
   "cell_type": "code",
   "execution_count": null,
   "metadata": {
    "kernel": "SoS",
    "scrolled": true
   },
   "outputs": [],
   "source": [
    "pedigree = [sublist[0:6] for sublist in lines]\n",
    "affected = [sublist[5:6] for sublist in lines]\n",
    "individual = [sublist[1:2] for sublist in lines]"
   ]
  },
  {
   "cell_type": "markdown",
   "metadata": {
    "kernel": "SoS"
   },
   "source": [
    "Now to count the number of occurrences of 2 in the affection column, this means the number of affected individuals in a list of lists. Below two different ways of doing it"
   ]
  },
  {
   "cell_type": "code",
   "execution_count": null,
   "metadata": {
    "kernel": "SoS"
   },
   "outputs": [],
   "source": [
    "x = '2'\n",
    "def countList(affected, x): \n",
    "    count = 0\n",
    "    for i in range(len(affected)): \n",
    "        if x in affected[i]: \n",
    "            count+= 1\n",
    "        \n",
    "    return count\n",
    "print(countList(affected, x))"
   ]
  },
  {
   "cell_type": "code",
   "execution_count": null,
   "metadata": {
    "kernel": "SoS"
   },
   "outputs": [],
   "source": [
    "def countList(affected, x): \n",
    "      \n",
    "    return sum(x in item for item in affected) \n",
    "print(countList(affected, x))"
   ]
  },
  {
   "cell_type": "markdown",
   "metadata": {
    "kernel": "SoS"
   },
   "source": [
    "Below, I try to sum the number of affected offspring in the `proband_file` that should be the same as the total number of affected individuals since it was simulated like this from the beginning. "
   ]
  },
  {
   "cell_type": "code",
   "execution_count": null,
   "metadata": {
    "kernel": "SoS"
   },
   "outputs": [],
   "source": [
    "#FIXME: how to count the 01, 02, 03....present in the list?\n",
    "s = range(1,10)\n",
    "y = f'O{1}'\n",
    "def countList(individual, y): \n",
    "    count = 0\n",
    "    for j in range(len(individual)): \n",
    "        if y in individual[j]: \n",
    "            count+= 1\n",
    "        \n",
    "    return count\n",
    "print(countList(individual, y))"
   ]
  },
  {
   "cell_type": "markdown",
   "metadata": {
    "kernel": "SoS"
   },
   "source": [
    "Now to obtain some summary statistics, as for example the MAF for each variant, the OR and the genotype frequencies. "
   ]
  },
  {
   "cell_type": "code",
   "execution_count": null,
   "metadata": {
    "kernel": "R"
   },
   "outputs": [],
   "source": [
    "getwd()"
   ]
  },
  {
   "cell_type": "code",
   "execution_count": null,
   "metadata": {
    "kernel": "R"
   },
   "outputs": [],
   "source": [
    "dat = read.table('seqsimla/input/results/Sim21.ped') #read the genotypic data"
   ]
  },
  {
   "cell_type": "code",
   "execution_count": 234,
   "metadata": {
    "kernel": "R",
    "scrolled": true
   },
   "outputs": [
    {
     "data": {
      "text/html": [
       "<table>\n",
       "<caption>A data.frame: 6 × 14</caption>\n",
       "<thead>\n",
       "\t<tr><th scope=col>V1</th><th scope=col>V2</th><th scope=col>V3</th><th scope=col>V4</th><th scope=col>V5</th><th scope=col>V6</th><th scope=col>V7</th><th scope=col>V8</th><th scope=col>V9</th><th scope=col>V10</th><th scope=col>V11</th><th scope=col>V12</th><th scope=col>V13</th><th scope=col>V14</th></tr>\n",
       "\t<tr><th scope=col>&lt;fct&gt;</th><th scope=col>&lt;fct&gt;</th><th scope=col>&lt;fct&gt;</th><th scope=col>&lt;fct&gt;</th><th scope=col>&lt;int&gt;</th><th scope=col>&lt;int&gt;</th><th scope=col>&lt;int&gt;</th><th scope=col>&lt;int&gt;</th><th scope=col>&lt;int&gt;</th><th scope=col>&lt;int&gt;</th><th scope=col>&lt;int&gt;</th><th scope=col>&lt;int&gt;</th><th scope=col>&lt;int&gt;</th><th scope=col>&lt;int&gt;</th></tr>\n",
       "</thead>\n",
       "<tbody>\n",
       "\t<tr><td>FAM1</td><td>M1</td><td>0 </td><td>0 </td><td>2</td><td>1</td><td>1</td><td>2</td><td>1</td><td>1</td><td>1</td><td>1</td><td>2</td><td>1</td></tr>\n",
       "\t<tr><td>FAM1</td><td>F1</td><td>0 </td><td>0 </td><td>1</td><td>1</td><td>1</td><td>1</td><td>1</td><td>1</td><td>1</td><td>2</td><td>1</td><td>1</td></tr>\n",
       "\t<tr><td>FAM1</td><td>O2</td><td>F1</td><td>M1</td><td>2</td><td>2</td><td>1</td><td>2</td><td>1</td><td>1</td><td>2</td><td>1</td><td>1</td><td>1</td></tr>\n",
       "\t<tr><td>FAM1</td><td>O1</td><td>F1</td><td>M1</td><td>2</td><td>2</td><td>1</td><td>2</td><td>1</td><td>1</td><td>1</td><td>1</td><td>1</td><td>1</td></tr>\n",
       "\t<tr><td>FAM2</td><td>M2</td><td>0 </td><td>0 </td><td>2</td><td>1</td><td>1</td><td>1</td><td>1</td><td>1</td><td>2</td><td>1</td><td>1</td><td>1</td></tr>\n",
       "\t<tr><td>FAM2</td><td>F2</td><td>0 </td><td>0 </td><td>1</td><td>1</td><td>1</td><td>1</td><td>2</td><td>1</td><td>1</td><td>2</td><td>1</td><td>1</td></tr>\n",
       "</tbody>\n",
       "</table>\n"
      ],
      "text/latex": [
       "A data.frame: 6 × 14\n",
       "\\begin{tabular}{r|llllllllllllll}\n",
       " V1 & V2 & V3 & V4 & V5 & V6 & V7 & V8 & V9 & V10 & V11 & V12 & V13 & V14\\\\\n",
       " <fct> & <fct> & <fct> & <fct> & <int> & <int> & <int> & <int> & <int> & <int> & <int> & <int> & <int> & <int>\\\\\n",
       "\\hline\n",
       "\t FAM1 & M1 & 0  & 0  & 2 & 1 & 1 & 2 & 1 & 1 & 1 & 1 & 2 & 1\\\\\n",
       "\t FAM1 & F1 & 0  & 0  & 1 & 1 & 1 & 1 & 1 & 1 & 1 & 2 & 1 & 1\\\\\n",
       "\t FAM1 & O2 & F1 & M1 & 2 & 2 & 1 & 2 & 1 & 1 & 2 & 1 & 1 & 1\\\\\n",
       "\t FAM1 & O1 & F1 & M1 & 2 & 2 & 1 & 2 & 1 & 1 & 1 & 1 & 1 & 1\\\\\n",
       "\t FAM2 & M2 & 0  & 0  & 2 & 1 & 1 & 1 & 1 & 1 & 2 & 1 & 1 & 1\\\\\n",
       "\t FAM2 & F2 & 0  & 0  & 1 & 1 & 1 & 1 & 2 & 1 & 1 & 2 & 1 & 1\\\\\n",
       "\\end{tabular}\n"
      ],
      "text/markdown": [
       "\n",
       "A data.frame: 6 × 14\n",
       "\n",
       "| V1 &lt;fct&gt; | V2 &lt;fct&gt; | V3 &lt;fct&gt; | V4 &lt;fct&gt; | V5 &lt;int&gt; | V6 &lt;int&gt; | V7 &lt;int&gt; | V8 &lt;int&gt; | V9 &lt;int&gt; | V10 &lt;int&gt; | V11 &lt;int&gt; | V12 &lt;int&gt; | V13 &lt;int&gt; | V14 &lt;int&gt; |\n",
       "|---|---|---|---|---|---|---|---|---|---|---|---|---|---|\n",
       "| FAM1 | M1 | 0  | 0  | 2 | 1 | 1 | 2 | 1 | 1 | 1 | 1 | 2 | 1 |\n",
       "| FAM1 | F1 | 0  | 0  | 1 | 1 | 1 | 1 | 1 | 1 | 1 | 2 | 1 | 1 |\n",
       "| FAM1 | O2 | F1 | M1 | 2 | 2 | 1 | 2 | 1 | 1 | 2 | 1 | 1 | 1 |\n",
       "| FAM1 | O1 | F1 | M1 | 2 | 2 | 1 | 2 | 1 | 1 | 1 | 1 | 1 | 1 |\n",
       "| FAM2 | M2 | 0  | 0  | 2 | 1 | 1 | 1 | 1 | 1 | 2 | 1 | 1 | 1 |\n",
       "| FAM2 | F2 | 0  | 0  | 1 | 1 | 1 | 1 | 2 | 1 | 1 | 2 | 1 | 1 |\n",
       "\n"
      ],
      "text/plain": [
       "  V1   V2 V3 V4 V5 V6 V7 V8 V9 V10 V11 V12 V13 V14\n",
       "1 FAM1 M1 0  0  2  1  1  2  1  1   1   1   2   1  \n",
       "2 FAM1 F1 0  0  1  1  1  1  1  1   1   2   1   1  \n",
       "3 FAM1 O2 F1 M1 2  2  1  2  1  1   2   1   1   1  \n",
       "4 FAM1 O1 F1 M1 2  2  1  2  1  1   1   1   1   1  \n",
       "5 FAM2 M2 0  0  2  1  1  1  1  1   2   1   1   1  \n",
       "6 FAM2 F2 0  0  1  1  1  1  2  1   1   2   1   1  "
      ]
     },
     "metadata": {},
     "output_type": "display_data"
    }
   ],
   "source": [
    "head(dat) #look at the data"
   ]
  },
  {
   "cell_type": "code",
   "execution_count": 244,
   "metadata": {
    "kernel": "R",
    "scrolled": true
   },
   "outputs": [
    {
     "data": {
      "text/html": [
       "<table>\n",
       "<caption>A data.frame: 200 × 14</caption>\n",
       "<thead>\n",
       "\t<tr><th></th><th scope=col>V1</th><th scope=col>V2</th><th scope=col>V3</th><th scope=col>V4</th><th scope=col>V5</th><th scope=col>V6</th><th scope=col>V7</th><th scope=col>V8</th><th scope=col>V9</th><th scope=col>V10</th><th scope=col>V11</th><th scope=col>V12</th><th scope=col>V13</th><th scope=col>V14</th></tr>\n",
       "\t<tr><th></th><th scope=col>&lt;fct&gt;</th><th scope=col>&lt;fct&gt;</th><th scope=col>&lt;fct&gt;</th><th scope=col>&lt;fct&gt;</th><th scope=col>&lt;int&gt;</th><th scope=col>&lt;int&gt;</th><th scope=col>&lt;int&gt;</th><th scope=col>&lt;int&gt;</th><th scope=col>&lt;int&gt;</th><th scope=col>&lt;int&gt;</th><th scope=col>&lt;int&gt;</th><th scope=col>&lt;int&gt;</th><th scope=col>&lt;int&gt;</th><th scope=col>&lt;int&gt;</th></tr>\n",
       "</thead>\n",
       "<tbody>\n",
       "\t<tr><th scope=row>1</th><td>FAM1 </td><td>M1 </td><td>0</td><td>0</td><td>2</td><td>1</td><td>1</td><td>2</td><td>1</td><td>1</td><td>1</td><td>1</td><td>2</td><td>1</td></tr>\n",
       "\t<tr><th scope=row>2</th><td>FAM1 </td><td>F1 </td><td>0</td><td>0</td><td>1</td><td>1</td><td>1</td><td>1</td><td>1</td><td>1</td><td>1</td><td>2</td><td>1</td><td>1</td></tr>\n",
       "\t<tr><th scope=row>5</th><td>FAM2 </td><td>M2 </td><td>0</td><td>0</td><td>2</td><td>1</td><td>1</td><td>1</td><td>1</td><td>1</td><td>2</td><td>1</td><td>1</td><td>1</td></tr>\n",
       "\t<tr><th scope=row>6</th><td>FAM2 </td><td>F2 </td><td>0</td><td>0</td><td>1</td><td>1</td><td>1</td><td>1</td><td>2</td><td>1</td><td>1</td><td>2</td><td>1</td><td>1</td></tr>\n",
       "\t<tr><th scope=row>9</th><td>FAM3 </td><td>M3 </td><td>0</td><td>0</td><td>2</td><td>1</td><td>1</td><td>1</td><td>1</td><td>2</td><td>1</td><td>1</td><td>1</td><td>1</td></tr>\n",
       "\t<tr><th scope=row>10</th><td>FAM3 </td><td>F3 </td><td>0</td><td>0</td><td>1</td><td>1</td><td>2</td><td>1</td><td>1</td><td>1</td><td>1</td><td>1</td><td>1</td><td>1</td></tr>\n",
       "\t<tr><th scope=row>13</th><td>FAM4 </td><td>M4 </td><td>0</td><td>0</td><td>2</td><td>1</td><td>1</td><td>2</td><td>1</td><td>1</td><td>1</td><td>1</td><td>1</td><td>1</td></tr>\n",
       "\t<tr><th scope=row>14</th><td>FAM4 </td><td>F4 </td><td>0</td><td>0</td><td>1</td><td>1</td><td>1</td><td>1</td><td>1</td><td>1</td><td>1</td><td>1</td><td>1</td><td>1</td></tr>\n",
       "\t<tr><th scope=row>17</th><td>FAM5 </td><td>M5 </td><td>0</td><td>0</td><td>2</td><td>1</td><td>1</td><td>1</td><td>1</td><td>2</td><td>1</td><td>1</td><td>1</td><td>1</td></tr>\n",
       "\t<tr><th scope=row>18</th><td>FAM5 </td><td>F5 </td><td>0</td><td>0</td><td>1</td><td>1</td><td>1</td><td>1</td><td>1</td><td>1</td><td>1</td><td>2</td><td>1</td><td>1</td></tr>\n",
       "\t<tr><th scope=row>21</th><td>FAM6 </td><td>M6 </td><td>0</td><td>0</td><td>2</td><td>1</td><td>1</td><td>1</td><td>1</td><td>2</td><td>1</td><td>1</td><td>1</td><td>1</td></tr>\n",
       "\t<tr><th scope=row>22</th><td>FAM6 </td><td>F6 </td><td>0</td><td>0</td><td>1</td><td>1</td><td>1</td><td>1</td><td>1</td><td>1</td><td>1</td><td>1</td><td>1</td><td>1</td></tr>\n",
       "\t<tr><th scope=row>25</th><td>FAM7 </td><td>M7 </td><td>0</td><td>0</td><td>2</td><td>1</td><td>1</td><td>1</td><td>1</td><td>1</td><td>1</td><td>1</td><td>1</td><td>1</td></tr>\n",
       "\t<tr><th scope=row>26</th><td>FAM7 </td><td>F7 </td><td>0</td><td>0</td><td>1</td><td>1</td><td>1</td><td>2</td><td>2</td><td>1</td><td>1</td><td>1</td><td>1</td><td>2</td></tr>\n",
       "\t<tr><th scope=row>29</th><td>FAM8 </td><td>M8 </td><td>0</td><td>0</td><td>2</td><td>1</td><td>1</td><td>1</td><td>1</td><td>2</td><td>1</td><td>2</td><td>1</td><td>1</td></tr>\n",
       "\t<tr><th scope=row>30</th><td>FAM8 </td><td>F8 </td><td>0</td><td>0</td><td>1</td><td>1</td><td>1</td><td>1</td><td>1</td><td>1</td><td>1</td><td>2</td><td>1</td><td>1</td></tr>\n",
       "\t<tr><th scope=row>33</th><td>FAM9 </td><td>M9 </td><td>0</td><td>0</td><td>2</td><td>1</td><td>1</td><td>1</td><td>1</td><td>1</td><td>1</td><td>1</td><td>1</td><td>1</td></tr>\n",
       "\t<tr><th scope=row>34</th><td>FAM9 </td><td>F9 </td><td>0</td><td>0</td><td>1</td><td>1</td><td>1</td><td>2</td><td>1</td><td>2</td><td>1</td><td>1</td><td>1</td><td>1</td></tr>\n",
       "\t<tr><th scope=row>37</th><td>FAM10</td><td>M10</td><td>0</td><td>0</td><td>2</td><td>1</td><td>1</td><td>1</td><td>1</td><td>1</td><td>1</td><td>1</td><td>1</td><td>1</td></tr>\n",
       "\t<tr><th scope=row>38</th><td>FAM10</td><td>F10</td><td>0</td><td>0</td><td>1</td><td>1</td><td>1</td><td>1</td><td>1</td><td>1</td><td>2</td><td>1</td><td>1</td><td>1</td></tr>\n",
       "\t<tr><th scope=row>41</th><td>FAM11</td><td>M11</td><td>0</td><td>0</td><td>2</td><td>1</td><td>1</td><td>2</td><td>1</td><td>1</td><td>1</td><td>1</td><td>1</td><td>1</td></tr>\n",
       "\t<tr><th scope=row>42</th><td>FAM11</td><td>F11</td><td>0</td><td>0</td><td>1</td><td>1</td><td>1</td><td>1</td><td>1</td><td>1</td><td>1</td><td>1</td><td>1</td><td>1</td></tr>\n",
       "\t<tr><th scope=row>45</th><td>FAM12</td><td>M12</td><td>0</td><td>0</td><td>2</td><td>1</td><td>1</td><td>2</td><td>2</td><td>1</td><td>1</td><td>1</td><td>1</td><td>1</td></tr>\n",
       "\t<tr><th scope=row>46</th><td>FAM12</td><td>F12</td><td>0</td><td>0</td><td>1</td><td>1</td><td>2</td><td>1</td><td>1</td><td>1</td><td>1</td><td>1</td><td>1</td><td>2</td></tr>\n",
       "\t<tr><th scope=row>49</th><td>FAM13</td><td>M13</td><td>0</td><td>0</td><td>2</td><td>1</td><td>1</td><td>1</td><td>1</td><td>1</td><td>1</td><td>1</td><td>1</td><td>2</td></tr>\n",
       "\t<tr><th scope=row>50</th><td>FAM13</td><td>F13</td><td>0</td><td>0</td><td>1</td><td>1</td><td>1</td><td>1</td><td>1</td><td>1</td><td>1</td><td>1</td><td>1</td><td>1</td></tr>\n",
       "\t<tr><th scope=row>53</th><td>FAM14</td><td>M14</td><td>0</td><td>0</td><td>2</td><td>1</td><td>2</td><td>1</td><td>2</td><td>1</td><td>1</td><td>1</td><td>1</td><td>1</td></tr>\n",
       "\t<tr><th scope=row>54</th><td>FAM14</td><td>F14</td><td>0</td><td>0</td><td>1</td><td>1</td><td>1</td><td>2</td><td>1</td><td>2</td><td>1</td><td>1</td><td>2</td><td>1</td></tr>\n",
       "\t<tr><th scope=row>57</th><td>FAM15</td><td>M15</td><td>0</td><td>0</td><td>2</td><td>1</td><td>1</td><td>1</td><td>1</td><td>2</td><td>2</td><td>2</td><td>1</td><td>1</td></tr>\n",
       "\t<tr><th scope=row>58</th><td>FAM15</td><td>F15</td><td>0</td><td>0</td><td>1</td><td>1</td><td>1</td><td>1</td><td>2</td><td>1</td><td>1</td><td>1</td><td>1</td><td>1</td></tr>\n",
       "\t<tr><th scope=row>⋮</th><td>⋮</td><td>⋮</td><td>⋮</td><td>⋮</td><td>⋮</td><td>⋮</td><td>⋮</td><td>⋮</td><td>⋮</td><td>⋮</td><td>⋮</td><td>⋮</td><td>⋮</td><td>⋮</td></tr>\n",
       "\t<tr><th scope=row>384</th><td>FAM86 </td><td>M86 </td><td>0</td><td>0</td><td>2</td><td>1</td><td>2</td><td>2</td><td>1</td><td>1</td><td>1</td><td>1</td><td>1</td><td>1</td></tr>\n",
       "\t<tr><th scope=row>385</th><td>FAM86 </td><td>F86 </td><td>0</td><td>0</td><td>1</td><td>1</td><td>1</td><td>1</td><td>1</td><td>1</td><td>1</td><td>1</td><td>1</td><td>1</td></tr>\n",
       "\t<tr><th scope=row>390</th><td>FAM87 </td><td>M87 </td><td>0</td><td>0</td><td>2</td><td>1</td><td>1</td><td>1</td><td>1</td><td>1</td><td>1</td><td>1</td><td>1</td><td>1</td></tr>\n",
       "\t<tr><th scope=row>391</th><td>FAM87 </td><td>F87 </td><td>0</td><td>0</td><td>1</td><td>1</td><td>1</td><td>1</td><td>1</td><td>1</td><td>1</td><td>1</td><td>1</td><td>1</td></tr>\n",
       "\t<tr><th scope=row>396</th><td>FAM88 </td><td>M88 </td><td>0</td><td>0</td><td>2</td><td>1</td><td>1</td><td>1</td><td>1</td><td>1</td><td>1</td><td>1</td><td>1</td><td>1</td></tr>\n",
       "\t<tr><th scope=row>397</th><td>FAM88 </td><td>F88 </td><td>0</td><td>0</td><td>1</td><td>1</td><td>1</td><td>1</td><td>2</td><td>1</td><td>2</td><td>1</td><td>1</td><td>2</td></tr>\n",
       "\t<tr><th scope=row>402</th><td>FAM89 </td><td>M89 </td><td>0</td><td>0</td><td>2</td><td>1</td><td>1</td><td>1</td><td>1</td><td>2</td><td>1</td><td>1</td><td>1</td><td>1</td></tr>\n",
       "\t<tr><th scope=row>403</th><td>FAM89 </td><td>F89 </td><td>0</td><td>0</td><td>1</td><td>1</td><td>1</td><td>2</td><td>1</td><td>1</td><td>2</td><td>1</td><td>1</td><td>1</td></tr>\n",
       "\t<tr><th scope=row>408</th><td>FAM90 </td><td>M90 </td><td>0</td><td>0</td><td>2</td><td>1</td><td>1</td><td>1</td><td>1</td><td>1</td><td>1</td><td>1</td><td>1</td><td>1</td></tr>\n",
       "\t<tr><th scope=row>409</th><td>FAM90 </td><td>F90 </td><td>0</td><td>0</td><td>1</td><td>1</td><td>1</td><td>1</td><td>1</td><td>1</td><td>1</td><td>1</td><td>2</td><td>1</td></tr>\n",
       "\t<tr><th scope=row>414</th><td>FAM91 </td><td>M91 </td><td>0</td><td>0</td><td>2</td><td>1</td><td>1</td><td>1</td><td>1</td><td>1</td><td>1</td><td>1</td><td>1</td><td>2</td></tr>\n",
       "\t<tr><th scope=row>415</th><td>FAM91 </td><td>F91 </td><td>0</td><td>0</td><td>1</td><td>1</td><td>1</td><td>1</td><td>1</td><td>1</td><td>1</td><td>1</td><td>1</td><td>1</td></tr>\n",
       "\t<tr><th scope=row>420</th><td>FAM92 </td><td>M92 </td><td>0</td><td>0</td><td>2</td><td>1</td><td>1</td><td>1</td><td>1</td><td>1</td><td>1</td><td>1</td><td>1</td><td>1</td></tr>\n",
       "\t<tr><th scope=row>421</th><td>FAM92 </td><td>F92 </td><td>0</td><td>0</td><td>1</td><td>1</td><td>1</td><td>2</td><td>1</td><td>1</td><td>1</td><td>1</td><td>1</td><td>1</td></tr>\n",
       "\t<tr><th scope=row>426</th><td>FAM93 </td><td>M93 </td><td>0</td><td>0</td><td>2</td><td>1</td><td>2</td><td>2</td><td>1</td><td>1</td><td>1</td><td>1</td><td>1</td><td>1</td></tr>\n",
       "\t<tr><th scope=row>427</th><td>FAM93 </td><td>F93 </td><td>0</td><td>0</td><td>1</td><td>1</td><td>1</td><td>2</td><td>1</td><td>1</td><td>2</td><td>1</td><td>1</td><td>1</td></tr>\n",
       "\t<tr><th scope=row>432</th><td>FAM94 </td><td>M94 </td><td>0</td><td>0</td><td>2</td><td>1</td><td>1</td><td>1</td><td>1</td><td>1</td><td>1</td><td>1</td><td>1</td><td>1</td></tr>\n",
       "\t<tr><th scope=row>433</th><td>FAM94 </td><td>F94 </td><td>0</td><td>0</td><td>1</td><td>1</td><td>1</td><td>1</td><td>1</td><td>2</td><td>1</td><td>1</td><td>1</td><td>1</td></tr>\n",
       "\t<tr><th scope=row>438</th><td>FAM95 </td><td>M95 </td><td>0</td><td>0</td><td>2</td><td>1</td><td>2</td><td>1</td><td>1</td><td>1</td><td>2</td><td>1</td><td>1</td><td>1</td></tr>\n",
       "\t<tr><th scope=row>439</th><td>FAM95 </td><td>F95 </td><td>0</td><td>0</td><td>1</td><td>1</td><td>1</td><td>2</td><td>1</td><td>1</td><td>1</td><td>1</td><td>2</td><td>1</td></tr>\n",
       "\t<tr><th scope=row>445</th><td>FAM96 </td><td>M96 </td><td>0</td><td>0</td><td>2</td><td>1</td><td>1</td><td>2</td><td>1</td><td>1</td><td>1</td><td>1</td><td>1</td><td>1</td></tr>\n",
       "\t<tr><th scope=row>446</th><td>FAM96 </td><td>F96 </td><td>0</td><td>0</td><td>1</td><td>1</td><td>1</td><td>1</td><td>1</td><td>1</td><td>1</td><td>1</td><td>1</td><td>1</td></tr>\n",
       "\t<tr><th scope=row>452</th><td>FAM97 </td><td>M97 </td><td>0</td><td>0</td><td>2</td><td>1</td><td>1</td><td>2</td><td>1</td><td>1</td><td>2</td><td>1</td><td>1</td><td>1</td></tr>\n",
       "\t<tr><th scope=row>453</th><td>FAM97 </td><td>F97 </td><td>0</td><td>0</td><td>1</td><td>1</td><td>1</td><td>1</td><td>2</td><td>1</td><td>2</td><td>1</td><td>2</td><td>1</td></tr>\n",
       "\t<tr><th scope=row>460</th><td>FAM98 </td><td>M98 </td><td>0</td><td>0</td><td>2</td><td>1</td><td>1</td><td>1</td><td>1</td><td>1</td><td>1</td><td>1</td><td>1</td><td>1</td></tr>\n",
       "\t<tr><th scope=row>461</th><td>FAM98 </td><td>F98 </td><td>0</td><td>0</td><td>1</td><td>1</td><td>2</td><td>1</td><td>1</td><td>1</td><td>1</td><td>1</td><td>1</td><td>1</td></tr>\n",
       "\t<tr><th scope=row>468</th><td>FAM99 </td><td>M99 </td><td>0</td><td>0</td><td>2</td><td>1</td><td>2</td><td>1</td><td>1</td><td>2</td><td>1</td><td>1</td><td>1</td><td>1</td></tr>\n",
       "\t<tr><th scope=row>469</th><td>FAM99 </td><td>F99 </td><td>0</td><td>0</td><td>1</td><td>1</td><td>1</td><td>1</td><td>1</td><td>1</td><td>1</td><td>1</td><td>1</td><td>1</td></tr>\n",
       "\t<tr><th scope=row>476</th><td>FAM100</td><td>M100</td><td>0</td><td>0</td><td>2</td><td>1</td><td>1</td><td>1</td><td>1</td><td>1</td><td>1</td><td>1</td><td>1</td><td>1</td></tr>\n",
       "\t<tr><th scope=row>477</th><td>FAM100</td><td>F100</td><td>0</td><td>0</td><td>1</td><td>1</td><td>1</td><td>2</td><td>1</td><td>1</td><td>1</td><td>1</td><td>1</td><td>2</td></tr>\n",
       "</tbody>\n",
       "</table>\n"
      ],
      "text/latex": [
       "A data.frame: 200 × 14\n",
       "\\begin{tabular}{r|llllllllllllll}\n",
       "  & V1 & V2 & V3 & V4 & V5 & V6 & V7 & V8 & V9 & V10 & V11 & V12 & V13 & V14\\\\\n",
       "  & <fct> & <fct> & <fct> & <fct> & <int> & <int> & <int> & <int> & <int> & <int> & <int> & <int> & <int> & <int>\\\\\n",
       "\\hline\n",
       "\t1 & FAM1  & M1  & 0 & 0 & 2 & 1 & 1 & 2 & 1 & 1 & 1 & 1 & 2 & 1\\\\\n",
       "\t2 & FAM1  & F1  & 0 & 0 & 1 & 1 & 1 & 1 & 1 & 1 & 1 & 2 & 1 & 1\\\\\n",
       "\t5 & FAM2  & M2  & 0 & 0 & 2 & 1 & 1 & 1 & 1 & 1 & 2 & 1 & 1 & 1\\\\\n",
       "\t6 & FAM2  & F2  & 0 & 0 & 1 & 1 & 1 & 1 & 2 & 1 & 1 & 2 & 1 & 1\\\\\n",
       "\t9 & FAM3  & M3  & 0 & 0 & 2 & 1 & 1 & 1 & 1 & 2 & 1 & 1 & 1 & 1\\\\\n",
       "\t10 & FAM3  & F3  & 0 & 0 & 1 & 1 & 2 & 1 & 1 & 1 & 1 & 1 & 1 & 1\\\\\n",
       "\t13 & FAM4  & M4  & 0 & 0 & 2 & 1 & 1 & 2 & 1 & 1 & 1 & 1 & 1 & 1\\\\\n",
       "\t14 & FAM4  & F4  & 0 & 0 & 1 & 1 & 1 & 1 & 1 & 1 & 1 & 1 & 1 & 1\\\\\n",
       "\t17 & FAM5  & M5  & 0 & 0 & 2 & 1 & 1 & 1 & 1 & 2 & 1 & 1 & 1 & 1\\\\\n",
       "\t18 & FAM5  & F5  & 0 & 0 & 1 & 1 & 1 & 1 & 1 & 1 & 1 & 2 & 1 & 1\\\\\n",
       "\t21 & FAM6  & M6  & 0 & 0 & 2 & 1 & 1 & 1 & 1 & 2 & 1 & 1 & 1 & 1\\\\\n",
       "\t22 & FAM6  & F6  & 0 & 0 & 1 & 1 & 1 & 1 & 1 & 1 & 1 & 1 & 1 & 1\\\\\n",
       "\t25 & FAM7  & M7  & 0 & 0 & 2 & 1 & 1 & 1 & 1 & 1 & 1 & 1 & 1 & 1\\\\\n",
       "\t26 & FAM7  & F7  & 0 & 0 & 1 & 1 & 1 & 2 & 2 & 1 & 1 & 1 & 1 & 2\\\\\n",
       "\t29 & FAM8  & M8  & 0 & 0 & 2 & 1 & 1 & 1 & 1 & 2 & 1 & 2 & 1 & 1\\\\\n",
       "\t30 & FAM8  & F8  & 0 & 0 & 1 & 1 & 1 & 1 & 1 & 1 & 1 & 2 & 1 & 1\\\\\n",
       "\t33 & FAM9  & M9  & 0 & 0 & 2 & 1 & 1 & 1 & 1 & 1 & 1 & 1 & 1 & 1\\\\\n",
       "\t34 & FAM9  & F9  & 0 & 0 & 1 & 1 & 1 & 2 & 1 & 2 & 1 & 1 & 1 & 1\\\\\n",
       "\t37 & FAM10 & M10 & 0 & 0 & 2 & 1 & 1 & 1 & 1 & 1 & 1 & 1 & 1 & 1\\\\\n",
       "\t38 & FAM10 & F10 & 0 & 0 & 1 & 1 & 1 & 1 & 1 & 1 & 2 & 1 & 1 & 1\\\\\n",
       "\t41 & FAM11 & M11 & 0 & 0 & 2 & 1 & 1 & 2 & 1 & 1 & 1 & 1 & 1 & 1\\\\\n",
       "\t42 & FAM11 & F11 & 0 & 0 & 1 & 1 & 1 & 1 & 1 & 1 & 1 & 1 & 1 & 1\\\\\n",
       "\t45 & FAM12 & M12 & 0 & 0 & 2 & 1 & 1 & 2 & 2 & 1 & 1 & 1 & 1 & 1\\\\\n",
       "\t46 & FAM12 & F12 & 0 & 0 & 1 & 1 & 2 & 1 & 1 & 1 & 1 & 1 & 1 & 2\\\\\n",
       "\t49 & FAM13 & M13 & 0 & 0 & 2 & 1 & 1 & 1 & 1 & 1 & 1 & 1 & 1 & 2\\\\\n",
       "\t50 & FAM13 & F13 & 0 & 0 & 1 & 1 & 1 & 1 & 1 & 1 & 1 & 1 & 1 & 1\\\\\n",
       "\t53 & FAM14 & M14 & 0 & 0 & 2 & 1 & 2 & 1 & 2 & 1 & 1 & 1 & 1 & 1\\\\\n",
       "\t54 & FAM14 & F14 & 0 & 0 & 1 & 1 & 1 & 2 & 1 & 2 & 1 & 1 & 2 & 1\\\\\n",
       "\t57 & FAM15 & M15 & 0 & 0 & 2 & 1 & 1 & 1 & 1 & 2 & 2 & 2 & 1 & 1\\\\\n",
       "\t58 & FAM15 & F15 & 0 & 0 & 1 & 1 & 1 & 1 & 2 & 1 & 1 & 1 & 1 & 1\\\\\n",
       "\t⋮ & ⋮ & ⋮ & ⋮ & ⋮ & ⋮ & ⋮ & ⋮ & ⋮ & ⋮ & ⋮ & ⋮ & ⋮ & ⋮ & ⋮\\\\\n",
       "\t384 & FAM86  & M86  & 0 & 0 & 2 & 1 & 2 & 2 & 1 & 1 & 1 & 1 & 1 & 1\\\\\n",
       "\t385 & FAM86  & F86  & 0 & 0 & 1 & 1 & 1 & 1 & 1 & 1 & 1 & 1 & 1 & 1\\\\\n",
       "\t390 & FAM87  & M87  & 0 & 0 & 2 & 1 & 1 & 1 & 1 & 1 & 1 & 1 & 1 & 1\\\\\n",
       "\t391 & FAM87  & F87  & 0 & 0 & 1 & 1 & 1 & 1 & 1 & 1 & 1 & 1 & 1 & 1\\\\\n",
       "\t396 & FAM88  & M88  & 0 & 0 & 2 & 1 & 1 & 1 & 1 & 1 & 1 & 1 & 1 & 1\\\\\n",
       "\t397 & FAM88  & F88  & 0 & 0 & 1 & 1 & 1 & 1 & 2 & 1 & 2 & 1 & 1 & 2\\\\\n",
       "\t402 & FAM89  & M89  & 0 & 0 & 2 & 1 & 1 & 1 & 1 & 2 & 1 & 1 & 1 & 1\\\\\n",
       "\t403 & FAM89  & F89  & 0 & 0 & 1 & 1 & 1 & 2 & 1 & 1 & 2 & 1 & 1 & 1\\\\\n",
       "\t408 & FAM90  & M90  & 0 & 0 & 2 & 1 & 1 & 1 & 1 & 1 & 1 & 1 & 1 & 1\\\\\n",
       "\t409 & FAM90  & F90  & 0 & 0 & 1 & 1 & 1 & 1 & 1 & 1 & 1 & 1 & 2 & 1\\\\\n",
       "\t414 & FAM91  & M91  & 0 & 0 & 2 & 1 & 1 & 1 & 1 & 1 & 1 & 1 & 1 & 2\\\\\n",
       "\t415 & FAM91  & F91  & 0 & 0 & 1 & 1 & 1 & 1 & 1 & 1 & 1 & 1 & 1 & 1\\\\\n",
       "\t420 & FAM92  & M92  & 0 & 0 & 2 & 1 & 1 & 1 & 1 & 1 & 1 & 1 & 1 & 1\\\\\n",
       "\t421 & FAM92  & F92  & 0 & 0 & 1 & 1 & 1 & 2 & 1 & 1 & 1 & 1 & 1 & 1\\\\\n",
       "\t426 & FAM93  & M93  & 0 & 0 & 2 & 1 & 2 & 2 & 1 & 1 & 1 & 1 & 1 & 1\\\\\n",
       "\t427 & FAM93  & F93  & 0 & 0 & 1 & 1 & 1 & 2 & 1 & 1 & 2 & 1 & 1 & 1\\\\\n",
       "\t432 & FAM94  & M94  & 0 & 0 & 2 & 1 & 1 & 1 & 1 & 1 & 1 & 1 & 1 & 1\\\\\n",
       "\t433 & FAM94  & F94  & 0 & 0 & 1 & 1 & 1 & 1 & 1 & 2 & 1 & 1 & 1 & 1\\\\\n",
       "\t438 & FAM95  & M95  & 0 & 0 & 2 & 1 & 2 & 1 & 1 & 1 & 2 & 1 & 1 & 1\\\\\n",
       "\t439 & FAM95  & F95  & 0 & 0 & 1 & 1 & 1 & 2 & 1 & 1 & 1 & 1 & 2 & 1\\\\\n",
       "\t445 & FAM96  & M96  & 0 & 0 & 2 & 1 & 1 & 2 & 1 & 1 & 1 & 1 & 1 & 1\\\\\n",
       "\t446 & FAM96  & F96  & 0 & 0 & 1 & 1 & 1 & 1 & 1 & 1 & 1 & 1 & 1 & 1\\\\\n",
       "\t452 & FAM97  & M97  & 0 & 0 & 2 & 1 & 1 & 2 & 1 & 1 & 2 & 1 & 1 & 1\\\\\n",
       "\t453 & FAM97  & F97  & 0 & 0 & 1 & 1 & 1 & 1 & 2 & 1 & 2 & 1 & 2 & 1\\\\\n",
       "\t460 & FAM98  & M98  & 0 & 0 & 2 & 1 & 1 & 1 & 1 & 1 & 1 & 1 & 1 & 1\\\\\n",
       "\t461 & FAM98  & F98  & 0 & 0 & 1 & 1 & 2 & 1 & 1 & 1 & 1 & 1 & 1 & 1\\\\\n",
       "\t468 & FAM99  & M99  & 0 & 0 & 2 & 1 & 2 & 1 & 1 & 2 & 1 & 1 & 1 & 1\\\\\n",
       "\t469 & FAM99  & F99  & 0 & 0 & 1 & 1 & 1 & 1 & 1 & 1 & 1 & 1 & 1 & 1\\\\\n",
       "\t476 & FAM100 & M100 & 0 & 0 & 2 & 1 & 1 & 1 & 1 & 1 & 1 & 1 & 1 & 1\\\\\n",
       "\t477 & FAM100 & F100 & 0 & 0 & 1 & 1 & 1 & 2 & 1 & 1 & 1 & 1 & 1 & 2\\\\\n",
       "\\end{tabular}\n"
      ],
      "text/markdown": [
       "\n",
       "A data.frame: 200 × 14\n",
       "\n",
       "| <!--/--> | V1 &lt;fct&gt; | V2 &lt;fct&gt; | V3 &lt;fct&gt; | V4 &lt;fct&gt; | V5 &lt;int&gt; | V6 &lt;int&gt; | V7 &lt;int&gt; | V8 &lt;int&gt; | V9 &lt;int&gt; | V10 &lt;int&gt; | V11 &lt;int&gt; | V12 &lt;int&gt; | V13 &lt;int&gt; | V14 &lt;int&gt; |\n",
       "|---|---|---|---|---|---|---|---|---|---|---|---|---|---|---|\n",
       "| 1 | FAM1  | M1  | 0 | 0 | 2 | 1 | 1 | 2 | 1 | 1 | 1 | 1 | 2 | 1 |\n",
       "| 2 | FAM1  | F1  | 0 | 0 | 1 | 1 | 1 | 1 | 1 | 1 | 1 | 2 | 1 | 1 |\n",
       "| 5 | FAM2  | M2  | 0 | 0 | 2 | 1 | 1 | 1 | 1 | 1 | 2 | 1 | 1 | 1 |\n",
       "| 6 | FAM2  | F2  | 0 | 0 | 1 | 1 | 1 | 1 | 2 | 1 | 1 | 2 | 1 | 1 |\n",
       "| 9 | FAM3  | M3  | 0 | 0 | 2 | 1 | 1 | 1 | 1 | 2 | 1 | 1 | 1 | 1 |\n",
       "| 10 | FAM3  | F3  | 0 | 0 | 1 | 1 | 2 | 1 | 1 | 1 | 1 | 1 | 1 | 1 |\n",
       "| 13 | FAM4  | M4  | 0 | 0 | 2 | 1 | 1 | 2 | 1 | 1 | 1 | 1 | 1 | 1 |\n",
       "| 14 | FAM4  | F4  | 0 | 0 | 1 | 1 | 1 | 1 | 1 | 1 | 1 | 1 | 1 | 1 |\n",
       "| 17 | FAM5  | M5  | 0 | 0 | 2 | 1 | 1 | 1 | 1 | 2 | 1 | 1 | 1 | 1 |\n",
       "| 18 | FAM5  | F5  | 0 | 0 | 1 | 1 | 1 | 1 | 1 | 1 | 1 | 2 | 1 | 1 |\n",
       "| 21 | FAM6  | M6  | 0 | 0 | 2 | 1 | 1 | 1 | 1 | 2 | 1 | 1 | 1 | 1 |\n",
       "| 22 | FAM6  | F6  | 0 | 0 | 1 | 1 | 1 | 1 | 1 | 1 | 1 | 1 | 1 | 1 |\n",
       "| 25 | FAM7  | M7  | 0 | 0 | 2 | 1 | 1 | 1 | 1 | 1 | 1 | 1 | 1 | 1 |\n",
       "| 26 | FAM7  | F7  | 0 | 0 | 1 | 1 | 1 | 2 | 2 | 1 | 1 | 1 | 1 | 2 |\n",
       "| 29 | FAM8  | M8  | 0 | 0 | 2 | 1 | 1 | 1 | 1 | 2 | 1 | 2 | 1 | 1 |\n",
       "| 30 | FAM8  | F8  | 0 | 0 | 1 | 1 | 1 | 1 | 1 | 1 | 1 | 2 | 1 | 1 |\n",
       "| 33 | FAM9  | M9  | 0 | 0 | 2 | 1 | 1 | 1 | 1 | 1 | 1 | 1 | 1 | 1 |\n",
       "| 34 | FAM9  | F9  | 0 | 0 | 1 | 1 | 1 | 2 | 1 | 2 | 1 | 1 | 1 | 1 |\n",
       "| 37 | FAM10 | M10 | 0 | 0 | 2 | 1 | 1 | 1 | 1 | 1 | 1 | 1 | 1 | 1 |\n",
       "| 38 | FAM10 | F10 | 0 | 0 | 1 | 1 | 1 | 1 | 1 | 1 | 2 | 1 | 1 | 1 |\n",
       "| 41 | FAM11 | M11 | 0 | 0 | 2 | 1 | 1 | 2 | 1 | 1 | 1 | 1 | 1 | 1 |\n",
       "| 42 | FAM11 | F11 | 0 | 0 | 1 | 1 | 1 | 1 | 1 | 1 | 1 | 1 | 1 | 1 |\n",
       "| 45 | FAM12 | M12 | 0 | 0 | 2 | 1 | 1 | 2 | 2 | 1 | 1 | 1 | 1 | 1 |\n",
       "| 46 | FAM12 | F12 | 0 | 0 | 1 | 1 | 2 | 1 | 1 | 1 | 1 | 1 | 1 | 2 |\n",
       "| 49 | FAM13 | M13 | 0 | 0 | 2 | 1 | 1 | 1 | 1 | 1 | 1 | 1 | 1 | 2 |\n",
       "| 50 | FAM13 | F13 | 0 | 0 | 1 | 1 | 1 | 1 | 1 | 1 | 1 | 1 | 1 | 1 |\n",
       "| 53 | FAM14 | M14 | 0 | 0 | 2 | 1 | 2 | 1 | 2 | 1 | 1 | 1 | 1 | 1 |\n",
       "| 54 | FAM14 | F14 | 0 | 0 | 1 | 1 | 1 | 2 | 1 | 2 | 1 | 1 | 2 | 1 |\n",
       "| 57 | FAM15 | M15 | 0 | 0 | 2 | 1 | 1 | 1 | 1 | 2 | 2 | 2 | 1 | 1 |\n",
       "| 58 | FAM15 | F15 | 0 | 0 | 1 | 1 | 1 | 1 | 2 | 1 | 1 | 1 | 1 | 1 |\n",
       "| ⋮ | ⋮ | ⋮ | ⋮ | ⋮ | ⋮ | ⋮ | ⋮ | ⋮ | ⋮ | ⋮ | ⋮ | ⋮ | ⋮ | ⋮ |\n",
       "| 384 | FAM86  | M86  | 0 | 0 | 2 | 1 | 2 | 2 | 1 | 1 | 1 | 1 | 1 | 1 |\n",
       "| 385 | FAM86  | F86  | 0 | 0 | 1 | 1 | 1 | 1 | 1 | 1 | 1 | 1 | 1 | 1 |\n",
       "| 390 | FAM87  | M87  | 0 | 0 | 2 | 1 | 1 | 1 | 1 | 1 | 1 | 1 | 1 | 1 |\n",
       "| 391 | FAM87  | F87  | 0 | 0 | 1 | 1 | 1 | 1 | 1 | 1 | 1 | 1 | 1 | 1 |\n",
       "| 396 | FAM88  | M88  | 0 | 0 | 2 | 1 | 1 | 1 | 1 | 1 | 1 | 1 | 1 | 1 |\n",
       "| 397 | FAM88  | F88  | 0 | 0 | 1 | 1 | 1 | 1 | 2 | 1 | 2 | 1 | 1 | 2 |\n",
       "| 402 | FAM89  | M89  | 0 | 0 | 2 | 1 | 1 | 1 | 1 | 2 | 1 | 1 | 1 | 1 |\n",
       "| 403 | FAM89  | F89  | 0 | 0 | 1 | 1 | 1 | 2 | 1 | 1 | 2 | 1 | 1 | 1 |\n",
       "| 408 | FAM90  | M90  | 0 | 0 | 2 | 1 | 1 | 1 | 1 | 1 | 1 | 1 | 1 | 1 |\n",
       "| 409 | FAM90  | F90  | 0 | 0 | 1 | 1 | 1 | 1 | 1 | 1 | 1 | 1 | 2 | 1 |\n",
       "| 414 | FAM91  | M91  | 0 | 0 | 2 | 1 | 1 | 1 | 1 | 1 | 1 | 1 | 1 | 2 |\n",
       "| 415 | FAM91  | F91  | 0 | 0 | 1 | 1 | 1 | 1 | 1 | 1 | 1 | 1 | 1 | 1 |\n",
       "| 420 | FAM92  | M92  | 0 | 0 | 2 | 1 | 1 | 1 | 1 | 1 | 1 | 1 | 1 | 1 |\n",
       "| 421 | FAM92  | F92  | 0 | 0 | 1 | 1 | 1 | 2 | 1 | 1 | 1 | 1 | 1 | 1 |\n",
       "| 426 | FAM93  | M93  | 0 | 0 | 2 | 1 | 2 | 2 | 1 | 1 | 1 | 1 | 1 | 1 |\n",
       "| 427 | FAM93  | F93  | 0 | 0 | 1 | 1 | 1 | 2 | 1 | 1 | 2 | 1 | 1 | 1 |\n",
       "| 432 | FAM94  | M94  | 0 | 0 | 2 | 1 | 1 | 1 | 1 | 1 | 1 | 1 | 1 | 1 |\n",
       "| 433 | FAM94  | F94  | 0 | 0 | 1 | 1 | 1 | 1 | 1 | 2 | 1 | 1 | 1 | 1 |\n",
       "| 438 | FAM95  | M95  | 0 | 0 | 2 | 1 | 2 | 1 | 1 | 1 | 2 | 1 | 1 | 1 |\n",
       "| 439 | FAM95  | F95  | 0 | 0 | 1 | 1 | 1 | 2 | 1 | 1 | 1 | 1 | 2 | 1 |\n",
       "| 445 | FAM96  | M96  | 0 | 0 | 2 | 1 | 1 | 2 | 1 | 1 | 1 | 1 | 1 | 1 |\n",
       "| 446 | FAM96  | F96  | 0 | 0 | 1 | 1 | 1 | 1 | 1 | 1 | 1 | 1 | 1 | 1 |\n",
       "| 452 | FAM97  | M97  | 0 | 0 | 2 | 1 | 1 | 2 | 1 | 1 | 2 | 1 | 1 | 1 |\n",
       "| 453 | FAM97  | F97  | 0 | 0 | 1 | 1 | 1 | 1 | 2 | 1 | 2 | 1 | 2 | 1 |\n",
       "| 460 | FAM98  | M98  | 0 | 0 | 2 | 1 | 1 | 1 | 1 | 1 | 1 | 1 | 1 | 1 |\n",
       "| 461 | FAM98  | F98  | 0 | 0 | 1 | 1 | 2 | 1 | 1 | 1 | 1 | 1 | 1 | 1 |\n",
       "| 468 | FAM99  | M99  | 0 | 0 | 2 | 1 | 2 | 1 | 1 | 2 | 1 | 1 | 1 | 1 |\n",
       "| 469 | FAM99  | F99  | 0 | 0 | 1 | 1 | 1 | 1 | 1 | 1 | 1 | 1 | 1 | 1 |\n",
       "| 476 | FAM100 | M100 | 0 | 0 | 2 | 1 | 1 | 1 | 1 | 1 | 1 | 1 | 1 | 1 |\n",
       "| 477 | FAM100 | F100 | 0 | 0 | 1 | 1 | 1 | 2 | 1 | 1 | 1 | 1 | 1 | 2 |\n",
       "\n"
      ],
      "text/plain": [
       "    V1     V2   V3 V4 V5 V6 V7 V8 V9 V10 V11 V12 V13 V14\n",
       "1   FAM1   M1   0  0  2  1  1  2  1  1   1   1   2   1  \n",
       "2   FAM1   F1   0  0  1  1  1  1  1  1   1   2   1   1  \n",
       "5   FAM2   M2   0  0  2  1  1  1  1  1   2   1   1   1  \n",
       "6   FAM2   F2   0  0  1  1  1  1  2  1   1   2   1   1  \n",
       "9   FAM3   M3   0  0  2  1  1  1  1  2   1   1   1   1  \n",
       "10  FAM3   F3   0  0  1  1  2  1  1  1   1   1   1   1  \n",
       "13  FAM4   M4   0  0  2  1  1  2  1  1   1   1   1   1  \n",
       "14  FAM4   F4   0  0  1  1  1  1  1  1   1   1   1   1  \n",
       "17  FAM5   M5   0  0  2  1  1  1  1  2   1   1   1   1  \n",
       "18  FAM5   F5   0  0  1  1  1  1  1  1   1   2   1   1  \n",
       "21  FAM6   M6   0  0  2  1  1  1  1  2   1   1   1   1  \n",
       "22  FAM6   F6   0  0  1  1  1  1  1  1   1   1   1   1  \n",
       "25  FAM7   M7   0  0  2  1  1  1  1  1   1   1   1   1  \n",
       "26  FAM7   F7   0  0  1  1  1  2  2  1   1   1   1   2  \n",
       "29  FAM8   M8   0  0  2  1  1  1  1  2   1   2   1   1  \n",
       "30  FAM8   F8   0  0  1  1  1  1  1  1   1   2   1   1  \n",
       "33  FAM9   M9   0  0  2  1  1  1  1  1   1   1   1   1  \n",
       "34  FAM9   F9   0  0  1  1  1  2  1  2   1   1   1   1  \n",
       "37  FAM10  M10  0  0  2  1  1  1  1  1   1   1   1   1  \n",
       "38  FAM10  F10  0  0  1  1  1  1  1  1   2   1   1   1  \n",
       "41  FAM11  M11  0  0  2  1  1  2  1  1   1   1   1   1  \n",
       "42  FAM11  F11  0  0  1  1  1  1  1  1   1   1   1   1  \n",
       "45  FAM12  M12  0  0  2  1  1  2  2  1   1   1   1   1  \n",
       "46  FAM12  F12  0  0  1  1  2  1  1  1   1   1   1   2  \n",
       "49  FAM13  M13  0  0  2  1  1  1  1  1   1   1   1   2  \n",
       "50  FAM13  F13  0  0  1  1  1  1  1  1   1   1   1   1  \n",
       "53  FAM14  M14  0  0  2  1  2  1  2  1   1   1   1   1  \n",
       "54  FAM14  F14  0  0  1  1  1  2  1  2   1   1   2   1  \n",
       "57  FAM15  M15  0  0  2  1  1  1  1  2   2   2   1   1  \n",
       "58  FAM15  F15  0  0  1  1  1  1  2  1   1   1   1   1  \n",
       "⋮   ⋮      ⋮    ⋮  ⋮  ⋮  ⋮  ⋮  ⋮  ⋮  ⋮   ⋮   ⋮   ⋮   ⋮  \n",
       "384 FAM86  M86  0  0  2  1  2  2  1  1   1   1   1   1  \n",
       "385 FAM86  F86  0  0  1  1  1  1  1  1   1   1   1   1  \n",
       "390 FAM87  M87  0  0  2  1  1  1  1  1   1   1   1   1  \n",
       "391 FAM87  F87  0  0  1  1  1  1  1  1   1   1   1   1  \n",
       "396 FAM88  M88  0  0  2  1  1  1  1  1   1   1   1   1  \n",
       "397 FAM88  F88  0  0  1  1  1  1  2  1   2   1   1   2  \n",
       "402 FAM89  M89  0  0  2  1  1  1  1  2   1   1   1   1  \n",
       "403 FAM89  F89  0  0  1  1  1  2  1  1   2   1   1   1  \n",
       "408 FAM90  M90  0  0  2  1  1  1  1  1   1   1   1   1  \n",
       "409 FAM90  F90  0  0  1  1  1  1  1  1   1   1   2   1  \n",
       "414 FAM91  M91  0  0  2  1  1  1  1  1   1   1   1   2  \n",
       "415 FAM91  F91  0  0  1  1  1  1  1  1   1   1   1   1  \n",
       "420 FAM92  M92  0  0  2  1  1  1  1  1   1   1   1   1  \n",
       "421 FAM92  F92  0  0  1  1  1  2  1  1   1   1   1   1  \n",
       "426 FAM93  M93  0  0  2  1  2  2  1  1   1   1   1   1  \n",
       "427 FAM93  F93  0  0  1  1  1  2  1  1   2   1   1   1  \n",
       "432 FAM94  M94  0  0  2  1  1  1  1  1   1   1   1   1  \n",
       "433 FAM94  F94  0  0  1  1  1  1  1  2   1   1   1   1  \n",
       "438 FAM95  M95  0  0  2  1  2  1  1  1   2   1   1   1  \n",
       "439 FAM95  F95  0  0  1  1  1  2  1  1   1   1   2   1  \n",
       "445 FAM96  M96  0  0  2  1  1  2  1  1   1   1   1   1  \n",
       "446 FAM96  F96  0  0  1  1  1  1  1  1   1   1   1   1  \n",
       "452 FAM97  M97  0  0  2  1  1  2  1  1   2   1   1   1  \n",
       "453 FAM97  F97  0  0  1  1  1  1  2  1   2   1   2   1  \n",
       "460 FAM98  M98  0  0  2  1  1  1  1  1   1   1   1   1  \n",
       "461 FAM98  F98  0  0  1  1  2  1  1  1   1   1   1   1  \n",
       "468 FAM99  M99  0  0  2  1  2  1  1  2   1   1   1   1  \n",
       "469 FAM99  F99  0  0  1  1  1  1  1  1   1   1   1   1  \n",
       "476 FAM100 M100 0  0  2  1  1  1  1  1   1   1   1   1  \n",
       "477 FAM100 F100 0  0  1  1  1  2  1  1   1   1   1   2  "
      ]
     },
     "metadata": {},
     "output_type": "display_data"
    }
   ],
   "source": [
    "founders = dat[which(dat[,'V3'] == '0'), ]\n",
    "founders"
   ]
  },
  {
   "cell_type": "code",
   "execution_count": 245,
   "metadata": {
    "kernel": "R"
   },
   "outputs": [],
   "source": [
    "geno = founders[,-(1:6)] -1 #This is called indexing, meaning that we are only looking at the genotypic data and removing columns 1 to 6 that is pedigree information. Also we are substracting one from the genotypes so it will be 0/0 instead of 0/1 and will make counts easier"
   ]
  },
  {
   "cell_type": "code",
   "execution_count": 246,
   "metadata": {
    "kernel": "R"
   },
   "outputs": [
    {
     "data": {
      "text/html": [
       "<table>\n",
       "<caption>A data.frame: 6 × 8</caption>\n",
       "<thead>\n",
       "\t<tr><th></th><th scope=col>V7</th><th scope=col>V8</th><th scope=col>V9</th><th scope=col>V10</th><th scope=col>V11</th><th scope=col>V12</th><th scope=col>V13</th><th scope=col>V14</th></tr>\n",
       "\t<tr><th></th><th scope=col>&lt;dbl&gt;</th><th scope=col>&lt;dbl&gt;</th><th scope=col>&lt;dbl&gt;</th><th scope=col>&lt;dbl&gt;</th><th scope=col>&lt;dbl&gt;</th><th scope=col>&lt;dbl&gt;</th><th scope=col>&lt;dbl&gt;</th><th scope=col>&lt;dbl&gt;</th></tr>\n",
       "</thead>\n",
       "<tbody>\n",
       "\t<tr><th scope=row>1</th><td>0</td><td>1</td><td>0</td><td>0</td><td>0</td><td>0</td><td>1</td><td>0</td></tr>\n",
       "\t<tr><th scope=row>2</th><td>0</td><td>0</td><td>0</td><td>0</td><td>0</td><td>1</td><td>0</td><td>0</td></tr>\n",
       "\t<tr><th scope=row>5</th><td>0</td><td>0</td><td>0</td><td>0</td><td>1</td><td>0</td><td>0</td><td>0</td></tr>\n",
       "\t<tr><th scope=row>6</th><td>0</td><td>0</td><td>1</td><td>0</td><td>0</td><td>1</td><td>0</td><td>0</td></tr>\n",
       "\t<tr><th scope=row>9</th><td>0</td><td>0</td><td>0</td><td>1</td><td>0</td><td>0</td><td>0</td><td>0</td></tr>\n",
       "\t<tr><th scope=row>10</th><td>1</td><td>0</td><td>0</td><td>0</td><td>0</td><td>0</td><td>0</td><td>0</td></tr>\n",
       "</tbody>\n",
       "</table>\n"
      ],
      "text/latex": [
       "A data.frame: 6 × 8\n",
       "\\begin{tabular}{r|llllllll}\n",
       "  & V7 & V8 & V9 & V10 & V11 & V12 & V13 & V14\\\\\n",
       "  & <dbl> & <dbl> & <dbl> & <dbl> & <dbl> & <dbl> & <dbl> & <dbl>\\\\\n",
       "\\hline\n",
       "\t1 & 0 & 1 & 0 & 0 & 0 & 0 & 1 & 0\\\\\n",
       "\t2 & 0 & 0 & 0 & 0 & 0 & 1 & 0 & 0\\\\\n",
       "\t5 & 0 & 0 & 0 & 0 & 1 & 0 & 0 & 0\\\\\n",
       "\t6 & 0 & 0 & 1 & 0 & 0 & 1 & 0 & 0\\\\\n",
       "\t9 & 0 & 0 & 0 & 1 & 0 & 0 & 0 & 0\\\\\n",
       "\t10 & 1 & 0 & 0 & 0 & 0 & 0 & 0 & 0\\\\\n",
       "\\end{tabular}\n"
      ],
      "text/markdown": [
       "\n",
       "A data.frame: 6 × 8\n",
       "\n",
       "| <!--/--> | V7 &lt;dbl&gt; | V8 &lt;dbl&gt; | V9 &lt;dbl&gt; | V10 &lt;dbl&gt; | V11 &lt;dbl&gt; | V12 &lt;dbl&gt; | V13 &lt;dbl&gt; | V14 &lt;dbl&gt; |\n",
       "|---|---|---|---|---|---|---|---|---|\n",
       "| 1 | 0 | 1 | 0 | 0 | 0 | 0 | 1 | 0 |\n",
       "| 2 | 0 | 0 | 0 | 0 | 0 | 1 | 0 | 0 |\n",
       "| 5 | 0 | 0 | 0 | 0 | 1 | 0 | 0 | 0 |\n",
       "| 6 | 0 | 0 | 1 | 0 | 0 | 1 | 0 | 0 |\n",
       "| 9 | 0 | 0 | 0 | 1 | 0 | 0 | 0 | 0 |\n",
       "| 10 | 1 | 0 | 0 | 0 | 0 | 0 | 0 | 0 |\n",
       "\n"
      ],
      "text/plain": [
       "   V7 V8 V9 V10 V11 V12 V13 V14\n",
       "1  0  1  0  0   0   0   1   0  \n",
       "2  0  0  0  0   0   1   0   0  \n",
       "5  0  0  0  0   1   0   0   0  \n",
       "6  0  0  1  0   0   1   0   0  \n",
       "9  0  0  0  1   0   0   0   0  \n",
       "10 1  0  0  0   0   0   0   0  "
      ]
     },
     "metadata": {},
     "output_type": "display_data"
    }
   ],
   "source": [
    "head(geno) #look at the data"
   ]
  },
  {
   "cell_type": "code",
   "execution_count": 247,
   "metadata": {
    "kernel": "R"
   },
   "outputs": [
    {
     "data": {
      "text/html": [
       "8"
      ],
      "text/latex": [
       "8"
      ],
      "text/markdown": [
       "8"
      ],
      "text/plain": [
       "[1] 8"
      ]
     },
     "metadata": {},
     "output_type": "display_data"
    }
   ],
   "source": [
    "L = ncol(geno) #how many columns are there\n",
    "L"
   ]
  },
  {
   "cell_type": "code",
   "execution_count": 248,
   "metadata": {
    "kernel": "R",
    "scrolled": true
   },
   "outputs": [
    {
     "data": {
      "text/html": [
       "<table>\n",
       "<caption>A matrix: 200 × 4 of type dbl</caption>\n",
       "<thead>\n",
       "\t<tr><th></th><th scope=col>0</th><th scope=col>1</th><th scope=col>2</th><th scope=col>3</th></tr>\n",
       "</thead>\n",
       "<tbody>\n",
       "\t<tr><th scope=row>1</th><td>1</td><td>0</td><td>0</td><td>1</td></tr>\n",
       "\t<tr><th scope=row>2</th><td>0</td><td>0</td><td>1</td><td>0</td></tr>\n",
       "\t<tr><th scope=row>5</th><td>0</td><td>0</td><td>1</td><td>0</td></tr>\n",
       "\t<tr><th scope=row>6</th><td>0</td><td>1</td><td>1</td><td>0</td></tr>\n",
       "\t<tr><th scope=row>9</th><td>0</td><td>1</td><td>0</td><td>0</td></tr>\n",
       "\t<tr><th scope=row>10</th><td>1</td><td>0</td><td>0</td><td>0</td></tr>\n",
       "\t<tr><th scope=row>13</th><td>1</td><td>0</td><td>0</td><td>0</td></tr>\n",
       "\t<tr><th scope=row>14</th><td>0</td><td>0</td><td>0</td><td>0</td></tr>\n",
       "\t<tr><th scope=row>17</th><td>0</td><td>1</td><td>0</td><td>0</td></tr>\n",
       "\t<tr><th scope=row>18</th><td>0</td><td>0</td><td>1</td><td>0</td></tr>\n",
       "\t<tr><th scope=row>21</th><td>0</td><td>1</td><td>0</td><td>0</td></tr>\n",
       "\t<tr><th scope=row>22</th><td>0</td><td>0</td><td>0</td><td>0</td></tr>\n",
       "\t<tr><th scope=row>25</th><td>0</td><td>0</td><td>0</td><td>0</td></tr>\n",
       "\t<tr><th scope=row>26</th><td>1</td><td>1</td><td>0</td><td>1</td></tr>\n",
       "\t<tr><th scope=row>29</th><td>0</td><td>1</td><td>1</td><td>0</td></tr>\n",
       "\t<tr><th scope=row>30</th><td>0</td><td>0</td><td>1</td><td>0</td></tr>\n",
       "\t<tr><th scope=row>33</th><td>0</td><td>0</td><td>0</td><td>0</td></tr>\n",
       "\t<tr><th scope=row>34</th><td>1</td><td>1</td><td>0</td><td>0</td></tr>\n",
       "\t<tr><th scope=row>37</th><td>0</td><td>0</td><td>0</td><td>0</td></tr>\n",
       "\t<tr><th scope=row>38</th><td>0</td><td>0</td><td>1</td><td>0</td></tr>\n",
       "\t<tr><th scope=row>41</th><td>1</td><td>0</td><td>0</td><td>0</td></tr>\n",
       "\t<tr><th scope=row>42</th><td>0</td><td>0</td><td>0</td><td>0</td></tr>\n",
       "\t<tr><th scope=row>45</th><td>1</td><td>1</td><td>0</td><td>0</td></tr>\n",
       "\t<tr><th scope=row>46</th><td>1</td><td>0</td><td>0</td><td>1</td></tr>\n",
       "\t<tr><th scope=row>49</th><td>0</td><td>0</td><td>0</td><td>1</td></tr>\n",
       "\t<tr><th scope=row>50</th><td>0</td><td>0</td><td>0</td><td>0</td></tr>\n",
       "\t<tr><th scope=row>53</th><td>1</td><td>1</td><td>0</td><td>0</td></tr>\n",
       "\t<tr><th scope=row>54</th><td>1</td><td>1</td><td>0</td><td>1</td></tr>\n",
       "\t<tr><th scope=row>57</th><td>0</td><td>1</td><td>2</td><td>0</td></tr>\n",
       "\t<tr><th scope=row>58</th><td>0</td><td>1</td><td>0</td><td>0</td></tr>\n",
       "\t<tr><th scope=row>⋮</th><td>⋮</td><td>⋮</td><td>⋮</td><td>⋮</td></tr>\n",
       "\t<tr><th scope=row>384</th><td>2</td><td>0</td><td>0</td><td>0</td></tr>\n",
       "\t<tr><th scope=row>385</th><td>0</td><td>0</td><td>0</td><td>0</td></tr>\n",
       "\t<tr><th scope=row>390</th><td>0</td><td>0</td><td>0</td><td>0</td></tr>\n",
       "\t<tr><th scope=row>391</th><td>0</td><td>0</td><td>0</td><td>0</td></tr>\n",
       "\t<tr><th scope=row>396</th><td>0</td><td>0</td><td>0</td><td>0</td></tr>\n",
       "\t<tr><th scope=row>397</th><td>0</td><td>1</td><td>1</td><td>1</td></tr>\n",
       "\t<tr><th scope=row>402</th><td>0</td><td>1</td><td>0</td><td>0</td></tr>\n",
       "\t<tr><th scope=row>403</th><td>1</td><td>0</td><td>1</td><td>0</td></tr>\n",
       "\t<tr><th scope=row>408</th><td>0</td><td>0</td><td>0</td><td>0</td></tr>\n",
       "\t<tr><th scope=row>409</th><td>0</td><td>0</td><td>0</td><td>1</td></tr>\n",
       "\t<tr><th scope=row>414</th><td>0</td><td>0</td><td>0</td><td>1</td></tr>\n",
       "\t<tr><th scope=row>415</th><td>0</td><td>0</td><td>0</td><td>0</td></tr>\n",
       "\t<tr><th scope=row>420</th><td>0</td><td>0</td><td>0</td><td>0</td></tr>\n",
       "\t<tr><th scope=row>421</th><td>1</td><td>0</td><td>0</td><td>0</td></tr>\n",
       "\t<tr><th scope=row>426</th><td>2</td><td>0</td><td>0</td><td>0</td></tr>\n",
       "\t<tr><th scope=row>427</th><td>1</td><td>0</td><td>1</td><td>0</td></tr>\n",
       "\t<tr><th scope=row>432</th><td>0</td><td>0</td><td>0</td><td>0</td></tr>\n",
       "\t<tr><th scope=row>433</th><td>0</td><td>1</td><td>0</td><td>0</td></tr>\n",
       "\t<tr><th scope=row>438</th><td>1</td><td>0</td><td>1</td><td>0</td></tr>\n",
       "\t<tr><th scope=row>439</th><td>1</td><td>0</td><td>0</td><td>1</td></tr>\n",
       "\t<tr><th scope=row>445</th><td>1</td><td>0</td><td>0</td><td>0</td></tr>\n",
       "\t<tr><th scope=row>446</th><td>0</td><td>0</td><td>0</td><td>0</td></tr>\n",
       "\t<tr><th scope=row>452</th><td>1</td><td>0</td><td>1</td><td>0</td></tr>\n",
       "\t<tr><th scope=row>453</th><td>0</td><td>1</td><td>1</td><td>1</td></tr>\n",
       "\t<tr><th scope=row>460</th><td>0</td><td>0</td><td>0</td><td>0</td></tr>\n",
       "\t<tr><th scope=row>461</th><td>1</td><td>0</td><td>0</td><td>0</td></tr>\n",
       "\t<tr><th scope=row>468</th><td>1</td><td>1</td><td>0</td><td>0</td></tr>\n",
       "\t<tr><th scope=row>469</th><td>0</td><td>0</td><td>0</td><td>0</td></tr>\n",
       "\t<tr><th scope=row>476</th><td>0</td><td>0</td><td>0</td><td>0</td></tr>\n",
       "\t<tr><th scope=row>477</th><td>1</td><td>0</td><td>0</td><td>1</td></tr>\n",
       "</tbody>\n",
       "</table>\n"
      ],
      "text/latex": [
       "A matrix: 200 × 4 of type dbl\n",
       "\\begin{tabular}{r|llll}\n",
       "  & 0 & 1 & 2 & 3\\\\\n",
       "\\hline\n",
       "\t1 & 1 & 0 & 0 & 1\\\\\n",
       "\t2 & 0 & 0 & 1 & 0\\\\\n",
       "\t5 & 0 & 0 & 1 & 0\\\\\n",
       "\t6 & 0 & 1 & 1 & 0\\\\\n",
       "\t9 & 0 & 1 & 0 & 0\\\\\n",
       "\t10 & 1 & 0 & 0 & 0\\\\\n",
       "\t13 & 1 & 0 & 0 & 0\\\\\n",
       "\t14 & 0 & 0 & 0 & 0\\\\\n",
       "\t17 & 0 & 1 & 0 & 0\\\\\n",
       "\t18 & 0 & 0 & 1 & 0\\\\\n",
       "\t21 & 0 & 1 & 0 & 0\\\\\n",
       "\t22 & 0 & 0 & 0 & 0\\\\\n",
       "\t25 & 0 & 0 & 0 & 0\\\\\n",
       "\t26 & 1 & 1 & 0 & 1\\\\\n",
       "\t29 & 0 & 1 & 1 & 0\\\\\n",
       "\t30 & 0 & 0 & 1 & 0\\\\\n",
       "\t33 & 0 & 0 & 0 & 0\\\\\n",
       "\t34 & 1 & 1 & 0 & 0\\\\\n",
       "\t37 & 0 & 0 & 0 & 0\\\\\n",
       "\t38 & 0 & 0 & 1 & 0\\\\\n",
       "\t41 & 1 & 0 & 0 & 0\\\\\n",
       "\t42 & 0 & 0 & 0 & 0\\\\\n",
       "\t45 & 1 & 1 & 0 & 0\\\\\n",
       "\t46 & 1 & 0 & 0 & 1\\\\\n",
       "\t49 & 0 & 0 & 0 & 1\\\\\n",
       "\t50 & 0 & 0 & 0 & 0\\\\\n",
       "\t53 & 1 & 1 & 0 & 0\\\\\n",
       "\t54 & 1 & 1 & 0 & 1\\\\\n",
       "\t57 & 0 & 1 & 2 & 0\\\\\n",
       "\t58 & 0 & 1 & 0 & 0\\\\\n",
       "\t⋮ & ⋮ & ⋮ & ⋮ & ⋮\\\\\n",
       "\t384 & 2 & 0 & 0 & 0\\\\\n",
       "\t385 & 0 & 0 & 0 & 0\\\\\n",
       "\t390 & 0 & 0 & 0 & 0\\\\\n",
       "\t391 & 0 & 0 & 0 & 0\\\\\n",
       "\t396 & 0 & 0 & 0 & 0\\\\\n",
       "\t397 & 0 & 1 & 1 & 1\\\\\n",
       "\t402 & 0 & 1 & 0 & 0\\\\\n",
       "\t403 & 1 & 0 & 1 & 0\\\\\n",
       "\t408 & 0 & 0 & 0 & 0\\\\\n",
       "\t409 & 0 & 0 & 0 & 1\\\\\n",
       "\t414 & 0 & 0 & 0 & 1\\\\\n",
       "\t415 & 0 & 0 & 0 & 0\\\\\n",
       "\t420 & 0 & 0 & 0 & 0\\\\\n",
       "\t421 & 1 & 0 & 0 & 0\\\\\n",
       "\t426 & 2 & 0 & 0 & 0\\\\\n",
       "\t427 & 1 & 0 & 1 & 0\\\\\n",
       "\t432 & 0 & 0 & 0 & 0\\\\\n",
       "\t433 & 0 & 1 & 0 & 0\\\\\n",
       "\t438 & 1 & 0 & 1 & 0\\\\\n",
       "\t439 & 1 & 0 & 0 & 1\\\\\n",
       "\t445 & 1 & 0 & 0 & 0\\\\\n",
       "\t446 & 0 & 0 & 0 & 0\\\\\n",
       "\t452 & 1 & 0 & 1 & 0\\\\\n",
       "\t453 & 0 & 1 & 1 & 1\\\\\n",
       "\t460 & 0 & 0 & 0 & 0\\\\\n",
       "\t461 & 1 & 0 & 0 & 0\\\\\n",
       "\t468 & 1 & 1 & 0 & 0\\\\\n",
       "\t469 & 0 & 0 & 0 & 0\\\\\n",
       "\t476 & 0 & 0 & 0 & 0\\\\\n",
       "\t477 & 1 & 0 & 0 & 1\\\\\n",
       "\\end{tabular}\n"
      ],
      "text/markdown": [
       "\n",
       "A matrix: 200 × 4 of type dbl\n",
       "\n",
       "| <!--/--> | 0 | 1 | 2 | 3 |\n",
       "|---|---|---|---|---|\n",
       "| 1 | 1 | 0 | 0 | 1 |\n",
       "| 2 | 0 | 0 | 1 | 0 |\n",
       "| 5 | 0 | 0 | 1 | 0 |\n",
       "| 6 | 0 | 1 | 1 | 0 |\n",
       "| 9 | 0 | 1 | 0 | 0 |\n",
       "| 10 | 1 | 0 | 0 | 0 |\n",
       "| 13 | 1 | 0 | 0 | 0 |\n",
       "| 14 | 0 | 0 | 0 | 0 |\n",
       "| 17 | 0 | 1 | 0 | 0 |\n",
       "| 18 | 0 | 0 | 1 | 0 |\n",
       "| 21 | 0 | 1 | 0 | 0 |\n",
       "| 22 | 0 | 0 | 0 | 0 |\n",
       "| 25 | 0 | 0 | 0 | 0 |\n",
       "| 26 | 1 | 1 | 0 | 1 |\n",
       "| 29 | 0 | 1 | 1 | 0 |\n",
       "| 30 | 0 | 0 | 1 | 0 |\n",
       "| 33 | 0 | 0 | 0 | 0 |\n",
       "| 34 | 1 | 1 | 0 | 0 |\n",
       "| 37 | 0 | 0 | 0 | 0 |\n",
       "| 38 | 0 | 0 | 1 | 0 |\n",
       "| 41 | 1 | 0 | 0 | 0 |\n",
       "| 42 | 0 | 0 | 0 | 0 |\n",
       "| 45 | 1 | 1 | 0 | 0 |\n",
       "| 46 | 1 | 0 | 0 | 1 |\n",
       "| 49 | 0 | 0 | 0 | 1 |\n",
       "| 50 | 0 | 0 | 0 | 0 |\n",
       "| 53 | 1 | 1 | 0 | 0 |\n",
       "| 54 | 1 | 1 | 0 | 1 |\n",
       "| 57 | 0 | 1 | 2 | 0 |\n",
       "| 58 | 0 | 1 | 0 | 0 |\n",
       "| ⋮ | ⋮ | ⋮ | ⋮ | ⋮ |\n",
       "| 384 | 2 | 0 | 0 | 0 |\n",
       "| 385 | 0 | 0 | 0 | 0 |\n",
       "| 390 | 0 | 0 | 0 | 0 |\n",
       "| 391 | 0 | 0 | 0 | 0 |\n",
       "| 396 | 0 | 0 | 0 | 0 |\n",
       "| 397 | 0 | 1 | 1 | 1 |\n",
       "| 402 | 0 | 1 | 0 | 0 |\n",
       "| 403 | 1 | 0 | 1 | 0 |\n",
       "| 408 | 0 | 0 | 0 | 0 |\n",
       "| 409 | 0 | 0 | 0 | 1 |\n",
       "| 414 | 0 | 0 | 0 | 1 |\n",
       "| 415 | 0 | 0 | 0 | 0 |\n",
       "| 420 | 0 | 0 | 0 | 0 |\n",
       "| 421 | 1 | 0 | 0 | 0 |\n",
       "| 426 | 2 | 0 | 0 | 0 |\n",
       "| 427 | 1 | 0 | 1 | 0 |\n",
       "| 432 | 0 | 0 | 0 | 0 |\n",
       "| 433 | 0 | 1 | 0 | 0 |\n",
       "| 438 | 1 | 0 | 1 | 0 |\n",
       "| 439 | 1 | 0 | 0 | 1 |\n",
       "| 445 | 1 | 0 | 0 | 0 |\n",
       "| 446 | 0 | 0 | 0 | 0 |\n",
       "| 452 | 1 | 0 | 1 | 0 |\n",
       "| 453 | 0 | 1 | 1 | 1 |\n",
       "| 460 | 0 | 0 | 0 | 0 |\n",
       "| 461 | 1 | 0 | 0 | 0 |\n",
       "| 468 | 1 | 1 | 0 | 0 |\n",
       "| 469 | 0 | 0 | 0 | 0 |\n",
       "| 476 | 0 | 0 | 0 | 0 |\n",
       "| 477 | 1 | 0 | 0 | 1 |\n",
       "\n"
      ],
      "text/plain": [
       "    0 1 2 3\n",
       "1   1 0 0 1\n",
       "2   0 0 1 0\n",
       "5   0 0 1 0\n",
       "6   0 1 1 0\n",
       "9   0 1 0 0\n",
       "10  1 0 0 0\n",
       "13  1 0 0 0\n",
       "14  0 0 0 0\n",
       "17  0 1 0 0\n",
       "18  0 0 1 0\n",
       "21  0 1 0 0\n",
       "22  0 0 0 0\n",
       "25  0 0 0 0\n",
       "26  1 1 0 1\n",
       "29  0 1 1 0\n",
       "30  0 0 1 0\n",
       "33  0 0 0 0\n",
       "34  1 1 0 0\n",
       "37  0 0 0 0\n",
       "38  0 0 1 0\n",
       "41  1 0 0 0\n",
       "42  0 0 0 0\n",
       "45  1 1 0 0\n",
       "46  1 0 0 1\n",
       "49  0 0 0 1\n",
       "50  0 0 0 0\n",
       "53  1 1 0 0\n",
       "54  1 1 0 1\n",
       "57  0 1 2 0\n",
       "58  0 1 0 0\n",
       "⋮   ⋮ ⋮ ⋮ ⋮\n",
       "384 2 0 0 0\n",
       "385 0 0 0 0\n",
       "390 0 0 0 0\n",
       "391 0 0 0 0\n",
       "396 0 0 0 0\n",
       "397 0 1 1 1\n",
       "402 0 1 0 0\n",
       "403 1 0 1 0\n",
       "408 0 0 0 0\n",
       "409 0 0 0 1\n",
       "414 0 0 0 1\n",
       "415 0 0 0 0\n",
       "420 0 0 0 0\n",
       "421 1 0 0 0\n",
       "426 2 0 0 0\n",
       "427 1 0 1 0\n",
       "432 0 0 0 0\n",
       "433 0 1 0 0\n",
       "438 1 0 1 0\n",
       "439 1 0 0 1\n",
       "445 1 0 0 0\n",
       "446 0 0 0 0\n",
       "452 1 0 1 0\n",
       "453 0 1 1 1\n",
       "460 0 0 0 0\n",
       "461 1 0 0 0\n",
       "468 1 1 0 0\n",
       "469 0 0 0 0\n",
       "476 0 0 0 0\n",
       "477 1 0 0 1"
      ]
     },
     "metadata": {},
     "output_type": "display_data"
    }
   ],
   "source": [
    "#genotypes = apply(cbind(geno$V7,geno$V8),1,sum,na.rm = TRUE) This code can be useful when we only want to sum an specific set of columns for every row in the dataframe, and removing the missing information\n",
    "geno1 = sapply(split.default(geno, 0:(length(geno)-1) %/% 2), rowSums) #Sum the allele counts for every marker\n",
    "geno1"
   ]
  },
  {
   "cell_type": "markdown",
   "metadata": {
    "kernel": "R"
   },
   "source": [
    "To transpose the matrix so we have a SNP-by-individual"
   ]
  },
  {
   "cell_type": "code",
   "execution_count": 255,
   "metadata": {
    "kernel": "R"
   },
   "outputs": [],
   "source": [
    "geno2 = t(geno1)\n",
    "geno2"
   ]
  },
  {
   "cell_type": "markdown",
   "metadata": {
    "kernel": "R"
   },
   "source": [
    "Now, calculate minor allele and genotype frequencies in the founders to check that they match the expectations "
   ]
  },
  {
   "cell_type": "code",
   "execution_count": 256,
   "metadata": {
    "kernel": "R"
   },
   "outputs": [],
   "source": [
    "m <- nrow(geno2)     ## number of snps\n",
    "n <- ncol(geno2)     ## number of individuals\n",
    "\n",
    "## assign all non {0,1,2} to NA\n",
    "geno2[(geno2!=0) & (geno2!=1) & (geno2!=2)] <- NA \n",
    "geno2 <- as.matrix(geno2)\n",
    "\n",
    "## calc_n\n",
    "n0 <- apply(geno2==0,1,sum,na.rm=T)\n",
    "n1 <- apply(geno2==1,1,sum,na.rm=T)\n",
    "n2 <- apply(geno2==2,1,sum,na.rm=T)\n",
    "n <- n0 + n1 + n2\n",
    "\n",
    "## calculate allele frequencies in the founders\n",
    "p <- ((2*n0)+n1)/(2*n)\n",
    "q <- 1 - p\n",
    "maf <- pmin(p, q) #minor allele frequency\n",
    "mgf <- apply(cbind(n0,n1,n2),1,min) / n #minor genotype frequency"
   ]
  },
  {
   "cell_type": "code",
   "execution_count": 262,
   "metadata": {
    "kernel": "R"
   },
   "outputs": [
    {
     "data": {
      "text/html": [
       "<dl class=dl-horizontal>\n",
       "\t<dt>0</dt>\n",
       "\t\t<dd>0.175</dd>\n",
       "\t<dt>1</dt>\n",
       "\t\t<dd>0.1025</dd>\n",
       "\t<dt>2</dt>\n",
       "\t\t<dd>0.1075</dd>\n",
       "\t<dt>3</dt>\n",
       "\t\t<dd>0.1125</dd>\n",
       "</dl>\n"
      ],
      "text/latex": [
       "\\begin{description*}\n",
       "\\item[0] 0.175\n",
       "\\item[1] 0.1025\n",
       "\\item[2] 0.1075\n",
       "\\item[3] 0.1125\n",
       "\\end{description*}\n"
      ],
      "text/markdown": [
       "0\n",
       ":   0.1751\n",
       ":   0.10252\n",
       ":   0.10753\n",
       ":   0.1125\n",
       "\n"
      ],
      "text/plain": [
       "     0      1      2      3 \n",
       "0.1750 0.1025 0.1075 0.1125 "
      ]
     },
     "metadata": {},
     "output_type": "display_data"
    }
   ],
   "source": [
    "maf"
   ]
  },
  {
   "cell_type": "code",
   "execution_count": 258,
   "metadata": {
    "kernel": "R"
   },
   "outputs": [
    {
     "data": {
      "text/html": [
       "<dl class=dl-horizontal>\n",
       "\t<dt>0</dt>\n",
       "\t\t<dd>0.175</dd>\n",
       "\t<dt>1</dt>\n",
       "\t\t<dd>0.1025</dd>\n",
       "\t<dt>2</dt>\n",
       "\t\t<dd>0.1075</dd>\n",
       "\t<dt>3</dt>\n",
       "\t\t<dd>0.1125</dd>\n",
       "</dl>\n"
      ],
      "text/latex": [
       "\\begin{description*}\n",
       "\\item[0] 0.175\n",
       "\\item[1] 0.1025\n",
       "\\item[2] 0.1075\n",
       "\\item[3] 0.1125\n",
       "\\end{description*}\n"
      ],
      "text/markdown": [
       "0\n",
       ":   0.1751\n",
       ":   0.10252\n",
       ":   0.10753\n",
       ":   0.1125\n",
       "\n"
      ],
      "text/plain": [
       "     0      1      2      3 \n",
       "0.1750 0.1025 0.1075 0.1125 "
      ]
     },
     "metadata": {},
     "output_type": "display_data"
    }
   ],
   "source": [
    "q"
   ]
  },
  {
   "cell_type": "code",
   "execution_count": 223,
   "metadata": {
    "kernel": "R"
   },
   "outputs": [
    {
     "data": {
      "text/html": [
       "<dl class=dl-horizontal>\n",
       "\t<dt>V7</dt>\n",
       "\t\t<dd>0.219461697722567</dd>\n",
       "\t<dt>V8</dt>\n",
       "\t\t<dd>0.227743271221532</dd>\n",
       "\t<dt>V9</dt>\n",
       "\t\t<dd>0.0848861283643892</dd>\n",
       "\t<dt>V10</dt>\n",
       "\t\t<dd>0.109730848861284</dd>\n",
       "\t<dt>V11</dt>\n",
       "\t\t<dd>0.105590062111801</dd>\n",
       "\t<dt>V12</dt>\n",
       "\t\t<dd>0.111801242236025</dd>\n",
       "\t<dt>V13</dt>\n",
       "\t\t<dd>0.126293995859213</dd>\n",
       "\t<dt>V14</dt>\n",
       "\t\t<dd>0.0869565217391304</dd>\n",
       "</dl>\n"
      ],
      "text/latex": [
       "\\begin{description*}\n",
       "\\item[V7] 0.219461697722567\n",
       "\\item[V8] 0.227743271221532\n",
       "\\item[V9] 0.0848861283643892\n",
       "\\item[V10] 0.109730848861284\n",
       "\\item[V11] 0.105590062111801\n",
       "\\item[V12] 0.111801242236025\n",
       "\\item[V13] 0.126293995859213\n",
       "\\item[V14] 0.0869565217391304\n",
       "\\end{description*}\n"
      ],
      "text/markdown": [
       "V7\n",
       ":   0.219461697722567V8\n",
       ":   0.227743271221532V9\n",
       ":   0.0848861283643892V10\n",
       ":   0.109730848861284V11\n",
       ":   0.105590062111801V12\n",
       ":   0.111801242236025V13\n",
       ":   0.126293995859213V14\n",
       ":   0.0869565217391304\n",
       "\n"
      ],
      "text/plain": [
       "        V7         V8         V9        V10        V11        V12        V13 \n",
       "0.21946170 0.22774327 0.08488613 0.10973085 0.10559006 0.11180124 0.12629400 \n",
       "       V14 \n",
       "0.08695652 "
      ]
     },
     "metadata": {},
     "output_type": "display_data"
    }
   ],
   "source": [
    "apply(geno,2,mean)"
   ]
  },
  {
   "cell_type": "code",
   "execution_count": null,
   "metadata": {
    "kernel": "R"
   },
   "outputs": [],
   "source": [
    "#Script to calculate, output and graph allele frequencies\n",
    "#Created by Mark Christie on 3/1/2012\n",
    "\n",
    "setwd(\"C:/Example/Directory)     # set working directory\n",
    "gdata<-read.table(file=\"BeechData_east.txt\", header=TRUE, sep=\"\\t\", na.strings=\"NA\", dec=\".\", strip.white=TRUE)  #load data ; here genotypes of Beech data from dryad\n",
    "head(gdata) #look at the data\n",
    "\n",
    "population=gdata[,-c(1:3)]  #This is called indexing.  Here we are accessing only the genotypes for a single population (i.e., removing columns 1-3)\n",
    "\n",
    "L=ncol(population)   #how many columns are there?\n",
    "locus_positions=(2*(unique(round((1:(L-2))/2)))+1)   #find the starting column number for each locus\n",
    "lnames=colnames(population)                          #locus names, from the header\n",
    "OUT=NULL        #create a null dataset to append allele freqs to\n",
    "\n",
    "for (x in locus_positions) {                       #begin for loop, to calculate frequencies for each locus\n",
    "  alleles=c(population[,x],population[,x+1])        #For example, combine columns 1 and 2 for locus 1 (two columns because they are diploid)\n",
    "  alleles2=as.data.frame(table(alleles))             #count each allele at locus x\n",
    "  missing=alleles2[which(alleles2[,1]==0),2]          #count missing data at locus x, entered as '0' in this dataset (not used further for simplicity)\n",
    "  alleles3=alleles2[-which(alleles2[,1]==0),]          #remove missing data (otherwise 0 would be counted in total number of alleles)\n",
    "  alleles4=cbind(alleles3,alleles3[,2]/sum(alleles3[,2])) #calculate frequencies\n",
    "  output=cbind(x,lnames[x],alleles4)                        #combine x, locusname, and frequencies\n",
    "\n",
    "  \n",
    "  OUT <<- rbind(OUT,output)\n",
    "  \n",
    "}\n",
    "\n",
    "\n",
    "colnames(OUT) <- c(\"Number\",\"Locus\",\"allele\",\"count\",\"frequency\") #add column headers\n",
    "Allelefreqs=OUT[,-1]\n",
    "write.table(Allelefreqs,file=\"Allelefrequencies.txt\",row.names=FALSE,col.names=TRUE,sep=\"\\t\",append=FALSE)\n",
    "\n",
    "\n",
    "#2 different plots for allele freqs for a specified locus\n",
    "wanted_locus=\"FS1.15\"    #enter wanted locus name here\n",
    "\n",
    "Locus=Allelefreqs[which(Allelefreqs[,1]==wanted_locus),]\n",
    "plot(as.numeric(as.character(Locus[,2])),as.numeric(as.character(Locus[,4])),xlab=\"Allele\",ylab=\"Frequency\",main=paste(\"Locus_\",Locus[1,1]),pch=21,bg=\"blue\",cex=1.5)\n",
    "plot(1:length(Locus[,2]),sort(as.numeric(as.character(Locus[,4])),decreasing=TRUE),xlab=\"Allele (orderd by frequency)\",ylab=\"Frequency\",main=paste(\"Locus_\",Locus[1,1]),pch=21,bg=\"blue\",cex=1.5)"
   ]
  }
 ],
 "metadata": {
  "kernelspec": {
   "display_name": "SoS",
   "language": "sos",
   "name": "sos"
  },
  "language_info": {
   "codemirror_mode": "sos",
   "file_extension": ".sos",
   "mimetype": "text/x-sos",
   "name": "sos",
   "nbconvert_exporter": "sos_notebook.converter.SoS_Exporter",
   "pygments_lexer": "sos"
  },
  "sos": {
   "kernels": [
    [
     "R",
     "ir",
     "R",
     "#DCDCDA",
     "r"
    ],
    [
     "SoS",
     "sos",
     "",
     "",
     "sos"
    ]
   ],
   "version": "0.21.7"
  }
 },
 "nbformat": 4,
 "nbformat_minor": 4
}
