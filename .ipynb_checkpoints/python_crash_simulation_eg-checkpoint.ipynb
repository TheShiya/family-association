{
 "cells": [
  {
   "cell_type": "markdown",
   "metadata": {},
   "source": [
    "See [here](https://github.com/gaow/SEQLinkagePaper/blob/3bdfd1092b75e82f94cd53b98c964b7e1f38d4a9/simulations/LinkagePowerCalc.py#L306) what I did before. It might be too difficult to read as a beginer so let me try simplify it here."
   ]
  },
  {
   "cell_type": "markdown",
   "metadata": {},
   "source": [
    "## A `list` data structure"
   ]
  },
  {
   "cell_type": "code",
   "execution_count": 91,
   "metadata": {},
   "outputs": [],
   "source": [
    "demographic_summary = [(x+1,0) for x in range(4)] # list comprehension"
   ]
  },
  {
   "cell_type": "code",
   "execution_count": 92,
   "metadata": {},
   "outputs": [
    {
     "data": {
      "text/plain": [
       "[(1, 0), (2, 0), (3, 0), (4, 0)]"
      ]
     },
     "execution_count": 92,
     "metadata": {},
     "output_type": "execute_result"
    }
   ],
   "source": [
    "demographic_summary"
   ]
  },
  {
   "cell_type": "code",
   "execution_count": 93,
   "metadata": {},
   "outputs": [
    {
     "data": {
      "text/plain": [
       "(1, 0)"
      ]
     },
     "execution_count": 93,
     "metadata": {},
     "output_type": "execute_result"
    }
   ],
   "source": [
    "demographic_summary[0]"
   ]
  },
  {
   "cell_type": "code",
   "execution_count": 96,
   "metadata": {},
   "outputs": [
    {
     "data": {
      "text/plain": [
       "0"
      ]
     },
     "execution_count": 96,
     "metadata": {},
     "output_type": "execute_result"
    }
   ],
   "source": [
    "demographic_summary[3][1]"
   ]
  },
  {
   "cell_type": "markdown",
   "metadata": {},
   "source": [
    "It is awkward for storing one to one mapping data. Let's convert it to a \n",
    "\n",
    "## `dict`"
   ]
  },
  {
   "cell_type": "code",
   "execution_count": 97,
   "metadata": {},
   "outputs": [],
   "source": [
    "demographic_summary = dict(demographic_summary)"
   ]
  },
  {
   "cell_type": "code",
   "execution_count": 98,
   "metadata": {},
   "outputs": [
    {
     "data": {
      "text/plain": [
       "{1: 0, 2: 0, 3: 0, 4: 0}"
      ]
     },
     "execution_count": 98,
     "metadata": {},
     "output_type": "execute_result"
    }
   ],
   "source": [
    "demographic_summary"
   ]
  },
  {
   "cell_type": "code",
   "execution_count": 88,
   "metadata": {},
   "outputs": [
    {
     "data": {
      "text/plain": [
       "0.0"
      ]
     },
     "execution_count": 88,
     "metadata": {},
     "output_type": "execute_result"
    }
   ],
   "source": [
    "demographic_summary[8]"
   ]
  },
  {
   "cell_type": "markdown",
   "metadata": {},
   "source": [
    "This is from literature:"
   ]
  },
  {
   "cell_type": "code",
   "execution_count": 99,
   "metadata": {},
   "outputs": [],
   "source": [
    "demographic_summary[1] = 14081/33942\n",
    "demographic_summary[2] = 12853/33942\n",
    "demographic_summary[3] = 5028/33942\n",
    "demographic_summary[4] = 1980/33942"
   ]
  },
  {
   "cell_type": "code",
   "execution_count": 100,
   "metadata": {},
   "outputs": [
    {
     "data": {
      "text/plain": [
       "{1: 0.4148547522243828,\n",
       " 2: 0.3786753874256084,\n",
       " 3: 0.1481350539155029,\n",
       " 4: 0.05833480643450592}"
      ]
     },
     "execution_count": 100,
     "metadata": {},
     "output_type": "execute_result"
    }
   ],
   "source": [
    "demographic_summary"
   ]
  },
  {
   "cell_type": "markdown",
   "metadata": {},
   "source": [
    "But we want to normalize it such that we always have samples of >=2 offsprings. This is straightforward:"
   ]
  },
  {
   "cell_type": "code",
   "execution_count": 44,
   "metadata": {},
   "outputs": [],
   "source": [
    "for k in demographic_summary:\n",
    "    if k == 1:\n",
    "        continue\n",
    "    else:\n",
    "        # is shorthand for: demographic_summary[k] = demographic_summary[k] / (1 - demographic_summary[1])\n",
    "        demographic_summary[k] /= (1 - demographic_summary[1])\n",
    "demographic_summary[1] = 0"
   ]
  },
  {
   "cell_type": "code",
   "execution_count": 45,
   "metadata": {},
   "outputs": [
    {
     "data": {
      "text/plain": [
       "[0, 0.4, 0.6, 0.0, 0.0, 0.0, 0.0, 0.0, 0.0, 0.0]"
      ]
     },
     "execution_count": 45,
     "metadata": {},
     "output_type": "execute_result"
    }
   ],
   "source": [
    "list(demographic_summary.values())"
   ]
  },
  {
   "cell_type": "markdown",
   "metadata": {},
   "source": [
    "Now we draw 1000 pedigrees from this multinomial distribution,"
   ]
  },
  {
   "cell_type": "code",
   "execution_count": 77,
   "metadata": {},
   "outputs": [
    {
     "data": {
      "text/plain": [
       "array([0, 6, 4, 0, 0, 0, 0, 0, 0, 0])"
      ]
     },
     "execution_count": 77,
     "metadata": {},
     "output_type": "execute_result"
    }
   ],
   "source": [
    "import numpy as np\n",
    "n = 10\n",
    "data = np.random.multinomial(n, list(demographic_summary.values()))\n",
    "data"
   ]
  },
  {
   "cell_type": "markdown",
   "metadata": {},
   "source": [
    "Now we make data also a dictionary so we know the one to one mapping"
   ]
  },
  {
   "cell_type": "code",
   "execution_count": 78,
   "metadata": {},
   "outputs": [],
   "source": [
    "data = dict([(k, x) for k, x in zip(demographic_summary.keys(), data)])"
   ]
  },
  {
   "cell_type": "code",
   "execution_count": 79,
   "metadata": {},
   "outputs": [
    {
     "data": {
      "text/plain": [
       "{1: 0, 2: 6, 3: 4, 4: 0, 5: 0, 6: 0, 7: 0, 8: 0, 9: 0, 10: 0}"
      ]
     },
     "execution_count": 79,
     "metadata": {},
     "output_type": "execute_result"
    }
   ],
   "source": [
    "data"
   ]
  },
  {
   "cell_type": "markdown",
   "metadata": {},
   "source": [
    "Now that we have the proportions, the dumb (impossible) way to generate pedigress structure is to do this manually. Eg, for one pedigree of 2 offspring:\n",
    "\n",
    "```\n",
    "FAM1 0 0 M1 2 0\n",
    "FAM1 0 0 F1 1 0\n",
    "FAM1 M1 F1 O1 1 0\n",
    "FAM1 M1 F1 O2 2 0\n",
    "```\n",
    "\n",
    "But let's try to do with computers:"
   ]
  },
  {
   "cell_type": "code",
   "execution_count": 86,
   "metadata": {},
   "outputs": [
    {
     "name": "stdout",
     "output_type": "stream",
     "text": [
      "FAM1\t0\t0\tM1\t2\t0\n",
      "FAM1\t0\t0\tF1\t1\t0\n",
      "FAM1\tM1\tF1\tO1\t1\t0\n",
      "FAM1\tM1\tF1\tO2\t1\t0\n",
      "FAM2\t0\t0\tM2\t2\t0\n",
      "FAM2\t0\t0\tF2\t1\t0\n",
      "FAM2\tM2\tF2\tO1\t1\t0\n",
      "FAM2\tM2\tF2\tO2\t1\t0\n",
      "FAM3\t0\t0\tM3\t2\t0\n",
      "FAM3\t0\t0\tF3\t1\t0\n",
      "FAM3\tM3\tF3\tO1\t1\t0\n",
      "FAM3\tM3\tF3\tO2\t1\t0\n",
      "FAM4\t0\t0\tM4\t2\t0\n",
      "FAM4\t0\t0\tF4\t1\t0\n",
      "FAM4\tM4\tF4\tO1\t1\t0\n",
      "FAM4\tM4\tF4\tO2\t1\t0\n",
      "FAM5\t0\t0\tM5\t2\t0\n",
      "FAM5\t0\t0\tF5\t1\t0\n",
      "FAM5\tM5\tF5\tO1\t1\t0\n",
      "FAM5\tM5\tF5\tO2\t1\t0\n",
      "FAM6\t0\t0\tM6\t2\t0\n",
      "FAM6\t0\t0\tF6\t1\t0\n",
      "FAM6\tM6\tF6\tO1\t1\t0\n",
      "FAM6\tM6\tF6\tO2\t1\t0\n",
      "FAM7\t0\t0\tM7\t2\t0\n",
      "FAM7\t0\t0\tF7\t1\t0\n",
      "FAM7\tM7\tF7\tO1\t1\t0\n",
      "FAM7\tM7\tF7\tO2\t1\t0\n",
      "FAM7\tM7\tF7\tO3\t1\t0\n",
      "FAM8\t0\t0\tM8\t2\t0\n",
      "FAM8\t0\t0\tF8\t1\t0\n",
      "FAM8\tM8\tF8\tO1\t1\t0\n",
      "FAM8\tM8\tF8\tO2\t1\t0\n",
      "FAM8\tM8\tF8\tO3\t1\t0\n",
      "FAM9\t0\t0\tM9\t2\t0\n",
      "FAM9\t0\t0\tF9\t1\t0\n",
      "FAM9\tM9\tF9\tO1\t1\t0\n",
      "FAM9\tM9\tF9\tO2\t1\t0\n",
      "FAM9\tM9\tF9\tO3\t1\t0\n",
      "FAM10\t0\t0\tM10\t2\t0\n",
      "FAM10\t0\t0\tF10\t1\t0\n",
      "FAM10\tM10\tF10\tO1\t1\t0\n",
      "FAM10\tM10\tF10\tO2\t1\t0\n",
      "FAM10\tM10\tF10\tO3\t1\t0\n"
     ]
    }
   ],
   "source": [
    "# FIXME: write this to a file using `open()` function .. \n",
    "num_fam = 0\n",
    "fam_id = mid = fid = sid = sex = phen = ''\n",
    "for fam_type in data:\n",
    "    if fam_type == 1:\n",
    "        # single off-spring family\n",
    "        continue\n",
    "    for i in range(data[fam_type]):\n",
    "        num_fam += 1\n",
    "        fam_id = f'FAM{num_fam}'\n",
    "        mid = f'M{num_fam}'\n",
    "        fid = f'F{num_fam}'\n",
    "        # for founders\n",
    "        print(f\"{fam_id}\\t0\\t0\\t{mid}\\t2\\t0\")\n",
    "        print(f\"{fam_id}\\t0\\t0\\t{fid}\\t1\\t0\")\n",
    "        for j in range(fam_type):\n",
    "            sid = f\"O{j+1}\"\n",
    "            # FIXME: make sex random\n",
    "            sex = 1\n",
    "            print(f\"{fam_id}\\t{mid}\\t{fid}\\t{sid}\\t{sex}\\t0\")"
   ]
  }
 ],
 "metadata": {
  "kernelspec": {
   "display_name": "Python 3",
   "language": "python",
   "name": "python3"
  },
  "language_info": {
   "codemirror_mode": {
    "name": "ipython",
    "version": 3
   },
   "file_extension": ".py",
   "mimetype": "text/x-python",
   "name": "python",
   "nbconvert_exporter": "python",
   "pygments_lexer": "ipython3",
   "version": "3.7.4"
  }
 },
 "nbformat": 4,
 "nbformat_minor": 4
}
