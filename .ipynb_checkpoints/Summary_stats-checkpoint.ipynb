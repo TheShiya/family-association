{
 "cells": [
  {
   "cell_type": "markdown",
   "metadata": {
    "kernel": "SoS"
   },
   "source": [
    "## Summary statistics of the simulated phenotypes and genotypes (MAF, genotypic frequencies, Odds Ratio)"
   ]
  },
  {
   "cell_type": "markdown",
   "metadata": {
    "kernel": "SoS"
   },
   "source": [
    "To import a text file to python line by line"
   ]
  },
  {
   "cell_type": "code",
   "execution_count": 334,
   "metadata": {
    "kernel": "SoS"
   },
   "outputs": [],
   "source": [
    "ped_file = ('seqsimla/input/results_200/Sim21.ped')\n",
    "cases = ('seqsimla/input/results_200/cases_100.txt')"
   ]
  },
  {
   "cell_type": "code",
   "execution_count": 286,
   "metadata": {
    "kernel": "SoS"
   },
   "outputs": [],
   "source": [
    "lines = [x.strip().split() for x in open(ped_file).readlines()]"
   ]
  },
  {
   "cell_type": "markdown",
   "metadata": {
    "kernel": "SoS"
   },
   "source": [
    "To verify the number of lines in a file use the `len()` command"
   ]
  },
  {
   "cell_type": "code",
   "execution_count": 287,
   "metadata": {
    "kernel": "SoS"
   },
   "outputs": [
    {
     "data": {
      "text/plain": [
       "787"
      ]
     },
     "execution_count": 287,
     "metadata": {},
     "output_type": "execute_result"
    }
   ],
   "source": [
    "len(lines)"
   ]
  },
  {
   "cell_type": "code",
   "execution_count": 288,
   "metadata": {
    "kernel": "SoS"
   },
   "outputs": [
    {
     "data": {
      "text/plain": [
       "[['FAM1', 'M1', '0', '0', '2', '1', '1', '1', '1', '1', '1', '1', '1', '1'],\n",
       " ['FAM1', 'F1', '0', '0', '1', '1', '1', '2', '1', '1', '1', '2', '1', '1'],\n",
       " ['FAM1', 'O2', 'F1', 'M1', '2', '2', '2', '1', '1', '1', '2', '1', '1', '1'],\n",
       " ['FAM1', 'O1', 'F1', 'M1', '2', '2', '1', '1', '1', '1', '1', '1', '1', '1'],\n",
       " ['FAM2', 'M2', '0', '0', '2', '1', '1', '1', '1', '1', '1', '1', '1', '1'],\n",
       " ['FAM2', 'F2', '0', '0', '1', '1', '1', '1', '2', '1', '1', '1', '1', '1'],\n",
       " ['FAM2', 'O2', 'F2', 'M2', '1', '2', '1', '1', '2', '1', '1', '1', '1', '1'],\n",
       " ['FAM2', 'O1', 'F2', 'M2', '2', '2', '1', '1', '1', '1', '1', '1', '1', '1'],\n",
       " ['FAM3', 'M3', '0', '0', '2', '1', '1', '1', '1', '1', '1', '1', '1', '1'],\n",
       " ['FAM3', 'F3', '0', '0', '1', '1', '1', '1', '2', '1', '1', '1', '1', '1']]"
      ]
     },
     "execution_count": 288,
     "metadata": {},
     "output_type": "execute_result"
    }
   ],
   "source": [
    "lines [0:10]"
   ]
  },
  {
   "cell_type": "code",
   "execution_count": 289,
   "metadata": {
    "kernel": "SoS"
   },
   "outputs": [
    {
     "data": {
      "text/plain": [
       "[['FAM1', 'M1', '0', '0', '2', '1', '1', '1', '1', '1', '1', '1', '1', '1']]"
      ]
     },
     "execution_count": 289,
     "metadata": {},
     "output_type": "execute_result"
    }
   ],
   "source": [
    "lines [0:1]"
   ]
  },
  {
   "cell_type": "markdown",
   "metadata": {
    "kernel": "SoS"
   },
   "source": [
    "To select a part of the list of lists use the slicing method shown below. Here for the `pedigree` variable I am selecting the first six columns of the file and for the `affected` variable only the column number 6"
   ]
  },
  {
   "cell_type": "code",
   "execution_count": 290,
   "metadata": {
    "kernel": "SoS",
    "scrolled": true
   },
   "outputs": [],
   "source": [
    "pedigree = [sublist[0:6] for sublist in lines]\n",
    "affected = [sublist[5:6] for sublist in lines]\n",
    "individual = [sublist[1:2] for sublist in lines]"
   ]
  },
  {
   "cell_type": "markdown",
   "metadata": {
    "kernel": "SoS"
   },
   "source": [
    "Now to count the number of occurrences of 2 in the affection column, this means the number of affected individuals in a list of lists. Below two different ways of doing it"
   ]
  },
  {
   "cell_type": "code",
   "execution_count": 291,
   "metadata": {
    "kernel": "SoS"
   },
   "outputs": [
    {
     "name": "stdout",
     "output_type": "stream",
     "text": [
      "443\n"
     ]
    }
   ],
   "source": [
    "x = '2'\n",
    "def countList(affected, x): \n",
    "    count = 0\n",
    "    for i in range(len(affected)): \n",
    "        if x in affected[i]: \n",
    "            count+= 1\n",
    "        \n",
    "    return count\n",
    "print(countList(affected, x))"
   ]
  },
  {
   "cell_type": "code",
   "execution_count": 292,
   "metadata": {
    "kernel": "SoS"
   },
   "outputs": [],
   "source": [
    "def countList(affected, x): \n",
    "      \n",
    "    return sum(x in item for item in affected) \n",
    "print(countList(affected, x))"
   ]
  },
  {
   "cell_type": "markdown",
   "metadata": {
    "kernel": "SoS"
   },
   "source": [
    "To slice part of a file based on certain conditions it is best to use pandas. As per the example below. https://www.geeksforgeeks.org/saving-a-pandas-dataframe-as-a-csv/"
   ]
  },
  {
   "cell_type": "code",
   "execution_count": 340,
   "metadata": {
    "kernel": "SoS",
    "scrolled": true
   },
   "outputs": [],
   "source": [
    "import pandas as pd \n",
    "df_cases = pd.read_csv(ped_file, header=None, sep=' ', names=[\"famid\", \"iid\", \"fid\", \"mid\", \"sex\", \"aff\", \"snp1_1\", \"snp1_2\", \"snp2_1\", \"snp2_2\", \"snp3_1\", \"snp3_2\", \"snp4_1\", \"snp4_2\"], index_col=False)\n",
    "df1_cases = df_cases[df_cases['iid'].str.contains(\"O1\")] \n",
    "df2_cases = df1_cases[:100] \n",
    "df2_cases.to_csv('seqsimla/input/results_200/cases100.txt', header=False, index=False, sep=' ')"
   ]
  },
  {
   "cell_type": "code",
   "execution_count": 325,
   "metadata": {
    "kernel": "SoS",
    "scrolled": true
   },
   "outputs": [],
   "source": [
    "len(df1)"
   ]
  },
  {
   "cell_type": "code",
   "execution_count": 354,
   "metadata": {
    "kernel": "SoS",
    "scrolled": true
   },
   "outputs": [],
   "source": [
    "df_controls = pd.read_csv(ped_file, header=None, sep=' ', names=[\"famid\", \"iid\", \"fid\", \"mid\", \"sex\", \"aff\", \"snp1_1\", \"snp1_2\", \"snp2_1\", \"snp2_2\", \"snp3_1\", \"snp3_2\", \"snp4_1\", \"snp4_2\"], index_col=False)\n",
    "df1_controls = df_controls[df_controls['aff'] == 1 & df_controls['iid'].str.contains('^[^O]')] \n",
    "df2_controls = df1_controls[200:300] \n",
    "df2_controls\n",
    "df2_controls.to_csv('seqsimla/input/results_200/controls100.txt', header=False, index=False, sep=' ')"
   ]
  },
  {
   "cell_type": "markdown",
   "metadata": {
    "kernel": "SoS"
   },
   "source": [
    "Below, I try to sum the number of affected offspring in the `proband_file` that should be the same as the total number of affected individuals since it was simulated like this from the beginning. "
   ]
  },
  {
   "cell_type": "code",
   "execution_count": 293,
   "metadata": {
    "kernel": "SoS"
   },
   "outputs": [
    {
     "name": "stdout",
     "output_type": "stream",
     "text": [
      "172\n"
     ]
    }
   ],
   "source": [
    "#FIXME: how to count the 01, 02, 03....present in the list?\n",
    "s = range(1,10)\n",
    "y = f'O{1}'\n",
    "def countList(individual, y): \n",
    "    count = 0\n",
    "    for j in range(len(individual)): \n",
    "        if y in individual[j]: \n",
    "            count+= 1\n",
    "        \n",
    "    return count\n",
    "print(countList(individual, y))"
   ]
  },
  {
   "cell_type": "markdown",
   "metadata": {
    "kernel": "SoS"
   },
   "source": [
    "Now to obtain some summary statistics, as for example the MAF for each variant, the OR and the genotype frequencies. "
   ]
  },
  {
   "cell_type": "code",
   "execution_count": 294,
   "metadata": {
    "kernel": "R"
   },
   "outputs": [
    {
     "data": {
      "text/html": [
       "'/Users/dmc2245/Documents/Cornejo_Diana/family-association'"
      ],
      "text/latex": [
       "'/Users/dmc2245/Documents/Cornejo\\_Diana/family-association'"
      ],
      "text/markdown": [
       "'/Users/dmc2245/Documents/Cornejo_Diana/family-association'"
      ],
      "text/plain": [
       "[1] \"/Users/dmc2245/Documents/Cornejo_Diana/family-association\""
      ]
     },
     "metadata": {},
     "output_type": "display_data"
    }
   ],
   "source": [
    "getwd()"
   ]
  },
  {
   "cell_type": "code",
   "execution_count": 355,
   "metadata": {
    "kernel": "R"
   },
   "outputs": [],
   "source": [
    "dat = read.table('seqsimla/input/results_200/Sim21.ped') #read the genotypic data\n",
    "cases100 = read.table('seqsimla/input/results_200/cases100.txt') #100 cases from the simulaiton\n",
    "controls100 = read.table('seqsimla/input/results_200/cases100.txt')#100 controls from the simulation"
   ]
  },
  {
   "cell_type": "code",
   "execution_count": null,
   "metadata": {
    "kernel": "R",
    "scrolled": true
   },
   "outputs": [],
   "source": [
    "head(dat) #look at the data"
   ]
  },
  {
   "cell_type": "code",
   "execution_count": null,
   "metadata": {
    "kernel": "R",
    "scrolled": true
   },
   "outputs": [],
   "source": [
    "cases_geno = cases100[,-(1:6)] -1\n",
    "cases_geno2 = sapply(split.default(geno, 0:(length(cases_geno)-1) %/% 2), rowSums) #sum the allele counts for every marker\n",
    "cases_geno3 = t(cases_geno2) #transpose the matrix to have snp-by-individual"
   ]
  },
  {
   "cell_type": "markdown",
   "metadata": {
    "kernel": "R"
   },
   "source": [
    "Select only the founders from the sample"
   ]
  },
  {
   "cell_type": "code",
   "execution_count": 297,
   "metadata": {
    "kernel": "R",
    "scrolled": true
   },
   "outputs": [
    {
     "data": {
      "text/html": [
       "<table>\n",
       "<caption>A data.frame: 344 × 14</caption>\n",
       "<thead>\n",
       "\t<tr><th></th><th scope=col>V1</th><th scope=col>V2</th><th scope=col>V3</th><th scope=col>V4</th><th scope=col>V5</th><th scope=col>V6</th><th scope=col>V7</th><th scope=col>V8</th><th scope=col>V9</th><th scope=col>V10</th><th scope=col>V11</th><th scope=col>V12</th><th scope=col>V13</th><th scope=col>V14</th></tr>\n",
       "\t<tr><th></th><th scope=col>&lt;fct&gt;</th><th scope=col>&lt;fct&gt;</th><th scope=col>&lt;fct&gt;</th><th scope=col>&lt;fct&gt;</th><th scope=col>&lt;int&gt;</th><th scope=col>&lt;int&gt;</th><th scope=col>&lt;int&gt;</th><th scope=col>&lt;int&gt;</th><th scope=col>&lt;int&gt;</th><th scope=col>&lt;int&gt;</th><th scope=col>&lt;int&gt;</th><th scope=col>&lt;int&gt;</th><th scope=col>&lt;int&gt;</th><th scope=col>&lt;int&gt;</th></tr>\n",
       "</thead>\n",
       "<tbody>\n",
       "\t<tr><th scope=row>1</th><td>FAM1 </td><td>M1 </td><td>0</td><td>0</td><td>2</td><td>1</td><td>1</td><td>1</td><td>1</td><td>1</td><td>1</td><td>1</td><td>1</td><td>1</td></tr>\n",
       "\t<tr><th scope=row>2</th><td>FAM1 </td><td>F1 </td><td>0</td><td>0</td><td>1</td><td>1</td><td>1</td><td>2</td><td>1</td><td>1</td><td>1</td><td>2</td><td>1</td><td>1</td></tr>\n",
       "\t<tr><th scope=row>5</th><td>FAM2 </td><td>M2 </td><td>0</td><td>0</td><td>2</td><td>1</td><td>1</td><td>1</td><td>1</td><td>1</td><td>1</td><td>1</td><td>1</td><td>1</td></tr>\n",
       "\t<tr><th scope=row>6</th><td>FAM2 </td><td>F2 </td><td>0</td><td>0</td><td>1</td><td>1</td><td>1</td><td>1</td><td>2</td><td>1</td><td>1</td><td>1</td><td>1</td><td>1</td></tr>\n",
       "\t<tr><th scope=row>9</th><td>FAM3 </td><td>M3 </td><td>0</td><td>0</td><td>2</td><td>1</td><td>1</td><td>1</td><td>1</td><td>1</td><td>1</td><td>1</td><td>1</td><td>1</td></tr>\n",
       "\t<tr><th scope=row>10</th><td>FAM3 </td><td>F3 </td><td>0</td><td>0</td><td>1</td><td>1</td><td>1</td><td>1</td><td>2</td><td>1</td><td>1</td><td>1</td><td>1</td><td>1</td></tr>\n",
       "\t<tr><th scope=row>13</th><td>FAM4 </td><td>M4 </td><td>0</td><td>0</td><td>2</td><td>1</td><td>1</td><td>1</td><td>1</td><td>1</td><td>1</td><td>1</td><td>1</td><td>1</td></tr>\n",
       "\t<tr><th scope=row>14</th><td>FAM4 </td><td>F4 </td><td>0</td><td>0</td><td>1</td><td>1</td><td>1</td><td>1</td><td>1</td><td>1</td><td>1</td><td>1</td><td>1</td><td>1</td></tr>\n",
       "\t<tr><th scope=row>17</th><td>FAM5 </td><td>M5 </td><td>0</td><td>0</td><td>2</td><td>1</td><td>1</td><td>1</td><td>1</td><td>1</td><td>1</td><td>1</td><td>1</td><td>1</td></tr>\n",
       "\t<tr><th scope=row>18</th><td>FAM5 </td><td>F5 </td><td>0</td><td>0</td><td>1</td><td>1</td><td>1</td><td>1</td><td>1</td><td>1</td><td>1</td><td>1</td><td>1</td><td>1</td></tr>\n",
       "\t<tr><th scope=row>21</th><td>FAM6 </td><td>M6 </td><td>0</td><td>0</td><td>2</td><td>1</td><td>1</td><td>1</td><td>1</td><td>1</td><td>1</td><td>1</td><td>1</td><td>1</td></tr>\n",
       "\t<tr><th scope=row>22</th><td>FAM6 </td><td>F6 </td><td>0</td><td>0</td><td>1</td><td>1</td><td>1</td><td>1</td><td>1</td><td>1</td><td>2</td><td>2</td><td>1</td><td>1</td></tr>\n",
       "\t<tr><th scope=row>25</th><td>FAM7 </td><td>M7 </td><td>0</td><td>0</td><td>2</td><td>1</td><td>2</td><td>1</td><td>2</td><td>1</td><td>1</td><td>1</td><td>1</td><td>1</td></tr>\n",
       "\t<tr><th scope=row>26</th><td>FAM7 </td><td>F7 </td><td>0</td><td>0</td><td>1</td><td>1</td><td>1</td><td>1</td><td>1</td><td>1</td><td>2</td><td>1</td><td>1</td><td>1</td></tr>\n",
       "\t<tr><th scope=row>29</th><td>FAM8 </td><td>M8 </td><td>0</td><td>0</td><td>2</td><td>1</td><td>2</td><td>1</td><td>1</td><td>1</td><td>2</td><td>1</td><td>1</td><td>1</td></tr>\n",
       "\t<tr><th scope=row>30</th><td>FAM8 </td><td>F8 </td><td>0</td><td>0</td><td>1</td><td>1</td><td>1</td><td>1</td><td>1</td><td>2</td><td>1</td><td>1</td><td>1</td><td>1</td></tr>\n",
       "\t<tr><th scope=row>33</th><td>FAM9 </td><td>M9 </td><td>0</td><td>0</td><td>2</td><td>1</td><td>1</td><td>1</td><td>2</td><td>1</td><td>1</td><td>1</td><td>1</td><td>1</td></tr>\n",
       "\t<tr><th scope=row>34</th><td>FAM9 </td><td>F9 </td><td>0</td><td>0</td><td>1</td><td>1</td><td>1</td><td>1</td><td>1</td><td>1</td><td>1</td><td>1</td><td>1</td><td>2</td></tr>\n",
       "\t<tr><th scope=row>37</th><td>FAM10</td><td>M10</td><td>0</td><td>0</td><td>2</td><td>1</td><td>1</td><td>1</td><td>2</td><td>1</td><td>1</td><td>1</td><td>2</td><td>1</td></tr>\n",
       "\t<tr><th scope=row>38</th><td>FAM10</td><td>F10</td><td>0</td><td>0</td><td>1</td><td>1</td><td>1</td><td>1</td><td>2</td><td>2</td><td>1</td><td>2</td><td>1</td><td>2</td></tr>\n",
       "\t<tr><th scope=row>41</th><td>FAM11</td><td>M11</td><td>0</td><td>0</td><td>2</td><td>1</td><td>2</td><td>1</td><td>1</td><td>1</td><td>1</td><td>2</td><td>1</td><td>1</td></tr>\n",
       "\t<tr><th scope=row>42</th><td>FAM11</td><td>F11</td><td>0</td><td>0</td><td>1</td><td>1</td><td>1</td><td>1</td><td>1</td><td>2</td><td>1</td><td>2</td><td>1</td><td>1</td></tr>\n",
       "\t<tr><th scope=row>45</th><td>FAM12</td><td>M12</td><td>0</td><td>0</td><td>2</td><td>1</td><td>1</td><td>1</td><td>1</td><td>1</td><td>1</td><td>2</td><td>1</td><td>1</td></tr>\n",
       "\t<tr><th scope=row>46</th><td>FAM12</td><td>F12</td><td>0</td><td>0</td><td>1</td><td>1</td><td>1</td><td>1</td><td>1</td><td>1</td><td>1</td><td>1</td><td>1</td><td>1</td></tr>\n",
       "\t<tr><th scope=row>49</th><td>FAM13</td><td>M13</td><td>0</td><td>0</td><td>2</td><td>1</td><td>2</td><td>1</td><td>1</td><td>1</td><td>1</td><td>1</td><td>1</td><td>1</td></tr>\n",
       "\t<tr><th scope=row>50</th><td>FAM13</td><td>F13</td><td>0</td><td>0</td><td>1</td><td>1</td><td>1</td><td>1</td><td>1</td><td>1</td><td>1</td><td>1</td><td>1</td><td>1</td></tr>\n",
       "\t<tr><th scope=row>53</th><td>FAM14</td><td>M14</td><td>0</td><td>0</td><td>2</td><td>1</td><td>1</td><td>1</td><td>1</td><td>1</td><td>1</td><td>1</td><td>1</td><td>1</td></tr>\n",
       "\t<tr><th scope=row>54</th><td>FAM14</td><td>F14</td><td>0</td><td>0</td><td>1</td><td>1</td><td>1</td><td>2</td><td>1</td><td>1</td><td>1</td><td>1</td><td>1</td><td>1</td></tr>\n",
       "\t<tr><th scope=row>57</th><td>FAM15</td><td>M15</td><td>0</td><td>0</td><td>2</td><td>1</td><td>1</td><td>1</td><td>1</td><td>1</td><td>1</td><td>1</td><td>1</td><td>1</td></tr>\n",
       "\t<tr><th scope=row>58</th><td>FAM15</td><td>F15</td><td>0</td><td>0</td><td>1</td><td>1</td><td>1</td><td>1</td><td>1</td><td>1</td><td>1</td><td>2</td><td>1</td><td>1</td></tr>\n",
       "\t<tr><th scope=row>⋮</th><td>⋮</td><td>⋮</td><td>⋮</td><td>⋮</td><td>⋮</td><td>⋮</td><td>⋮</td><td>⋮</td><td>⋮</td><td>⋮</td><td>⋮</td><td>⋮</td><td>⋮</td><td>⋮</td></tr>\n",
       "\t<tr><th scope=row>699</th><td>FAM158</td><td>M158</td><td>0</td><td>0</td><td>2</td><td>1</td><td>1</td><td>1</td><td>1</td><td>1</td><td>1</td><td>1</td><td>1</td><td>1</td></tr>\n",
       "\t<tr><th scope=row>700</th><td>FAM158</td><td>F158</td><td>0</td><td>0</td><td>1</td><td>1</td><td>1</td><td>1</td><td>1</td><td>1</td><td>1</td><td>1</td><td>1</td><td>1</td></tr>\n",
       "\t<tr><th scope=row>705</th><td>FAM159</td><td>M159</td><td>0</td><td>0</td><td>2</td><td>1</td><td>2</td><td>1</td><td>1</td><td>1</td><td>1</td><td>1</td><td>1</td><td>2</td></tr>\n",
       "\t<tr><th scope=row>706</th><td>FAM159</td><td>F159</td><td>0</td><td>0</td><td>1</td><td>1</td><td>1</td><td>1</td><td>1</td><td>1</td><td>2</td><td>1</td><td>1</td><td>1</td></tr>\n",
       "\t<tr><th scope=row>711</th><td>FAM160</td><td>M160</td><td>0</td><td>0</td><td>2</td><td>1</td><td>2</td><td>1</td><td>1</td><td>1</td><td>1</td><td>1</td><td>1</td><td>1</td></tr>\n",
       "\t<tr><th scope=row>712</th><td>FAM160</td><td>F160</td><td>0</td><td>0</td><td>1</td><td>1</td><td>2</td><td>2</td><td>1</td><td>1</td><td>1</td><td>1</td><td>1</td><td>2</td></tr>\n",
       "\t<tr><th scope=row>717</th><td>FAM161</td><td>M161</td><td>0</td><td>0</td><td>2</td><td>1</td><td>1</td><td>1</td><td>1</td><td>1</td><td>1</td><td>1</td><td>1</td><td>1</td></tr>\n",
       "\t<tr><th scope=row>718</th><td>FAM161</td><td>F161</td><td>0</td><td>0</td><td>1</td><td>1</td><td>2</td><td>1</td><td>1</td><td>1</td><td>1</td><td>1</td><td>1</td><td>1</td></tr>\n",
       "\t<tr><th scope=row>723</th><td>FAM162</td><td>M162</td><td>0</td><td>0</td><td>2</td><td>1</td><td>2</td><td>1</td><td>1</td><td>1</td><td>1</td><td>1</td><td>1</td><td>1</td></tr>\n",
       "\t<tr><th scope=row>724</th><td>FAM162</td><td>F162</td><td>0</td><td>0</td><td>1</td><td>1</td><td>1</td><td>1</td><td>1</td><td>1</td><td>1</td><td>1</td><td>1</td><td>1</td></tr>\n",
       "\t<tr><th scope=row>729</th><td>FAM163</td><td>M163</td><td>0</td><td>0</td><td>2</td><td>1</td><td>1</td><td>1</td><td>1</td><td>1</td><td>1</td><td>1</td><td>1</td><td>1</td></tr>\n",
       "\t<tr><th scope=row>730</th><td>FAM163</td><td>F163</td><td>0</td><td>0</td><td>1</td><td>1</td><td>2</td><td>1</td><td>1</td><td>2</td><td>1</td><td>2</td><td>1</td><td>1</td></tr>\n",
       "\t<tr><th scope=row>735</th><td>FAM164</td><td>M164</td><td>0</td><td>0</td><td>2</td><td>1</td><td>1</td><td>1</td><td>1</td><td>1</td><td>1</td><td>1</td><td>1</td><td>1</td></tr>\n",
       "\t<tr><th scope=row>736</th><td>FAM164</td><td>F164</td><td>0</td><td>0</td><td>1</td><td>1</td><td>1</td><td>2</td><td>1</td><td>1</td><td>1</td><td>1</td><td>1</td><td>1</td></tr>\n",
       "\t<tr><th scope=row>741</th><td>FAM165</td><td>M165</td><td>0</td><td>0</td><td>2</td><td>1</td><td>1</td><td>1</td><td>2</td><td>1</td><td>1</td><td>1</td><td>1</td><td>1</td></tr>\n",
       "\t<tr><th scope=row>742</th><td>FAM165</td><td>F165</td><td>0</td><td>0</td><td>1</td><td>1</td><td>2</td><td>1</td><td>2</td><td>1</td><td>1</td><td>1</td><td>1</td><td>1</td></tr>\n",
       "\t<tr><th scope=row>747</th><td>FAM166</td><td>M166</td><td>0</td><td>0</td><td>2</td><td>1</td><td>1</td><td>2</td><td>1</td><td>1</td><td>2</td><td>2</td><td>2</td><td>1</td></tr>\n",
       "\t<tr><th scope=row>748</th><td>FAM166</td><td>F166</td><td>0</td><td>0</td><td>1</td><td>1</td><td>1</td><td>1</td><td>1</td><td>1</td><td>1</td><td>2</td><td>2</td><td>1</td></tr>\n",
       "\t<tr><th scope=row>753</th><td>FAM167</td><td>M167</td><td>0</td><td>0</td><td>2</td><td>1</td><td>1</td><td>1</td><td>1</td><td>1</td><td>1</td><td>1</td><td>2</td><td>1</td></tr>\n",
       "\t<tr><th scope=row>754</th><td>FAM167</td><td>F167</td><td>0</td><td>0</td><td>1</td><td>1</td><td>1</td><td>1</td><td>1</td><td>1</td><td>1</td><td>1</td><td>1</td><td>1</td></tr>\n",
       "\t<tr><th scope=row>759</th><td>FAM168</td><td>M168</td><td>0</td><td>0</td><td>2</td><td>1</td><td>1</td><td>1</td><td>1</td><td>1</td><td>1</td><td>1</td><td>2</td><td>1</td></tr>\n",
       "\t<tr><th scope=row>760</th><td>FAM168</td><td>F168</td><td>0</td><td>0</td><td>1</td><td>1</td><td>1</td><td>1</td><td>1</td><td>1</td><td>1</td><td>1</td><td>2</td><td>1</td></tr>\n",
       "\t<tr><th scope=row>765</th><td>FAM169</td><td>M169</td><td>0</td><td>0</td><td>2</td><td>1</td><td>2</td><td>1</td><td>1</td><td>1</td><td>1</td><td>1</td><td>1</td><td>1</td></tr>\n",
       "\t<tr><th scope=row>766</th><td>FAM169</td><td>F169</td><td>0</td><td>0</td><td>1</td><td>1</td><td>1</td><td>1</td><td>1</td><td>1</td><td>1</td><td>1</td><td>1</td><td>1</td></tr>\n",
       "\t<tr><th scope=row>771</th><td>FAM170</td><td>M170</td><td>0</td><td>0</td><td>2</td><td>1</td><td>1</td><td>1</td><td>2</td><td>1</td><td>2</td><td>1</td><td>1</td><td>1</td></tr>\n",
       "\t<tr><th scope=row>772</th><td>FAM170</td><td>F170</td><td>0</td><td>0</td><td>1</td><td>1</td><td>1</td><td>1</td><td>1</td><td>1</td><td>1</td><td>1</td><td>1</td><td>1</td></tr>\n",
       "\t<tr><th scope=row>777</th><td>FAM171</td><td>M171</td><td>0</td><td>0</td><td>2</td><td>1</td><td>1</td><td>1</td><td>2</td><td>1</td><td>1</td><td>1</td><td>1</td><td>1</td></tr>\n",
       "\t<tr><th scope=row>778</th><td>FAM171</td><td>F171</td><td>0</td><td>0</td><td>1</td><td>1</td><td>1</td><td>2</td><td>1</td><td>1</td><td>1</td><td>1</td><td>1</td><td>1</td></tr>\n",
       "\t<tr><th scope=row>783</th><td>FAM172</td><td>M172</td><td>0</td><td>0</td><td>2</td><td>1</td><td>2</td><td>1</td><td>1</td><td>1</td><td>1</td><td>1</td><td>2</td><td>1</td></tr>\n",
       "\t<tr><th scope=row>784</th><td>FAM172</td><td>F172</td><td>0</td><td>0</td><td>1</td><td>1</td><td>1</td><td>1</td><td>1</td><td>1</td><td>1</td><td>1</td><td>1</td><td>1</td></tr>\n",
       "</tbody>\n",
       "</table>\n"
      ],
      "text/latex": [
       "A data.frame: 344 × 14\n",
       "\\begin{tabular}{r|llllllllllllll}\n",
       "  & V1 & V2 & V3 & V4 & V5 & V6 & V7 & V8 & V9 & V10 & V11 & V12 & V13 & V14\\\\\n",
       "  & <fct> & <fct> & <fct> & <fct> & <int> & <int> & <int> & <int> & <int> & <int> & <int> & <int> & <int> & <int>\\\\\n",
       "\\hline\n",
       "\t1 & FAM1  & M1  & 0 & 0 & 2 & 1 & 1 & 1 & 1 & 1 & 1 & 1 & 1 & 1\\\\\n",
       "\t2 & FAM1  & F1  & 0 & 0 & 1 & 1 & 1 & 2 & 1 & 1 & 1 & 2 & 1 & 1\\\\\n",
       "\t5 & FAM2  & M2  & 0 & 0 & 2 & 1 & 1 & 1 & 1 & 1 & 1 & 1 & 1 & 1\\\\\n",
       "\t6 & FAM2  & F2  & 0 & 0 & 1 & 1 & 1 & 1 & 2 & 1 & 1 & 1 & 1 & 1\\\\\n",
       "\t9 & FAM3  & M3  & 0 & 0 & 2 & 1 & 1 & 1 & 1 & 1 & 1 & 1 & 1 & 1\\\\\n",
       "\t10 & FAM3  & F3  & 0 & 0 & 1 & 1 & 1 & 1 & 2 & 1 & 1 & 1 & 1 & 1\\\\\n",
       "\t13 & FAM4  & M4  & 0 & 0 & 2 & 1 & 1 & 1 & 1 & 1 & 1 & 1 & 1 & 1\\\\\n",
       "\t14 & FAM4  & F4  & 0 & 0 & 1 & 1 & 1 & 1 & 1 & 1 & 1 & 1 & 1 & 1\\\\\n",
       "\t17 & FAM5  & M5  & 0 & 0 & 2 & 1 & 1 & 1 & 1 & 1 & 1 & 1 & 1 & 1\\\\\n",
       "\t18 & FAM5  & F5  & 0 & 0 & 1 & 1 & 1 & 1 & 1 & 1 & 1 & 1 & 1 & 1\\\\\n",
       "\t21 & FAM6  & M6  & 0 & 0 & 2 & 1 & 1 & 1 & 1 & 1 & 1 & 1 & 1 & 1\\\\\n",
       "\t22 & FAM6  & F6  & 0 & 0 & 1 & 1 & 1 & 1 & 1 & 1 & 2 & 2 & 1 & 1\\\\\n",
       "\t25 & FAM7  & M7  & 0 & 0 & 2 & 1 & 2 & 1 & 2 & 1 & 1 & 1 & 1 & 1\\\\\n",
       "\t26 & FAM7  & F7  & 0 & 0 & 1 & 1 & 1 & 1 & 1 & 1 & 2 & 1 & 1 & 1\\\\\n",
       "\t29 & FAM8  & M8  & 0 & 0 & 2 & 1 & 2 & 1 & 1 & 1 & 2 & 1 & 1 & 1\\\\\n",
       "\t30 & FAM8  & F8  & 0 & 0 & 1 & 1 & 1 & 1 & 1 & 2 & 1 & 1 & 1 & 1\\\\\n",
       "\t33 & FAM9  & M9  & 0 & 0 & 2 & 1 & 1 & 1 & 2 & 1 & 1 & 1 & 1 & 1\\\\\n",
       "\t34 & FAM9  & F9  & 0 & 0 & 1 & 1 & 1 & 1 & 1 & 1 & 1 & 1 & 1 & 2\\\\\n",
       "\t37 & FAM10 & M10 & 0 & 0 & 2 & 1 & 1 & 1 & 2 & 1 & 1 & 1 & 2 & 1\\\\\n",
       "\t38 & FAM10 & F10 & 0 & 0 & 1 & 1 & 1 & 1 & 2 & 2 & 1 & 2 & 1 & 2\\\\\n",
       "\t41 & FAM11 & M11 & 0 & 0 & 2 & 1 & 2 & 1 & 1 & 1 & 1 & 2 & 1 & 1\\\\\n",
       "\t42 & FAM11 & F11 & 0 & 0 & 1 & 1 & 1 & 1 & 1 & 2 & 1 & 2 & 1 & 1\\\\\n",
       "\t45 & FAM12 & M12 & 0 & 0 & 2 & 1 & 1 & 1 & 1 & 1 & 1 & 2 & 1 & 1\\\\\n",
       "\t46 & FAM12 & F12 & 0 & 0 & 1 & 1 & 1 & 1 & 1 & 1 & 1 & 1 & 1 & 1\\\\\n",
       "\t49 & FAM13 & M13 & 0 & 0 & 2 & 1 & 2 & 1 & 1 & 1 & 1 & 1 & 1 & 1\\\\\n",
       "\t50 & FAM13 & F13 & 0 & 0 & 1 & 1 & 1 & 1 & 1 & 1 & 1 & 1 & 1 & 1\\\\\n",
       "\t53 & FAM14 & M14 & 0 & 0 & 2 & 1 & 1 & 1 & 1 & 1 & 1 & 1 & 1 & 1\\\\\n",
       "\t54 & FAM14 & F14 & 0 & 0 & 1 & 1 & 1 & 2 & 1 & 1 & 1 & 1 & 1 & 1\\\\\n",
       "\t57 & FAM15 & M15 & 0 & 0 & 2 & 1 & 1 & 1 & 1 & 1 & 1 & 1 & 1 & 1\\\\\n",
       "\t58 & FAM15 & F15 & 0 & 0 & 1 & 1 & 1 & 1 & 1 & 1 & 1 & 2 & 1 & 1\\\\\n",
       "\t⋮ & ⋮ & ⋮ & ⋮ & ⋮ & ⋮ & ⋮ & ⋮ & ⋮ & ⋮ & ⋮ & ⋮ & ⋮ & ⋮ & ⋮\\\\\n",
       "\t699 & FAM158 & M158 & 0 & 0 & 2 & 1 & 1 & 1 & 1 & 1 & 1 & 1 & 1 & 1\\\\\n",
       "\t700 & FAM158 & F158 & 0 & 0 & 1 & 1 & 1 & 1 & 1 & 1 & 1 & 1 & 1 & 1\\\\\n",
       "\t705 & FAM159 & M159 & 0 & 0 & 2 & 1 & 2 & 1 & 1 & 1 & 1 & 1 & 1 & 2\\\\\n",
       "\t706 & FAM159 & F159 & 0 & 0 & 1 & 1 & 1 & 1 & 1 & 1 & 2 & 1 & 1 & 1\\\\\n",
       "\t711 & FAM160 & M160 & 0 & 0 & 2 & 1 & 2 & 1 & 1 & 1 & 1 & 1 & 1 & 1\\\\\n",
       "\t712 & FAM160 & F160 & 0 & 0 & 1 & 1 & 2 & 2 & 1 & 1 & 1 & 1 & 1 & 2\\\\\n",
       "\t717 & FAM161 & M161 & 0 & 0 & 2 & 1 & 1 & 1 & 1 & 1 & 1 & 1 & 1 & 1\\\\\n",
       "\t718 & FAM161 & F161 & 0 & 0 & 1 & 1 & 2 & 1 & 1 & 1 & 1 & 1 & 1 & 1\\\\\n",
       "\t723 & FAM162 & M162 & 0 & 0 & 2 & 1 & 2 & 1 & 1 & 1 & 1 & 1 & 1 & 1\\\\\n",
       "\t724 & FAM162 & F162 & 0 & 0 & 1 & 1 & 1 & 1 & 1 & 1 & 1 & 1 & 1 & 1\\\\\n",
       "\t729 & FAM163 & M163 & 0 & 0 & 2 & 1 & 1 & 1 & 1 & 1 & 1 & 1 & 1 & 1\\\\\n",
       "\t730 & FAM163 & F163 & 0 & 0 & 1 & 1 & 2 & 1 & 1 & 2 & 1 & 2 & 1 & 1\\\\\n",
       "\t735 & FAM164 & M164 & 0 & 0 & 2 & 1 & 1 & 1 & 1 & 1 & 1 & 1 & 1 & 1\\\\\n",
       "\t736 & FAM164 & F164 & 0 & 0 & 1 & 1 & 1 & 2 & 1 & 1 & 1 & 1 & 1 & 1\\\\\n",
       "\t741 & FAM165 & M165 & 0 & 0 & 2 & 1 & 1 & 1 & 2 & 1 & 1 & 1 & 1 & 1\\\\\n",
       "\t742 & FAM165 & F165 & 0 & 0 & 1 & 1 & 2 & 1 & 2 & 1 & 1 & 1 & 1 & 1\\\\\n",
       "\t747 & FAM166 & M166 & 0 & 0 & 2 & 1 & 1 & 2 & 1 & 1 & 2 & 2 & 2 & 1\\\\\n",
       "\t748 & FAM166 & F166 & 0 & 0 & 1 & 1 & 1 & 1 & 1 & 1 & 1 & 2 & 2 & 1\\\\\n",
       "\t753 & FAM167 & M167 & 0 & 0 & 2 & 1 & 1 & 1 & 1 & 1 & 1 & 1 & 2 & 1\\\\\n",
       "\t754 & FAM167 & F167 & 0 & 0 & 1 & 1 & 1 & 1 & 1 & 1 & 1 & 1 & 1 & 1\\\\\n",
       "\t759 & FAM168 & M168 & 0 & 0 & 2 & 1 & 1 & 1 & 1 & 1 & 1 & 1 & 2 & 1\\\\\n",
       "\t760 & FAM168 & F168 & 0 & 0 & 1 & 1 & 1 & 1 & 1 & 1 & 1 & 1 & 2 & 1\\\\\n",
       "\t765 & FAM169 & M169 & 0 & 0 & 2 & 1 & 2 & 1 & 1 & 1 & 1 & 1 & 1 & 1\\\\\n",
       "\t766 & FAM169 & F169 & 0 & 0 & 1 & 1 & 1 & 1 & 1 & 1 & 1 & 1 & 1 & 1\\\\\n",
       "\t771 & FAM170 & M170 & 0 & 0 & 2 & 1 & 1 & 1 & 2 & 1 & 2 & 1 & 1 & 1\\\\\n",
       "\t772 & FAM170 & F170 & 0 & 0 & 1 & 1 & 1 & 1 & 1 & 1 & 1 & 1 & 1 & 1\\\\\n",
       "\t777 & FAM171 & M171 & 0 & 0 & 2 & 1 & 1 & 1 & 2 & 1 & 1 & 1 & 1 & 1\\\\\n",
       "\t778 & FAM171 & F171 & 0 & 0 & 1 & 1 & 1 & 2 & 1 & 1 & 1 & 1 & 1 & 1\\\\\n",
       "\t783 & FAM172 & M172 & 0 & 0 & 2 & 1 & 2 & 1 & 1 & 1 & 1 & 1 & 2 & 1\\\\\n",
       "\t784 & FAM172 & F172 & 0 & 0 & 1 & 1 & 1 & 1 & 1 & 1 & 1 & 1 & 1 & 1\\\\\n",
       "\\end{tabular}\n"
      ],
      "text/markdown": [
       "\n",
       "A data.frame: 344 × 14\n",
       "\n",
       "| <!--/--> | V1 &lt;fct&gt; | V2 &lt;fct&gt; | V3 &lt;fct&gt; | V4 &lt;fct&gt; | V5 &lt;int&gt; | V6 &lt;int&gt; | V7 &lt;int&gt; | V8 &lt;int&gt; | V9 &lt;int&gt; | V10 &lt;int&gt; | V11 &lt;int&gt; | V12 &lt;int&gt; | V13 &lt;int&gt; | V14 &lt;int&gt; |\n",
       "|---|---|---|---|---|---|---|---|---|---|---|---|---|---|---|\n",
       "| 1 | FAM1  | M1  | 0 | 0 | 2 | 1 | 1 | 1 | 1 | 1 | 1 | 1 | 1 | 1 |\n",
       "| 2 | FAM1  | F1  | 0 | 0 | 1 | 1 | 1 | 2 | 1 | 1 | 1 | 2 | 1 | 1 |\n",
       "| 5 | FAM2  | M2  | 0 | 0 | 2 | 1 | 1 | 1 | 1 | 1 | 1 | 1 | 1 | 1 |\n",
       "| 6 | FAM2  | F2  | 0 | 0 | 1 | 1 | 1 | 1 | 2 | 1 | 1 | 1 | 1 | 1 |\n",
       "| 9 | FAM3  | M3  | 0 | 0 | 2 | 1 | 1 | 1 | 1 | 1 | 1 | 1 | 1 | 1 |\n",
       "| 10 | FAM3  | F3  | 0 | 0 | 1 | 1 | 1 | 1 | 2 | 1 | 1 | 1 | 1 | 1 |\n",
       "| 13 | FAM4  | M4  | 0 | 0 | 2 | 1 | 1 | 1 | 1 | 1 | 1 | 1 | 1 | 1 |\n",
       "| 14 | FAM4  | F4  | 0 | 0 | 1 | 1 | 1 | 1 | 1 | 1 | 1 | 1 | 1 | 1 |\n",
       "| 17 | FAM5  | M5  | 0 | 0 | 2 | 1 | 1 | 1 | 1 | 1 | 1 | 1 | 1 | 1 |\n",
       "| 18 | FAM5  | F5  | 0 | 0 | 1 | 1 | 1 | 1 | 1 | 1 | 1 | 1 | 1 | 1 |\n",
       "| 21 | FAM6  | M6  | 0 | 0 | 2 | 1 | 1 | 1 | 1 | 1 | 1 | 1 | 1 | 1 |\n",
       "| 22 | FAM6  | F6  | 0 | 0 | 1 | 1 | 1 | 1 | 1 | 1 | 2 | 2 | 1 | 1 |\n",
       "| 25 | FAM7  | M7  | 0 | 0 | 2 | 1 | 2 | 1 | 2 | 1 | 1 | 1 | 1 | 1 |\n",
       "| 26 | FAM7  | F7  | 0 | 0 | 1 | 1 | 1 | 1 | 1 | 1 | 2 | 1 | 1 | 1 |\n",
       "| 29 | FAM8  | M8  | 0 | 0 | 2 | 1 | 2 | 1 | 1 | 1 | 2 | 1 | 1 | 1 |\n",
       "| 30 | FAM8  | F8  | 0 | 0 | 1 | 1 | 1 | 1 | 1 | 2 | 1 | 1 | 1 | 1 |\n",
       "| 33 | FAM9  | M9  | 0 | 0 | 2 | 1 | 1 | 1 | 2 | 1 | 1 | 1 | 1 | 1 |\n",
       "| 34 | FAM9  | F9  | 0 | 0 | 1 | 1 | 1 | 1 | 1 | 1 | 1 | 1 | 1 | 2 |\n",
       "| 37 | FAM10 | M10 | 0 | 0 | 2 | 1 | 1 | 1 | 2 | 1 | 1 | 1 | 2 | 1 |\n",
       "| 38 | FAM10 | F10 | 0 | 0 | 1 | 1 | 1 | 1 | 2 | 2 | 1 | 2 | 1 | 2 |\n",
       "| 41 | FAM11 | M11 | 0 | 0 | 2 | 1 | 2 | 1 | 1 | 1 | 1 | 2 | 1 | 1 |\n",
       "| 42 | FAM11 | F11 | 0 | 0 | 1 | 1 | 1 | 1 | 1 | 2 | 1 | 2 | 1 | 1 |\n",
       "| 45 | FAM12 | M12 | 0 | 0 | 2 | 1 | 1 | 1 | 1 | 1 | 1 | 2 | 1 | 1 |\n",
       "| 46 | FAM12 | F12 | 0 | 0 | 1 | 1 | 1 | 1 | 1 | 1 | 1 | 1 | 1 | 1 |\n",
       "| 49 | FAM13 | M13 | 0 | 0 | 2 | 1 | 2 | 1 | 1 | 1 | 1 | 1 | 1 | 1 |\n",
       "| 50 | FAM13 | F13 | 0 | 0 | 1 | 1 | 1 | 1 | 1 | 1 | 1 | 1 | 1 | 1 |\n",
       "| 53 | FAM14 | M14 | 0 | 0 | 2 | 1 | 1 | 1 | 1 | 1 | 1 | 1 | 1 | 1 |\n",
       "| 54 | FAM14 | F14 | 0 | 0 | 1 | 1 | 1 | 2 | 1 | 1 | 1 | 1 | 1 | 1 |\n",
       "| 57 | FAM15 | M15 | 0 | 0 | 2 | 1 | 1 | 1 | 1 | 1 | 1 | 1 | 1 | 1 |\n",
       "| 58 | FAM15 | F15 | 0 | 0 | 1 | 1 | 1 | 1 | 1 | 1 | 1 | 2 | 1 | 1 |\n",
       "| ⋮ | ⋮ | ⋮ | ⋮ | ⋮ | ⋮ | ⋮ | ⋮ | ⋮ | ⋮ | ⋮ | ⋮ | ⋮ | ⋮ | ⋮ |\n",
       "| 699 | FAM158 | M158 | 0 | 0 | 2 | 1 | 1 | 1 | 1 | 1 | 1 | 1 | 1 | 1 |\n",
       "| 700 | FAM158 | F158 | 0 | 0 | 1 | 1 | 1 | 1 | 1 | 1 | 1 | 1 | 1 | 1 |\n",
       "| 705 | FAM159 | M159 | 0 | 0 | 2 | 1 | 2 | 1 | 1 | 1 | 1 | 1 | 1 | 2 |\n",
       "| 706 | FAM159 | F159 | 0 | 0 | 1 | 1 | 1 | 1 | 1 | 1 | 2 | 1 | 1 | 1 |\n",
       "| 711 | FAM160 | M160 | 0 | 0 | 2 | 1 | 2 | 1 | 1 | 1 | 1 | 1 | 1 | 1 |\n",
       "| 712 | FAM160 | F160 | 0 | 0 | 1 | 1 | 2 | 2 | 1 | 1 | 1 | 1 | 1 | 2 |\n",
       "| 717 | FAM161 | M161 | 0 | 0 | 2 | 1 | 1 | 1 | 1 | 1 | 1 | 1 | 1 | 1 |\n",
       "| 718 | FAM161 | F161 | 0 | 0 | 1 | 1 | 2 | 1 | 1 | 1 | 1 | 1 | 1 | 1 |\n",
       "| 723 | FAM162 | M162 | 0 | 0 | 2 | 1 | 2 | 1 | 1 | 1 | 1 | 1 | 1 | 1 |\n",
       "| 724 | FAM162 | F162 | 0 | 0 | 1 | 1 | 1 | 1 | 1 | 1 | 1 | 1 | 1 | 1 |\n",
       "| 729 | FAM163 | M163 | 0 | 0 | 2 | 1 | 1 | 1 | 1 | 1 | 1 | 1 | 1 | 1 |\n",
       "| 730 | FAM163 | F163 | 0 | 0 | 1 | 1 | 2 | 1 | 1 | 2 | 1 | 2 | 1 | 1 |\n",
       "| 735 | FAM164 | M164 | 0 | 0 | 2 | 1 | 1 | 1 | 1 | 1 | 1 | 1 | 1 | 1 |\n",
       "| 736 | FAM164 | F164 | 0 | 0 | 1 | 1 | 1 | 2 | 1 | 1 | 1 | 1 | 1 | 1 |\n",
       "| 741 | FAM165 | M165 | 0 | 0 | 2 | 1 | 1 | 1 | 2 | 1 | 1 | 1 | 1 | 1 |\n",
       "| 742 | FAM165 | F165 | 0 | 0 | 1 | 1 | 2 | 1 | 2 | 1 | 1 | 1 | 1 | 1 |\n",
       "| 747 | FAM166 | M166 | 0 | 0 | 2 | 1 | 1 | 2 | 1 | 1 | 2 | 2 | 2 | 1 |\n",
       "| 748 | FAM166 | F166 | 0 | 0 | 1 | 1 | 1 | 1 | 1 | 1 | 1 | 2 | 2 | 1 |\n",
       "| 753 | FAM167 | M167 | 0 | 0 | 2 | 1 | 1 | 1 | 1 | 1 | 1 | 1 | 2 | 1 |\n",
       "| 754 | FAM167 | F167 | 0 | 0 | 1 | 1 | 1 | 1 | 1 | 1 | 1 | 1 | 1 | 1 |\n",
       "| 759 | FAM168 | M168 | 0 | 0 | 2 | 1 | 1 | 1 | 1 | 1 | 1 | 1 | 2 | 1 |\n",
       "| 760 | FAM168 | F168 | 0 | 0 | 1 | 1 | 1 | 1 | 1 | 1 | 1 | 1 | 2 | 1 |\n",
       "| 765 | FAM169 | M169 | 0 | 0 | 2 | 1 | 2 | 1 | 1 | 1 | 1 | 1 | 1 | 1 |\n",
       "| 766 | FAM169 | F169 | 0 | 0 | 1 | 1 | 1 | 1 | 1 | 1 | 1 | 1 | 1 | 1 |\n",
       "| 771 | FAM170 | M170 | 0 | 0 | 2 | 1 | 1 | 1 | 2 | 1 | 2 | 1 | 1 | 1 |\n",
       "| 772 | FAM170 | F170 | 0 | 0 | 1 | 1 | 1 | 1 | 1 | 1 | 1 | 1 | 1 | 1 |\n",
       "| 777 | FAM171 | M171 | 0 | 0 | 2 | 1 | 1 | 1 | 2 | 1 | 1 | 1 | 1 | 1 |\n",
       "| 778 | FAM171 | F171 | 0 | 0 | 1 | 1 | 1 | 2 | 1 | 1 | 1 | 1 | 1 | 1 |\n",
       "| 783 | FAM172 | M172 | 0 | 0 | 2 | 1 | 2 | 1 | 1 | 1 | 1 | 1 | 2 | 1 |\n",
       "| 784 | FAM172 | F172 | 0 | 0 | 1 | 1 | 1 | 1 | 1 | 1 | 1 | 1 | 1 | 1 |\n",
       "\n"
      ],
      "text/plain": [
       "    V1     V2   V3 V4 V5 V6 V7 V8 V9 V10 V11 V12 V13 V14\n",
       "1   FAM1   M1   0  0  2  1  1  1  1  1   1   1   1   1  \n",
       "2   FAM1   F1   0  0  1  1  1  2  1  1   1   2   1   1  \n",
       "5   FAM2   M2   0  0  2  1  1  1  1  1   1   1   1   1  \n",
       "6   FAM2   F2   0  0  1  1  1  1  2  1   1   1   1   1  \n",
       "9   FAM3   M3   0  0  2  1  1  1  1  1   1   1   1   1  \n",
       "10  FAM3   F3   0  0  1  1  1  1  2  1   1   1   1   1  \n",
       "13  FAM4   M4   0  0  2  1  1  1  1  1   1   1   1   1  \n",
       "14  FAM4   F4   0  0  1  1  1  1  1  1   1   1   1   1  \n",
       "17  FAM5   M5   0  0  2  1  1  1  1  1   1   1   1   1  \n",
       "18  FAM5   F5   0  0  1  1  1  1  1  1   1   1   1   1  \n",
       "21  FAM6   M6   0  0  2  1  1  1  1  1   1   1   1   1  \n",
       "22  FAM6   F6   0  0  1  1  1  1  1  1   2   2   1   1  \n",
       "25  FAM7   M7   0  0  2  1  2  1  2  1   1   1   1   1  \n",
       "26  FAM7   F7   0  0  1  1  1  1  1  1   2   1   1   1  \n",
       "29  FAM8   M8   0  0  2  1  2  1  1  1   2   1   1   1  \n",
       "30  FAM8   F8   0  0  1  1  1  1  1  2   1   1   1   1  \n",
       "33  FAM9   M9   0  0  2  1  1  1  2  1   1   1   1   1  \n",
       "34  FAM9   F9   0  0  1  1  1  1  1  1   1   1   1   2  \n",
       "37  FAM10  M10  0  0  2  1  1  1  2  1   1   1   2   1  \n",
       "38  FAM10  F10  0  0  1  1  1  1  2  2   1   2   1   2  \n",
       "41  FAM11  M11  0  0  2  1  2  1  1  1   1   2   1   1  \n",
       "42  FAM11  F11  0  0  1  1  1  1  1  2   1   2   1   1  \n",
       "45  FAM12  M12  0  0  2  1  1  1  1  1   1   2   1   1  \n",
       "46  FAM12  F12  0  0  1  1  1  1  1  1   1   1   1   1  \n",
       "49  FAM13  M13  0  0  2  1  2  1  1  1   1   1   1   1  \n",
       "50  FAM13  F13  0  0  1  1  1  1  1  1   1   1   1   1  \n",
       "53  FAM14  M14  0  0  2  1  1  1  1  1   1   1   1   1  \n",
       "54  FAM14  F14  0  0  1  1  1  2  1  1   1   1   1   1  \n",
       "57  FAM15  M15  0  0  2  1  1  1  1  1   1   1   1   1  \n",
       "58  FAM15  F15  0  0  1  1  1  1  1  1   1   2   1   1  \n",
       "⋮   ⋮      ⋮    ⋮  ⋮  ⋮  ⋮  ⋮  ⋮  ⋮  ⋮   ⋮   ⋮   ⋮   ⋮  \n",
       "699 FAM158 M158 0  0  2  1  1  1  1  1   1   1   1   1  \n",
       "700 FAM158 F158 0  0  1  1  1  1  1  1   1   1   1   1  \n",
       "705 FAM159 M159 0  0  2  1  2  1  1  1   1   1   1   2  \n",
       "706 FAM159 F159 0  0  1  1  1  1  1  1   2   1   1   1  \n",
       "711 FAM160 M160 0  0  2  1  2  1  1  1   1   1   1   1  \n",
       "712 FAM160 F160 0  0  1  1  2  2  1  1   1   1   1   2  \n",
       "717 FAM161 M161 0  0  2  1  1  1  1  1   1   1   1   1  \n",
       "718 FAM161 F161 0  0  1  1  2  1  1  1   1   1   1   1  \n",
       "723 FAM162 M162 0  0  2  1  2  1  1  1   1   1   1   1  \n",
       "724 FAM162 F162 0  0  1  1  1  1  1  1   1   1   1   1  \n",
       "729 FAM163 M163 0  0  2  1  1  1  1  1   1   1   1   1  \n",
       "730 FAM163 F163 0  0  1  1  2  1  1  2   1   2   1   1  \n",
       "735 FAM164 M164 0  0  2  1  1  1  1  1   1   1   1   1  \n",
       "736 FAM164 F164 0  0  1  1  1  2  1  1   1   1   1   1  \n",
       "741 FAM165 M165 0  0  2  1  1  1  2  1   1   1   1   1  \n",
       "742 FAM165 F165 0  0  1  1  2  1  2  1   1   1   1   1  \n",
       "747 FAM166 M166 0  0  2  1  1  2  1  1   2   2   2   1  \n",
       "748 FAM166 F166 0  0  1  1  1  1  1  1   1   2   2   1  \n",
       "753 FAM167 M167 0  0  2  1  1  1  1  1   1   1   2   1  \n",
       "754 FAM167 F167 0  0  1  1  1  1  1  1   1   1   1   1  \n",
       "759 FAM168 M168 0  0  2  1  1  1  1  1   1   1   2   1  \n",
       "760 FAM168 F168 0  0  1  1  1  1  1  1   1   1   2   1  \n",
       "765 FAM169 M169 0  0  2  1  2  1  1  1   1   1   1   1  \n",
       "766 FAM169 F169 0  0  1  1  1  1  1  1   1   1   1   1  \n",
       "771 FAM170 M170 0  0  2  1  1  1  2  1   2   1   1   1  \n",
       "772 FAM170 F170 0  0  1  1  1  1  1  1   1   1   1   1  \n",
       "777 FAM171 M171 0  0  2  1  1  1  2  1   1   1   1   1  \n",
       "778 FAM171 F171 0  0  1  1  1  2  1  1   1   1   1   1  \n",
       "783 FAM172 M172 0  0  2  1  2  1  1  1   1   1   2   1  \n",
       "784 FAM172 F172 0  0  1  1  1  1  1  1   1   1   1   1  "
      ]
     },
     "metadata": {},
     "output_type": "display_data"
    }
   ],
   "source": [
    "founders = dat[which(dat[,'V3'] == '0'), ]\n",
    "founders"
   ]
  },
  {
   "cell_type": "code",
   "execution_count": 298,
   "metadata": {
    "kernel": "R"
   },
   "outputs": [],
   "source": [
    "geno = founders[,-(1:6)] -1 #This is called indexing, meaning that we are only looking at the genotypic data and removing columns 1 to 6 that is pedigree information. Also we are substracting one from the genotypes so it will be 0/0 instead of 0/1 and will make counts easier"
   ]
  },
  {
   "cell_type": "code",
   "execution_count": 299,
   "metadata": {
    "kernel": "R"
   },
   "outputs": [
    {
     "data": {
      "text/html": [
       "<table>\n",
       "<caption>A data.frame: 6 × 8</caption>\n",
       "<thead>\n",
       "\t<tr><th></th><th scope=col>V7</th><th scope=col>V8</th><th scope=col>V9</th><th scope=col>V10</th><th scope=col>V11</th><th scope=col>V12</th><th scope=col>V13</th><th scope=col>V14</th></tr>\n",
       "\t<tr><th></th><th scope=col>&lt;dbl&gt;</th><th scope=col>&lt;dbl&gt;</th><th scope=col>&lt;dbl&gt;</th><th scope=col>&lt;dbl&gt;</th><th scope=col>&lt;dbl&gt;</th><th scope=col>&lt;dbl&gt;</th><th scope=col>&lt;dbl&gt;</th><th scope=col>&lt;dbl&gt;</th></tr>\n",
       "</thead>\n",
       "<tbody>\n",
       "\t<tr><th scope=row>1</th><td>0</td><td>0</td><td>0</td><td>0</td><td>0</td><td>0</td><td>0</td><td>0</td></tr>\n",
       "\t<tr><th scope=row>2</th><td>0</td><td>1</td><td>0</td><td>0</td><td>0</td><td>1</td><td>0</td><td>0</td></tr>\n",
       "\t<tr><th scope=row>5</th><td>0</td><td>0</td><td>0</td><td>0</td><td>0</td><td>0</td><td>0</td><td>0</td></tr>\n",
       "\t<tr><th scope=row>6</th><td>0</td><td>0</td><td>1</td><td>0</td><td>0</td><td>0</td><td>0</td><td>0</td></tr>\n",
       "\t<tr><th scope=row>9</th><td>0</td><td>0</td><td>0</td><td>0</td><td>0</td><td>0</td><td>0</td><td>0</td></tr>\n",
       "\t<tr><th scope=row>10</th><td>0</td><td>0</td><td>1</td><td>0</td><td>0</td><td>0</td><td>0</td><td>0</td></tr>\n",
       "</tbody>\n",
       "</table>\n"
      ],
      "text/latex": [
       "A data.frame: 6 × 8\n",
       "\\begin{tabular}{r|llllllll}\n",
       "  & V7 & V8 & V9 & V10 & V11 & V12 & V13 & V14\\\\\n",
       "  & <dbl> & <dbl> & <dbl> & <dbl> & <dbl> & <dbl> & <dbl> & <dbl>\\\\\n",
       "\\hline\n",
       "\t1 & 0 & 0 & 0 & 0 & 0 & 0 & 0 & 0\\\\\n",
       "\t2 & 0 & 1 & 0 & 0 & 0 & 1 & 0 & 0\\\\\n",
       "\t5 & 0 & 0 & 0 & 0 & 0 & 0 & 0 & 0\\\\\n",
       "\t6 & 0 & 0 & 1 & 0 & 0 & 0 & 0 & 0\\\\\n",
       "\t9 & 0 & 0 & 0 & 0 & 0 & 0 & 0 & 0\\\\\n",
       "\t10 & 0 & 0 & 1 & 0 & 0 & 0 & 0 & 0\\\\\n",
       "\\end{tabular}\n"
      ],
      "text/markdown": [
       "\n",
       "A data.frame: 6 × 8\n",
       "\n",
       "| <!--/--> | V7 &lt;dbl&gt; | V8 &lt;dbl&gt; | V9 &lt;dbl&gt; | V10 &lt;dbl&gt; | V11 &lt;dbl&gt; | V12 &lt;dbl&gt; | V13 &lt;dbl&gt; | V14 &lt;dbl&gt; |\n",
       "|---|---|---|---|---|---|---|---|---|\n",
       "| 1 | 0 | 0 | 0 | 0 | 0 | 0 | 0 | 0 |\n",
       "| 2 | 0 | 1 | 0 | 0 | 0 | 1 | 0 | 0 |\n",
       "| 5 | 0 | 0 | 0 | 0 | 0 | 0 | 0 | 0 |\n",
       "| 6 | 0 | 0 | 1 | 0 | 0 | 0 | 0 | 0 |\n",
       "| 9 | 0 | 0 | 0 | 0 | 0 | 0 | 0 | 0 |\n",
       "| 10 | 0 | 0 | 1 | 0 | 0 | 0 | 0 | 0 |\n",
       "\n"
      ],
      "text/plain": [
       "   V7 V8 V9 V10 V11 V12 V13 V14\n",
       "1  0  0  0  0   0   0   0   0  \n",
       "2  0  1  0  0   0   1   0   0  \n",
       "5  0  0  0  0   0   0   0   0  \n",
       "6  0  0  1  0   0   0   0   0  \n",
       "9  0  0  0  0   0   0   0   0  \n",
       "10 0  0  1  0   0   0   0   0  "
      ]
     },
     "metadata": {},
     "output_type": "display_data"
    }
   ],
   "source": [
    "head(geno) #look at the data"
   ]
  },
  {
   "cell_type": "code",
   "execution_count": 300,
   "metadata": {
    "kernel": "R"
   },
   "outputs": [
    {
     "data": {
      "text/html": [
       "8"
      ],
      "text/latex": [
       "8"
      ],
      "text/markdown": [
       "8"
      ],
      "text/plain": [
       "[1] 8"
      ]
     },
     "metadata": {},
     "output_type": "display_data"
    }
   ],
   "source": [
    "L = ncol(geno) #how many columns are there\n",
    "L"
   ]
  },
  {
   "cell_type": "code",
   "execution_count": 301,
   "metadata": {
    "kernel": "R",
    "scrolled": true
   },
   "outputs": [
    {
     "data": {
      "text/html": [
       "<table>\n",
       "<caption>A matrix: 344 × 4 of type dbl</caption>\n",
       "<thead>\n",
       "\t<tr><th></th><th scope=col>0</th><th scope=col>1</th><th scope=col>2</th><th scope=col>3</th></tr>\n",
       "</thead>\n",
       "<tbody>\n",
       "\t<tr><th scope=row>1</th><td>0</td><td>0</td><td>0</td><td>0</td></tr>\n",
       "\t<tr><th scope=row>2</th><td>1</td><td>0</td><td>1</td><td>0</td></tr>\n",
       "\t<tr><th scope=row>5</th><td>0</td><td>0</td><td>0</td><td>0</td></tr>\n",
       "\t<tr><th scope=row>6</th><td>0</td><td>1</td><td>0</td><td>0</td></tr>\n",
       "\t<tr><th scope=row>9</th><td>0</td><td>0</td><td>0</td><td>0</td></tr>\n",
       "\t<tr><th scope=row>10</th><td>0</td><td>1</td><td>0</td><td>0</td></tr>\n",
       "\t<tr><th scope=row>13</th><td>0</td><td>0</td><td>0</td><td>0</td></tr>\n",
       "\t<tr><th scope=row>14</th><td>0</td><td>0</td><td>0</td><td>0</td></tr>\n",
       "\t<tr><th scope=row>17</th><td>0</td><td>0</td><td>0</td><td>0</td></tr>\n",
       "\t<tr><th scope=row>18</th><td>0</td><td>0</td><td>0</td><td>0</td></tr>\n",
       "\t<tr><th scope=row>21</th><td>0</td><td>0</td><td>0</td><td>0</td></tr>\n",
       "\t<tr><th scope=row>22</th><td>0</td><td>0</td><td>2</td><td>0</td></tr>\n",
       "\t<tr><th scope=row>25</th><td>1</td><td>1</td><td>0</td><td>0</td></tr>\n",
       "\t<tr><th scope=row>26</th><td>0</td><td>0</td><td>1</td><td>0</td></tr>\n",
       "\t<tr><th scope=row>29</th><td>1</td><td>0</td><td>1</td><td>0</td></tr>\n",
       "\t<tr><th scope=row>30</th><td>0</td><td>1</td><td>0</td><td>0</td></tr>\n",
       "\t<tr><th scope=row>33</th><td>0</td><td>1</td><td>0</td><td>0</td></tr>\n",
       "\t<tr><th scope=row>34</th><td>0</td><td>0</td><td>0</td><td>1</td></tr>\n",
       "\t<tr><th scope=row>37</th><td>0</td><td>1</td><td>0</td><td>1</td></tr>\n",
       "\t<tr><th scope=row>38</th><td>0</td><td>2</td><td>1</td><td>1</td></tr>\n",
       "\t<tr><th scope=row>41</th><td>1</td><td>0</td><td>1</td><td>0</td></tr>\n",
       "\t<tr><th scope=row>42</th><td>0</td><td>1</td><td>1</td><td>0</td></tr>\n",
       "\t<tr><th scope=row>45</th><td>0</td><td>0</td><td>1</td><td>0</td></tr>\n",
       "\t<tr><th scope=row>46</th><td>0</td><td>0</td><td>0</td><td>0</td></tr>\n",
       "\t<tr><th scope=row>49</th><td>1</td><td>0</td><td>0</td><td>0</td></tr>\n",
       "\t<tr><th scope=row>50</th><td>0</td><td>0</td><td>0</td><td>0</td></tr>\n",
       "\t<tr><th scope=row>53</th><td>0</td><td>0</td><td>0</td><td>0</td></tr>\n",
       "\t<tr><th scope=row>54</th><td>1</td><td>0</td><td>0</td><td>0</td></tr>\n",
       "\t<tr><th scope=row>57</th><td>0</td><td>0</td><td>0</td><td>0</td></tr>\n",
       "\t<tr><th scope=row>58</th><td>0</td><td>0</td><td>1</td><td>0</td></tr>\n",
       "\t<tr><th scope=row>⋮</th><td>⋮</td><td>⋮</td><td>⋮</td><td>⋮</td></tr>\n",
       "\t<tr><th scope=row>699</th><td>0</td><td>0</td><td>0</td><td>0</td></tr>\n",
       "\t<tr><th scope=row>700</th><td>0</td><td>0</td><td>0</td><td>0</td></tr>\n",
       "\t<tr><th scope=row>705</th><td>1</td><td>0</td><td>0</td><td>1</td></tr>\n",
       "\t<tr><th scope=row>706</th><td>0</td><td>0</td><td>1</td><td>0</td></tr>\n",
       "\t<tr><th scope=row>711</th><td>1</td><td>0</td><td>0</td><td>0</td></tr>\n",
       "\t<tr><th scope=row>712</th><td>2</td><td>0</td><td>0</td><td>1</td></tr>\n",
       "\t<tr><th scope=row>717</th><td>0</td><td>0</td><td>0</td><td>0</td></tr>\n",
       "\t<tr><th scope=row>718</th><td>1</td><td>0</td><td>0</td><td>0</td></tr>\n",
       "\t<tr><th scope=row>723</th><td>1</td><td>0</td><td>0</td><td>0</td></tr>\n",
       "\t<tr><th scope=row>724</th><td>0</td><td>0</td><td>0</td><td>0</td></tr>\n",
       "\t<tr><th scope=row>729</th><td>0</td><td>0</td><td>0</td><td>0</td></tr>\n",
       "\t<tr><th scope=row>730</th><td>1</td><td>1</td><td>1</td><td>0</td></tr>\n",
       "\t<tr><th scope=row>735</th><td>0</td><td>0</td><td>0</td><td>0</td></tr>\n",
       "\t<tr><th scope=row>736</th><td>1</td><td>0</td><td>0</td><td>0</td></tr>\n",
       "\t<tr><th scope=row>741</th><td>0</td><td>1</td><td>0</td><td>0</td></tr>\n",
       "\t<tr><th scope=row>742</th><td>1</td><td>1</td><td>0</td><td>0</td></tr>\n",
       "\t<tr><th scope=row>747</th><td>1</td><td>0</td><td>2</td><td>1</td></tr>\n",
       "\t<tr><th scope=row>748</th><td>0</td><td>0</td><td>1</td><td>1</td></tr>\n",
       "\t<tr><th scope=row>753</th><td>0</td><td>0</td><td>0</td><td>1</td></tr>\n",
       "\t<tr><th scope=row>754</th><td>0</td><td>0</td><td>0</td><td>0</td></tr>\n",
       "\t<tr><th scope=row>759</th><td>0</td><td>0</td><td>0</td><td>1</td></tr>\n",
       "\t<tr><th scope=row>760</th><td>0</td><td>0</td><td>0</td><td>1</td></tr>\n",
       "\t<tr><th scope=row>765</th><td>1</td><td>0</td><td>0</td><td>0</td></tr>\n",
       "\t<tr><th scope=row>766</th><td>0</td><td>0</td><td>0</td><td>0</td></tr>\n",
       "\t<tr><th scope=row>771</th><td>0</td><td>1</td><td>1</td><td>0</td></tr>\n",
       "\t<tr><th scope=row>772</th><td>0</td><td>0</td><td>0</td><td>0</td></tr>\n",
       "\t<tr><th scope=row>777</th><td>0</td><td>1</td><td>0</td><td>0</td></tr>\n",
       "\t<tr><th scope=row>778</th><td>1</td><td>0</td><td>0</td><td>0</td></tr>\n",
       "\t<tr><th scope=row>783</th><td>1</td><td>0</td><td>0</td><td>1</td></tr>\n",
       "\t<tr><th scope=row>784</th><td>0</td><td>0</td><td>0</td><td>0</td></tr>\n",
       "</tbody>\n",
       "</table>\n"
      ],
      "text/latex": [
       "A matrix: 344 × 4 of type dbl\n",
       "\\begin{tabular}{r|llll}\n",
       "  & 0 & 1 & 2 & 3\\\\\n",
       "\\hline\n",
       "\t1 & 0 & 0 & 0 & 0\\\\\n",
       "\t2 & 1 & 0 & 1 & 0\\\\\n",
       "\t5 & 0 & 0 & 0 & 0\\\\\n",
       "\t6 & 0 & 1 & 0 & 0\\\\\n",
       "\t9 & 0 & 0 & 0 & 0\\\\\n",
       "\t10 & 0 & 1 & 0 & 0\\\\\n",
       "\t13 & 0 & 0 & 0 & 0\\\\\n",
       "\t14 & 0 & 0 & 0 & 0\\\\\n",
       "\t17 & 0 & 0 & 0 & 0\\\\\n",
       "\t18 & 0 & 0 & 0 & 0\\\\\n",
       "\t21 & 0 & 0 & 0 & 0\\\\\n",
       "\t22 & 0 & 0 & 2 & 0\\\\\n",
       "\t25 & 1 & 1 & 0 & 0\\\\\n",
       "\t26 & 0 & 0 & 1 & 0\\\\\n",
       "\t29 & 1 & 0 & 1 & 0\\\\\n",
       "\t30 & 0 & 1 & 0 & 0\\\\\n",
       "\t33 & 0 & 1 & 0 & 0\\\\\n",
       "\t34 & 0 & 0 & 0 & 1\\\\\n",
       "\t37 & 0 & 1 & 0 & 1\\\\\n",
       "\t38 & 0 & 2 & 1 & 1\\\\\n",
       "\t41 & 1 & 0 & 1 & 0\\\\\n",
       "\t42 & 0 & 1 & 1 & 0\\\\\n",
       "\t45 & 0 & 0 & 1 & 0\\\\\n",
       "\t46 & 0 & 0 & 0 & 0\\\\\n",
       "\t49 & 1 & 0 & 0 & 0\\\\\n",
       "\t50 & 0 & 0 & 0 & 0\\\\\n",
       "\t53 & 0 & 0 & 0 & 0\\\\\n",
       "\t54 & 1 & 0 & 0 & 0\\\\\n",
       "\t57 & 0 & 0 & 0 & 0\\\\\n",
       "\t58 & 0 & 0 & 1 & 0\\\\\n",
       "\t⋮ & ⋮ & ⋮ & ⋮ & ⋮\\\\\n",
       "\t699 & 0 & 0 & 0 & 0\\\\\n",
       "\t700 & 0 & 0 & 0 & 0\\\\\n",
       "\t705 & 1 & 0 & 0 & 1\\\\\n",
       "\t706 & 0 & 0 & 1 & 0\\\\\n",
       "\t711 & 1 & 0 & 0 & 0\\\\\n",
       "\t712 & 2 & 0 & 0 & 1\\\\\n",
       "\t717 & 0 & 0 & 0 & 0\\\\\n",
       "\t718 & 1 & 0 & 0 & 0\\\\\n",
       "\t723 & 1 & 0 & 0 & 0\\\\\n",
       "\t724 & 0 & 0 & 0 & 0\\\\\n",
       "\t729 & 0 & 0 & 0 & 0\\\\\n",
       "\t730 & 1 & 1 & 1 & 0\\\\\n",
       "\t735 & 0 & 0 & 0 & 0\\\\\n",
       "\t736 & 1 & 0 & 0 & 0\\\\\n",
       "\t741 & 0 & 1 & 0 & 0\\\\\n",
       "\t742 & 1 & 1 & 0 & 0\\\\\n",
       "\t747 & 1 & 0 & 2 & 1\\\\\n",
       "\t748 & 0 & 0 & 1 & 1\\\\\n",
       "\t753 & 0 & 0 & 0 & 1\\\\\n",
       "\t754 & 0 & 0 & 0 & 0\\\\\n",
       "\t759 & 0 & 0 & 0 & 1\\\\\n",
       "\t760 & 0 & 0 & 0 & 1\\\\\n",
       "\t765 & 1 & 0 & 0 & 0\\\\\n",
       "\t766 & 0 & 0 & 0 & 0\\\\\n",
       "\t771 & 0 & 1 & 1 & 0\\\\\n",
       "\t772 & 0 & 0 & 0 & 0\\\\\n",
       "\t777 & 0 & 1 & 0 & 0\\\\\n",
       "\t778 & 1 & 0 & 0 & 0\\\\\n",
       "\t783 & 1 & 0 & 0 & 1\\\\\n",
       "\t784 & 0 & 0 & 0 & 0\\\\\n",
       "\\end{tabular}\n"
      ],
      "text/markdown": [
       "\n",
       "A matrix: 344 × 4 of type dbl\n",
       "\n",
       "| <!--/--> | 0 | 1 | 2 | 3 |\n",
       "|---|---|---|---|---|\n",
       "| 1 | 0 | 0 | 0 | 0 |\n",
       "| 2 | 1 | 0 | 1 | 0 |\n",
       "| 5 | 0 | 0 | 0 | 0 |\n",
       "| 6 | 0 | 1 | 0 | 0 |\n",
       "| 9 | 0 | 0 | 0 | 0 |\n",
       "| 10 | 0 | 1 | 0 | 0 |\n",
       "| 13 | 0 | 0 | 0 | 0 |\n",
       "| 14 | 0 | 0 | 0 | 0 |\n",
       "| 17 | 0 | 0 | 0 | 0 |\n",
       "| 18 | 0 | 0 | 0 | 0 |\n",
       "| 21 | 0 | 0 | 0 | 0 |\n",
       "| 22 | 0 | 0 | 2 | 0 |\n",
       "| 25 | 1 | 1 | 0 | 0 |\n",
       "| 26 | 0 | 0 | 1 | 0 |\n",
       "| 29 | 1 | 0 | 1 | 0 |\n",
       "| 30 | 0 | 1 | 0 | 0 |\n",
       "| 33 | 0 | 1 | 0 | 0 |\n",
       "| 34 | 0 | 0 | 0 | 1 |\n",
       "| 37 | 0 | 1 | 0 | 1 |\n",
       "| 38 | 0 | 2 | 1 | 1 |\n",
       "| 41 | 1 | 0 | 1 | 0 |\n",
       "| 42 | 0 | 1 | 1 | 0 |\n",
       "| 45 | 0 | 0 | 1 | 0 |\n",
       "| 46 | 0 | 0 | 0 | 0 |\n",
       "| 49 | 1 | 0 | 0 | 0 |\n",
       "| 50 | 0 | 0 | 0 | 0 |\n",
       "| 53 | 0 | 0 | 0 | 0 |\n",
       "| 54 | 1 | 0 | 0 | 0 |\n",
       "| 57 | 0 | 0 | 0 | 0 |\n",
       "| 58 | 0 | 0 | 1 | 0 |\n",
       "| ⋮ | ⋮ | ⋮ | ⋮ | ⋮ |\n",
       "| 699 | 0 | 0 | 0 | 0 |\n",
       "| 700 | 0 | 0 | 0 | 0 |\n",
       "| 705 | 1 | 0 | 0 | 1 |\n",
       "| 706 | 0 | 0 | 1 | 0 |\n",
       "| 711 | 1 | 0 | 0 | 0 |\n",
       "| 712 | 2 | 0 | 0 | 1 |\n",
       "| 717 | 0 | 0 | 0 | 0 |\n",
       "| 718 | 1 | 0 | 0 | 0 |\n",
       "| 723 | 1 | 0 | 0 | 0 |\n",
       "| 724 | 0 | 0 | 0 | 0 |\n",
       "| 729 | 0 | 0 | 0 | 0 |\n",
       "| 730 | 1 | 1 | 1 | 0 |\n",
       "| 735 | 0 | 0 | 0 | 0 |\n",
       "| 736 | 1 | 0 | 0 | 0 |\n",
       "| 741 | 0 | 1 | 0 | 0 |\n",
       "| 742 | 1 | 1 | 0 | 0 |\n",
       "| 747 | 1 | 0 | 2 | 1 |\n",
       "| 748 | 0 | 0 | 1 | 1 |\n",
       "| 753 | 0 | 0 | 0 | 1 |\n",
       "| 754 | 0 | 0 | 0 | 0 |\n",
       "| 759 | 0 | 0 | 0 | 1 |\n",
       "| 760 | 0 | 0 | 0 | 1 |\n",
       "| 765 | 1 | 0 | 0 | 0 |\n",
       "| 766 | 0 | 0 | 0 | 0 |\n",
       "| 771 | 0 | 1 | 1 | 0 |\n",
       "| 772 | 0 | 0 | 0 | 0 |\n",
       "| 777 | 0 | 1 | 0 | 0 |\n",
       "| 778 | 1 | 0 | 0 | 0 |\n",
       "| 783 | 1 | 0 | 0 | 1 |\n",
       "| 784 | 0 | 0 | 0 | 0 |\n",
       "\n"
      ],
      "text/plain": [
       "    0 1 2 3\n",
       "1   0 0 0 0\n",
       "2   1 0 1 0\n",
       "5   0 0 0 0\n",
       "6   0 1 0 0\n",
       "9   0 0 0 0\n",
       "10  0 1 0 0\n",
       "13  0 0 0 0\n",
       "14  0 0 0 0\n",
       "17  0 0 0 0\n",
       "18  0 0 0 0\n",
       "21  0 0 0 0\n",
       "22  0 0 2 0\n",
       "25  1 1 0 0\n",
       "26  0 0 1 0\n",
       "29  1 0 1 0\n",
       "30  0 1 0 0\n",
       "33  0 1 0 0\n",
       "34  0 0 0 1\n",
       "37  0 1 0 1\n",
       "38  0 2 1 1\n",
       "41  1 0 1 0\n",
       "42  0 1 1 0\n",
       "45  0 0 1 0\n",
       "46  0 0 0 0\n",
       "49  1 0 0 0\n",
       "50  0 0 0 0\n",
       "53  0 0 0 0\n",
       "54  1 0 0 0\n",
       "57  0 0 0 0\n",
       "58  0 0 1 0\n",
       "⋮   ⋮ ⋮ ⋮ ⋮\n",
       "699 0 0 0 0\n",
       "700 0 0 0 0\n",
       "705 1 0 0 1\n",
       "706 0 0 1 0\n",
       "711 1 0 0 0\n",
       "712 2 0 0 1\n",
       "717 0 0 0 0\n",
       "718 1 0 0 0\n",
       "723 1 0 0 0\n",
       "724 0 0 0 0\n",
       "729 0 0 0 0\n",
       "730 1 1 1 0\n",
       "735 0 0 0 0\n",
       "736 1 0 0 0\n",
       "741 0 1 0 0\n",
       "742 1 1 0 0\n",
       "747 1 0 2 1\n",
       "748 0 0 1 1\n",
       "753 0 0 0 1\n",
       "754 0 0 0 0\n",
       "759 0 0 0 1\n",
       "760 0 0 0 1\n",
       "765 1 0 0 0\n",
       "766 0 0 0 0\n",
       "771 0 1 1 0\n",
       "772 0 0 0 0\n",
       "777 0 1 0 0\n",
       "778 1 0 0 0\n",
       "783 1 0 0 1\n",
       "784 0 0 0 0"
      ]
     },
     "metadata": {},
     "output_type": "display_data"
    }
   ],
   "source": [
    "#genotypes = apply(cbind(geno$V7,geno$V8),1,sum,na.rm = TRUE) This code can be useful when we only want to sum an specific set of columns for every row in the dataframe, and removing the missing information\n",
    "geno1 = sapply(split.default(geno, 0:(length(geno)-1) %/% 2), rowSums) #Sum the allele counts for every marker\n",
    "geno1"
   ]
  },
  {
   "cell_type": "markdown",
   "metadata": {
    "kernel": "R"
   },
   "source": [
    "To transpose the matrix so we have a SNP-by-individual matrix"
   ]
  },
  {
   "cell_type": "code",
   "execution_count": 302,
   "metadata": {
    "kernel": "R"
   },
   "outputs": [
    {
     "data": {
      "text/html": [
       "<table>\n",
       "<caption>A matrix: 4 × 344 of type dbl</caption>\n",
       "<thead>\n",
       "\t<tr><th></th><th scope=col>1</th><th scope=col>2</th><th scope=col>5</th><th scope=col>6</th><th scope=col>9</th><th scope=col>10</th><th scope=col>13</th><th scope=col>14</th><th scope=col>17</th><th scope=col>18</th><th scope=col>⋯</th><th scope=col>759</th><th scope=col>760</th><th scope=col>765</th><th scope=col>766</th><th scope=col>771</th><th scope=col>772</th><th scope=col>777</th><th scope=col>778</th><th scope=col>783</th><th scope=col>784</th></tr>\n",
       "</thead>\n",
       "<tbody>\n",
       "\t<tr><th scope=row>0</th><td>0</td><td>1</td><td>0</td><td>0</td><td>0</td><td>0</td><td>0</td><td>0</td><td>0</td><td>0</td><td>⋯</td><td>0</td><td>0</td><td>1</td><td>0</td><td>0</td><td>0</td><td>0</td><td>1</td><td>1</td><td>0</td></tr>\n",
       "\t<tr><th scope=row>1</th><td>0</td><td>0</td><td>0</td><td>1</td><td>0</td><td>1</td><td>0</td><td>0</td><td>0</td><td>0</td><td>⋯</td><td>0</td><td>0</td><td>0</td><td>0</td><td>1</td><td>0</td><td>1</td><td>0</td><td>0</td><td>0</td></tr>\n",
       "\t<tr><th scope=row>2</th><td>0</td><td>1</td><td>0</td><td>0</td><td>0</td><td>0</td><td>0</td><td>0</td><td>0</td><td>0</td><td>⋯</td><td>0</td><td>0</td><td>0</td><td>0</td><td>1</td><td>0</td><td>0</td><td>0</td><td>0</td><td>0</td></tr>\n",
       "\t<tr><th scope=row>3</th><td>0</td><td>0</td><td>0</td><td>0</td><td>0</td><td>0</td><td>0</td><td>0</td><td>0</td><td>0</td><td>⋯</td><td>1</td><td>1</td><td>0</td><td>0</td><td>0</td><td>0</td><td>0</td><td>0</td><td>1</td><td>0</td></tr>\n",
       "</tbody>\n",
       "</table>\n"
      ],
      "text/latex": [
       "A matrix: 4 × 344 of type dbl\n",
       "\\begin{tabular}{r|llllllllllllllllllllllllllllllllllllllllllllllllllllllllllllllllllllllllllllllllllllllllllllllllllllllllllllllllllllllllllllllllllllllllllllllllllllllllllllllllllllllllllllllllllllllllllllllllllllllllllllllllllllllllllllllllllllllllllllllllllllllllllllllllllllllllllllllllllllllllllllllllllllllllllllllllllllllllllllllllllllllllllllllllllllllll}\n",
       "  & 1 & 2 & 5 & 6 & 9 & 10 & 13 & 14 & 17 & 18 & 21 & 22 & 25 & 26 & 29 & 30 & 33 & 34 & 37 & 38 & 41 & 42 & 45 & 46 & 49 & 50 & 53 & 54 & 57 & 58 & 61 & 62 & 65 & 66 & 69 & 70 & 73 & 74 & 77 & 78 & 81 & 82 & 85 & 86 & 89 & 90 & 93 & 94 & 97 & 98 & 101 & 102 & 105 & 106 & 109 & 110 & 113 & 114 & 117 & 118 & 121 & 122 & 125 & 126 & 129 & 130 & 133 & 134 & 137 & 138 & 141 & 142 & 145 & 146 & 149 & 150 & 153 & 154 & 157 & 158 & 161 & 162 & 165 & 166 & 169 & 170 & 173 & 174 & 177 & 178 & 181 & 182 & 185 & 186 & 189 & 190 & 193 & 194 & 197 & 198 & 201 & 202 & 205 & 206 & 209 & 210 & 213 & 214 & 217 & 218 & 221 & 222 & 225 & 226 & 229 & 230 & 233 & 234 & 237 & 238 & 241 & 242 & 245 & 246 & 249 & 250 & 253 & 254 & 257 & 258 & 261 & 262 & 265 & 266 & 269 & 270 & 273 & 274 & 277 & 278 & 281 & 282 & 285 & 286 & 289 & 290 & 293 & 294 & 297 & 298 & 301 & 302 & 305 & 306 & 309 & 310 & 313 & 314 & 317 & 318 & 321 & 322 & 325 & 326 & 329 & 330 & 333 & 334 & 337 & 338 & 341 & 342 & 345 & 346 & 349 & 350 & 353 & 354 & 357 & 358 & 361 & 362 & 365 & 366 & 370 & 371 & 375 & 376 & 380 & 381 & 385 & 386 & 390 & 391 & 395 & 396 & 400 & 401 & 405 & 406 & 410 & 411 & 415 & 416 & 420 & 421 & 425 & 426 & 430 & 431 & 435 & 436 & 440 & 441 & 445 & 446 & 450 & 451 & 455 & 456 & 460 & 461 & 465 & 466 & 470 & 471 & 475 & 476 & 480 & 481 & 485 & 486 & 490 & 491 & 495 & 496 & 500 & 501 & 505 & 506 & 510 & 511 & 515 & 516 & 520 & 521 & 525 & 526 & 530 & 531 & 535 & 536 & 540 & 541 & 545 & 546 & 550 & 551 & 555 & 556 & 560 & 561 & 565 & 566 & 570 & 571 & 575 & 576 & 580 & 581 & 585 & 586 & 590 & 591 & 595 & 596 & 600 & 601 & 605 & 606 & 610 & 611 & 615 & 616 & 620 & 621 & 625 & 626 & 630 & 631 & 635 & 636 & 640 & 641 & 645 & 646 & 650 & 651 & 655 & 656 & 660 & 661 & 665 & 666 & 670 & 671 & 675 & 676 & 681 & 682 & 687 & 688 & 693 & 694 & 699 & 700 & 705 & 706 & 711 & 712 & 717 & 718 & 723 & 724 & 729 & 730 & 735 & 736 & 741 & 742 & 747 & 748 & 753 & 754 & 759 & 760 & 765 & 766 & 771 & 772 & 777 & 778 & 783 & 784\\\\\n",
       "\\hline\n",
       "\t0 & 0 & 1 & 0 & 0 & 0 & 0 & 0 & 0 & 0 & 0 & 0 & 0 & 1 & 0 & 1 & 0 & 0 & 0 & 0 & 0 & 1 & 0 & 0 & 0 & 1 & 0 & 0 & 1 & 0 & 0 & 0 & 0 & 1 & 0 & 0 & 0 & 1 & 0 & 0 & 1 & 2 & 2 & 0 & 1 & 1 & 0 & 0 & 1 & 0 & 0 & 0 & 0 & 0 & 1 & 0 & 0 & 0 & 0 & 0 & 1 & 1 & 0 & 0 & 0 & 0 & 1 & 0 & 1 & 0 & 1 & 0 & 1 & 0 & 0 & 0 & 0 & 0 & 0 & 0 & 0 & 0 & 0 & 1 & 0 & 0 & 0 & 0 & 0 & 0 & 1 & 0 & 0 & 0 & 1 & 0 & 1 & 0 & 0 & 0 & 0 & 1 & 0 & 0 & 0 & 0 & 0 & 0 & 0 & 0 & 0 & 0 & 1 & 1 & 0 & 1 & 0 & 1 & 0 & 0 & 0 & 1 & 1 & 0 & 1 & 0 & 0 & 0 & 0 & 2 & 0 & 1 & 0 & 0 & 1 & 1 & 1 & 1 & 0 & 1 & 0 & 0 & 0 & 0 & 0 & 0 & 1 & 0 & 0 & 0 & 0 & 0 & 1 & 1 & 0 & 0 & 0 & 0 & 0 & 0 & 1 & 0 & 0 & 0 & 0 & 0 & 0 & 0 & 0 & 0 & 0 & 1 & 1 & 1 & 0 & 1 & 0 & 1 & 1 & 0 & 1 & 0 & 0 & 0 & 0 & 0 & 0 & 2 & 0 & 0 & 1 & 0 & 0 & 0 & 0 & 0 & 1 & 0 & 0 & 1 & 2 & 0 & 0 & 1 & 0 & 0 & 0 & 0 & 0 & 0 & 1 & 1 & 1 & 1 & 0 & 1 & 0 & 0 & 0 & 0 & 0 & 1 & 0 & 1 & 0 & 1 & 0 & 0 & 0 & 0 & 0 & 0 & 0 & 0 & 0 & 1 & 0 & 0 & 1 & 0 & 1 & 0 & 0 & 1 & 0 & 0 & 0 & 0 & 0 & 0 & 1 & 0 & 0 & 0 & 0 & 0 & 2 & 1 & 1 & 1 & 2 & 0 & 0 & 0 & 0 & 0 & 0 & 1 & 0 & 0 & 1 & 0 & 0 & 0 & 1 & 0 & 1 & 0 & 0 & 0 & 1 & 0 & 1 & 0 & 0 & 0 & 1 & 0 & 0 & 0 & 0 & 0 & 0 & 0 & 0 & 0 & 0 & 1 & 0 & 0 & 1 & 0 & 1 & 0 & 1 & 1 & 0 & 0 & 1 & 2 & 1 & 0 & 0 & 0 & 0 & 0 & 0 & 1 & 0 & 1 & 2 & 0 & 1 & 1 & 0 & 0 & 1 & 0 & 1 & 0 & 1 & 1 & 0 & 0 & 0 & 0 & 0 & 1 & 0 & 0 & 0 & 0 & 1 & 1 & 0\\\\\n",
       "\t1 & 0 & 0 & 0 & 1 & 0 & 1 & 0 & 0 & 0 & 0 & 0 & 0 & 1 & 0 & 0 & 1 & 1 & 0 & 1 & 2 & 0 & 1 & 0 & 0 & 0 & 0 & 0 & 0 & 0 & 0 & 0 & 0 & 0 & 0 & 0 & 0 & 0 & 0 & 0 & 0 & 0 & 0 & 0 & 0 & 0 & 0 & 0 & 0 & 0 & 0 & 1 & 0 & 0 & 1 & 0 & 1 & 0 & 0 & 0 & 1 & 0 & 0 & 1 & 0 & 0 & 0 & 0 & 0 & 0 & 0 & 0 & 1 & 0 & 0 & 0 & 0 & 0 & 0 & 0 & 1 & 1 & 0 & 0 & 0 & 0 & 0 & 0 & 0 & 0 & 1 & 0 & 0 & 0 & 0 & 0 & 0 & 1 & 0 & 0 & 1 & 0 & 0 & 0 & 0 & 0 & 0 & 0 & 2 & 0 & 0 & 0 & 0 & 0 & 1 & 0 & 1 & 1 & 0 & 0 & 0 & 0 & 0 & 0 & 0 & 1 & 1 & 0 & 1 & 0 & 0 & 1 & 1 & 0 & 0 & 0 & 0 & 1 & 0 & 1 & 1 & 0 & 0 & 0 & 0 & 0 & 0 & 0 & 0 & 1 & 0 & 0 & 0 & 2 & 0 & 0 & 1 & 0 & 1 & 0 & 0 & 1 & 0 & 0 & 0 & 1 & 0 & 0 & 0 & 0 & 0 & 2 & 1 & 0 & 0 & 0 & 1 & 0 & 0 & 0 & 0 & 0 & 0 & 1 & 0 & 1 & 1 & 0 & 0 & 1 & 0 & 0 & 1 & 0 & 0 & 0 & 0 & 0 & 0 & 0 & 0 & 0 & 1 & 0 & 0 & 0 & 0 & 0 & 0 & 0 & 1 & 0 & 0 & 0 & 0 & 1 & 0 & 0 & 1 & 0 & 0 & 0 & 0 & 1 & 1 & 0 & 0 & 0 & 0 & 0 & 0 & 2 & 0 & 0 & 0 & 0 & 0 & 0 & 0 & 0 & 0 & 1 & 1 & 0 & 1 & 0 & 0 & 0 & 0 & 1 & 0 & 0 & 0 & 0 & 0 & 0 & 0 & 1 & 0 & 0 & 1 & 0 & 0 & 0 & 0 & 1 & 2 & 0 & 0 & 0 & 0 & 1 & 0 & 1 & 0 & 0 & 0 & 0 & 0 & 0 & 0 & 1 & 0 & 0 & 0 & 0 & 0 & 1 & 0 & 0 & 0 & 0 & 0 & 0 & 0 & 0 & 0 & 0 & 0 & 0 & 1 & 0 & 0 & 1 & 0 & 0 & 0 & 0 & 1 & 0 & 2 & 0 & 1 & 0 & 0 & 0 & 0 & 0 & 0 & 0 & 0 & 0 & 0 & 0 & 0 & 0 & 1 & 0 & 0 & 1 & 1 & 0 & 0 & 0 & 0 & 0 & 0 & 0 & 0 & 1 & 0 & 1 & 0 & 0 & 0\\\\\n",
       "\t2 & 0 & 1 & 0 & 0 & 0 & 0 & 0 & 0 & 0 & 0 & 0 & 2 & 0 & 1 & 1 & 0 & 0 & 0 & 0 & 1 & 1 & 1 & 1 & 0 & 0 & 0 & 0 & 0 & 0 & 1 & 0 & 0 & 0 & 1 & 0 & 1 & 1 & 0 & 1 & 0 & 0 & 0 & 1 & 0 & 0 & 0 & 1 & 0 & 0 & 0 & 0 & 0 & 1 & 0 & 0 & 1 & 0 & 0 & 0 & 0 & 0 & 0 & 0 & 0 & 0 & 0 & 0 & 0 & 0 & 1 & 0 & 0 & 0 & 0 & 0 & 0 & 0 & 0 & 0 & 0 & 0 & 1 & 0 & 0 & 0 & 0 & 0 & 0 & 0 & 0 & 0 & 0 & 0 & 2 & 0 & 1 & 0 & 0 & 1 & 0 & 0 & 0 & 0 & 0 & 1 & 1 & 1 & 0 & 0 & 1 & 1 & 0 & 0 & 0 & 0 & 0 & 1 & 0 & 0 & 0 & 0 & 0 & 0 & 0 & 0 & 0 & 0 & 0 & 2 & 0 & 1 & 1 & 0 & 0 & 0 & 0 & 0 & 1 & 0 & 1 & 0 & 1 & 0 & 0 & 0 & 0 & 0 & 0 & 0 & 0 & 1 & 0 & 0 & 0 & 1 & 0 & 0 & 0 & 0 & 1 & 1 & 1 & 0 & 0 & 0 & 0 & 1 & 0 & 0 & 1 & 0 & 1 & 0 & 0 & 0 & 0 & 0 & 0 & 1 & 0 & 0 & 0 & 1 & 0 & 0 & 0 & 1 & 0 & 1 & 0 & 0 & 0 & 0 & 0 & 0 & 0 & 0 & 1 & 0 & 0 & 0 & 0 & 0 & 1 & 0 & 0 & 0 & 0 & 0 & 0 & 0 & 1 & 0 & 0 & 0 & 0 & 0 & 0 & 0 & 0 & 1 & 0 & 1 & 0 & 0 & 0 & 1 & 0 & 0 & 1 & 0 & 0 & 0 & 0 & 0 & 0 & 0 & 0 & 0 & 0 & 1 & 0 & 0 & 0 & 1 & 1 & 0 & 0 & 0 & 0 & 0 & 1 & 1 & 0 & 0 & 0 & 1 & 2 & 0 & 0 & 0 & 0 & 0 & 0 & 1 & 0 & 1 & 0 & 0 & 0 & 1 & 0 & 1 & 0 & 1 & 0 & 0 & 0 & 0 & 0 & 1 & 0 & 0 & 0 & 0 & 0 & 0 & 0 & 0 & 0 & 0 & 0 & 0 & 0 & 0 & 0 & 0 & 0 & 0 & 0 & 0 & 1 & 0 & 0 & 0 & 0 & 1 & 0 & 0 & 0 & 0 & 1 & 1 & 0 & 0 & 0 & 0 & 1 & 0 & 0 & 0 & 0 & 0 & 0 & 0 & 1 & 0 & 0 & 0 & 0 & 2 & 1 & 0 & 0 & 0 & 0 & 0 & 0 & 1 & 0 & 0 & 0 & 0 & 0\\\\\n",
       "\t3 & 0 & 0 & 0 & 0 & 0 & 0 & 0 & 0 & 0 & 0 & 0 & 0 & 0 & 0 & 0 & 0 & 0 & 1 & 1 & 1 & 0 & 0 & 0 & 0 & 0 & 0 & 0 & 0 & 0 & 0 & 0 & 0 & 1 & 0 & 0 & 0 & 0 & 0 & 0 & 1 & 0 & 1 & 1 & 0 & 0 & 0 & 0 & 1 & 0 & 0 & 0 & 0 & 0 & 0 & 1 & 0 & 1 & 0 & 0 & 0 & 0 & 0 & 0 & 1 & 0 & 0 & 0 & 0 & 0 & 0 & 0 & 0 & 0 & 0 & 0 & 1 & 0 & 0 & 0 & 1 & 0 & 0 & 0 & 0 & 1 & 0 & 0 & 0 & 0 & 0 & 0 & 0 & 0 & 1 & 0 & 0 & 0 & 0 & 0 & 0 & 0 & 0 & 0 & 0 & 1 & 0 & 0 & 0 & 0 & 0 & 0 & 0 & 0 & 0 & 0 & 0 & 0 & 0 & 0 & 0 & 0 & 0 & 0 & 1 & 0 & 0 & 1 & 0 & 0 & 0 & 0 & 0 & 0 & 0 & 1 & 0 & 0 & 1 & 0 & 0 & 0 & 0 & 0 & 1 & 0 & 0 & 0 & 0 & 0 & 0 & 0 & 0 & 0 & 1 & 0 & 0 & 0 & 0 & 0 & 1 & 0 & 1 & 0 & 0 & 0 & 0 & 0 & 0 & 0 & 0 & 0 & 0 & 1 & 0 & 0 & 0 & 0 & 0 & 0 & 0 & 0 & 0 & 0 & 0 & 0 & 0 & 0 & 0 & 0 & 0 & 0 & 0 & 0 & 0 & 0 & 0 & 0 & 0 & 0 & 0 & 1 & 0 & 0 & 0 & 0 & 0 & 0 & 1 & 0 & 0 & 0 & 1 & 0 & 1 & 0 & 0 & 0 & 0 & 0 & 0 & 0 & 0 & 0 & 0 & 0 & 0 & 0 & 0 & 0 & 0 & 0 & 0 & 1 & 0 & 0 & 0 & 0 & 0 & 0 & 0 & 0 & 0 & 0 & 1 & 0 & 0 & 0 & 0 & 0 & 0 & 0 & 0 & 1 & 0 & 1 & 0 & 1 & 0 & 1 & 0 & 0 & 0 & 0 & 0 & 0 & 0 & 0 & 0 & 0 & 2 & 0 & 0 & 1 & 0 & 0 & 0 & 0 & 0 & 0 & 0 & 0 & 0 & 0 & 0 & 0 & 1 & 1 & 0 & 0 & 0 & 0 & 0 & 0 & 0 & 0 & 1 & 0 & 0 & 0 & 0 & 0 & 1 & 1 & 0 & 1 & 0 & 0 & 0 & 2 & 0 & 0 & 0 & 1 & 0 & 0 & 0 & 1 & 0 & 0 & 1 & 0 & 0 & 0 & 0 & 0 & 0 & 0 & 0 & 0 & 0 & 1 & 1 & 1 & 0 & 1 & 1 & 0 & 0 & 0 & 0 & 0 & 0 & 1 & 0\\\\\n",
       "\\end{tabular}\n"
      ],
      "text/markdown": [
       "\n",
       "A matrix: 4 × 344 of type dbl\n",
       "\n",
       "| <!--/--> | 1 | 2 | 5 | 6 | 9 | 10 | 13 | 14 | 17 | 18 | ⋯ | 759 | 760 | 765 | 766 | 771 | 772 | 777 | 778 | 783 | 784 |\n",
       "|---|---|---|---|---|---|---|---|---|---|---|---|---|---|---|---|---|---|---|---|---|---|\n",
       "| 0 | 0 | 1 | 0 | 0 | 0 | 0 | 0 | 0 | 0 | 0 | ⋯ | 0 | 0 | 1 | 0 | 0 | 0 | 0 | 1 | 1 | 0 |\n",
       "| 1 | 0 | 0 | 0 | 1 | 0 | 1 | 0 | 0 | 0 | 0 | ⋯ | 0 | 0 | 0 | 0 | 1 | 0 | 1 | 0 | 0 | 0 |\n",
       "| 2 | 0 | 1 | 0 | 0 | 0 | 0 | 0 | 0 | 0 | 0 | ⋯ | 0 | 0 | 0 | 0 | 1 | 0 | 0 | 0 | 0 | 0 |\n",
       "| 3 | 0 | 0 | 0 | 0 | 0 | 0 | 0 | 0 | 0 | 0 | ⋯ | 1 | 1 | 0 | 0 | 0 | 0 | 0 | 0 | 1 | 0 |\n",
       "\n"
      ],
      "text/plain": [
       "  1 2 5 6 9 10 13 14 17 18 ⋯ 759 760 765 766 771 772 777 778 783 784\n",
       "0 0 1 0 0 0 0  0  0  0  0  ⋯ 0   0   1   0   0   0   0   1   1   0  \n",
       "1 0 0 0 1 0 1  0  0  0  0  ⋯ 0   0   0   0   1   0   1   0   0   0  \n",
       "2 0 1 0 0 0 0  0  0  0  0  ⋯ 0   0   0   0   1   0   0   0   0   0  \n",
       "3 0 0 0 0 0 0  0  0  0  0  ⋯ 1   1   0   0   0   0   0   0   1   0  "
      ]
     },
     "metadata": {},
     "output_type": "display_data"
    }
   ],
   "source": [
    "geno2 = t(geno1)\n",
    "geno2"
   ]
  },
  {
   "cell_type": "markdown",
   "metadata": {
    "kernel": "R"
   },
   "source": [
    "Now, calculate minor allele and genotype frequencies in the founders to check that they match the expectations. Code obtained from https://github.com/ekfchan/evachan.org-Rscripts/blob/master/rscripts/calc_snp_stats.R"
   ]
  },
  {
   "cell_type": "code",
   "execution_count": 303,
   "metadata": {
    "kernel": "R"
   },
   "outputs": [
    {
     "data": {
      "text/html": [
       "<table>\n",
       "<caption>A data.frame: 4 × 13</caption>\n",
       "<thead>\n",
       "\t<tr><th></th><th scope=col>n</th><th scope=col>n0</th><th scope=col>n1</th><th scope=col>n2</th><th scope=col>p</th><th scope=col>maf</th><th scope=col>mgf</th><th scope=col>mono</th><th scope=col>loh</th><th scope=col>hwe.chisq</th><th scope=col>hwe.chisq.p</th><th scope=col>hwe.fisher</th><th scope=col>hwe.fisher.p</th></tr>\n",
       "\t<tr><th></th><th scope=col>&lt;int&gt;</th><th scope=col>&lt;int&gt;</th><th scope=col>&lt;int&gt;</th><th scope=col>&lt;int&gt;</th><th scope=col>&lt;dbl&gt;</th><th scope=col>&lt;dbl&gt;</th><th scope=col>&lt;dbl&gt;</th><th scope=col>&lt;lgl&gt;</th><th scope=col>&lt;lgl&gt;</th><th scope=col>&lt;dbl&gt;</th><th scope=col>&lt;dbl&gt;</th><th scope=col>&lt;dbl&gt;</th><th scope=col>&lt;dbl&gt;</th></tr>\n",
       "</thead>\n",
       "<tbody>\n",
       "\t<tr><th scope=row>0</th><td>344</td><td>242</td><td>93</td><td>9</td><td>0.8386628</td><td>0.16133721</td><td>0.026162791</td><td>FALSE</td><td>FALSE</td><td>0.0003328449</td><td>0.9854442</td><td>1.0073791</td><td>1.0000000</td></tr>\n",
       "\t<tr><th scope=row>1</th><td>344</td><td>270</td><td>67</td><td>7</td><td>0.8822674</td><td>0.11773256</td><td>0.020348837</td><td>FALSE</td><td>FALSE</td><td>1.3420560542</td><td>0.2466717</td><td>1.6815338</td><td>0.2949906</td></tr>\n",
       "\t<tr><th scope=row>2</th><td>344</td><td>269</td><td>70</td><td>5</td><td>0.8837209</td><td>0.11627907</td><td>0.014534884</td><td>FALSE</td><td>FALSE</td><td>0.0335006925</td><td>0.8547730</td><td>1.0976759</td><td>0.7955340</td></tr>\n",
       "\t<tr><th scope=row>3</th><td>344</td><td>291</td><td>51</td><td>2</td><td>0.9200581</td><td>0.07994186</td><td>0.005813953</td><td>FALSE</td><td>FALSE</td><td>0.0211519756</td><td>0.8843657</td><td>0.8956377</td><td>1.0000000</td></tr>\n",
       "</tbody>\n",
       "</table>\n"
      ],
      "text/latex": [
       "A data.frame: 4 × 13\n",
       "\\begin{tabular}{r|lllllllllllll}\n",
       "  & n & n0 & n1 & n2 & p & maf & mgf & mono & loh & hwe.chisq & hwe.chisq.p & hwe.fisher & hwe.fisher.p\\\\\n",
       "  & <int> & <int> & <int> & <int> & <dbl> & <dbl> & <dbl> & <lgl> & <lgl> & <dbl> & <dbl> & <dbl> & <dbl>\\\\\n",
       "\\hline\n",
       "\t0 & 344 & 242 & 93 & 9 & 0.8386628 & 0.16133721 & 0.026162791 & FALSE & FALSE & 0.0003328449 & 0.9854442 & 1.0073791 & 1.0000000\\\\\n",
       "\t1 & 344 & 270 & 67 & 7 & 0.8822674 & 0.11773256 & 0.020348837 & FALSE & FALSE & 1.3420560542 & 0.2466717 & 1.6815338 & 0.2949906\\\\\n",
       "\t2 & 344 & 269 & 70 & 5 & 0.8837209 & 0.11627907 & 0.014534884 & FALSE & FALSE & 0.0335006925 & 0.8547730 & 1.0976759 & 0.7955340\\\\\n",
       "\t3 & 344 & 291 & 51 & 2 & 0.9200581 & 0.07994186 & 0.005813953 & FALSE & FALSE & 0.0211519756 & 0.8843657 & 0.8956377 & 1.0000000\\\\\n",
       "\\end{tabular}\n"
      ],
      "text/markdown": [
       "\n",
       "A data.frame: 4 × 13\n",
       "\n",
       "| <!--/--> | n &lt;int&gt; | n0 &lt;int&gt; | n1 &lt;int&gt; | n2 &lt;int&gt; | p &lt;dbl&gt; | maf &lt;dbl&gt; | mgf &lt;dbl&gt; | mono &lt;lgl&gt; | loh &lt;lgl&gt; | hwe.chisq &lt;dbl&gt; | hwe.chisq.p &lt;dbl&gt; | hwe.fisher &lt;dbl&gt; | hwe.fisher.p &lt;dbl&gt; |\n",
       "|---|---|---|---|---|---|---|---|---|---|---|---|---|---|\n",
       "| 0 | 344 | 242 | 93 | 9 | 0.8386628 | 0.16133721 | 0.026162791 | FALSE | FALSE | 0.0003328449 | 0.9854442 | 1.0073791 | 1.0000000 |\n",
       "| 1 | 344 | 270 | 67 | 7 | 0.8822674 | 0.11773256 | 0.020348837 | FALSE | FALSE | 1.3420560542 | 0.2466717 | 1.6815338 | 0.2949906 |\n",
       "| 2 | 344 | 269 | 70 | 5 | 0.8837209 | 0.11627907 | 0.014534884 | FALSE | FALSE | 0.0335006925 | 0.8547730 | 1.0976759 | 0.7955340 |\n",
       "| 3 | 344 | 291 | 51 | 2 | 0.9200581 | 0.07994186 | 0.005813953 | FALSE | FALSE | 0.0211519756 | 0.8843657 | 0.8956377 | 1.0000000 |\n",
       "\n"
      ],
      "text/plain": [
       "  n   n0  n1 n2 p         maf        mgf         mono  loh   hwe.chisq   \n",
       "0 344 242 93 9  0.8386628 0.16133721 0.026162791 FALSE FALSE 0.0003328449\n",
       "1 344 270 67 7  0.8822674 0.11773256 0.020348837 FALSE FALSE 1.3420560542\n",
       "2 344 269 70 5  0.8837209 0.11627907 0.014534884 FALSE FALSE 0.0335006925\n",
       "3 344 291 51 2  0.9200581 0.07994186 0.005813953 FALSE FALSE 0.0211519756\n",
       "  hwe.chisq.p hwe.fisher hwe.fisher.p\n",
       "0 0.9854442   1.0073791  1.0000000   \n",
       "1 0.2466717   1.6815338  0.2949906   \n",
       "2 0.8547730   1.0976759  0.7955340   \n",
       "3 0.8843657   0.8956377  1.0000000   "
      ]
     },
     "metadata": {},
     "output_type": "display_data"
    }
   ],
   "source": [
    "m <- nrow(geno2)     ## number of snps\n",
    "n <- ncol(geno2)     ## number of individuals\n",
    "\n",
    "## assign all non {0,1,2} to NA\n",
    "geno2[(geno2!=0) & (geno2!=1) & (geno2!=2)] <- NA \n",
    "geno2 <- as.matrix(geno2)\n",
    "\n",
    "## calc_n\n",
    "n0 <- apply(geno2==0,1,sum,na.rm=T)\n",
    "n1 <- apply(geno2==1,1,sum,na.rm=T)\n",
    "n2 <- apply(geno2==2,1,sum,na.rm=T)\n",
    "n <- n0 + n1 + n2\n",
    "\n",
    "## calculate allele frequencies in the founders\n",
    "p <- ((2*n0)+n1)/(2*n)\n",
    "q <- 1 - p\n",
    "maf <- pmin(p, q) #minor allele frequency\n",
    "mgf <- apply(cbind(n0,n1,n2),1,min) / n #minor genotype frequency\n",
    "\n",
    "## HWE: Chi-Square test\n",
    "obs <- cbind(n0=n0,n1=n1,n2=n2)\n",
    "exp <- cbind(p*p, 2*p*q, q*q)\n",
    "exp <- exp*n\n",
    "chisq <- (obs-exp)\n",
    "chisq <- (chisq*chisq) /exp\n",
    "hwe.chisq <- apply(chisq,1,sum)\n",
    "hwe.chisq.p <- 1-pchisq(hwe.chisq,df=1)\n",
    "\n",
    "## HWE: Fisher's Exact test\n",
    "z <- cbind(n0, ceiling(n1/2), floor(n1/2), n2)\n",
    "z <- lapply( split( z, 1:nrow(z) ), matrix, ncol=2 )\n",
    "z <- lapply( z, fisher.test )\n",
    "hwe.fisher <- as.numeric(unlist(lapply(z, \"[[\", \"estimate\")))\n",
    "hwe.fisher.p <- as.numeric(unlist(lapply(z, \"[[\", \"p.value\")))\n",
    "\n",
    "# MODIFIED 21 Oct 2012:  prior to this version, we had \"mono=(mgf<0)\" instead of \"mono<(maf<0)\"\n",
    "res <- data.frame( n=n, n0=n0, n1=n1, n2=n2, p=p, maf=maf, mgf=mgf,\n",
    "                        mono=(maf<=0), loh=(n1<=0), \n",
    "                        hwe.chisq=hwe.chisq, hwe.chisq.p=hwe.chisq.p,\n",
    "                        hwe.fisher=hwe.fisher, hwe.fisher.p=hwe.fisher.p, \n",
    "                        stringsAsFactors=F )\n",
    "row.names(res) <- row.names(geno2)\n",
    "res"
   ]
  },
  {
   "cell_type": "code",
   "execution_count": null,
   "metadata": {
    "kernel": "R"
   },
   "outputs": [],
   "source": []
  }
 ],
 "metadata": {
  "kernelspec": {
   "display_name": "SoS",
   "language": "sos",
   "name": "sos"
  },
  "language_info": {
   "codemirror_mode": "sos",
   "file_extension": ".sos",
   "mimetype": "text/x-sos",
   "name": "sos",
   "nbconvert_exporter": "sos_notebook.converter.SoS_Exporter",
   "pygments_lexer": "sos"
  },
  "sos": {
   "kernels": [
    [
     "R",
     "ir",
     "R",
     "#DCDCDA",
     "r"
    ],
    [
     "SoS",
     "sos",
     "",
     "",
     "sos"
    ]
   ],
   "version": "0.21.7"
  }
 },
 "nbformat": 4,
 "nbformat_minor": 4
}
