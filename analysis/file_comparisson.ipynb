{
 "cells": [
  {
   "cell_type": "markdown",
   "metadata": {
    "kernel": "SoS"
   },
   "source": [
    "Script to compare two text files and be able to detect common lines and print to output file usinf the command `set.intersection()`. Sets are an unordered collection of elements, therefore the output wont be ordered."
   ]
  },
  {
   "cell_type": "code",
   "execution_count": 203,
   "metadata": {
    "kernel": "Bash"
   },
   "outputs": [
    {
     "name": "stdout",
     "output_type": "stream",
     "text": [
      "/Users/dmc2245/Documents/Cornejo_Diana/family-association\n"
     ]
    }
   ],
   "source": [
    "pwd"
   ]
  },
  {
   "cell_type": "code",
   "execution_count": 223,
   "metadata": {
    "kernel": "SoS"
   },
   "outputs": [],
   "source": [
    "pedigree = (\"/Users/dmc2245/Documents/Cornejo_Diana/family-association/seqsimla/input/results/Sim21.ped\")\n",
    "probands = (\"/Users/dmc2245/Documents/Cornejo_Diana/family-association/seqsimla/input/proband100.txt\")\n",
    "common_lines = ('/Users/dmc2245/Documents/Cornejo_Diana/family-association/seqsimla/input/results/common_lines.txt')\n",
    "different_lines = ('/Users/dmc2245/Documents/Cornejo_Diana/family-association/seqsimla/input/results/different_lines.txt')"
   ]
  },
  {
   "cell_type": "code",
   "execution_count": 232,
   "metadata": {
    "kernel": "SoS"
   },
   "outputs": [
    {
     "data": {
      "text/plain": [
       "'/Users/dmc2245/Documents/Cornejo_Diana/family-association/seqsimla/input/results/Sim21.ped'"
      ]
     },
     "execution_count": 232,
     "metadata": {},
     "output_type": "execute_result"
    }
   ],
   "source": [
    "ped_file = set(line.strip() for line in open(pedigree,'r'))\n",
    "proband_file = set(line.strip() for line in open(probands,'r'))\n",
    "same = ped_file.intersection(proband_file)\n",
    "output_same = open(common_lines, 'w')\n",
    "#print(same, sep = '\\n', file = output_same)\n",
    "#print(\"Duplicates(%d):%s\"%(len(same),same))\n",
    "#FIXME: the files have different column lenght that is why this solution does not work. I have to figure out how to compare them"
   ]
  },
  {
   "cell_type": "markdown",
   "metadata": {
    "kernel": "SoS"
   },
   "source": [
    "Script to compare two text files and be able to detect differences. You can use `intersection()` method instead of `difference()` if you need to print the common items. Here I want to see if the `probands.txt` differs from the intersection between the `SAP.ped` file and `probands.txt` now outputed as `common_lines.txt` from the previous step. \n",
    "The output file should be empty because the two file should be exactly the same."
   ]
  },
  {
   "cell_type": "code",
   "execution_count": 219,
   "metadata": {
    "kernel": "SoS"
   },
   "outputs": [],
   "source": [
    "different = set(ped_file).difference(proband_file)\n",
    "output_different = open(different_lines, 'w')        \n",
    "print(*different, sep = '\\n', file = output_different)"
   ]
  },
  {
   "cell_type": "markdown",
   "metadata": {
    "kernel": "SoS"
   },
   "source": [
    "This code is to create a `set` from a text file"
   ]
  },
  {
   "cell_type": "code",
   "execution_count": 106,
   "metadata": {
    "kernel": "SoS"
   },
   "outputs": [
    {
     "name": "stdout",
     "output_type": "stream",
     "text": [
      "File 1\n",
      "{'6 si', '1 si', '3 no', '4 si', '7 no', '2 no', '5 no'}\n"
     ]
    }
   ],
   "source": [
    "file_1 = set(line.strip() for line in open(\"seqsimla/seqsimla_example/test1.txt\",'r'))\n",
    "file_2 = set(line.strip() for line in open(\"seqsimla/seqsimla_example/test2.txt\",'r'))\n",
    "print(\"File 1\")\n",
    "print(file_1)"
   ]
  },
  {
   "cell_type": "code",
   "execution_count": 107,
   "metadata": {
    "kernel": "SoS"
   },
   "outputs": [
    {
     "name": "stdout",
     "output_type": "stream",
     "text": [
      "File2\n",
      "{'4 si', '6 si', '1 si'}\n"
     ]
    }
   ],
   "source": [
    "print(\"File2\")\n",
    "print(file_2)"
   ]
  },
  {
   "cell_type": "code",
   "execution_count": 151,
   "metadata": {
    "kernel": "SoS"
   },
   "outputs": [
    {
     "name": "stdout",
     "output_type": "stream",
     "text": [
      "Intersection\n",
      "{'4 si', '6 si', '1 si'}\n"
     ]
    }
   ],
   "source": [
    "print(\"Intersection\")\n",
    "print(file_1.intersection(file_2))"
   ]
  },
  {
   "cell_type": "code",
   "execution_count": 167,
   "metadata": {
    "kernel": "SoS"
   },
   "outputs": [
    {
     "name": "stdout",
     "output_type": "stream",
     "text": [
      "Duplicates(6):{'FAM3 M3 0 0 2 1 1 1 1 2 1 1 1 1', 'FAM1 F1 0 0 1 1 1 1 1 1 1 2 1 1', 'FAM2 F2 0 0 1 1 1 1 2 1 1 2 1 1', 'FAM2 M2 0 0 2 1 1 1 1 1 2 1 1 1', 'FAM3 F3 0 0 1 1 2 1 1 1 1 1 1 1', 'FAM1 M1 0 0 2 1 1 2 1 1 1 1 2 1'}\n",
      "\n",
      "Uniques(6):{'FAM1 O2 F1 M1 2 2 1 2 1 1 2 1 1 1', 'FAM1 O1 F1 M1 2 2 1 2 1 1 1 1 1 1', 'FAM2 O1 F2 M2 2 2 1 1 2 1 1 2 1 1', 'FAM3 O2 F3 M3 2 2 1 1 1 1 1 1 1 1', 'FAM3 O1 F3 M3 2 2 2 1 1 2 1 1 1 1', 'FAM2 O2 F2 M2 2 2 1 1 1 1 2 1 1 1'}\n",
      "\n",
      "Different(6):{'FAM1 O1 F1 M1 2 2 1 2 1 1 1 1 1 1', 'FAM1 O2 F1 M1 2 2 1 2 1 1 2 1 1 1', 'FAM2 O1 F2 M2 2 2 1 1 2 1 1 2 1 1', 'FAM3 O1 F3 M3 2 2 2 1 1 2 1 1 1 1', 'FAM2 O2 F2 M2 2 2 1 1 1 1 2 1 1 1', 'FAM3 O2 F3 M3 2 2 1 1 1 1 1 1 1 1'}\n"
     ]
    }
   ],
   "source": [
    "words1 = set(line.strip() for line in open (\"seqsimla/input/results/some1.txt\", 'r'))\n",
    "words2 = set(line.strip() for line in open (\"seqsimla/input/results/some2.txt\", 'r'))\n",
    "\n",
    "duplicates  = words1.intersection(words2)\n",
    "uniques = words1.difference(words2).union(words2.difference(words1))\n",
    "different1 = words1.difference(words2)\n",
    "\n",
    "print (\"Duplicates(%d):%s\"%(len(duplicates),duplicates))\n",
    "print (\"\\nUniques(%d):%s\"%(len(uniques),uniques))\n",
    "print (\"\\nDifferent(%d):%s\"%(len(different1), different1))"
   ]
  },
  {
   "cell_type": "code",
   "execution_count": null,
   "metadata": {
    "kernel": "SoS"
   },
   "outputs": [],
   "source": []
  }
 ],
 "metadata": {
  "kernelspec": {
   "display_name": "SoS",
   "language": "sos",
   "name": "sos"
  },
  "language_info": {
   "codemirror_mode": "sos",
   "file_extension": ".sos",
   "mimetype": "text/x-sos",
   "name": "sos",
   "nbconvert_exporter": "sos_notebook.converter.SoS_Exporter",
   "pygments_lexer": "sos"
  },
  "sos": {
   "kernels": [
    [
     "Bash",
     "calysto_bash",
     "Bash",
     "#E6EEFF",
     ""
    ],
    [
     "SoS",
     "sos",
     "",
     "",
     "sos"
    ]
   ],
   "panel": {
    "displayed": true,
    "height": 0
   },
   "version": "0.21.21"
  }
 },
 "nbformat": 4,
 "nbformat_minor": 4
}
