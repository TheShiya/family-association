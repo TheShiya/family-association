{
 "cells": [
  {
   "cell_type": "code",
   "execution_count": 1,
   "metadata": {
    "kernel": "Bash"
   },
   "outputs": [
    {
     "name": "stdout",
     "output_type": "stream",
     "text": [
      "/Users/duz/Desktop/Center_for_Statistical_Genetics/family-association/analysis\n"
     ]
    }
   ],
   "source": [
    "# Current working directory\n",
    "pwd"
   ]
  },
  {
   "cell_type": "code",
   "execution_count": 2,
   "metadata": {
    "kernel": "Bash"
   },
   "outputs": [],
   "source": [
    "# Change working directory to simulation data folder\n",
    "cd ./afflicted_test"
   ]
  },
  {
   "cell_type": "code",
   "execution_count": 3,
   "metadata": {
    "kernel": "Bash"
   },
   "outputs": [
    {
     "name": "stdout",
     "output_type": "stream",
     "text": [
      "PLINK v1.90p 64-bit (16 Jun 2020)              www.cog-genomics.org/plink/1.9/\n",
      "(C) 2005-2020 Shaun Purcell, Christopher Chang   GNU General Public License v3\n",
      "Logging to freq_stat.log.\n",
      "Options in effect:\n",
      "  --bfile six_fam_eff_affected\n",
      "  --freq\n",
      "  --out freq_stat\n",
      "\n",
      "8192 MB RAM detected; reserving 4096 MB for main workspace.\n",
      "12500 variants loaded from .bim file.\n",
      "5680 people (5680 males, 0 females) loaded from .fam.\n",
      "5680 phenotype values loaded from .fam.\n",
      "Using 1 thread (no multithreaded calculations invoked).\n",
      "Before main variant filters, 5680 founders and 0 nonfounders present.\n",
      "Calculating allele frequencies... 10111213141516171819202122232425262728293031323334353637383940414243444546474849505152535455565758596061626364656667686970717273747576777879808182838485868788899091929394959697989 done.\n",
      "--freq: Allele frequencies (founders only) written to freq_stat.frq .\n"
     ]
    }
   ],
   "source": [
    "# Summary statistics: allele frequencies\n",
    "plink --bfile six_fam_eff_affected --freq --out freq_stat"
   ]
  },
  {
   "cell_type": "code",
   "execution_count": 4,
   "metadata": {
    "kernel": "Bash"
   },
   "outputs": [
    {
     "name": "stdout",
     "output_type": "stream",
     "text": [
      " CHR     SNP   A1   A2          MAF  NCHROBS\n",
      "   1     rs1    C    A     0.002113    11360\n",
      "   1     rs2    C    A      0.02535    11360\n",
      "   1     rs3    C    A            0    11360\n",
      "   1     rs4    C    A       0.1282    11360\n",
      "   1     rs5    C    A    0.0007042    11360\n",
      "   1     rs6    C    A     0.006338    11360\n",
      "   1     rs7    C    A       0.2651    11360\n",
      "   1     rs8    C    A       0.1447    11360\n",
      "   1     rs9    C    A       0.1447    11360\n"
     ]
    }
   ],
   "source": [
    "head freq_stat.frq "
   ]
  },
  {
   "cell_type": "code",
   "execution_count": 5,
   "metadata": {
    "kernel": "Bash"
   },
   "outputs": [
    {
     "name": "stdout",
     "output_type": "stream",
     "text": [
      "PLINK v1.90p 64-bit (16 Jun 2020)              www.cog-genomics.org/plink/1.9/\n",
      "(C) 2005-2020 Shaun Purcell, Christopher Chang   GNU General Public License v3\n",
      "Logging to as1.log.\n",
      "Options in effect:\n",
      "  --assoc\n",
      "  --bfile six_fam_eff_affected\n",
      "  --out as1\n",
      "\n",
      "8192 MB RAM detected; reserving 4096 MB for main workspace.\n",
      "12500 variants loaded from .bim file.\n",
      "5680 people (5680 males, 0 females) loaded from .fam.\n",
      "5680 phenotype values loaded from .fam.\n",
      "Using 1 thread (no multithreaded calculations invoked).\n",
      "Before main variant filters, 5680 founders and 0 nonfounders present.\n",
      "Calculating allele frequencies... 10111213141516171819202122232425262728293031323334353637383940414243444546474849505152535455565758596061626364656667686970717273747576777879808182838485868788899091929394959697989 done.\n",
      "12500 variants and 5680 people pass filters and QC.\n",
      "Among remaining phenotypes, 0 are cases and 5680 are controls.\n",
      "Writing C/C --assoc report to as1.assoc ... 1624324049576573819098done.\n"
     ]
    }
   ],
   "source": [
    "# Basic association analysis on the disease trait for all single SNPs\n",
    "plink --bfile six_fam_eff_affected --assoc --out as1 "
   ]
  },
  {
   "cell_type": "code",
   "execution_count": 6,
   "metadata": {
    "kernel": "Bash"
   },
   "outputs": [
    {
     "name": "stdout",
     "output_type": "stream",
     "text": [
      "PLINK v1.90p 64-bit (16 Jun 2020)              www.cog-genomics.org/plink/1.9/\n",
      "(C) 2005-2020 Shaun Purcell, Christopher Chang   GNU General Public License v3\n",
      "Logging to as2.log.\n",
      "Options in effect:\n",
      "  --adjust\n",
      "  --assoc\n",
      "  --bfile six_fam_eff_affected\n",
      "  --out as2\n",
      "\n",
      "8192 MB RAM detected; reserving 4096 MB for main workspace.\n",
      "12500 variants loaded from .bim file.\n",
      "5680 people (5680 males, 0 females) loaded from .fam.\n",
      "5680 phenotype values loaded from .fam.\n",
      "Using 1 thread (no multithreaded calculations invoked).\n",
      "Before main variant filters, 5680 founders and 0 nonfounders present.\n",
      "Calculating allele frequencies... 10111213141516171819202122232425262728293031323334353637383940414243444546474849505152535455565758596061626364656667686970717273747576777879808182838485868788899091929394959697989 done.\n",
      "12500 variants and 5680 people pass filters and QC.\n",
      "Among remaining phenotypes, 0 are cases and 5680 are controls.\n",
      "Writing C/C --assoc report to as2.assoc ... 1624324049576573819098done.\n",
      "--adjust: Genomic inflation est. lambda (based on median chisq) = 1.\n",
      "101112131415161718192021222324252627282930313233343536373839404142434445464748495051525354555657585960616263646566676869707172737475767778798081828384858687888990919293949596979899--adjust values (11073 variants) written to as2.assoc.adjusted .\n"
     ]
    }
   ],
   "source": [
    "# Adjusted for multiple testing\n",
    "plink --bfile six_fam_eff_affected --assoc --adjust --out as2 "
   ]
  },
  {
   "cell_type": "code",
   "execution_count": 7,
   "metadata": {
    "kernel": "Bash"
   },
   "outputs": [
    {
     "name": "stdout",
     "output_type": "stream",
     "text": [
      "CHR_A\tBP_A\tSNP_A\tCHR_B\tBP_B\tSNP_B\tR2\n",
      "1\t10085\trs10085\t1\t1\trs1\t3.47977e-05\n",
      "1\t10085\trs10085\t1\t2\trs2\t5.82632e-05\n",
      "1\t10085\trs10085\t1\t3\trs3\t5.49087e-05\n",
      "1\t10085\trs10085\t1\t4\trs4\t0.000318135\n",
      "1\t10085\trs10085\t1\t5\trs5\t0.000367395\n",
      "1\t10085\trs10085\t1\t6\trs6\t3.86758e-05\n",
      "1\t10085\trs10085\t1\t7\trs7\t8.34403e-05\n",
      "1\t10085\trs10085\t1\t8\trs8\t8.59001e-06\n",
      "1\t10085\trs10085\t1\t9\trs9\t8.59001e-06\n"
     ]
    }
   ],
   "source": [
    "head snps_not_in_ld_with_selected.txt"
   ]
  },
  {
   "cell_type": "code",
   "execution_count": 11,
   "metadata": {
    "kernel": "Bash"
   },
   "outputs": [
    {
     "name": "stdout",
     "output_type": "stream",
     "text": [
      "2\tid_3_1\n",
      "2\tid_4_1\n",
      "3\tid_5_1\n",
      "3\tid_6_1\n",
      "9\tid_17_1\n",
      "9\tid_18_1\n",
      "10\tid_19_1\n",
      "10\tid_20_1\n",
      "2\tid_22_1\n",
      "3\tid_23_1\n"
     ]
    }
   ],
   "source": [
    "head six_fam_eff_sample_affected_fams.txt"
   ]
  },
  {
   "cell_type": "code",
   "execution_count": null,
   "metadata": {
    "kernel": "Bash"
   },
   "outputs": [],
   "source": []
  }
 ],
 "metadata": {
  "kernelspec": {
   "display_name": "SoS",
   "language": "sos",
   "name": "sos"
  },
  "language_info": {
   "codemirror_mode": "sos",
   "file_extension": ".sos",
   "mimetype": "text/x-sos",
   "name": "sos",
   "nbconvert_exporter": "sos_notebook.converter.SoS_Exporter",
   "pygments_lexer": "sos"
  },
  "sos": {
   "kernels": [
    [
     "Bash",
     "bash",
     "Bash",
     "#E6EEFF",
     ""
    ]
   ],
   "panel": {
    "displayed": true,
    "height": 0
   },
   "version": "0.21.12"
  }
 },
 "nbformat": 4,
 "nbformat_minor": 4
}
