{
 "cells": [
  {
   "cell_type": "markdown",
   "metadata": {
    "kernel": "SoS"
   },
   "source": [
    "# Plink tutorial"
   ]
  },
  {
   "cell_type": "markdown",
   "metadata": {
    "kernel": "Markdown"
   },
   "source": [
    "In this tutorial, we will consider using PLINK to analyse example data: randomly selected genotypes (approximately 80,000 autosomal SNPs) from the 89 Asian HapMap individuals. A phenotype has been simulated based on the genotype at one SNP. In this tutorial, we will walk through using PLINK to work with the data, using a range of features: data management, summary statistics, population stratification and basic association analysis. "
   ]
  },
  {
   "cell_type": "markdown",
   "metadata": {
    "kernel": "Markdown"
   },
   "source": [
    "## 89 HapMap samples and 80K random SNPs"
   ]
  },
  {
   "cell_type": "code",
   "execution_count": 3,
   "metadata": {
    "kernel": "Bash"
   },
   "outputs": [
    {
     "name": "stdout",
     "output_type": "stream",
     "text": [
      "/Users/duz/Desktop/Center_for_Statistical_Genetics/family-association/analysis/hapmap1\n"
     ]
    }
   ],
   "source": [
    "# Current working directory\n",
    "pwd"
   ]
  },
  {
   "cell_type": "code",
   "execution_count": 4,
   "metadata": {
    "kernel": "Bash"
   },
   "outputs": [
    {
     "name": "stdout",
     "output_type": "stream",
     "text": [
      "bash: cd: ./hapmap1: No such file or directory\n"
     ]
    },
    {
     "ename": "",
     "evalue": "1",
     "output_type": "error",
     "traceback": []
    }
   ],
   "source": [
    "# Change working directory\n",
    "cd ./hapmap1"
   ]
  },
  {
   "cell_type": "markdown",
   "metadata": {
    "kernel": "Bash"
   },
   "source": [
    "The --file option takes a single parameter, the root of the input file names, and will look for two files: a PED file and a MAP file with this root name. In otherwords, --file hapmap1 implies hapmap1.ped and hapmap1.map should exist in the current directory. "
   ]
  },
  {
   "cell_type": "code",
   "execution_count": 5,
   "metadata": {
    "kernel": "Bash",
    "scrolled": true
   },
   "outputs": [
    {
     "name": "stdout",
     "output_type": "stream",
     "text": [
      "PLINK v1.90p 64-bit (16 Jun 2020)              www.cog-genomics.org/plink/1.9/\n",
      "(C) 2005-2020 Shaun Purcell, Christopher Chang   GNU General Public License v3\n",
      "Logging to plink.log.\n",
      "Options in effect:\n",
      "  --file hapmap1\n",
      "\n",
      "8192 MB RAM detected; reserving 4096 MB for main workspace.\n",
      ".ped scan complete (for binary autoconversion).324252628293031323334353738394041424344464748495051525355565758596061626465666768697071737475767778798082838485868788899192939495969798100%\n",
      "Performing single-pass .bed write (83534 variants, 89 people).\n",
      "--file: plink.bed + plink.bim + plink.fam written.353637383940414243444546474849505152535455565758596061626364656667686970717273747576777879808182838485868788899091929394%\n"
     ]
    }
   ],
   "source": [
    "plink --file hapmap1"
   ]
  },
  {
   "cell_type": "markdown",
   "metadata": {
    "kernel": "Bash"
   },
   "source": [
    "### Making a binary PED file"
   ]
  },
  {
   "cell_type": "markdown",
   "metadata": {
    "kernel": "Bash"
   },
   "source": [
    "The first thing we will do is to make a **binary PED file**. This more compact representation of the data saves space and speeds up subsequent analysis. To make a binary PED file, use the following command:"
   ]
  },
  {
   "cell_type": "code",
   "execution_count": 15,
   "metadata": {
    "kernel": "Bash"
   },
   "outputs": [
    {
     "name": "stdout",
     "output_type": "stream",
     "text": [
      "PLINK v1.90p 64-bit (16 Jun 2020)              www.cog-genomics.org/plink/1.9/\n",
      "(C) 2005-2020 Shaun Purcell, Christopher Chang   GNU General Public License v3\n",
      "Logging to hapmap1.log.\n",
      "Options in effect:\n",
      "  --file hapmap1\n",
      "  --make-bed\n",
      "  --out hapmap1\n",
      "\n",
      "8192 MB RAM detected; reserving 4096 MB for main workspace.\n",
      ".ped scan complete (for binary autoconversion).324252628293031323334353738394041424344464748495051525355565758596061626465666768697071737475767778798082838485868788899192939495969798100%\n",
      "Performing single-pass .bed write (83534 variants, 89 people).\n",
      "--file: hapmap1-temporary.bed + hapmap1-temporary.bim + hapmap1-temporary.fam849505152535455565758596061626364656667686970717273747576777879808182838485868788899091929394%\n",
      "written.\n",
      "83534 variants loaded from .bim file.\n",
      "89 people (89 males, 0 females) loaded from .fam.\n",
      "89 phenotype values loaded from .fam.\n",
      "Using 1 thread (no multithreaded calculations invoked).\n",
      "Before main variant filters, 89 founders and 0 nonfounders present.\n",
      "Calculating allele frequencies... 10111213141516171819202122232425262728293031323334353637383940414243444546474849505152535455565758596061626364656667686970717273747576777879808182838485868788899091929394959697989 done.\n",
      "Total genotyping rate is 0.99441.\n",
      "83534 variants and 89 people pass filters and QC.\n",
      "Among remaining phenotypes, 44 are cases and 45 are controls.\n",
      "--make-bed to hapmap1.bed + hapmap1.bim + hapmap1.fam ... 101112131415161718192021222324252627282930313233343536373839404142434445464748495051525354555657585960616263646566676869707172737475767778798081828384858687888990919293949596979899done.\n"
     ]
    }
   ],
   "source": [
    "plink --file hapmap1 --make-bed --out hapmap1 "
   ]
  },
  {
   "cell_type": "markdown",
   "metadata": {
    "kernel": "Bash"
   },
   "source": [
    "Notes:  \n",
    "Three files are created with this command -- the binary file that contains the raw genotype data `hapmap1.bed` but also a revsied map file `hapmap1.bim` which contains two extra columns that give the allele names for each SNP, and `hapmap1.fam` which is just the first six columns of hapmap1.ped. You can view the .bim and .fam files -- but do not try to view the .bed file. None of these three files should be manually editted."
   ]
  },
  {
   "cell_type": "markdown",
   "metadata": {
    "kernel": "Bash"
   },
   "source": [
    "If, for example, you wanted to create a new file that only includes individuals with high genotyping (at least 95% complete), you would run: "
   ]
  },
  {
   "cell_type": "code",
   "execution_count": 16,
   "metadata": {
    "kernel": "Bash"
   },
   "outputs": [
    {
     "name": "stdout",
     "output_type": "stream",
     "text": [
      "PLINK v1.90p 64-bit (16 Jun 2020)              www.cog-genomics.org/plink/1.9/\n",
      "(C) 2005-2020 Shaun Purcell, Christopher Chang   GNU General Public License v3\n",
      "Logging to highgeno.log.\n",
      "Options in effect:\n",
      "  --file hapmap1\n",
      "  --make-bed\n",
      "  --mind 0.05\n",
      "  --out highgeno\n",
      "\n",
      "8192 MB RAM detected; reserving 4096 MB for main workspace.\n",
      ".ped scan complete (for binary autoconversion).324252628293031323334353738394041424344464748495051525355565758596061626465666768697071737475767778798082838485868788899192939495969798100%\n",
      "Performing single-pass .bed write (83534 variants, 89 people).\n",
      "--file: highgeno-temporary.bed + highgeno-temporary.bim +83940414243444546474849505152535455565758596061626364656667686970717273747576777879808182838485868788899091929394%\n",
      "highgeno-temporary.fam written.\n",
      "83534 variants loaded from .bim file.\n",
      "89 people (89 males, 0 females) loaded from .fam.\n",
      "89 phenotype values loaded from .fam.\n",
      "0 people removed due to missing genotype data (--mind).\n",
      "Using 1 thread (no multithreaded calculations invoked).\n",
      "Before main variant filters, 89 founders and 0 nonfounders present.\n",
      "Calculating allele frequencies... 10111213141516171819202122232425262728293031323334353637383940414243444546474849505152535455565758596061626364656667686970717273747576777879808182838485868788899091929394959697989 done.\n",
      "Total genotyping rate is 0.99441.\n",
      "83534 variants and 89 people pass filters and QC.\n",
      "Among remaining phenotypes, 44 are cases and 45 are controls.\n",
      "--make-bed to highgeno.bed + highgeno.bim + highgeno.fam ... 101112131415161718192021222324252627282930313233343536373839404142434445464748495051525354555657585960616263646566676869707172737475767778798081828384858687888990919293949596979899done.\n"
     ]
    }
   ],
   "source": [
    "plink --file hapmap1 --make-bed --mind 0.05 --out highgeno "
   ]
  },
  {
   "cell_type": "markdown",
   "metadata": {
    "kernel": "Bash"
   },
   "source": [
    "### Working with the binary PED file"
   ]
  },
  {
   "cell_type": "markdown",
   "metadata": {
    "kernel": "Bash"
   },
   "source": [
    "To specify that the input data are in binary format, as opposed to the normal text PED/MAP format, just use the `--bfile` option instead of --file. To repeat the first command we ran (which just loads the data and prints some basic summary statistics): "
   ]
  },
  {
   "cell_type": "code",
   "execution_count": 17,
   "metadata": {
    "kernel": "Bash"
   },
   "outputs": [
    {
     "name": "stdout",
     "output_type": "stream",
     "text": [
      "PLINK v1.90p 64-bit (16 Jun 2020)              www.cog-genomics.org/plink/1.9/\n",
      "(C) 2005-2020 Shaun Purcell, Christopher Chang   GNU General Public License v3\n",
      "Logging to plink.log.\n",
      "Options in effect:\n",
      "  --bfile hapmap1\n",
      "\n",
      "Warning: No output requested.  Exiting.\n",
      "\n",
      "  plink <input flag(s)...> [command flag(s)...] [other flag(s)...]\n",
      "  plink --help [flag name(s)...]\n",
      "\n",
      "Commands include --make-bed, --recode, --flip-scan, --merge-list,\n",
      "--write-snplist, --list-duplicate-vars, --freqx, --missing, --test-mishap,\n",
      "--hardy, --mendel, --ibc, --impute-sex, --indep-pairphase, --r2, --show-tags,\n",
      "--blocks, --distance, --genome, --homozyg, --make-rel, --make-grm-gz,\n",
      "--rel-cutoff, --cluster, --pca, --neighbour, --ibs-test, --regress-distance,\n",
      "--model, --bd, --gxe, --logistic, --dosage, --lasso, --test-missing,\n",
      "--make-perm-pheno, --unrelated-heritability, --tdt, --dfam, --qfam, --tucc,\n",
      "--annotate, --clump, --gene-report, --meta-analysis, --epistasis,\n",
      "--fast-epistasis, and --score.\n",
      "\n",
      "\"plink --help | more\" describes all functions (warning: long).\n"
     ]
    },
    {
     "ename": "",
     "evalue": "10",
     "output_type": "error",
     "traceback": []
    }
   ],
   "source": [
    "plink --bfile hapmap1"
   ]
  },
  {
   "cell_type": "markdown",
   "metadata": {
    "kernel": "Bash"
   },
   "source": [
    "### Summary statistics: missing rates"
   ]
  },
  {
   "cell_type": "code",
   "execution_count": 10,
   "metadata": {
    "kernel": "Bash"
   },
   "outputs": [
    {
     "name": "stdout",
     "output_type": "stream",
     "text": [
      "PLINK v1.90p 64-bit (16 Jun 2020)              www.cog-genomics.org/plink/1.9/\n",
      "(C) 2005-2020 Shaun Purcell, Christopher Chang   GNU General Public License v3\n",
      "Logging to miss_stat.log.\n",
      "Options in effect:\n",
      "  --bfile hapmap1\n",
      "  --missing\n",
      "  --out miss_stat\n",
      "\n",
      "8192 MB RAM detected; reserving 4096 MB for main workspace.\n",
      "83534 variants loaded from .bim file.\n",
      "89 people (89 males, 0 females) loaded from .fam.\n",
      "89 phenotype values loaded from .fam.\n",
      "Using 1 thread (no multithreaded calculations invoked).\n",
      "Before main variant filters, 89 founders and 0 nonfounders present.\n",
      "Calculating allele frequencies... 10111213141516171819202122232425262728293031323334353637383940414243444546474849505152535455565758596061626364656667686970717273747576777879808182838485868788899091929394959697989 done.\n",
      "Total genotyping rate is 0.99441.\n",
      "--missing: Sample missing data report written to miss_stat.imiss, and\n",
      "variant-based missing data report written to miss_stat.lmiss.\n"
     ]
    }
   ],
   "source": [
    "plink --bfile hapmap1 --missing --out miss_stat"
   ]
  },
  {
   "cell_type": "markdown",
   "metadata": {
    "kernel": "Bash"
   },
   "source": [
    "Notes: Here we see that no individuals were removed for low genotypes (MIND > 0.1 implies that we accept people with less than 10 percent missingness)"
   ]
  },
  {
   "cell_type": "code",
   "execution_count": null,
   "metadata": {
    "kernel": "Bash"
   },
   "outputs": [
    {
     "name": "stdout",
     "output_type": "stream",
     "text": [
      " CHR         SNP   N_MISS   N_GENO   F_MISS\n",
      "   1   rs6681049        0       89        0\n",
      "   1   rs4074137        0       89        0\n",
      "   1   rs7540009        0       89        0\n",
      "   1   rs1891905        0       89        0\n",
      "   1   rs9729550        0       89        0\n",
      "   1   rs3813196        0       89        0\n",
      "   1   rs6704013        2       89  0.02247\n",
      "   1    rs307347       12       89   0.1348\n",
      "   1   rs9439440        2       89  0.02247\n",
      "   1   rs3128342        1       89  0.01124\n",
      "   1  rs12044597        0       89        0\n",
      "   1  rs10907185        0       89        0\n",
      "   1  rs11260616        1       89  0.01124\n",
      "   1    rs745910        2       89  0.02247\n",
      "   1   rs2803291       12       89   0.1348\n",
      "   1   rs7531342       12       89   0.1348\n",
      "   1    rs262688        0       89        0\n",
      "   1   rs2460000        0       89        0\n",
      "   1    rs260509        0       89        0\n",
      "   1   rs2645091        0       89        0\n",
      "   1   rs2643895        0       89        0\n",
      "   1   rs2840529        0       89        0\n"
     ]
    }
   ],
   "source": [
    "more miss_stat.lmiss "
   ]
  },
  {
   "cell_type": "markdown",
   "metadata": {
    "kernel": "Bash"
   },
   "source": [
    "Notes: That is, for each SNP, we see the number of missing individuals (`N_MISS`) and the proportion of individuals missing (`F_MISS`)."
   ]
  },
  {
   "cell_type": "code",
   "execution_count": 5,
   "metadata": {
    "kernel": "Bash"
   },
   "outputs": [
    {
     "name": "stdout",
     "output_type": "stream",
     "text": [
      "     FID  IID MISS_PHENO   N_MISS   N_GENO   F_MISS\n",
      "  HCB181    1          N      671    83534 0.008033\n",
      "  HCB182    1          N     1156    83534  0.01384\n",
      "  HCB183    1          N      498    83534 0.005962\n",
      "  HCB184    1          N      412    83534 0.004932\n",
      "  HCB185    1          N      329    83534 0.003939\n",
      "  HCB186    1          N     1233    83534  0.01476\n",
      "  HCB187    1          N      258    83534 0.003089\n",
      "  HCB188    1          N      864    83534  0.01034\n",
      "  HCB189    1          N      517    83534 0.006189\n",
      "  HCB190    1          N      519    83534 0.006213\n",
      "  HCB191    1          N      303    83534 0.003627\n",
      "  HCB192    1          N      319    83534 0.003819\n",
      "  HCB193    1          N      401    83534   0.0048\n",
      "  HCB194    1          N      411    83534  0.00492\n",
      "  HCB195    1          N      667    83534 0.007985\n",
      "  HCB196    1          N      308    83534 0.003687\n",
      "  HCB197    1          N      271    83534 0.003244\n",
      "  HCB198    1          N      506    83534 0.006057\n",
      "  HCB199    1          N      300    83534 0.003591\n",
      "  HCB200    1          N      412    83534 0.004932\n",
      "  HCB201    1          N      332    83534 0.003974\n",
      "  HCB202    1          N      281    83534 0.003364\n",
      "\u001b[K\u001b[?1l\u001b>tat.imiss\u001b[m\u001b[K\u0007"
     ]
    }
   ],
   "source": [
    "more miss_stat.imiss"
   ]
  },
  {
   "cell_type": "markdown",
   "metadata": {
    "kernel": "Bash"
   },
   "source": [
    "Notes: The final column is the actual genotyping rate for that individual -- we see the genotyping rate is very high here"
   ]
  },
  {
   "cell_type": "markdown",
   "metadata": {
    "kernel": "Bash"
   },
   "source": [
    "Use PLINK to analyse the data by chromosome, with the `--chr` option. For example, to perform the above analysis for chromosome 1: "
   ]
  },
  {
   "cell_type": "code",
   "execution_count": 6,
   "metadata": {
    "kernel": "Bash"
   },
   "outputs": [
    {
     "name": "stdout",
     "output_type": "stream",
     "text": [
      "PLINK v1.90p 64-bit (16 Jun 2020)              www.cog-genomics.org/plink/1.9/\n",
      "(C) 2005-2020 Shaun Purcell, Christopher Chang   GNU General Public License v3\n",
      "Logging to res1.log.\n",
      "Options in effect:\n",
      "  --bfile hapmap1\n",
      "  --chr 1\n",
      "  --missing\n",
      "  --out res1\n",
      "\n",
      "8192 MB RAM detected; reserving 4096 MB for main workspace.\n",
      "6762 out of 83534 variants loaded from .bim file.\n",
      "89 people (89 males, 0 females) loaded from .fam.\n",
      "89 phenotype values loaded from .fam.\n",
      "Using 1 thread (no multithreaded calculations invoked).\n",
      "Before main variant filters, 89 founders and 0 nonfounders present.\n",
      "Calculating allele frequencies... 10111213141516171819202122232425262728293031323334353637383940414243444546474849505152535455565758596061626364656667686970717273747576777879808182838485868788899091929394959697989 done.\n",
      "Total genotyping rate is 0.995545.\n",
      "--missing: Sample missing data report written to res1.imiss, and variant-based\n",
      "missing data report written to res1.lmiss.\n"
     ]
    }
   ],
   "source": [
    "plink --bfile hapmap1 --chr 1 --out res1 --missing "
   ]
  },
  {
   "cell_type": "markdown",
   "metadata": {
    "kernel": "Bash"
   },
   "source": [
    "### Summary statistics: allele frequencies"
   ]
  },
  {
   "cell_type": "markdown",
   "metadata": {
    "kernel": "Bash"
   },
   "source": [
    "Next we perform a similar analysis, except **requesting allele frequencies** instead of genotyping rates. The following command generates a file called `freq_stat.frq` which contains the minor allele frequency and allele codes for each SNP. "
   ]
  },
  {
   "cell_type": "code",
   "execution_count": 7,
   "metadata": {
    "kernel": "Bash"
   },
   "outputs": [
    {
     "name": "stdout",
     "output_type": "stream",
     "text": [
      "PLINK v1.90p 64-bit (16 Jun 2020)              www.cog-genomics.org/plink/1.9/\n",
      "(C) 2005-2020 Shaun Purcell, Christopher Chang   GNU General Public License v3\n",
      "Logging to freq_stat.log.\n",
      "Options in effect:\n",
      "  --bfile hapmap1\n",
      "  --freq\n",
      "  --out freq_stat\n",
      "\n",
      "8192 MB RAM detected; reserving 4096 MB for main workspace.\n",
      "83534 variants loaded from .bim file.\n",
      "89 people (89 males, 0 females) loaded from .fam.\n",
      "89 phenotype values loaded from .fam.\n",
      "Using 1 thread (no multithreaded calculations invoked).\n",
      "Before main variant filters, 89 founders and 0 nonfounders present.\n",
      "Calculating allele frequencies... 10111213141516171819202122232425262728293031323334353637383940414243444546474849505152535455565758596061626364656667686970717273747576777879808182838485868788899091929394959697989 done.\n",
      "Total genotyping rate is 0.99441.\n",
      "--freq: Allele frequencies (founders only) written to freq_stat.frq .\n"
     ]
    }
   ],
   "source": [
    " plink --bfile hapmap1 --freq --out freq_stat "
   ]
  },
  {
   "cell_type": "code",
   "execution_count": 12,
   "metadata": {
    "kernel": "Bash"
   },
   "outputs": [
    {
     "name": "stdout",
     "output_type": "stream",
     "text": [
      " CHR         SNP   A1   A2          MAF  NCHROBS\n",
      "   1   rs6681049    1    2       0.2135      178\n",
      "   1   rs4074137    1    2      0.07865      178\n",
      "   1   rs7540009    0    2            0      178\n",
      "   1   rs1891905    1    2       0.4045      178\n",
      "   1   rs9729550    1    2       0.1292      178\n",
      "   1   rs3813196    1    2      0.02809      178\n",
      "   1   rs6704013    0    2            0      174\n",
      "   1    rs307347    0    2            0      154\n",
      "   1   rs9439440    0    2            0      174\n"
     ]
    }
   ],
   "source": [
    "head freq_stat.frq"
   ]
  },
  {
   "cell_type": "markdown",
   "metadata": {
    "kernel": "Bash"
   },
   "source": [
    "It is also possible to perform this frequency analysis (and the missingness analysis) stratified by a categorical, cluster variable. In this case, we shall use the file that indicates whether the individual is from the Chinese or the Japanese sample, pop.phe.  \n",
    "To perform a stratified analysis, use the `--within` option"
   ]
  },
  {
   "cell_type": "code",
   "execution_count": 13,
   "metadata": {
    "kernel": "Bash"
   },
   "outputs": [
    {
     "name": "stdout",
     "output_type": "stream",
     "text": [
      "PLINK v1.90p 64-bit (16 Jun 2020)              www.cog-genomics.org/plink/1.9/\n",
      "(C) 2005-2020 Shaun Purcell, Christopher Chang   GNU General Public License v3\n",
      "Logging to freq_stat.log.\n",
      "Options in effect:\n",
      "  --bfile hapmap1\n",
      "  --freq\n",
      "  --out freq_stat\n",
      "  --within pop.phe\n",
      "\n",
      "8192 MB RAM detected; reserving 4096 MB for main workspace.\n",
      "83534 variants loaded from .bim file.\n",
      "89 people (89 males, 0 females) loaded from .fam.\n",
      "89 phenotype values loaded from .fam.\n",
      "--within: 2 clusters loaded, covering a total of 89 people.\n",
      "Using 1 thread (no multithreaded calculations invoked).\n",
      "Before main variant filters, 89 founders and 0 nonfounders present.\n",
      "Calculating allele frequencies... 10111213141516171819202122232425262728293031323334353637383940414243444546474849505152535455565758596061626364656667686970717273747576777879808182838485868788899091929394959697989 done.\n",
      "Total genotyping rate is 0.99441.\n",
      "--freq: Cluster-stratified allele frequencies (founders only) written to\n",
      "freq_stat.frq.strat .\n"
     ]
    }
   ],
   "source": [
    "plink --bfile hapmap1 --freq --within pop.phe --out freq_stat"
   ]
  },
  {
   "cell_type": "markdown",
   "metadata": {
    "kernel": "Bash"
   },
   "source": [
    "Notes: The output will now indicate that a file called `freq_stat.frq.strat`. has been generated instead of `freq_stat.frq`.  \n",
    "We see each row is now the allele frequency for each SNP stratifed by subpopulation: "
   ]
  },
  {
   "cell_type": "code",
   "execution_count": 16,
   "metadata": {
    "kernel": "Bash"
   },
   "outputs": [
    {
     "name": "stdout",
     "output_type": "stream",
     "text": [
      " CHR         SNP     CLST   A1   A2      MAF    MAC  NCHROBS\n",
      "   1   rs6681049        1    1    2   0.2333     21       90 \n",
      "   1   rs6681049        2    1    2   0.1932     17       88 \n",
      "   1   rs4074137        1    1    2      0.1      9       90 \n",
      "   1   rs4074137        2    1    2  0.05682      5       88 \n",
      "   1   rs7540009        1    0    2        0      0       90 \n",
      "   1   rs7540009        2    0    2        0      0       88 \n",
      "   1   rs1891905        1    1    2   0.4111     37       90 \n",
      "   1   rs1891905        2    1    2   0.3977     35       88 \n",
      "   1   rs9729550        1    1    2   0.1444     13       90 \n"
     ]
    }
   ],
   "source": [
    "head freq_stat.frq.strat"
   ]
  },
  {
   "cell_type": "markdown",
   "metadata": {
    "kernel": "Bash"
   },
   "source": [
    "### Basic association analysis"
   ]
  },
  {
   "cell_type": "code",
   "execution_count": 25,
   "metadata": {
    "kernel": "Bash"
   },
   "outputs": [
    {
     "name": "stdout",
     "output_type": "stream",
     "text": [
      "PLINK v1.90p 64-bit (16 Jun 2020)              www.cog-genomics.org/plink/1.9/\n",
      "(C) 2005-2020 Shaun Purcell, Christopher Chang   GNU General Public License v3\n",
      "Logging to as1.log.\n",
      "Options in effect:\n",
      "  --assoc\n",
      "  --bfile hapmap1\n",
      "  --out as1\n",
      "\n",
      "8192 MB RAM detected; reserving 4096 MB for main workspace.\n",
      "83534 variants loaded from .bim file.\n",
      "89 people (89 males, 0 females) loaded from .fam.\n",
      "89 phenotype values loaded from .fam.\n",
      "Using 1 thread (no multithreaded calculations invoked).\n",
      "Before main variant filters, 89 founders and 0 nonfounders present.\n",
      "Calculating allele frequencies... 10111213141516171819202122232425262728293031323334353637383940414243444546474849505152535455565758596061626364656667686970717273747576777879808182838485868788899091929394959697989 done.\n",
      "Total genotyping rate is 0.99441.\n",
      "83534 variants and 89 people pass filters and QC.\n",
      "Among remaining phenotypes, 44 are cases and 45 are controls.\n",
      "Writing C/C --assoc report to as1.assoc ... 10111214151617181920222325262728293132333435363839404142434546474849505153545556585960616263656667686970727374767778798081838485878889909293949596979899done.\n"
     ]
    }
   ],
   "source": [
    "plink --bfile hapmap1 --assoc --out as1"
   ]
  },
  {
   "cell_type": "code",
   "execution_count": 26,
   "metadata": {
    "kernel": "Bash"
   },
   "outputs": [
    {
     "name": "stdout",
     "output_type": "stream",
     "text": [
      " CHR         SNP         BP   A1      F_A      F_U   A2        CHISQ            P           OR \n",
      "   1   rs6681049          1    1   0.1591   0.2667    2        3.067      0.07991       0.5203 \n",
      "   1   rs4074137          2    1  0.07955  0.07778    2     0.001919       0.9651        1.025 \n",
      "   1   rs7540009          3    0        0        0    2           NA           NA           NA \n",
      "   1   rs1891905          4    1   0.4091      0.4    2      0.01527       0.9017        1.038 \n",
      "   1   rs9729550          5    1   0.1705  0.08889    2        2.631       0.1048        2.106 \n",
      "   1   rs3813196          6    1  0.03409  0.02222    2       0.2296       0.6318        1.553 \n",
      "   1   rs6704013          7    0        0        0    2           NA           NA           NA \n",
      "   1    rs307347          8    0        0        0    2           NA           NA           NA \n",
      "   1   rs9439440          9    0        0        0    2           NA           NA           NA \n"
     ]
    }
   ],
   "source": [
    "more as1.assoc | head"
   ]
  },
  {
   "cell_type": "markdown",
   "metadata": {
    "kernel": "Bash"
   },
   "source": [
    "where each row is a single SNP association result. The fields are:\n",
    "\n",
    "    Chromosome\n",
    "    SNP identifier\n",
    "    Code for allele 1 (the minor, rare allele based on the entire sample frequencies)\n",
    "    The frequency of this variant in cases\n",
    "    The frequency of this variant in controls\n",
    "    Code for the other allele\n",
    "    The chi-squared statistic for this test (1 df)\n",
    "    The asymptotic significance value for this test\n",
    "    The odds ratio for this test "
   ]
  },
  {
   "cell_type": "markdown",
   "metadata": {
    "kernel": "Bash"
   },
   "source": [
    "Sort the list of association statistics and print out the top ten:"
   ]
  },
  {
   "cell_type": "code",
   "execution_count": 27,
   "metadata": {
    "kernel": "Bash"
   },
   "outputs": [
    {
     "name": "stdout",
     "output_type": "stream",
     "text": [
      "  22  rs13055462      82998    1   0.4318   0.2889    2        3.947      0.04695        1.871 \n",
      "  22  rs13054355      82194    0        0        0    2           NA           NA           NA \n",
      "  22  rs12628795      82095    1   0.1591   0.2333    2        1.553       0.2128       0.6216 \n",
      "  22  rs12628695      83122    1   0.1591   0.1556    2     0.004195       0.9484        1.027 \n",
      "  22  rs12628369      83379    1   0.4545   0.4667    2      0.02631       0.8711       0.9524 \n",
      "  22  rs12627919      82186    1   0.3295   0.2111    2        3.169      0.07505        1.837 \n",
      "  22  rs12485231      82613    1   0.2614   0.3778    2         2.77      0.09604       0.5828 \n",
      "  22  rs12484228      83136    1  0.06818  0.04444    2       0.4728       0.4917        1.573 \n",
      "  22  rs12484213      82478    1  0.06818  0.07778    2      0.06052       0.8057       0.8676 \n",
      "  22  rs12483834      83241    1   0.2045   0.1333    2         1.61       0.2045        1.671 \n"
     ]
    }
   ],
   "source": [
    "sort --key=7 -nr as1.assoc | head"
   ]
  },
  {
   "cell_type": "markdown",
   "metadata": {
    "kernel": "Bash"
   },
   "source": [
    "To get a sorted list of association results, that also includes a range of significance values that are **adjusted for multiple testing**, use the `--adjust` flag: "
   ]
  },
  {
   "cell_type": "code",
   "execution_count": 28,
   "metadata": {
    "kernel": "Bash"
   },
   "outputs": [
    {
     "name": "stdout",
     "output_type": "stream",
     "text": [
      "PLINK v1.90p 64-bit (16 Jun 2020)              www.cog-genomics.org/plink/1.9/\n",
      "(C) 2005-2020 Shaun Purcell, Christopher Chang   GNU General Public License v3\n",
      "Logging to as2.log.\n",
      "Options in effect:\n",
      "  --adjust\n",
      "  --assoc\n",
      "  --bfile hapmap1\n",
      "  --out as2\n",
      "\n",
      "8192 MB RAM detected; reserving 4096 MB for main workspace.\n",
      "83534 variants loaded from .bim file.\n",
      "89 people (89 males, 0 females) loaded from .fam.\n",
      "89 phenotype values loaded from .fam.\n",
      "Using 1 thread (no multithreaded calculations invoked).\n",
      "Before main variant filters, 89 founders and 0 nonfounders present.\n",
      "Calculating allele frequencies... 10111213141516171819202122232425262728293031323334353637383940414243444546474849505152535455565758596061626364656667686970717273747576777879808182838485868788899091929394959697989 done.\n",
      "Total genotyping rate is 0.99441.\n",
      "83534 variants and 89 people pass filters and QC.\n",
      "Among remaining phenotypes, 44 are cases and 45 are controls.\n",
      "Writing C/C --assoc report to as2.assoc ... 10111214151617181920222325262728293132333435363839404142434546474849505153545556585960616263656667686970727374767778798081838485878889909293949596979899done.\n",
      "--adjust: Genomic inflation est. lambda (based on median chisq) = 1.25377.\n",
      "101112131415161718192021222324252627282930313233343536373839404142434445464748495051525354555657585960616263646566676869707172737475767778798081828384858687888990919293949596979899--adjust values (68727 variants) written to as2.assoc.adjusted .\n"
     ]
    }
   ],
   "source": [
    "plink --bfile hapmap1 --assoc --adjust --out as2"
   ]
  },
  {
   "cell_type": "markdown",
   "metadata": {
    "kernel": "Bash"
   },
   "source": [
    "This generates the file `as2.assoc.adjust` in addition to the basic `as2.assoc` output file. Using more, one can easily look at one's most significant associations: "
   ]
  },
  {
   "cell_type": "code",
   "execution_count": 29,
   "metadata": {
    "kernel": "Bash"
   },
   "outputs": [
    {
     "name": "stdout",
     "output_type": "stream",
     "text": [
      " CHR         SNP      UNADJ         GC       BONF       HOLM   SIDAK_SS   SIDAK_SD     FDR_BH     FDR_BY\n",
      "  13   rs9585021  5.586e-06  4.994e-05     0.3839     0.3839     0.3188     0.3188    0.09719          1 \n",
      "   2   rs2222162  5.918e-06  5.232e-05     0.4068     0.4067     0.3342     0.3342    0.09719          1 \n",
      "   9  rs10810856  7.723e-06  6.483e-05     0.5308     0.5308     0.4118     0.4118    0.09719          1 \n",
      "   2   rs4675607   8.05e-06  6.703e-05     0.5533     0.5533     0.4249     0.4249    0.09719          1 \n",
      "   2   rs1375352  8.485e-06  6.994e-05     0.5832     0.5831     0.4419     0.4419    0.09719          1 \n",
      "   2   rs4673349  8.485e-06  6.994e-05     0.5832     0.5831     0.4419     0.4419    0.09719          1 \n",
      "  21    rs219746  1.228e-05  9.422e-05     0.8442     0.8441     0.5701     0.5701     0.1206          1 \n",
      "   1   rs4078404  2.667e-05   0.000176          1          1     0.8401       0.84     0.2291          1 \n",
      "  14   rs1152431  3.862e-05  0.0002374          1          1     0.9297     0.9297     0.2737          1 \n"
     ]
    }
   ],
   "source": [
    "more as2.assoc.adjusted | head"
   ]
  },
  {
   "cell_type": "markdown",
   "metadata": {
    "kernel": "Bash"
   },
   "source": [
    "Here we see a pre-sorted list of association results. The fields are as follows:\n",
    "\n",
    "    Chromosome\n",
    "    SNP identifier\n",
    "    Unadjusted, asymptotic significance value\n",
    "    Genomic control adjusted significance value. This is based on a simple estimation of the inflation factor based on median chi-square statistic. These values do not control for multiple testing therefore.\n",
    "    Bonferroni adjusted significance value\n",
    "    Holm step-down adjusted significance value\n",
    "    Sidak single-step adjusted significance value\n",
    "    Sidak step-down adjusted significance value\n",
    "    Benjamini & Hochberg (1995) step-up FDR control\n",
    "    Benjamini & Yekutieli (2001) step-up FDR control "
   ]
  },
  {
   "cell_type": "code",
   "execution_count": 35,
   "metadata": {
    "kernel": "Bash"
   },
   "outputs": [
    {
     "name": "stdout",
     "output_type": "stream",
     "text": [
      "PLINK v1.90p 64-bit (16 Jun 2020)\n",
      "Options in effect:\n",
      "  --adjust\n",
      "  --assoc\n",
      "  --bfile hapmap1\n",
      "  --out as2\n",
      "\n",
      "Hostname: duzhis-mbp.dyn.nyp.org\n",
      "Working directory: /Users/duz/Desktop/Center_for_Statistical_Genetics/family-association/analysis/hapmap1\n",
      "Start time: Tue Sep 15 17:44:21 2020\n",
      "\n",
      "Random number seed: 1600206261\n",
      "8192 MB RAM detected; reserving 4096 MB for main workspace.\n",
      "83534 variants loaded from .bim file.\n",
      "89 people (89 males, 0 females) loaded from .fam.\n",
      "89 phenotype values loaded from .fam.\n",
      "Using 1 thread (no multithreaded calculations invoked).\n",
      "Before main variant filters, 89 founders and 0 nonfounders present.\n",
      "Calculating allele frequencies... done.\n",
      "Total genotyping rate is 0.99441.\n",
      "83534 variants and 89 people pass filters and QC.\n",
      "Among remaining phenotypes, 44 are cases and 45 are controls.\n",
      "Writing C/C --assoc report to as2.assoc ... done.\n",
      "--adjust: Genomic inflation est. lambda (based on median chisq) = 1.25377.\n",
      "--adjust values (68727 variants) written to as2.assoc.adjusted .\n",
      "\n",
      "End time: Tue Sep 15 17:44:21 2020\n"
     ]
    }
   ],
   "source": [
    "cat as2.log"
   ]
  },
  {
   "cell_type": "markdown",
   "metadata": {
    "kernel": "Bash"
   },
   "source": [
    "Notes: Genomic inflation est. lambda (based on median chisq) = 1.25377"
   ]
  },
  {
   "cell_type": "code",
   "execution_count": 36,
   "metadata": {
    "kernel": "Bash"
   },
   "outputs": [
    {
     "name": "stdout",
     "output_type": "stream",
     "text": [
      "PLINK v1.90p 64-bit (16 Jun 2020)              www.cog-genomics.org/plink/1.9/\n",
      "(C) 2005-2020 Shaun Purcell, Christopher Chang   GNU General Public License v3\n",
      "Logging to as3.log.\n",
      "Options in effect:\n",
      "  --adjust\n",
      "  --assoc\n",
      "  --bfile hapmap1\n",
      "  --out as3\n",
      "  --pheno pop.phe\n",
      "\n",
      "8192 MB RAM detected; reserving 4096 MB for main workspace.\n",
      "83534 variants loaded from .bim file.\n",
      "89 people (89 males, 0 females) loaded from .fam.\n",
      "89 phenotype values present after --pheno.\n",
      "Using 1 thread (no multithreaded calculations invoked).\n",
      "Before main variant filters, 89 founders and 0 nonfounders present.\n",
      "Calculating allele frequencies... 10111213141516171819202122232425262728293031323334353637383940414243444546474849505152535455565758596061626364656667686970717273747576777879808182838485868788899091929394959697989 done.\n",
      "Total genotyping rate is 0.99441.\n",
      "83534 variants and 89 people pass filters and QC.\n",
      "Among remaining phenotypes, 44 are cases and 45 are controls.\n",
      "Writing C/C --assoc report to as3.assoc ... 10111214151617181920222325262728293132333435363839404142434546474849505153545556585960616263656667686970727374767778798081838485878889909293949596979899done.\n",
      "--adjust: Genomic inflation est. lambda (based on median chisq) = 1.78854.\n",
      "101112131415161718192021222324252627282930313233343536373839404142434445464748495051525354555657585960616263646566676869707172737475767778798081828384858687888990919293949596979899--adjust values (68727 variants) written to as3.assoc.adjusted .\n"
     ]
    }
   ],
   "source": [
    "plink --bfile hapmap1 --pheno pop.phe --assoc --adjust --out as3 "
   ]
  },
  {
   "cell_type": "code",
   "execution_count": 40,
   "metadata": {
    "kernel": "Bash"
   },
   "outputs": [
    {
     "name": "stdout",
     "output_type": "stream",
     "text": [
      "PLINK v1.90p 64-bit (16 Jun 2020)\n",
      "Options in effect:\n",
      "  --adjust\n",
      "  --assoc\n",
      "  --bfile hapmap1\n",
      "  --out as3\n",
      "  --pheno pop.phe\n",
      "\n",
      "Hostname: duzhis-mbp.dyn.nyp.org\n",
      "Working directory: /Users/duz/Desktop/Center_for_Statistical_Genetics/family-association/analysis/hapmap1\n",
      "Start time: Tue Sep 15 17:48:07 2020\n",
      "\n",
      "Random number seed: 1600206487\n",
      "8192 MB RAM detected; reserving 4096 MB for main workspace.\n",
      "83534 variants loaded from .bim file.\n",
      "89 people (89 males, 0 females) loaded from .fam.\n",
      "89 phenotype values present after --pheno.\n",
      "Using 1 thread (no multithreaded calculations invoked).\n",
      "Before main variant filters, 89 founders and 0 nonfounders present.\n",
      "Calculating allele frequencies... done.\n",
      "Total genotyping rate is 0.99441.\n",
      "83534 variants and 89 people pass filters and QC.\n",
      "Among remaining phenotypes, 44 are cases and 45 are controls.\n",
      "Writing C/C --assoc report to as3.assoc ... done.\n",
      "--adjust: Genomic inflation est. lambda (based on median chisq) = 1.78854.\n",
      "--adjust values (68727 variants) written to as3.assoc.adjusted .\n",
      "\n",
      "End time: Tue Sep 15 17:48:07 2020\n"
     ]
    }
   ],
   "source": [
    "cat as3.log"
   ]
  },
  {
   "cell_type": "markdown",
   "metadata": {
    "kernel": "Bash"
   },
   "source": [
    "Notes: Genomic inflation est. lambda (based on median chisq) = 1.78854"
   ]
  },
  {
   "cell_type": "code",
   "execution_count": null,
   "metadata": {
    "kernel": "Bash"
   },
   "outputs": [],
   "source": []
  }
 ],
 "metadata": {
  "kernelspec": {
   "display_name": "SoS",
   "language": "sos",
   "name": "sos"
  },
  "language_info": {
   "codemirror_mode": "sos",
   "file_extension": ".sos",
   "mimetype": "text/x-sos",
   "name": "sos",
   "nbconvert_exporter": "sos_notebook.converter.SoS_Exporter",
   "pygments_lexer": "sos"
  },
  "sos": {
   "kernels": [
    [
     "Bash",
     "bash",
     "Bash",
     "#E6EEFF",
     "shell"
    ]
   ],
   "panel": {
    "displayed": true,
    "height": 0
   },
   "version": "0.21.12"
  }
 },
 "nbformat": 4,
 "nbformat_minor": 4
}
