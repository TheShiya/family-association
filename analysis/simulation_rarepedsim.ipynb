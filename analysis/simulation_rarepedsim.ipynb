{
 "cells": [
  {
   "cell_type": "markdown",
   "metadata": {
    "kernel": "SoS"
   },
   "source": [
    "Simulation framework for family-based association vs case-control using GLMM"
   ]
  },
  {
   "cell_type": "markdown",
   "metadata": {
    "kernel": "SoS"
   },
   "source": [
    "Global Parameter Setting"
   ]
  },
  {
   "cell_type": "code",
   "execution_count": null,
   "metadata": {
    "kernel": "SoS"
   },
   "outputs": [],
   "source": [
    "[global]\n",
    "# Disease model scenario: complex qualitative trait\n",
    "parameter: name = 'Prop100'\n",
    "# Proportion of functional variants that contribute to the disease\n",
    "parameter: proportion = 'None'\n",
    "# Odd ratio\n",
    "parameter: OR = 2.0\n",
    "# model LOGIT for qualitate traits and LNR for quantitative traits\n",
    "parameter: model = 'LOGIT'\n",
    "# Path to the ped file (6-column PED in linkage format)\n",
    "parameter: ped_file = path('data/1000-2gen.ped')\n",
    "# Path to list of genes\n",
    "parameter: gene_list = path('data/genes.txt')\n",
    "# Output directory for VCF file\n",
    "parameter: out_dir = path('output')\n",
    "\n",
    "# gene names\n",
    "genes = paths([f'{gene_list:d}/{x.strip()}.sfs' for x in open(gene_list).readlines()])"
   ]
  },
  {
   "cell_type": "markdown",
   "metadata": {
    "kernel": "SoS"
   },
   "source": [
    "At this point, a configuration file for the disease model is needed which will be used by RarePedSim to simulate genotypic and phenotypic info. "
   ]
  }
 ],
 "metadata": {
  "kernelspec": {
   "display_name": "SoS",
   "language": "sos",
   "name": "sos"
  },
  "language_info": {
   "codemirror_mode": "sos",
   "file_extension": ".sos",
   "mimetype": "text/x-sos",
   "name": "sos",
   "nbconvert_exporter": "sos_notebook.converter.SoS_Exporter",
   "pygments_lexer": "sos"
  },
  "sos": {
   "kernels": [
    [
     "SoS",
     "sos",
     "",
     ""
    ]
   ],
   "version": "0.20.6"
  }
 },
 "nbformat": 4,
 "nbformat_minor": 4
}
